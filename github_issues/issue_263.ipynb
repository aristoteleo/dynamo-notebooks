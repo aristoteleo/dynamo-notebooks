{
 "cells": [
  {
   "cell_type": "code",
   "execution_count": 1,
   "metadata": {},
   "outputs": [],
   "source": [
    "import dynamo as dyn\n",
    "import scanpy as sce\n",
    "adata_dyn = dyn.sample_data.zebrafish()\n",
    "dyn.pp.recipe_monocle(adata_dyn)\n",
    "adata_dyn\n",
    "dyn.tl.dynamics(adata_dyn, model='stochastic', cores=3)\n",
    "dyn.tl.hdbscan(adata_dyn)"
   ]
  },
  {
   "cell_type": "code",
   "execution_count": null,
   "metadata": {},
   "outputs": [],
   "source": [
    "\n",
    "sce.external.pp.harmony_integrate(adata_dyn, 'sample', max_iter_harmony = 20)\n",
    "print(adata_dyn.obsm['X_pca'])\n",
    "adata_dyn.obsm['X_pca'] = adata_dyn.obsm['X_pca_harmony']\n",
    "print(adata_dyn.obsm['X_pca'])"
   ]
  },
  {
   "cell_type": "code",
   "execution_count": null,
   "metadata": {},
   "outputs": [],
   "source": [
    "dyn.tl.reduceDimension(adata_dyn, enforce=True)\n",
    "dyn.tl.neighbors(adata_dyn)"
   ]
  },
  {
   "cell_type": "code",
   "execution_count": null,
   "metadata": {},
   "outputs": [],
   "source": [
    "# import cdlib\n",
    "# dyn.tl.louvain(adata_dyn)\n",
    "dyn.tl.cell_velocities(adata_dyn, method='pearson', other_kernels_dict={'transform': 'sqrt'})\n",
    "dyn.tl.cell_wise_confidence(adata_dyn)\n"
   ]
  },
  {
   "cell_type": "code",
   "execution_count": null,
   "metadata": {},
   "outputs": [],
   "source": [
    "type(adata_dyn.uns[\"hdbscan\"][\"exemplars_\"])"
   ]
  },
  {
   "cell_type": "code",
   "execution_count": null,
   "metadata": {},
   "outputs": [],
   "source": [
    "dyn.cleanup(adata_dyn)\n",
    "adata_dyn.write_h5ad(\"debug.h5ad\")\n",
    "import dynamo as dyn\n",
    "adata_dyn = dyn.read_h5ad(\"debug.h5ad\")\n",
    "dyn.vf.VectorField(adata_dyn, basis='umap', M=200, pot_curl_div=True) ## --> ERROR ABOVE\n",
    "dyn.cleanup(adata_dyn)"
   ]
  }
 ],
 "metadata": {
  "interpreter": {
   "hash": "149170a34b80921e9f067d63e9cd48cc3daa8835f3726c438cfa63a39a78a9cb"
  },
  "kernelspec": {
   "display_name": "Python 3.9.7 64-bit ('dynamo-dev': conda)",
   "language": "python",
   "name": "python3"
  },
  "language_info": {
   "codemirror_mode": {
    "name": "ipython",
    "version": 3
   },
   "file_extension": ".py",
   "mimetype": "text/x-python",
   "name": "python",
   "nbconvert_exporter": "python",
   "pygments_lexer": "ipython3",
   "version": "3.9.7"
  },
  "orig_nbformat": 4
 },
 "nbformat": 4,
 "nbformat_minor": 2
}
