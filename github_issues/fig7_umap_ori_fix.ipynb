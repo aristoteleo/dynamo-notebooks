{
 "cells": [
  {
   "cell_type": "code",
   "execution_count": 29,
   "metadata": {},
   "outputs": [
    {
     "name": "stdout",
     "output_type": "stream",
     "text": [
      "replace umap_leiden with umap_ori_leiden\n",
      "replace umap_louvain with umap_ori_louvain\n",
      "replace umap_ori_ddhodge_div with umap_ddhodge_div\n",
      "replace umap_ori_ddhodge_potential with umap_ddhodge_potential\n",
      "replace curl_umap_ori with curl_umap\n",
      "replace divergence_umap_ori with divergence_umap\n",
      ">>>> control_point_umap_ori already in adata, swapping\n",
      "replace control_point_umap_ori with control_point_umap\n",
      ">>>> inlier_prob_umap_ori already in adata, swapping\n",
      "replace inlier_prob_umap_ori with inlier_prob_umap\n",
      ">>>> obs_vf_angle_umap_ori already in adata, swapping\n",
      "replace obs_vf_angle_umap_ori with obs_vf_angle_umap\n",
      ">>>> curvature_umap_ori already in adata, swapping\n",
      "replace curvature_umap_ori with curvature_umap\n",
      "replace acceleration_umap_ori with acceleration_umap\n",
      "replace control_point_umap with control_point_umap_ori\n",
      "replace inlier_prob_umap with inlier_prob_umap_ori\n",
      "replace obs_vf_angle_umap with obs_vf_angle_umap_ori\n",
      "replace curvature_umap with curvature_umap_ori\n",
      ">>>> VecFld_umap already in adata, swapping\n",
      "replace VecFld_umap with VecFld_umap_ori\n",
      "replace VecFld_umap_ori with VecFld_umap\n",
      "replace X_umap_ori_neighbors with X_umap_neighbors\n",
      ">>>> grid_velocity_umap already in adata, swapping\n",
      "replace grid_velocity_umap with grid_velocity_umap_ori\n",
      "replace grid_velocity_umap_ori with grid_velocity_umap\n",
      ">>>> grid_velocity_umap_ori_perturbation already in adata, swapping\n",
      "replace grid_velocity_umap_ori_perturbation with grid_velocity_umap_perturbation\n",
      "replace grid_velocity_umap_ori_test with grid_velocity_umap_test\n",
      "replace grid_velocity_umap_perturbation with grid_velocity_umap_ori_perturbation\n",
      ">>>> X_umap already in adata, swapping\n",
      "replace X_umap with X_umap_ori\n",
      ">>>> X_umap_SparseVFC already in adata, swapping\n",
      "replace X_umap_SparseVFC with X_umap_ori_SparseVFC\n",
      "replace X_umap_ori with X_umap\n",
      "replace X_umap_ori_SparseVFC with X_umap_SparseVFC\n",
      ">>>> X_umap_ori_perturbation already in adata, swapping\n",
      "replace X_umap_ori_perturbation with X_umap_perturbation\n",
      "replace X_umap_ori_test with X_umap_test\n",
      "replace X_umap_perturbation with X_umap_ori_perturbation\n",
      "replace acceleration_umap_ori with acceleration_umap\n",
      ">>>> curvature_umap already in adata, swapping\n",
      "replace curvature_umap with curvature_umap_ori\n",
      "replace curvature_umap_ori with curvature_umap\n",
      ">>>> velocity_umap already in adata, swapping\n",
      "replace velocity_umap with velocity_umap_ori\n",
      ">>>> velocity_umap_SparseVFC already in adata, swapping\n",
      "replace velocity_umap_SparseVFC with velocity_umap_ori_SparseVFC\n",
      "replace velocity_umap_ori with velocity_umap\n",
      "replace velocity_umap_ori_SparseVFC with velocity_umap_SparseVFC\n",
      ">>>> velocity_umap_ori_perturbation already in adata, swapping\n",
      "replace velocity_umap_ori_perturbation with velocity_umap_perturbation\n",
      "replace velocity_umap_ori_test with velocity_umap_test\n",
      "replace velocity_umap_perturbation with velocity_umap_ori_perturbation\n",
      "replace X_umap_ori_connectivities with X_umap_connectivities\n",
      "replace X_umap_ori_distances with X_umap_distances\n",
      "replace umap_ori_ddhodge with umap_ddhodge\n"
     ]
    }
   ],
   "source": [
    "import dynamo as dyn\n",
    "\n",
    "adata = dyn.read_h5ad(\"./data/hematopoietic_processed_v0.h5ad\") # old version\n",
    "\n",
    "adata.obs\n",
    "\n",
    "def replace_keys(dict_obj: dict, substr1, substr2):\n",
    "    keys = list(dict_obj.keys())\n",
    "    for key in keys:\n",
    "        if key.find(substr1) != -1:\n",
    "            target, replace = substr1, substr2\n",
    "        elif key.find(substr2) != -1:\n",
    "            target, replace = substr2, substr1\n",
    "        else:\n",
    "            continue\n",
    "\n",
    "        new_key = key.replace(target, replace)\n",
    "        if new_key in dict_obj:\n",
    "            print(\">>>> %s already in adata, swapping\" % key)\n",
    "            dict_obj[new_key], dict_obj[key] = dict_obj[key], dict_obj[new_key]\n",
    "        print(\"replace %s with %s\" % (key, new_key))\n",
    "        dict_obj[new_key] = dict_obj[key]\n",
    "        dict_obj.pop(key)\n",
    "\n",
    "substr = \"umap_ori\"\n",
    "substr_other = \"umap\"\n",
    "replace_keys(adata.obs, substr, substr_other)\n",
    "replace_keys(adata.var, substr, substr_other)\n",
    "replace_keys(adata.uns, substr, substr_other)\n",
    "replace_keys(adata.layers, substr, substr_other)\n",
    "replace_keys(adata.obsm, substr, substr_other)\n",
    "replace_keys(adata.varm, substr, substr_other)\n",
    "replace_keys(adata.obsp, substr, substr_other)\n",
    "\n",
    "adata.write_h5ad(\"./data/hematopoietic_processed_v1.h5ad\")"
   ]
  },
  {
   "cell_type": "code",
   "execution_count": 30,
   "metadata": {},
   "outputs": [
    {
     "data": {
      "text/plain": [
       "AnnData object with n_obs × n_vars = 1947 × 1956\n",
       "    obs: 'batch', 'time', 'cell_type', 'nGenes', 'nCounts', 'pMito', 'pass_basic_filter', 'new_Size_Factor', 'initial_new_cell_size', 'total_Size_Factor', 'initial_total_cell_size', 'spliced_Size_Factor', 'initial_spliced_cell_size', 'unspliced_Size_Factor', 'initial_unspliced_cell_size', 'Size_Factor', 'initial_cell_size', 'ntr', 'cell_cycle_phase', 'leiden', 'control_point_pca', 'inlier_prob_pca', 'obs_vf_angle_pca', 'pca_ddhodge_div', 'pca_ddhodge_potential', 'acceleration_pca', 'curvature_pca', 'n_counts', 'mt_frac', 'jacobian_det_pca', 'manual_selection', 'divergence_pca', 'curv_leiden', 'curv_louvain', 'SPI1->GATA1_jacobian', 'jacobian', 'umap_ori_leiden', 'umap_ori_louvain', 'umap_ddhodge_div', 'umap_ddhodge_potential', 'curl_umap', 'divergence_umap', 'acceleration_umap', 'control_point_umap_ori', 'inlier_prob_umap_ori', 'obs_vf_angle_umap_ori', 'curvature_umap_ori'\n",
       "    var: 'gene_name', 'gene_id', 'nCells', 'nCounts', 'pass_basic_filter', 'use_for_pca', 'frac', 'ntr', 'time_3_alpha', 'time_3_beta', 'time_3_gamma', 'time_3_half_life', 'time_3_alpha_b', 'time_3_alpha_r2', 'time_3_gamma_b', 'time_3_gamma_r2', 'time_3_gamma_logLL', 'time_3_delta_b', 'time_3_delta_r2', 'time_3_bs', 'time_3_bf', 'time_3_uu0', 'time_3_ul0', 'time_3_su0', 'time_3_sl0', 'time_3_U0', 'time_3_S0', 'time_3_total0', 'time_3_beta_k', 'time_3_gamma_k', 'time_5_alpha', 'time_5_beta', 'time_5_gamma', 'time_5_half_life', 'time_5_alpha_b', 'time_5_alpha_r2', 'time_5_gamma_b', 'time_5_gamma_r2', 'time_5_gamma_logLL', 'time_5_bs', 'time_5_bf', 'time_5_uu0', 'time_5_ul0', 'time_5_su0', 'time_5_sl0', 'time_5_U0', 'time_5_S0', 'time_5_total0', 'time_5_beta_k', 'time_5_gamma_k', 'use_for_dynamics', 'gamma', 'gamma_r2', 'use_for_transition', 'gamma_k', 'gamma_b'\n",
       "    uns: 'PCs', 'VecFld_pca', 'cell_phase_genes', 'cell_type_colors', 'dynamics', 'explained_variance_ratio_', 'feature_selection', 'grid_velocity_pca', 'jacobian_pca', 'leiden', 'neighbors', 'pca_mean', 'pp', 'response', 'VecFld_umap', 'X_umap_neighbors', 'grid_velocity_umap', 'grid_velocity_umap_test', 'grid_velocity_umap_ori_perturbation'\n",
       "    obsm: 'X', 'X_pca', 'X_pca_SparseVFC', 'acceleration_pca', 'cell_cycle_scores', 'curvature_pca', 'j_delta_x_perturbation', 'velocity_pca', 'velocity_pca_SparseVFC', 'X_umap', 'X_umap_SparseVFC', 'X_umap_test', 'X_umap_ori_perturbation', 'acceleration_umap', 'curvature_umap', 'velocity_umap', 'velocity_umap_SparseVFC', 'velocity_umap_test', 'velocity_umap_ori_perturbation'\n",
       "    layers: 'M_n', 'M_nn', 'M_t', 'M_tn', 'M_tt', 'X_new', 'X_total', 'velocity_alpha_minus_gamma_s'\n",
       "    obsp: 'connectivities', 'cosine_transition_matrix', 'distances', 'fp_transition_rate', 'moments_con', 'pca_ddhodge', 'perturbation_transition_matrix', 'X_umap_connectivities', 'X_umap_distances', 'umap_ddhodge'"
      ]
     },
     "execution_count": 30,
     "metadata": {},
     "output_type": "execute_result"
    }
   ],
   "source": [
    "adata"
   ]
  }
 ],
 "metadata": {
  "interpreter": {
   "hash": "149170a34b80921e9f067d63e9cd48cc3daa8835f3726c438cfa63a39a78a9cb"
  },
  "kernelspec": {
   "display_name": "Python 3.9.7 ('dynamo-dev')",
   "language": "python",
   "name": "python3"
  },
  "language_info": {
   "codemirror_mode": {
    "name": "ipython",
    "version": 3
   },
   "file_extension": ".py",
   "mimetype": "text/x-python",
   "name": "python",
   "nbconvert_exporter": "python",
   "pygments_lexer": "ipython3",
   "version": "3.9.7"
  },
  "orig_nbformat": 4
 },
 "nbformat": 4,
 "nbformat_minor": 2
}
