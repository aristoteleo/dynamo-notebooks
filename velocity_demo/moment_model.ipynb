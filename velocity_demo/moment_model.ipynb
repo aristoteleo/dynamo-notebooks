{
 "cells": [
  {
   "cell_type": "code",
   "execution_count": 1,
   "metadata": {},
   "outputs": [],
   "source": [
    "import sys\n",
    "sys.path.insert(0, 'velocitySlamSeq//slam_seq')"
   ]
  },
  {
   "cell_type": "code",
   "execution_count": 2,
   "metadata": {},
   "outputs": [],
   "source": [
    "import numpy as np\n",
    "from moments import moments\n",
    "from gillespie import *"
   ]
  },
  {
   "cell_type": "code",
   "execution_count": 3,
   "metadata": {},
   "outputs": [],
   "source": [
    "params = {'a': 0.1, 'b': 0.5, 'la': 0.7, 'alpha_a': 100, 'alpha_i': 1, 'sigma': 0.6, 'beta': 0.5, 'gamma': 0.1}\n",
    "mom = moments(**params)\n",
    "x0 = np.zeros(mom.n_species)\n",
    "t = np.linspace(0, 100, 500)\n",
    "x = mom.integrate(t, x0)"
   ]
  },
  {
   "cell_type": "code",
   "execution_count": 4,
   "metadata": {},
   "outputs": [
    {
     "name": "stdout",
     "output_type": "stream",
     "text": []
    }
   ],
   "source": [
    "trajs_T, trajs_C = simulate_Gillespie(*list(params.values()), C0=np.zeros(5), t_span=[0, 100], n_traj=50, report=True)"
   ]
  },
  {
   "cell_type": "code",
   "execution_count": 5,
   "metadata": {},
   "outputs": [],
   "source": [
    "T = np.linspace(0, 95, 50)\n",
    "n_species = 5;\n",
    "n_mean = np.zeros((n_species, len(T)))\n",
    "n_2mom = np.zeros((n_species, len(T)))\n",
    "for j in range(n_species):\n",
    "    n_mean[j] = temporal_average( T, trajs_T, trajs_C, j );\n",
    "    n_2mom[j] = temporal_average( T, trajs_T, trajs_C, j, lambda x : x*(x-1) );\n",
    "n_2mom_ux = temporal_cov(T, trajs_T, trajs_C, 1, 3)\n",
    "n_2mom_wy = temporal_cov(T, trajs_T, trajs_C, 2, 4)\n",
    "n_var = n_2mom + n_mean - n_mean**2;\n",
    "n_cov_ux = n_2mom_ux - n_mean[1] * n_mean[3]\n",
    "n_cov_wy = n_2mom_wy - n_mean[2] * n_mean[4]"
   ]
  },
  {
   "cell_type": "code",
   "execution_count": 6,
   "metadata": {},
   "outputs": [],
   "source": [
    "%matplotlib inline\n",
    "import matplotlib.pyplot as plt"
   ]
  },
  {
   "cell_type": "code",
   "execution_count": 10,
   "metadata": {},
   "outputs": [
    {
     "name": "stdout",
     "output_type": "stream",
     "text": [
      "2.3333333333333326\n"
     ]
    },
    {
     "data": {
      "image/png": "[encoded data removed]",
      "text/plain": [
       "<matplotlib.figure.Figure at 0x2ba7ea430f0>"
      ]
     },
     "metadata": {},
     "output_type": "display_data"
    }
   ],
   "source": [
    "n_ul = mom.get_nu()\n",
    "n_uu = mom.get_nw()\n",
    "plt.plot(t, n_ul, 'b', label='ul')\n",
    "plt.plot(T, n_mean[1], 'b--')\n",
    "plt.plot(t, n_uu, 'g', label='uu')\n",
    "plt.plot(T, n_mean[2], 'g--')\n",
    "plt.legend(loc='best')\n",
    "plt.xlabel('t')\n",
    "print(np.mean(np.divide(n_ul[1:], n_uu[1:])))"
   ]
  },
  {
   "cell_type": "code",
   "execution_count": null,
   "metadata": {},
   "outputs": [],
   "source": [
    "unspliced_A = mom.x[:, mom.ua] + mom.x[:, mom.wa]\n",
    "unspliced_I = mom.x[:, mom.ui] + mom.x[:, mom.wi]\n",
    "plt.plot(t, unspliced_A, 'b', label='unspliced_A')\n",
    "plt.plot(t, unspliced_I, 'g', label='unspliced_I')\n",
    "plt.plot(t, mom.fbar(unspliced_A, unspliced_I), 'r', label='unspliced')\n",
    "plt.legend(loc='best')\n",
    "plt.xlabel('t')\n",
    "print(np.mean(mom.x[1:, mom.ua] / mom.x[1:, mom.ui]))\n",
    "print((mom.a*mom.ai + (mom.b+mom.be)*mom.aa)/((mom.b+mom.be)*mom.ai + mom.b*mom.aa))"
   ]
  },
  {
   "cell_type": "code",
   "execution_count": null,
   "metadata": {},
   "outputs": [],
   "source": [
    "n_sl = mom.get_nx()\n",
    "n_su = mom.get_ny()\n",
    "plt.plot(t, n_sl, 'b', label='sl')\n",
    "plt.plot(T, n_mean[3], 'b--')\n",
    "plt.plot(t, n_su, 'g', label='su')\n",
    "plt.plot(T, n_mean[4], 'g--')\n",
    "plt.legend(loc='best')\n",
    "plt.xlabel('t')"
   ]
  },
  {
   "cell_type": "code",
   "execution_count": null,
   "metadata": {},
   "outputs": [],
   "source": [
    "plt.plot(t, x[:, mom.uu], 'b', label='2nd_mom_ul')\n",
    "plt.plot(t, x[:, mom.ww], 'g', label='2nd_mom_uu')\n",
    "plt.legend(loc='best')\n",
    "plt.xlabel('t')"
   ]
  },
  {
   "cell_type": "code",
   "execution_count": null,
   "metadata": {},
   "outputs": [],
   "source": [
    "var_ul = mom.get_var_nu()\n",
    "var_uu = mom.get_var_nw()\n",
    "plt.plot(t, var_ul, 'b', label='var_ul')\n",
    "plt.plot(T, n_var[1], 'b--')\n",
    "plt.plot(t, var_uu, 'g', label='var_uu')\n",
    "plt.plot(T, n_var[2], 'g--')\n",
    "plt.legend(loc='best')\n",
    "plt.xlabel('t')"
   ]
  },
  {
   "cell_type": "code",
   "execution_count": null,
   "metadata": {},
   "outputs": [],
   "source": [
    "plt.plot(t, x[:, mom.xx], 'b', label='2nd_mom_sl')\n",
    "plt.plot(t, x[:, mom.yy], 'g', label='2nd_mom_su')\n",
    "plt.legend(loc='best')\n",
    "plt.xlabel('t')"
   ]
  },
  {
   "cell_type": "code",
   "execution_count": null,
   "metadata": {},
   "outputs": [],
   "source": [
    "var_sl = mom.get_var_nx()\n",
    "var_su = mom.get_var_ny()\n",
    "plt.plot(t, var_sl, 'b', label='var_sl')\n",
    "plt.plot(T, n_var[3], 'b--')\n",
    "plt.plot(t, var_su, 'g', label='var_su')\n",
    "plt.plot(T, n_var[4], 'g--')\n",
    "plt.legend(loc='best')\n",
    "plt.xlabel('t')"
   ]
  },
  {
   "cell_type": "code",
   "execution_count": null,
   "metadata": {},
   "outputs": [],
   "source": [
    "cov_uu_su = mom.get_cov_ux()\n",
    "cov_ul_sl = mom.get_cov_wy()\n",
    "plt.plot(t, cov_uu_su, 'b', label='cov(uu, su)')\n",
    "plt.plot(T, n_cov_ux, 'b--')\n",
    "plt.plot(t, cov_ul_sl, 'g', label='cov(ul, sl)')\n",
    "plt.plot(T, n_cov_wy, 'g--')\n",
    "plt.legend(loc='best')\n",
    "plt.xlabel('t')"
   ]
  },
  {
   "cell_type": "code",
   "execution_count": null,
   "metadata": {},
   "outputs": [],
   "source": [
    "trajs_C_nosplice = convert_nosplice(trajs_T, trajs_C)"
   ]
  },
  {
   "cell_type": "code",
   "execution_count": null,
   "metadata": {},
   "outputs": [],
   "source": [
    "n_species = 2;\n",
    "n_mean = np.zeros((n_species, len(T)))\n",
    "n_2mom = np.zeros((n_species, len(T)))\n",
    "for j in range(n_species):\n",
    "    n_mean[j] = temporal_average( T, trajs_T, trajs_C_nosplice, j );\n",
    "    n_2mom[j] = temporal_average( T, trajs_T, trajs_C_nosplice, j, lambda x : x*(x-1) );\n",
    "n_var = n_2mom + n_mean - n_mean**2;"
   ]
  },
  {
   "cell_type": "code",
   "execution_count": null,
   "metadata": {},
   "outputs": [],
   "source": [
    "n_labeled = mom.get_n_labeled()\n",
    "n_unlabeled = mom.get_n_unlabeled()\n",
    "plt.plot(t, n_labeled, 'b', label='labeled')\n",
    "plt.plot(T, n_mean[0], 'b--')\n",
    "plt.plot(t, n_unlabeled, 'g', label='unlabeled')\n",
    "plt.plot(T, n_mean[1], 'g--')\n",
    "plt.legend(loc='best')\n",
    "plt.xlabel('t')\n",
    "plt.title('Mean')"
   ]
  },
  {
   "cell_type": "code",
   "execution_count": null,
   "metadata": {},
   "outputs": [],
   "source": [
    "var_labeled = mom.get_var_labeled()\n",
    "var_unlabeled = mom.get_var_unlabeled()\n",
    "plt.plot(t, var_labeled, 'b', label='labeled')\n",
    "plt.plot(T, n_var[0], 'b--')\n",
    "plt.plot(t, var_unlabeled, 'g', label='unlabeled')\n",
    "plt.plot(T, n_var[1], 'g--')\n",
    "plt.legend(loc='best')\n",
    "plt.xlabel('t')\n",
    "plt.title('Variance')"
   ]
  },
  {
   "cell_type": "code",
   "execution_count": null,
   "metadata": {},
   "outputs": [],
   "source": []
  }
 ],
 "metadata": {
  "kernelspec": {
   "display_name": "Python 3",
   "language": "python",
   "name": "python3"
  },
  "language_info": {
   "codemirror_mode": {
    "name": "ipython",
    "version": 3
   },
   "file_extension": ".py",
   "mimetype": "text/x-python",
   "name": "python",
   "nbconvert_exporter": "python",
   "pygments_lexer": "ipython3",
   "version": "3.6.8"
  }
 },
 "nbformat": 4,
 "nbformat_minor": 2
}
