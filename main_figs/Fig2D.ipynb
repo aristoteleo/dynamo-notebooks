{
 "cells": [
  {
   "cell_type": "code",
   "execution_count": 1,
   "metadata": {},
   "outputs": [],
   "source": [
    "import sys\n",
    "sys.path.insert(0, '/home/xqiu/proj/slam_seq/velocity_slam_seq/velocitySlamSeq/slam_seq')\n",
    "sys.path.insert(0, '/home/xqiu/proj/slam_seq/velocity_slam_seq/velocitySlamSeq/plotting')\n",
    "\n",
    "from dynamo_fitting import *\n",
    "from phase import *\n",
    "\n",
    "import scipy\n",
    "import scipy.stats\n",
    "import yt\n",
    "import numpy as np"
   ]
  },
  {
   "cell_type": "markdown",
   "metadata": {},
   "source": [
    "# Hippocampus data\n",
    "Here the vlm file is huge (19 G). \n",
    "use wget to download the vlm file and then load the pickled data\n",
    "\n",
    "wget https://www.dropbox.com/s/a9ozcynpxudqdis/raw_data_loom_combined.loom?dl=1\n",
    "\n",
    "here I just use data I have in my local directory.\n",
    "\n",
    "Similar, also download the alldata.mat and replace my directory of the mat file with yours"
   ]
  },
  {
   "cell_type": "code",
   "execution_count": null,
   "metadata": {},
   "outputs": [],
   "source": [
    "import scipy.io\n",
    "tmp = scipy.io.loadmat('/home/xqiu/proj/dynamo/data/alldata.mat')\n",
    "# X, Y, T = tmp['X'], tmp['Y'], tmp['T']\n",
    "T = tmp['T']\n",
    "import pickle\n",
    "vlm = pickle.load(open('/home/xqiu/proj/scPotential/population-diffusions/vlm', 'rb'))\n",
    "X = vlm.embedding\n",
    "Y = X + vlm.delta_embedding\n"
   ]
  },
  {
   "cell_type": "code",
   "execution_count": null,
   "metadata": {},
   "outputs": [],
   "source": [
    "plt.quiver(X[:, 0], X[:, 1], vlm.delta_embedding[:, 0], vlm.delta_embedding[:, 1])"
   ]
  },
  {
   "cell_type": "code",
   "execution_count": null,
   "metadata": {},
   "outputs": [],
   "source": [
    "from scVectorField import *\n",
    "from scPotential import *\n",
    "\n",
    "VecFld=SparseVFC(X, Y-X, T);\n",
    "\n",
    "import matplotlib.pyplot as plt\n",
    "plt.figure(figsize = (15, 15))\n",
    "#plt.quiver(X[:, 0], X[:, 1], VecFld['V'][:, 0], VecFld['V'][:, 1])\n",
    "plt.quiver(T[:, 0], T[:, 1], VecFld['grid_V'][:, 0], VecFld['grid_V'][:, 1])"
   ]
  },
  {
   "cell_type": "code",
   "execution_count": null,
   "metadata": {},
   "outputs": [],
   "source": [
    "from phase import *\n",
    "plot_LIC(U_grid = np.reshape(VecFld['grid_V'][:, 0], (100, 100)), V_grid = np.reshape(VecFld['grid_V'][:, 1], (100, 100))) # , file = '/home/xqiu/proj/dynamo/figures/LIC_neuron.pdf'\n",
    "\n",
    "#plot_LIC(U_grid = np.reshape(VecFld['grid_V'][:, 0], (100, 100)), V_grid = np.reshape(VecFld['grid_V'][:, 1], (100, 100)),  , file = '/home/xqiu/proj/dynamo/figures/LIC_neuron.pdf')\n"
   ]
  },
  {
   "cell_type": "markdown",
   "metadata": {},
   "source": [
    "# hgForebrain data\n",
    "\n",
    "Here the Haber.pickle file is huge (19 G). \n",
    "use wget to download the Haber.pickle file and then load the pickled data\n",
    "\n",
    "wget https://www.dropbox.com/s/a9ozcynpxudqdis/raw_data_loom_combined.loom?dl=1\n",
    "\n",
    "here I just use data I have in my local directory"
   ]
  },
  {
   "cell_type": "code",
   "execution_count": null,
   "metadata": {},
   "outputs": [],
   "source": [
    "import sys\n",
    "\n",
    "from gillespie import *\n",
    "from simulation import *\n",
    "from velocyto_scvelo import *\n",
    "\n",
    "import pickle\n",
    "Haber = pickle.load(open('/home/xqiu/proj/scPotential/velocyto-notebooks/python/Haber.pickle', 'rb'))\n",
    "Haber_adata = vlm_to_adata(Haber)\n",
    "Haber_adata.obsm['X_umap'] = Haber.embedding\n",
    "Haber_adata.obsm['velocity_umap'] = Haber.delta_embedding\n",
    "louvain = Haber_adata.obs.Maintype\n",
    "louvain[louvain == 'Endocrine'] = 1\n",
    "louvain[louvain == 'Enterocyte'] = 2\n",
    "louvain[louvain == 'Goblet'] = 3\n",
    "louvain[louvain == 'Paneth'] = 4\n",
    "louvain[louvain == 'Stem'] = 5\n",
    "louvain[louvain == 'TA'] = 6\n",
    "louvain[louvain == 'Tuft'] = 7\n",
    "\n",
    "Haber_adata.obs.louvain = louvain\n",
    "\n",
    "# res, trajectories = fate(Haber_adata, show_plot=True, color='r', density = 1, xy_grid_nums=[20, 20])\n",
    "\n",
    "# res, trajectories = fate(Haber_adata, show_plot=True, color='r', density = 1, xy_grid_nums=[20, 20])\n",
    "\n",
    "a = Haber.embedding[:, 0].min() - 1\n",
    "b = Haber.embedding[:, 0].max() + 1\n",
    "\n",
    "\n",
    "N=70\n",
    "\n",
    "X, Y = np.meshgrid(np.linspace(a, b, N), np.linspace(a, b, N));\n",
    "T = np.array((X.flatten(), Y.flatten())).T\n",
    "\n",
    "from scVectorField import *\n",
    "# from scPotential import *\n",
    "\n",
    "VecFld=SparseVFC(Haber.embedding, Haber.delta_embedding, T);\n",
    "\n",
    "import matplotlib.pyplot as plt\n",
    "plt.figure(figsize = (15, 15))\n",
    "#plt.quiver(X[:, 0], X[:, 1], VecFld['V'][:, 0], VecFld['V'][:, 1])\n",
    "plt.quiver(T[:, 0], T[:, 1], VecFld['grid_V'][:, 0], VecFld['grid_V'][:, 1])\n",
    "\n",
    "from phase import *\n",
    "plot_LIC(U_grid = np.reshape(VecFld['grid_V'][:, 0], (N, N)).T, V_grid = np.reshape(VecFld['grid_V'][:, 1], (N, N)).T)"
   ]
  },
  {
   "cell_type": "markdown",
   "metadata": {},
   "source": [
    "# hgForebrain data\n",
    "\n",
    "Here the hgForebrain.pickle file is huge. \n",
    "use wget to download the hgForebrain.pickle file and then load the pickled data\n",
    "\n",
    "wget https://www.dropbox.com/s/a9ozcynpxudqdis/raw_data_loom_combined.loom?dl=1\n",
    "\n",
    "here I just use data I have in my local directory"
   ]
  },
  {
   "cell_type": "code",
   "execution_count": null,
   "metadata": {},
   "outputs": [],
   "source": [
    "vlm_hgForebrain = pickle.load(open('/home/xqiu/proj/scPotential/velocyto-notebooks/python/hgForebrain.pickle', 'rb'))\n",
    "\n",
    "hgForebrain_adata = vlm_to_adata(vlm_hgForebrain)\n",
    "hgForebrain_adata.obsm['X_umap'] = vlm_hgForebrain.embedding\n",
    "hgForebrain_adata.obsm['velocity_umap'] = vlm_hgForebrain.delta_embedding\n",
    "\n",
    "# res, trajectories = fate(hgForebrain_adata, show_plot=True, color='r', density = 1, xy_grid_nums=[20, 20])\n",
    "\n",
    "\n",
    "a = vlm_hgForebrain.embedding[:, 0].min() - 1\n",
    "b = vlm_hgForebrain.embedding[:, 0].max() + 1\n",
    "\n",
    "X, Y = np.meshgrid(np.linspace(a, b, N), np.linspace(a, b, N));\n",
    "T = np.array((X.flatten(), Y.flatten())).T\n",
    "\n",
    "VecFld=SparseVFC(vlm_hgForebrain.embedding, vlm_hgForebrain.delta_embedding, T);\n",
    "\n",
    "plt.figure(figsize = (15, 15))\n",
    "#plt.quiver(X[:, 0], X[:, 1], VecFld['V'][:, 0], VecFld['V'][:, 1])\n",
    "plt.quiver(T[:, 0], T[:, 1], VecFld['grid_V'][:, 0], VecFld['grid_V'][:, 1])\n",
    "\n",
    "plot_LIC(U_grid = np.reshape(VecFld['grid_V'][:, 0], (N, N)).T, V_grid = np.reshape(VecFld['grid_V'][:, 1], (N, N)).T)"
   ]
  },
  {
   "cell_type": "markdown",
   "metadata": {},
   "source": [
    "# Recover vector field on the ODE system from Ying, et. al 2017. \n",
    "\n",
    "Download the alldata.mat and replace my directory of the mat file with yours "
   ]
  },
  {
   "cell_type": "code",
   "execution_count": null,
   "metadata": {},
   "outputs": [],
   "source": [
    "sim_data = scipy.io.loadmat('/home/xqiu/proj/dynamo/data/d1.mat')"
   ]
  },
  {
   "cell_type": "code",
   "execution_count": null,
   "metadata": {},
   "outputs": [],
   "source": [
    "# quiver(sim_data['X'][:, 0], sim_data['X'][:, 1], sim_data['Y'][:, 0], sim_data['Y'][:, 1]); \n",
    "plt.streamplot(np.reshape(sim_data['X'][:, 0], (100, 100))[:, 0], \n",
    "           np.reshape(sim_data['X'][:, 0], (100, 100))[:, 0], \n",
    "           np.reshape(sim_data['Y'][:, 0], (100, 100)).T, \n",
    "           np.reshape(sim_data['Y'][:, 1], (100, 100)).T, \n",
    "           color='red', zorder=3, linewidth=2)"
   ]
  },
  {
   "cell_type": "code",
   "execution_count": null,
   "metadata": {},
   "outputs": [],
   "source": [
    "VecFld_sim=SparseVFC(sim_data['X'], sim_data['Y'], sim_data['X'], M=500, beta = 2);\n",
    "\n",
    "plt.quiver(sim_data['X'][:, 0], sim_data['X'][:, 1], sim_data['Y'][:, 0], sim_data['Y'][:, 1]); \n",
    "plt.streamplot(np.reshape(sim_data['X'][:, 0], (100, 100))[:, 0], \n",
    "           np.reshape(sim_data['X'][:, 0], (100, 100))[:, 0], \n",
    "           np.reshape(VecFld_sim['grid_V'][:, 0], (100, 100)).T, \n",
    "           np.reshape(VecFld_sim['grid_V'][:, 1], (100, 100)).T, \n",
    "           color='red', zorder=3, linewidth=2)"
   ]
  },
  {
   "cell_type": "code",
   "execution_count": null,
   "metadata": {},
   "outputs": [],
   "source": [
    "plot_LIC(U_grid = np.reshape(VecFld_sim['grid_V'][:, 0], (100, 100)), V_grid = np.reshape(VecFld_sim['grid_V'][:, 1], (100, 100)))"
   ]
  },
  {
   "cell_type": "markdown",
   "metadata": {},
   "source": [
    "# curl-free and divergence free vector field from Ma, et. al 2013"
   ]
  },
  {
   "cell_type": "code",
   "execution_count": null,
   "metadata": {},
   "outputs": [],
   "source": [
    "# curl-free and divergence free \n",
    "a = -2; b = 2; N = 70;\n",
    "SIGMA = 0.25*np.eye(2);\n",
    "mu = np.array([[0, 0], [1, 0], [0, 1], [-1, 0], [0, -1]])\n",
    "w = [-1, 1, 1, 1, 1]\n",
    "gma = 0.5;\n",
    "NumSamp = 500;\n",
    "CorrRatio = 0.3;\n",
    "\n",
    "# generate 3D shape\n",
    "dx = (b-a)/(N-1); dy = dx;\n",
    "X, Y = np.meshgrid(np.linspace(a, b, N), np.linspace(a, b, N));\n",
    "T = np.array((X.flatten(), Y.flatten())).T\n",
    "Z = np.zeros(N);\n",
    "for ii in range(mu.shape[0]):\n",
    "    p = w[ii] * scipy.stats.multivariate_normal.pdf(T, mu[ii, :], SIGMA);\n",
    "    Z = Z + p.reshape((N, N))\n",
    "\n",
    "# figure, plt.plot_surface(X, Y, Z)\n",
    "from mpl_toolkits.mplot3d import Axes3D  \n",
    "# Axes3D import has side effects, it enables using projection='3d' in add_subplot\n",
    "import matplotlib.pyplot as plt\n",
    "\n",
    "\n",
    "fig = plt.figure()\n",
    "ax = fig.add_subplot(111, projection='3d')\n",
    "\n",
    "ax.plot_surface(X, Y, Z)\n",
    "\n",
    "ax.set_xlabel('X Label')\n",
    "ax.set_ylabel('Y Label')\n",
    "ax.set_zlabel('Z Label')\n",
    "\n",
    "plt.show()"
   ]
  },
  {
   "cell_type": "code",
   "execution_count": null,
   "metadata": {},
   "outputs": [],
   "source": [
    "# generate vector field\n",
    "DX1, DY1 = np.gradient(Z, dx, dy); # curl-free field\n",
    "DX2 = -DY1; DY2 = DX1; # divergence-free field\n",
    "DX = -gma*DX1 + (1-gma) * DY1;\n",
    "DY = -gma*DY1 + (1-gma) * (-DX1);\n",
    "V = np.array((DX.flatten(), DY.flatten())).T \n",
    "\n",
    "# curl-free field\n",
    "plt.quiver(X, Y, DX, DY, 1) # , colormap hsv, axis equal, axis tight\n",
    "plt.streamplot(X, Y, DX, DY, 1)\n",
    "# divergence-free field\n",
    "plt.figure()\n",
    "plt.quiver(X, Y, DX2, DY2, 1) # , colormap hsv, axis equal, axis tight\n",
    "plt.streamplot(X, Y, DX2, DY2, 1)\n"
   ]
  },
  {
   "cell_type": "code",
   "execution_count": null,
   "metadata": {},
   "outputs": [],
   "source": [
    "# curl-free field\n",
    "\n",
    "plot_LIC(U_grid = DX, V_grid = DY)"
   ]
  },
  {
   "cell_type": "code",
   "execution_count": null,
   "metadata": {},
   "outputs": [],
   "source": [
    "# divergence-free field\n",
    "plot_LIC(U_grid = DX2, V_grid = DY2)"
   ]
  },
  {
   "cell_type": "code",
   "execution_count": null,
   "metadata": {},
   "outputs": [],
   "source": []
  }
 ],
 "metadata": {
  "kernelspec": {
   "display_name": "Python 3",
   "language": "python",
   "name": "python3"
  },
  "language_info": {
   "codemirror_mode": {
    "name": "ipython",
    "version": 3
   },
   "file_extension": ".py",
   "mimetype": "text/x-python",
   "name": "python",
   "nbconvert_exporter": "python",
   "pygments_lexer": "ipython3",
   "version": "3.6.8"
  }
 },
 "nbformat": 4,
 "nbformat_minor": 2
}
