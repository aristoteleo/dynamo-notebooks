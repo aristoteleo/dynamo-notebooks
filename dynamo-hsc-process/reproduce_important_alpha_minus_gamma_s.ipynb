{
 "cells": [
  {
   "cell_type": "code",
   "execution_count": 1,
   "id": "e1f393fc-0679-4d5a-bc3e-fbff60ed7ce4",
   "metadata": {},
   "outputs": [
    {
     "name": "stderr",
     "output_type": "stream",
     "text": [
      "<frozen importlib._bootstrap>:228: RuntimeWarning: scipy._lib.messagestream.MessageStream size changed, may indicate binary incompatibility. Expected 56 from C header, got 64 from PyObject\n"
     ]
    },
    {
     "name": "stdout",
     "output_type": "stream",
     "text": [
      "|-----> setting visualization default mode in dynamo. Your customized matplotlib settings might be overritten.\n"
     ]
    },
    {
     "name": "stderr",
     "output_type": "stream",
     "text": [
      "/Users/random/opt/anaconda3/envs/dynamo-dev/lib/python3.9/site-packages/nxviz/__init__.py:18: UserWarning: \n",
      "nxviz has a new API! Version 0.7.3 onwards, the old class-based API is being\n",
      "deprecated in favour of a new API focused on advancing a grammar of network\n",
      "graphics. If your plotting code depends on the old API, please consider\n",
      "pinning nxviz at version 0.7.3, as the new API will break your old code.\n",
      "\n",
      "To check out the new API, please head over to the docs at\n",
      "https://ericmjl.github.io/nxviz/ to learn more. We hope you enjoy using it!\n",
      "\n",
      "(This deprecation message will go away in version 1.0.)\n",
      "\n",
      "  warnings.warn(\n"
     ]
    }
   ],
   "source": [
    "import dynamo as dyn\n",
    "import scanpy as sc \n",
    "\n",
    "import numpy as np\n",
    "import pandas as pd\n",
    "import seaborn as sns\n",
    "\n",
    "from dynamo.simulation.evaluation import evaluate\n",
    "from dynamo.tools.connectivity import adj_to_knn\n",
    "from dynamo.tools.utils import get_finite_inds\n",
    "\n",
    "from scipy.spatial.distance import cosine\n",
    "from scipy.stats import spearmanr\n",
    "from scipy.sparse import issparse, csr_matrix\n",
    "\n",
    "import matplotlib.pyplot as plt\n",
    "import seaborn as sns\n",
    "import pickle"
   ]
  },
  {
   "cell_type": "code",
   "execution_count": 2,
   "id": "bc72d1ee-8942-4acd-8817-7edae263a01c",
   "metadata": {},
   "outputs": [
    {
     "data": {
      "text/html": [
       "<div>\n",
       "<style scoped>\n",
       "    .dataframe tbody tr th:only-of-type {\n",
       "        vertical-align: middle;\n",
       "    }\n",
       "\n",
       "    .dataframe tbody tr th {\n",
       "        vertical-align: top;\n",
       "    }\n",
       "\n",
       "    .dataframe thead th {\n",
       "        text-align: right;\n",
       "    }\n",
       "</style>\n",
       "<table border=\"1\" class=\"dataframe\">\n",
       "  <thead>\n",
       "    <tr style=\"text-align: right;\">\n",
       "      <th></th>\n",
       "      <th>batch</th>\n",
       "      <th>time</th>\n",
       "      <th>cell_type</th>\n",
       "      <th>nGenes</th>\n",
       "      <th>nCounts</th>\n",
       "      <th>pMito</th>\n",
       "      <th>pass_basic_filter</th>\n",
       "      <th>new_Size_Factor</th>\n",
       "      <th>initial_new_cell_size</th>\n",
       "      <th>total_Size_Factor</th>\n",
       "      <th>...</th>\n",
       "      <th>pca_ddhodge_potential</th>\n",
       "      <th>umap_ori_ddhodge_div</th>\n",
       "      <th>umap_ori_ddhodge_potential</th>\n",
       "      <th>curl_umap_ori</th>\n",
       "      <th>divergence_umap_ori</th>\n",
       "      <th>control_point_umap_ori</th>\n",
       "      <th>inlier_prob_umap_ori</th>\n",
       "      <th>obs_vf_angle_umap_ori</th>\n",
       "      <th>n_counts</th>\n",
       "      <th>mt_frac</th>\n",
       "    </tr>\n",
       "    <tr>\n",
       "      <th>barcode</th>\n",
       "      <th></th>\n",
       "      <th></th>\n",
       "      <th></th>\n",
       "      <th></th>\n",
       "      <th></th>\n",
       "      <th></th>\n",
       "      <th></th>\n",
       "      <th></th>\n",
       "      <th></th>\n",
       "      <th></th>\n",
       "      <th></th>\n",
       "      <th></th>\n",
       "      <th></th>\n",
       "      <th></th>\n",
       "      <th></th>\n",
       "      <th></th>\n",
       "      <th></th>\n",
       "      <th></th>\n",
       "      <th></th>\n",
       "      <th></th>\n",
       "      <th></th>\n",
       "    </tr>\n",
       "  </thead>\n",
       "  <tbody>\n",
       "    <tr>\n",
       "      <th>CCACAAGCGTGC-JL12_0</th>\n",
       "      <td>JL12_0</td>\n",
       "      <td>3</td>\n",
       "      <td>Mon</td>\n",
       "      <td>1196</td>\n",
       "      <td>1944.0</td>\n",
       "      <td>0.114198</td>\n",
       "      <td>True</td>\n",
       "      <td>1.039024</td>\n",
       "      <td>852.0</td>\n",
       "      <td>1.227772</td>\n",
       "      <td>...</td>\n",
       "      <td>0.507833</td>\n",
       "      <td>-16.341991</td>\n",
       "      <td>1.792488</td>\n",
       "      <td>-0.046206</td>\n",
       "      <td>0.112111</td>\n",
       "      <td>False</td>\n",
       "      <td>0.999549</td>\n",
       "      <td>0.176351</td>\n",
       "      <td>3466.0</td>\n",
       "      <td>0.073572</td>\n",
       "    </tr>\n",
       "    <tr>\n",
       "      <th>CCATCCTGTGGA-JL12_0</th>\n",
       "      <td>JL12_0</td>\n",
       "      <td>3</td>\n",
       "      <td>Meg</td>\n",
       "      <td>1172</td>\n",
       "      <td>1706.0</td>\n",
       "      <td>0.067995</td>\n",
       "      <td>True</td>\n",
       "      <td>0.506098</td>\n",
       "      <td>415.0</td>\n",
       "      <td>1.002834</td>\n",
       "      <td>...</td>\n",
       "      <td>4.700147</td>\n",
       "      <td>41.514399</td>\n",
       "      <td>3.392540</td>\n",
       "      <td>0.098062</td>\n",
       "      <td>-0.273977</td>\n",
       "      <td>False</td>\n",
       "      <td>0.860345</td>\n",
       "      <td>0.354914</td>\n",
       "      <td>2831.0</td>\n",
       "      <td>0.048746</td>\n",
       "    </tr>\n",
       "  </tbody>\n",
       "</table>\n",
       "<p>2 rows × 36 columns</p>\n",
       "</div>"
      ],
      "text/plain": [
       "                      batch  time cell_type  nGenes  nCounts     pMito  \\\n",
       "barcode                                                                  \n",
       "CCACAAGCGTGC-JL12_0  JL12_0     3       Mon    1196   1944.0  0.114198   \n",
       "CCATCCTGTGGA-JL12_0  JL12_0     3       Meg    1172   1706.0  0.067995   \n",
       "\n",
       "                     pass_basic_filter  new_Size_Factor  \\\n",
       "barcode                                                   \n",
       "CCACAAGCGTGC-JL12_0               True         1.039024   \n",
       "CCATCCTGTGGA-JL12_0               True         0.506098   \n",
       "\n",
       "                     initial_new_cell_size  total_Size_Factor  ...  \\\n",
       "barcode                                                        ...   \n",
       "CCACAAGCGTGC-JL12_0                  852.0           1.227772  ...   \n",
       "CCATCCTGTGGA-JL12_0                  415.0           1.002834  ...   \n",
       "\n",
       "                     pca_ddhodge_potential  umap_ori_ddhodge_div  \\\n",
       "barcode                                                            \n",
       "CCACAAGCGTGC-JL12_0               0.507833            -16.341991   \n",
       "CCATCCTGTGGA-JL12_0               4.700147             41.514399   \n",
       "\n",
       "                     umap_ori_ddhodge_potential  curl_umap_ori  \\\n",
       "barcode                                                          \n",
       "CCACAAGCGTGC-JL12_0                    1.792488      -0.046206   \n",
       "CCATCCTGTGGA-JL12_0                    3.392540       0.098062   \n",
       "\n",
       "                     divergence_umap_ori  control_point_umap_ori  \\\n",
       "barcode                                                            \n",
       "CCACAAGCGTGC-JL12_0             0.112111                   False   \n",
       "CCATCCTGTGGA-JL12_0            -0.273977                   False   \n",
       "\n",
       "                     inlier_prob_umap_ori  obs_vf_angle_umap_ori n_counts  \\\n",
       "barcode                                                                     \n",
       "CCACAAGCGTGC-JL12_0              0.999549               0.176351   3466.0   \n",
       "CCATCCTGTGGA-JL12_0              0.860345               0.354914   2831.0   \n",
       "\n",
       "                      mt_frac  \n",
       "barcode                        \n",
       "CCACAAGCGTGC-JL12_0  0.073572  \n",
       "CCATCCTGTGGA-JL12_0  0.048746  \n",
       "\n",
       "[2 rows x 36 columns]"
      ]
     },
     "execution_count": 2,
     "metadata": {},
     "output_type": "execute_result"
    }
   ],
   "source": [
    "adata_labeling_obs = pd.read_csv('./adata_labeling_all_combined_processed_final.csv', index_col=0)\n",
    "\n",
    "adata_labeling_obs.head(2)"
   ]
  },
  {
   "cell_type": "code",
   "execution_count": 3,
   "id": "1814403f-4894-4d74-9dcd-c08cd94472ab",
   "metadata": {},
   "outputs": [
    {
     "name": "stderr",
     "output_type": "stream",
     "text": [
      "/Users/random/opt/anaconda3/envs/dynamo-dev/lib/python3.9/site-packages/pandas/core/arrays/categorical.py:2631: FutureWarning: The `inplace` parameter in pandas.Categorical.remove_unused_categories is deprecated and will be removed in a future version.\n",
      "  res = method(*args, **kwargs)\n"
     ]
    }
   ],
   "source": [
    "################################### Our data ###################################\n",
    "adata_dyn = dyn.read('./hsc_all_combined_all_layers.h5ad')\n",
    "adata_filtered2 = dyn.read('./hsc_adata_filtered2.h5ad')\n",
    "adata_dyn.obs['time'] = 3\n",
    "adata_dyn.obs.loc[adata_dyn.obs.batch == 'JL_10', 'time'] = 5\n",
    "adata_labeling = adata_dyn[adata_filtered2.obs_names]\n",
    "\n",
    "adata_labeling.layers['new'] = adata_labeling.layers['labeled_TC'].copy()\n",
    "\n",
    "# adata_labeling.X = adata_labeling.layers['labeled_TC'].copy()\n",
    "# adata_labeling.X[adata_labeling.obs.batch == 'JL_10', :] *= 3/5 \n",
    "\n",
    "layers_keys = adata_labeling.layers.keys()\n",
    "for i in ['X_l_TC', 'X_n_TC', 'ambiguous', 'labeled_TC', 'sl_TC', 'sn_TC', 'ul_TC', 'un_TC', 'unlabeled_TC']:\n",
    "    if i in layers_keys: del adata_labeling.layers[i]\n",
    "\n",
    "import pickle\n",
    "union_genes = pickle.load(open('./union_genes.p', 'rb'))"
   ]
  },
  {
   "cell_type": "code",
   "execution_count": 10,
   "id": "36b2a18c",
   "metadata": {},
   "outputs": [
    {
     "data": {
      "text/plain": [
       "(2574,\n",
       " ['AL158064.1',\n",
       "  'CD163L1',\n",
       "  'SNX25',\n",
       "  'TBX19',\n",
       "  'AC009495.1',\n",
       "  'CD33',\n",
       "  'LINC01916',\n",
       "  'CARD9',\n",
       "  'RAPGEFL1',\n",
       "  'OSGEPL1-AS1'])"
      ]
     },
     "execution_count": 10,
     "metadata": {},
     "output_type": "execute_result"
    }
   ],
   "source": [
    "len(union_genes), union_genes[:10]"
   ]
  },
  {
   "cell_type": "code",
   "execution_count": 5,
   "id": "c4e44694-6965-4c32-af4b-1e4cfd828bfc",
   "metadata": {},
   "outputs": [],
   "source": [
    "# ZFPM1: FOG1; EKLF: KLF1; cJun: JUN; EgrNab: NAB2\n",
    "# ETO2: CBFA2T3; TEL: ETV6 \n",
    "network_inference_genes = [\"GATA2\", \"GFI1\", \"GFI1B\", \"NFE2\", \"TAL1\", \"GATA1\", \"LYL1\", \"ERG\", \"FLI1\", \"MEIS1\", \"SPI1\", \"MITF\", \"LMO2\", \"LDB1\", \"RUNX1\", \"ETV6\", \"HHEX\", \"CBFA2T3\"]\n",
    "Krumsiek_11 = [\"GATA2\", \"GATA1\", \"ZFPM1\", \"SPI1\", \"FLI1\", \"KLF1\", \"TAL1\", \"CEBPA\", \"GFI1\", \"JUN\", \"NAB2\"]\n",
    "\n",
    "union_genes += network_inference_genes\n",
    "union_genes += Krumsiek_11"
   ]
  },
  {
   "cell_type": "code",
   "execution_count": 6,
   "id": "cebba597-b889-48d7-a019-3ce2958c9a54",
   "metadata": {},
   "outputs": [
    {
     "data": {
      "text/plain": [
       "(2552, 2574)"
      ]
     },
     "execution_count": 6,
     "metadata": {},
     "output_type": "execute_result"
    }
   ],
   "source": [
    "len(np.unique(union_genes)), len(union_genes)"
   ]
  },
  {
   "cell_type": "code",
   "execution_count": 24,
   "id": "eb160c00",
   "metadata": {},
   "outputs": [
    {
     "data": {
      "text/plain": [
       "set()"
      ]
     },
     "execution_count": 24,
     "metadata": {},
     "output_type": "execute_result"
    }
   ],
   "source": [
    "set(adata_labeling_obs.index).difference(adata_labeling.obs_names)"
   ]
  },
  {
   "cell_type": "code",
   "execution_count": 45,
   "id": "3cfaec11",
   "metadata": {},
   "outputs": [],
   "source": [
    "adata_labeling_obs.index = np.array(adata_labeling_obs.index, dtype=str)"
   ]
  },
  {
   "cell_type": "code",
   "execution_count": 46,
   "id": "bf84b16d",
   "metadata": {},
   "outputs": [],
   "source": [
    "obs_names = adata_labeling.obs_names.to_list()"
   ]
  },
  {
   "cell_type": "code",
   "execution_count": 47,
   "id": "ed53a08c",
   "metadata": {},
   "outputs": [
    {
     "data": {
      "text/plain": [
       "(1979, 1947)"
      ]
     },
     "execution_count": 47,
     "metadata": {},
     "output_type": "execute_result"
    }
   ],
   "source": [
    "len(obs_names), len(adata_labeling_obs.index)"
   ]
  },
  {
   "cell_type": "code",
   "execution_count": 49,
   "id": "94d0f0bf",
   "metadata": {},
   "outputs": [
    {
     "data": {
      "text/plain": [
       "1979"
      ]
     },
     "execution_count": 49,
     "metadata": {},
     "output_type": "execute_result"
    }
   ],
   "source": [
    "# set(adata_labeling_obs.index).difference(obs_names)\n",
    "set(obs_names).difference(adata_labeling_obs)"
   ]
  },
  {
   "cell_type": "code",
   "execution_count": 33,
   "id": "a35f4bd4",
   "metadata": {},
   "outputs": [
    {
     "ename": "KeyError",
     "evalue": "\"['GCCAAAATCTTA-JL12_0', 'GGCCATTCAATG-JL12_0', 'GGCCTTTATTTC-JL12_0', 'GGCGCCAATCCA-JL12_0', 'GGCGGCGCCAGA-JL12_0', 'GGCGGGTCGGGA-JL12_0', 'GGGCAAGCACAC-JL12_0', 'GGGCACCGGACT-JL12_0', 'GGGCATGTTTTT-JL12_0', 'GGGCCGTAAGAG-JL12_0', 'GGGCTAGAGAGG-JL12_0', 'GGGGCGACTCAT-JL12_0', 'GGGGCGTAAGAG-JL12_0', 'GGGGGGGTTCCC-JL12_0', 'GGGGGTGCGCCG-JL12_0', 'GGGTACTTCGGG-JL12_0', 'GGGTGCTCTACA-JL12_0', 'GGGTGGGTTCCC-JL12_0', 'GGGTGGTCCCGG-JL12_0', 'GGTATCGCCAAC-JL12_0', 'GGTCTAGCCGGA-JL12_0', 'GGTGACGACAAA-JL12_0', 'GGTGATTTGGTT-JL12_0', 'GGTGCCGACTGG-JL12_0', 'GGTGTAATCTCT-JL12_0', 'GGTTCGGATTCA-JL12_0', 'GGAGAAGCACAC-JL_10', 'GGAGCTGCTTCG-JL_10', 'GGCATATCATAG-JL_10', 'GGCGACGTCCTC-JL_10', 'GGCGAGTGTTGC-JL_10', 'GGGTTTGGTTCG-JL_10'] not in index\"",
     "output_type": "error",
     "traceback": [
      "\u001b[0;31m---------------------------------------------------------------------------\u001b[0m",
      "\u001b[0;31mKeyError\u001b[0m                                  Traceback (most recent call last)",
      "\u001b[0;32m/var/folders/m5/dc_kmwcs2_3fqkytr_j09wx00000gn/T/ipykernel_92667/3336397922.py\u001b[0m in \u001b[0;36m<module>\u001b[0;34m\u001b[0m\n\u001b[0;32m----> 1\u001b[0;31m \u001b[0madata_labeling_obs\u001b[0m\u001b[0;34m.\u001b[0m\u001b[0mloc\u001b[0m\u001b[0;34m[\u001b[0m\u001b[0mobs_names\u001b[0m\u001b[0;34m]\u001b[0m\u001b[0;34m\u001b[0m\u001b[0;34m\u001b[0m\u001b[0m\n\u001b[0m",
      "\u001b[0;32m~/opt/anaconda3/envs/dynamo-dev/lib/python3.9/site-packages/pandas/core/indexing.py\u001b[0m in \u001b[0;36m__getitem__\u001b[0;34m(self, key)\u001b[0m\n\u001b[1;32m    929\u001b[0m \u001b[0;34m\u001b[0m\u001b[0m\n\u001b[1;32m    930\u001b[0m             \u001b[0mmaybe_callable\u001b[0m \u001b[0;34m=\u001b[0m \u001b[0mcom\u001b[0m\u001b[0;34m.\u001b[0m\u001b[0mapply_if_callable\u001b[0m\u001b[0;34m(\u001b[0m\u001b[0mkey\u001b[0m\u001b[0;34m,\u001b[0m \u001b[0mself\u001b[0m\u001b[0;34m.\u001b[0m\u001b[0mobj\u001b[0m\u001b[0;34m)\u001b[0m\u001b[0;34m\u001b[0m\u001b[0;34m\u001b[0m\u001b[0m\n\u001b[0;32m--> 931\u001b[0;31m             \u001b[0;32mreturn\u001b[0m \u001b[0mself\u001b[0m\u001b[0;34m.\u001b[0m\u001b[0m_getitem_axis\u001b[0m\u001b[0;34m(\u001b[0m\u001b[0mmaybe_callable\u001b[0m\u001b[0;34m,\u001b[0m \u001b[0maxis\u001b[0m\u001b[0;34m=\u001b[0m\u001b[0maxis\u001b[0m\u001b[0;34m)\u001b[0m\u001b[0;34m\u001b[0m\u001b[0;34m\u001b[0m\u001b[0m\n\u001b[0m\u001b[1;32m    932\u001b[0m \u001b[0;34m\u001b[0m\u001b[0m\n\u001b[1;32m    933\u001b[0m     \u001b[0;32mdef\u001b[0m \u001b[0m_is_scalar_access\u001b[0m\u001b[0;34m(\u001b[0m\u001b[0mself\u001b[0m\u001b[0;34m,\u001b[0m \u001b[0mkey\u001b[0m\u001b[0;34m:\u001b[0m \u001b[0mtuple\u001b[0m\u001b[0;34m)\u001b[0m\u001b[0;34m:\u001b[0m\u001b[0;34m\u001b[0m\u001b[0;34m\u001b[0m\u001b[0m\n",
      "\u001b[0;32m~/opt/anaconda3/envs/dynamo-dev/lib/python3.9/site-packages/pandas/core/indexing.py\u001b[0m in \u001b[0;36m_getitem_axis\u001b[0;34m(self, key, axis)\u001b[0m\n\u001b[1;32m   1151\u001b[0m                     \u001b[0;32mraise\u001b[0m \u001b[0mValueError\u001b[0m\u001b[0;34m(\u001b[0m\u001b[0;34m\"Cannot index with multidimensional key\"\u001b[0m\u001b[0;34m)\u001b[0m\u001b[0;34m\u001b[0m\u001b[0;34m\u001b[0m\u001b[0m\n\u001b[1;32m   1152\u001b[0m \u001b[0;34m\u001b[0m\u001b[0m\n\u001b[0;32m-> 1153\u001b[0;31m                 \u001b[0;32mreturn\u001b[0m \u001b[0mself\u001b[0m\u001b[0;34m.\u001b[0m\u001b[0m_getitem_iterable\u001b[0m\u001b[0;34m(\u001b[0m\u001b[0mkey\u001b[0m\u001b[0;34m,\u001b[0m \u001b[0maxis\u001b[0m\u001b[0;34m=\u001b[0m\u001b[0maxis\u001b[0m\u001b[0;34m)\u001b[0m\u001b[0;34m\u001b[0m\u001b[0;34m\u001b[0m\u001b[0m\n\u001b[0m\u001b[1;32m   1154\u001b[0m \u001b[0;34m\u001b[0m\u001b[0m\n\u001b[1;32m   1155\u001b[0m             \u001b[0;31m# nested tuple slicing\u001b[0m\u001b[0;34m\u001b[0m\u001b[0;34m\u001b[0m\u001b[0m\n",
      "\u001b[0;32m~/opt/anaconda3/envs/dynamo-dev/lib/python3.9/site-packages/pandas/core/indexing.py\u001b[0m in \u001b[0;36m_getitem_iterable\u001b[0;34m(self, key, axis)\u001b[0m\n\u001b[1;32m   1091\u001b[0m \u001b[0;34m\u001b[0m\u001b[0m\n\u001b[1;32m   1092\u001b[0m         \u001b[0;31m# A collection of keys\u001b[0m\u001b[0;34m\u001b[0m\u001b[0;34m\u001b[0m\u001b[0m\n\u001b[0;32m-> 1093\u001b[0;31m         \u001b[0mkeyarr\u001b[0m\u001b[0;34m,\u001b[0m \u001b[0mindexer\u001b[0m \u001b[0;34m=\u001b[0m \u001b[0mself\u001b[0m\u001b[0;34m.\u001b[0m\u001b[0m_get_listlike_indexer\u001b[0m\u001b[0;34m(\u001b[0m\u001b[0mkey\u001b[0m\u001b[0;34m,\u001b[0m \u001b[0maxis\u001b[0m\u001b[0;34m)\u001b[0m\u001b[0;34m\u001b[0m\u001b[0;34m\u001b[0m\u001b[0m\n\u001b[0m\u001b[1;32m   1094\u001b[0m         return self.obj._reindex_with_indexers(\n\u001b[1;32m   1095\u001b[0m             \u001b[0;34m{\u001b[0m\u001b[0maxis\u001b[0m\u001b[0;34m:\u001b[0m \u001b[0;34m[\u001b[0m\u001b[0mkeyarr\u001b[0m\u001b[0;34m,\u001b[0m \u001b[0mindexer\u001b[0m\u001b[0;34m]\u001b[0m\u001b[0;34m}\u001b[0m\u001b[0;34m,\u001b[0m \u001b[0mcopy\u001b[0m\u001b[0;34m=\u001b[0m\u001b[0;32mTrue\u001b[0m\u001b[0;34m,\u001b[0m \u001b[0mallow_dups\u001b[0m\u001b[0;34m=\u001b[0m\u001b[0;32mTrue\u001b[0m\u001b[0;34m\u001b[0m\u001b[0;34m\u001b[0m\u001b[0m\n",
      "\u001b[0;32m~/opt/anaconda3/envs/dynamo-dev/lib/python3.9/site-packages/pandas/core/indexing.py\u001b[0m in \u001b[0;36m_get_listlike_indexer\u001b[0;34m(self, key, axis)\u001b[0m\n\u001b[1;32m   1312\u001b[0m             \u001b[0mkeyarr\u001b[0m\u001b[0;34m,\u001b[0m \u001b[0mindexer\u001b[0m\u001b[0;34m,\u001b[0m \u001b[0mnew_indexer\u001b[0m \u001b[0;34m=\u001b[0m \u001b[0max\u001b[0m\u001b[0;34m.\u001b[0m\u001b[0m_reindex_non_unique\u001b[0m\u001b[0;34m(\u001b[0m\u001b[0mkeyarr\u001b[0m\u001b[0;34m)\u001b[0m\u001b[0;34m\u001b[0m\u001b[0;34m\u001b[0m\u001b[0m\n\u001b[1;32m   1313\u001b[0m \u001b[0;34m\u001b[0m\u001b[0m\n\u001b[0;32m-> 1314\u001b[0;31m         \u001b[0mself\u001b[0m\u001b[0;34m.\u001b[0m\u001b[0m_validate_read_indexer\u001b[0m\u001b[0;34m(\u001b[0m\u001b[0mkeyarr\u001b[0m\u001b[0;34m,\u001b[0m \u001b[0mindexer\u001b[0m\u001b[0;34m,\u001b[0m \u001b[0maxis\u001b[0m\u001b[0;34m)\u001b[0m\u001b[0;34m\u001b[0m\u001b[0;34m\u001b[0m\u001b[0m\n\u001b[0m\u001b[1;32m   1315\u001b[0m \u001b[0;34m\u001b[0m\u001b[0m\n\u001b[1;32m   1316\u001b[0m         if needs_i8_conversion(ax.dtype) or isinstance(\n",
      "\u001b[0;32m~/opt/anaconda3/envs/dynamo-dev/lib/python3.9/site-packages/pandas/core/indexing.py\u001b[0m in \u001b[0;36m_validate_read_indexer\u001b[0;34m(self, key, indexer, axis)\u001b[0m\n\u001b[1;32m   1375\u001b[0m \u001b[0;34m\u001b[0m\u001b[0m\n\u001b[1;32m   1376\u001b[0m             \u001b[0mnot_found\u001b[0m \u001b[0;34m=\u001b[0m \u001b[0mlist\u001b[0m\u001b[0;34m(\u001b[0m\u001b[0mensure_index\u001b[0m\u001b[0;34m(\u001b[0m\u001b[0mkey\u001b[0m\u001b[0;34m)\u001b[0m\u001b[0;34m[\u001b[0m\u001b[0mmissing_mask\u001b[0m\u001b[0;34m.\u001b[0m\u001b[0mnonzero\u001b[0m\u001b[0;34m(\u001b[0m\u001b[0;34m)\u001b[0m\u001b[0;34m[\u001b[0m\u001b[0;36m0\u001b[0m\u001b[0;34m]\u001b[0m\u001b[0;34m]\u001b[0m\u001b[0;34m.\u001b[0m\u001b[0munique\u001b[0m\u001b[0;34m(\u001b[0m\u001b[0;34m)\u001b[0m\u001b[0;34m)\u001b[0m\u001b[0;34m\u001b[0m\u001b[0;34m\u001b[0m\u001b[0m\n\u001b[0;32m-> 1377\u001b[0;31m             \u001b[0;32mraise\u001b[0m \u001b[0mKeyError\u001b[0m\u001b[0;34m(\u001b[0m\u001b[0;34mf\"{not_found} not in index\"\u001b[0m\u001b[0;34m)\u001b[0m\u001b[0;34m\u001b[0m\u001b[0;34m\u001b[0m\u001b[0m\n\u001b[0m\u001b[1;32m   1378\u001b[0m \u001b[0;34m\u001b[0m\u001b[0m\n\u001b[1;32m   1379\u001b[0m \u001b[0;34m\u001b[0m\u001b[0m\n",
      "\u001b[0;31mKeyError\u001b[0m: \"['GCCAAAATCTTA-JL12_0', 'GGCCATTCAATG-JL12_0', 'GGCCTTTATTTC-JL12_0', 'GGCGCCAATCCA-JL12_0', 'GGCGGCGCCAGA-JL12_0', 'GGCGGGTCGGGA-JL12_0', 'GGGCAAGCACAC-JL12_0', 'GGGCACCGGACT-JL12_0', 'GGGCATGTTTTT-JL12_0', 'GGGCCGTAAGAG-JL12_0', 'GGGCTAGAGAGG-JL12_0', 'GGGGCGACTCAT-JL12_0', 'GGGGCGTAAGAG-JL12_0', 'GGGGGGGTTCCC-JL12_0', 'GGGGGTGCGCCG-JL12_0', 'GGGTACTTCGGG-JL12_0', 'GGGTGCTCTACA-JL12_0', 'GGGTGGGTTCCC-JL12_0', 'GGGTGGTCCCGG-JL12_0', 'GGTATCGCCAAC-JL12_0', 'GGTCTAGCCGGA-JL12_0', 'GGTGACGACAAA-JL12_0', 'GGTGATTTGGTT-JL12_0', 'GGTGCCGACTGG-JL12_0', 'GGTGTAATCTCT-JL12_0', 'GGTTCGGATTCA-JL12_0', 'GGAGAAGCACAC-JL_10', 'GGAGCTGCTTCG-JL_10', 'GGCATATCATAG-JL_10', 'GGCGACGTCCTC-JL_10', 'GGCGAGTGTTGC-JL_10', 'GGGTTTGGTTCG-JL_10'] not in index\""
     ]
    }
   ],
   "source": [
    "adata_labeling_obs.loc[obs_names]"
   ]
  },
  {
   "cell_type": "code",
   "execution_count": 11,
   "id": "032bbfbe-73f3-425c-9058-c7b16ff35e6e",
   "metadata": {},
   "outputs": [
    {
     "ename": "KeyError",
     "evalue": "\"['GCCAAAATCTTA-JL12_0', 'GGCCATTCAATG-JL12_0', 'GGCCTTTATTTC-JL12_0', 'GGCGCCAATCCA-JL12_0', 'GGCGGCGCCAGA-JL12_0', 'GGCGGGTCGGGA-JL12_0', 'GGGCAAGCACAC-JL12_0', 'GGGCACCGGACT-JL12_0', 'GGGCATGTTTTT-JL12_0', 'GGGCCGTAAGAG-JL12_0', 'GGGCTAGAGAGG-JL12_0', 'GGGGCGACTCAT-JL12_0', 'GGGGCGTAAGAG-JL12_0', 'GGGGGGGTTCCC-JL12_0', 'GGGGGTGCGCCG-JL12_0', 'GGGTACTTCGGG-JL12_0', 'GGGTGCTCTACA-JL12_0', 'GGGTGGGTTCCC-JL12_0', 'GGGTGGTCCCGG-JL12_0', 'GGTATCGCCAAC-JL12_0', 'GGTCTAGCCGGA-JL12_0', 'GGTGACGACAAA-JL12_0', 'GGTGATTTGGTT-JL12_0', 'GGTGCCGACTGG-JL12_0', 'GGTGTAATCTCT-JL12_0', 'GGTTCGGATTCA-JL12_0', 'GGAGAAGCACAC-JL_10', 'GGAGCTGCTTCG-JL_10', 'GGCATATCATAG-JL_10', 'GGCGACGTCCTC-JL_10', 'GGCGAGTGTTGC-JL_10', 'GGGTTTGGTTCG-JL_10'] not in index\"",
     "output_type": "error",
     "traceback": [
      "\u001b[0;31m---------------------------------------------------------------------------\u001b[0m",
      "\u001b[0;31mKeyError\u001b[0m                                  Traceback (most recent call last)",
      "\u001b[0;32m/var/folders/m5/dc_kmwcs2_3fqkytr_j09wx00000gn/T/ipykernel_92667/601064330.py\u001b[0m in \u001b[0;36m<module>\u001b[0;34m\u001b[0m\n\u001b[0;32m----> 1\u001b[0;31m \u001b[0madata_labeling\u001b[0m\u001b[0;34m.\u001b[0m\u001b[0mobs\u001b[0m\u001b[0;34m[\u001b[0m\u001b[0;34m'cell_type'\u001b[0m\u001b[0;34m]\u001b[0m \u001b[0;34m=\u001b[0m \u001b[0mlist\u001b[0m\u001b[0;34m(\u001b[0m\u001b[0madata_labeling_obs\u001b[0m\u001b[0;34m.\u001b[0m\u001b[0mloc\u001b[0m\u001b[0;34m[\u001b[0m\u001b[0madata_labeling\u001b[0m\u001b[0;34m.\u001b[0m\u001b[0mobs_names\u001b[0m\u001b[0;34m,\u001b[0m \u001b[0;34m\"cell_type\"\u001b[0m\u001b[0;34m]\u001b[0m\u001b[0;34m)\u001b[0m\u001b[0;34m\u001b[0m\u001b[0;34m\u001b[0m\u001b[0m\n\u001b[0m",
      "\u001b[0;32m~/opt/anaconda3/envs/dynamo-dev/lib/python3.9/site-packages/pandas/core/indexing.py\u001b[0m in \u001b[0;36m__getitem__\u001b[0;34m(self, key)\u001b[0m\n\u001b[1;32m    923\u001b[0m                 \u001b[0;32mwith\u001b[0m \u001b[0msuppress\u001b[0m\u001b[0;34m(\u001b[0m\u001b[0mKeyError\u001b[0m\u001b[0;34m,\u001b[0m \u001b[0mIndexError\u001b[0m\u001b[0;34m)\u001b[0m\u001b[0;34m:\u001b[0m\u001b[0;34m\u001b[0m\u001b[0;34m\u001b[0m\u001b[0m\n\u001b[1;32m    924\u001b[0m                     \u001b[0;32mreturn\u001b[0m \u001b[0mself\u001b[0m\u001b[0;34m.\u001b[0m\u001b[0mobj\u001b[0m\u001b[0;34m.\u001b[0m\u001b[0m_get_value\u001b[0m\u001b[0;34m(\u001b[0m\u001b[0;34m*\u001b[0m\u001b[0mkey\u001b[0m\u001b[0;34m,\u001b[0m \u001b[0mtakeable\u001b[0m\u001b[0;34m=\u001b[0m\u001b[0mself\u001b[0m\u001b[0;34m.\u001b[0m\u001b[0m_takeable\u001b[0m\u001b[0;34m)\u001b[0m\u001b[0;34m\u001b[0m\u001b[0;34m\u001b[0m\u001b[0m\n\u001b[0;32m--> 925\u001b[0;31m             \u001b[0;32mreturn\u001b[0m \u001b[0mself\u001b[0m\u001b[0;34m.\u001b[0m\u001b[0m_getitem_tuple\u001b[0m\u001b[0;34m(\u001b[0m\u001b[0mkey\u001b[0m\u001b[0;34m)\u001b[0m\u001b[0;34m\u001b[0m\u001b[0;34m\u001b[0m\u001b[0m\n\u001b[0m\u001b[1;32m    926\u001b[0m         \u001b[0;32melse\u001b[0m\u001b[0;34m:\u001b[0m\u001b[0;34m\u001b[0m\u001b[0;34m\u001b[0m\u001b[0m\n\u001b[1;32m    927\u001b[0m             \u001b[0;31m# we by definition only have the 0th axis\u001b[0m\u001b[0;34m\u001b[0m\u001b[0;34m\u001b[0m\u001b[0m\n",
      "\u001b[0;32m~/opt/anaconda3/envs/dynamo-dev/lib/python3.9/site-packages/pandas/core/indexing.py\u001b[0m in \u001b[0;36m_getitem_tuple\u001b[0;34m(self, tup)\u001b[0m\n\u001b[1;32m   1098\u001b[0m     \u001b[0;32mdef\u001b[0m \u001b[0m_getitem_tuple\u001b[0m\u001b[0;34m(\u001b[0m\u001b[0mself\u001b[0m\u001b[0;34m,\u001b[0m \u001b[0mtup\u001b[0m\u001b[0;34m:\u001b[0m \u001b[0mtuple\u001b[0m\u001b[0;34m)\u001b[0m\u001b[0;34m:\u001b[0m\u001b[0;34m\u001b[0m\u001b[0;34m\u001b[0m\u001b[0m\n\u001b[1;32m   1099\u001b[0m         \u001b[0;32mwith\u001b[0m \u001b[0msuppress\u001b[0m\u001b[0;34m(\u001b[0m\u001b[0mIndexingError\u001b[0m\u001b[0;34m)\u001b[0m\u001b[0;34m:\u001b[0m\u001b[0;34m\u001b[0m\u001b[0;34m\u001b[0m\u001b[0m\n\u001b[0;32m-> 1100\u001b[0;31m             \u001b[0;32mreturn\u001b[0m \u001b[0mself\u001b[0m\u001b[0;34m.\u001b[0m\u001b[0m_getitem_lowerdim\u001b[0m\u001b[0;34m(\u001b[0m\u001b[0mtup\u001b[0m\u001b[0;34m)\u001b[0m\u001b[0;34m\u001b[0m\u001b[0;34m\u001b[0m\u001b[0m\n\u001b[0m\u001b[1;32m   1101\u001b[0m \u001b[0;34m\u001b[0m\u001b[0m\n\u001b[1;32m   1102\u001b[0m         \u001b[0;31m# no multi-index, so validate all of the indexers\u001b[0m\u001b[0;34m\u001b[0m\u001b[0;34m\u001b[0m\u001b[0m\n",
      "\u001b[0;32m~/opt/anaconda3/envs/dynamo-dev/lib/python3.9/site-packages/pandas/core/indexing.py\u001b[0m in \u001b[0;36m_getitem_lowerdim\u001b[0;34m(self, tup)\u001b[0m\n\u001b[1;32m    860\u001b[0m                     \u001b[0;32mreturn\u001b[0m \u001b[0msection\u001b[0m\u001b[0;34m\u001b[0m\u001b[0;34m\u001b[0m\u001b[0m\n\u001b[1;32m    861\u001b[0m                 \u001b[0;31m# This is an elided recursive call to iloc/loc\u001b[0m\u001b[0;34m\u001b[0m\u001b[0;34m\u001b[0m\u001b[0m\n\u001b[0;32m--> 862\u001b[0;31m                 \u001b[0;32mreturn\u001b[0m \u001b[0mgetattr\u001b[0m\u001b[0;34m(\u001b[0m\u001b[0msection\u001b[0m\u001b[0;34m,\u001b[0m \u001b[0mself\u001b[0m\u001b[0;34m.\u001b[0m\u001b[0mname\u001b[0m\u001b[0;34m)\u001b[0m\u001b[0;34m[\u001b[0m\u001b[0mnew_key\u001b[0m\u001b[0;34m]\u001b[0m\u001b[0;34m\u001b[0m\u001b[0;34m\u001b[0m\u001b[0m\n\u001b[0m\u001b[1;32m    863\u001b[0m \u001b[0;34m\u001b[0m\u001b[0m\n\u001b[1;32m    864\u001b[0m         \u001b[0;32mraise\u001b[0m \u001b[0mIndexingError\u001b[0m\u001b[0;34m(\u001b[0m\u001b[0;34m\"not applicable\"\u001b[0m\u001b[0;34m)\u001b[0m\u001b[0;34m\u001b[0m\u001b[0;34m\u001b[0m\u001b[0m\n",
      "\u001b[0;32m~/opt/anaconda3/envs/dynamo-dev/lib/python3.9/site-packages/pandas/core/indexing.py\u001b[0m in \u001b[0;36m__getitem__\u001b[0;34m(self, key)\u001b[0m\n\u001b[1;32m    929\u001b[0m \u001b[0;34m\u001b[0m\u001b[0m\n\u001b[1;32m    930\u001b[0m             \u001b[0mmaybe_callable\u001b[0m \u001b[0;34m=\u001b[0m \u001b[0mcom\u001b[0m\u001b[0;34m.\u001b[0m\u001b[0mapply_if_callable\u001b[0m\u001b[0;34m(\u001b[0m\u001b[0mkey\u001b[0m\u001b[0;34m,\u001b[0m \u001b[0mself\u001b[0m\u001b[0;34m.\u001b[0m\u001b[0mobj\u001b[0m\u001b[0;34m)\u001b[0m\u001b[0;34m\u001b[0m\u001b[0;34m\u001b[0m\u001b[0m\n\u001b[0;32m--> 931\u001b[0;31m             \u001b[0;32mreturn\u001b[0m \u001b[0mself\u001b[0m\u001b[0;34m.\u001b[0m\u001b[0m_getitem_axis\u001b[0m\u001b[0;34m(\u001b[0m\u001b[0mmaybe_callable\u001b[0m\u001b[0;34m,\u001b[0m \u001b[0maxis\u001b[0m\u001b[0;34m=\u001b[0m\u001b[0maxis\u001b[0m\u001b[0;34m)\u001b[0m\u001b[0;34m\u001b[0m\u001b[0;34m\u001b[0m\u001b[0m\n\u001b[0m\u001b[1;32m    932\u001b[0m \u001b[0;34m\u001b[0m\u001b[0m\n\u001b[1;32m    933\u001b[0m     \u001b[0;32mdef\u001b[0m \u001b[0m_is_scalar_access\u001b[0m\u001b[0;34m(\u001b[0m\u001b[0mself\u001b[0m\u001b[0;34m,\u001b[0m \u001b[0mkey\u001b[0m\u001b[0;34m:\u001b[0m \u001b[0mtuple\u001b[0m\u001b[0;34m)\u001b[0m\u001b[0;34m:\u001b[0m\u001b[0;34m\u001b[0m\u001b[0;34m\u001b[0m\u001b[0m\n",
      "\u001b[0;32m~/opt/anaconda3/envs/dynamo-dev/lib/python3.9/site-packages/pandas/core/indexing.py\u001b[0m in \u001b[0;36m_getitem_axis\u001b[0;34m(self, key, axis)\u001b[0m\n\u001b[1;32m   1151\u001b[0m                     \u001b[0;32mraise\u001b[0m \u001b[0mValueError\u001b[0m\u001b[0;34m(\u001b[0m\u001b[0;34m\"Cannot index with multidimensional key\"\u001b[0m\u001b[0;34m)\u001b[0m\u001b[0;34m\u001b[0m\u001b[0;34m\u001b[0m\u001b[0m\n\u001b[1;32m   1152\u001b[0m \u001b[0;34m\u001b[0m\u001b[0m\n\u001b[0;32m-> 1153\u001b[0;31m                 \u001b[0;32mreturn\u001b[0m \u001b[0mself\u001b[0m\u001b[0;34m.\u001b[0m\u001b[0m_getitem_iterable\u001b[0m\u001b[0;34m(\u001b[0m\u001b[0mkey\u001b[0m\u001b[0;34m,\u001b[0m \u001b[0maxis\u001b[0m\u001b[0;34m=\u001b[0m\u001b[0maxis\u001b[0m\u001b[0;34m)\u001b[0m\u001b[0;34m\u001b[0m\u001b[0;34m\u001b[0m\u001b[0m\n\u001b[0m\u001b[1;32m   1154\u001b[0m \u001b[0;34m\u001b[0m\u001b[0m\n\u001b[1;32m   1155\u001b[0m             \u001b[0;31m# nested tuple slicing\u001b[0m\u001b[0;34m\u001b[0m\u001b[0;34m\u001b[0m\u001b[0m\n",
      "\u001b[0;32m~/opt/anaconda3/envs/dynamo-dev/lib/python3.9/site-packages/pandas/core/indexing.py\u001b[0m in \u001b[0;36m_getitem_iterable\u001b[0;34m(self, key, axis)\u001b[0m\n\u001b[1;32m   1091\u001b[0m \u001b[0;34m\u001b[0m\u001b[0m\n\u001b[1;32m   1092\u001b[0m         \u001b[0;31m# A collection of keys\u001b[0m\u001b[0;34m\u001b[0m\u001b[0;34m\u001b[0m\u001b[0m\n\u001b[0;32m-> 1093\u001b[0;31m         \u001b[0mkeyarr\u001b[0m\u001b[0;34m,\u001b[0m \u001b[0mindexer\u001b[0m \u001b[0;34m=\u001b[0m \u001b[0mself\u001b[0m\u001b[0;34m.\u001b[0m\u001b[0m_get_listlike_indexer\u001b[0m\u001b[0;34m(\u001b[0m\u001b[0mkey\u001b[0m\u001b[0;34m,\u001b[0m \u001b[0maxis\u001b[0m\u001b[0;34m)\u001b[0m\u001b[0;34m\u001b[0m\u001b[0;34m\u001b[0m\u001b[0m\n\u001b[0m\u001b[1;32m   1094\u001b[0m         return self.obj._reindex_with_indexers(\n\u001b[1;32m   1095\u001b[0m             \u001b[0;34m{\u001b[0m\u001b[0maxis\u001b[0m\u001b[0;34m:\u001b[0m \u001b[0;34m[\u001b[0m\u001b[0mkeyarr\u001b[0m\u001b[0;34m,\u001b[0m \u001b[0mindexer\u001b[0m\u001b[0;34m]\u001b[0m\u001b[0;34m}\u001b[0m\u001b[0;34m,\u001b[0m \u001b[0mcopy\u001b[0m\u001b[0;34m=\u001b[0m\u001b[0;32mTrue\u001b[0m\u001b[0;34m,\u001b[0m \u001b[0mallow_dups\u001b[0m\u001b[0;34m=\u001b[0m\u001b[0;32mTrue\u001b[0m\u001b[0;34m\u001b[0m\u001b[0;34m\u001b[0m\u001b[0m\n",
      "\u001b[0;32m~/opt/anaconda3/envs/dynamo-dev/lib/python3.9/site-packages/pandas/core/indexing.py\u001b[0m in \u001b[0;36m_get_listlike_indexer\u001b[0;34m(self, key, axis)\u001b[0m\n\u001b[1;32m   1312\u001b[0m             \u001b[0mkeyarr\u001b[0m\u001b[0;34m,\u001b[0m \u001b[0mindexer\u001b[0m\u001b[0;34m,\u001b[0m \u001b[0mnew_indexer\u001b[0m \u001b[0;34m=\u001b[0m \u001b[0max\u001b[0m\u001b[0;34m.\u001b[0m\u001b[0m_reindex_non_unique\u001b[0m\u001b[0;34m(\u001b[0m\u001b[0mkeyarr\u001b[0m\u001b[0;34m)\u001b[0m\u001b[0;34m\u001b[0m\u001b[0;34m\u001b[0m\u001b[0m\n\u001b[1;32m   1313\u001b[0m \u001b[0;34m\u001b[0m\u001b[0m\n\u001b[0;32m-> 1314\u001b[0;31m         \u001b[0mself\u001b[0m\u001b[0;34m.\u001b[0m\u001b[0m_validate_read_indexer\u001b[0m\u001b[0;34m(\u001b[0m\u001b[0mkeyarr\u001b[0m\u001b[0;34m,\u001b[0m \u001b[0mindexer\u001b[0m\u001b[0;34m,\u001b[0m \u001b[0maxis\u001b[0m\u001b[0;34m)\u001b[0m\u001b[0;34m\u001b[0m\u001b[0;34m\u001b[0m\u001b[0m\n\u001b[0m\u001b[1;32m   1315\u001b[0m \u001b[0;34m\u001b[0m\u001b[0m\n\u001b[1;32m   1316\u001b[0m         if needs_i8_conversion(ax.dtype) or isinstance(\n",
      "\u001b[0;32m~/opt/anaconda3/envs/dynamo-dev/lib/python3.9/site-packages/pandas/core/indexing.py\u001b[0m in \u001b[0;36m_validate_read_indexer\u001b[0;34m(self, key, indexer, axis)\u001b[0m\n\u001b[1;32m   1375\u001b[0m \u001b[0;34m\u001b[0m\u001b[0m\n\u001b[1;32m   1376\u001b[0m             \u001b[0mnot_found\u001b[0m \u001b[0;34m=\u001b[0m \u001b[0mlist\u001b[0m\u001b[0;34m(\u001b[0m\u001b[0mensure_index\u001b[0m\u001b[0;34m(\u001b[0m\u001b[0mkey\u001b[0m\u001b[0;34m)\u001b[0m\u001b[0;34m[\u001b[0m\u001b[0mmissing_mask\u001b[0m\u001b[0;34m.\u001b[0m\u001b[0mnonzero\u001b[0m\u001b[0;34m(\u001b[0m\u001b[0;34m)\u001b[0m\u001b[0;34m[\u001b[0m\u001b[0;36m0\u001b[0m\u001b[0;34m]\u001b[0m\u001b[0;34m]\u001b[0m\u001b[0;34m.\u001b[0m\u001b[0munique\u001b[0m\u001b[0;34m(\u001b[0m\u001b[0;34m)\u001b[0m\u001b[0;34m)\u001b[0m\u001b[0;34m\u001b[0m\u001b[0;34m\u001b[0m\u001b[0m\n\u001b[0;32m-> 1377\u001b[0;31m             \u001b[0;32mraise\u001b[0m \u001b[0mKeyError\u001b[0m\u001b[0;34m(\u001b[0m\u001b[0;34mf\"{not_found} not in index\"\u001b[0m\u001b[0;34m)\u001b[0m\u001b[0;34m\u001b[0m\u001b[0;34m\u001b[0m\u001b[0m\n\u001b[0m\u001b[1;32m   1378\u001b[0m \u001b[0;34m\u001b[0m\u001b[0m\n\u001b[1;32m   1379\u001b[0m \u001b[0;34m\u001b[0m\u001b[0m\n",
      "\u001b[0;31mKeyError\u001b[0m: \"['GCCAAAATCTTA-JL12_0', 'GGCCATTCAATG-JL12_0', 'GGCCTTTATTTC-JL12_0', 'GGCGCCAATCCA-JL12_0', 'GGCGGCGCCAGA-JL12_0', 'GGCGGGTCGGGA-JL12_0', 'GGGCAAGCACAC-JL12_0', 'GGGCACCGGACT-JL12_0', 'GGGCATGTTTTT-JL12_0', 'GGGCCGTAAGAG-JL12_0', 'GGGCTAGAGAGG-JL12_0', 'GGGGCGACTCAT-JL12_0', 'GGGGCGTAAGAG-JL12_0', 'GGGGGGGTTCCC-JL12_0', 'GGGGGTGCGCCG-JL12_0', 'GGGTACTTCGGG-JL12_0', 'GGGTGCTCTACA-JL12_0', 'GGGTGGGTTCCC-JL12_0', 'GGGTGGTCCCGG-JL12_0', 'GGTATCGCCAAC-JL12_0', 'GGTCTAGCCGGA-JL12_0', 'GGTGACGACAAA-JL12_0', 'GGTGATTTGGTT-JL12_0', 'GGTGCCGACTGG-JL12_0', 'GGTGTAATCTCT-JL12_0', 'GGTTCGGATTCA-JL12_0', 'GGAGAAGCACAC-JL_10', 'GGAGCTGCTTCG-JL_10', 'GGCATATCATAG-JL_10', 'GGCGACGTCCTC-JL_10', 'GGCGAGTGTTGC-JL_10', 'GGGTTTGGTTCG-JL_10'] not in index\""
     ]
    }
   ],
   "source": [
    "adata_labeling.obs['cell_type'] = list(adata_labeling_obs.loc[adata_labeling.obs_names, \"cell_type\"])"
   ]
  },
  {
   "cell_type": "code",
   "execution_count": null,
   "id": "98e65526-cdff-4053-bcb0-088a9720ee61",
   "metadata": {},
   "outputs": [],
   "source": [
    "adata_labeling.obs['cell_type'].unique()"
   ]
  },
  {
   "cell_type": "code",
   "execution_count": null,
   "id": "8654e7e0-38c7-46e7-9531-f5687aaea551",
   "metadata": {},
   "outputs": [],
   "source": [
    "adata_labeling.obs['cell_type'] = adata_labeling.obs['cell_type'].map({\n",
    "    \"GMP\": \"GMP-like\",\n",
    "    \"MPP\": \"MEP-like\",\n",
    "    'Mon': \"Mon\", \n",
    "    'Meg': \"Meg\", \n",
    "    'Ery': \"Ery\", \n",
    "    'Bas': \"Bas\", \n",
    "    'HSC': \"HSC\", \n",
    "    'Neu': \"Neu\"\n",
    "})\n",
    "\n",
    "adata_labeling.obs['cell_type'].value_counts()"
   ]
  },
  {
   "cell_type": "code",
   "execution_count": null,
   "id": "b881279d-ebe1-4ca1-883c-d2a9e18b345d",
   "metadata": {},
   "outputs": [],
   "source": [
    "adata_labeling"
   ]
  },
  {
   "cell_type": "code",
   "execution_count": null,
   "id": "ab1014cf-a213-4ac7-ab55-b76c3dffebea",
   "metadata": {},
   "outputs": [],
   "source": [
    "dyn.pp.recipe_monocle(adata_labeling,\n",
    "                      tkey='time',\n",
    "                      experiment_type='one-shot',\n",
    "                      genes_to_use=union_genes,\n",
    "                      n_top_genes=len(union_genes), \n",
    "                      maintain_n_top_genes=True\n",
    "                     )\n",
    "adata_labeling.var.use_for_pca.sum()"
   ]
  },
  {
   "cell_type": "code",
   "execution_count": null,
   "id": "d9eaa023-1e64-46c2-bc7c-79f1584ca960",
   "metadata": {},
   "outputs": [],
   "source": [
    "list(set(Krumsiek_11 + network_inference_genes).difference(adata_labeling.var_names[adata_labeling.var.use_for_pca]))"
   ]
  },
  {
   "cell_type": "code",
   "execution_count": null,
   "id": "56f092c6-3283-4bf6-8df3-56f8f32033b1",
   "metadata": {},
   "outputs": [],
   "source": [
    "list(set(Krumsiek_11 + network_inference_genes).intersection(adata_labeling.var_names[adata_labeling.var.use_for_pca]))"
   ]
  },
  {
   "cell_type": "code",
   "execution_count": null,
   "id": "d52a7953-e428-42b3-a0c7-7611718e1896",
   "metadata": {},
   "outputs": [],
   "source": [
    "dyn.tl.moments(adata_labeling, group='time')\n",
    "M_s = adata_labeling.layers['M_s'].copy()\n",
    "M_u = adata_labeling.layers['M_u'].copy()\n",
    "\n",
    "# here delete the splicing data\n",
    "adata_full = adata_labeling.copy()\n",
    "layers_keys = adata_labeling.layers.keys()\n",
    "for i in ['spliced', 'unspliced', 'X_spliced', 'X_unspliced',  'M_u', 'M_uu', 'M_s', 'M_us', 'M_t', 'M_tt', 'M_n', 'M_tn', 'M_ss', 'M_nn']:\n",
    "    if i in layers_keys: del adata_labeling.layers[i]\n",
    "adata_labeling.uns['pp']\n",
    "adata_labeling.uns['pp']['has_splicing'] = False\n",
    "\n",
    "dyn.tl.dynamics(adata_labeling, group='time', one_shot_method='sci_fate', model='deterministic')\n",
    "dyn.tl.reduceDimension(adata_labeling)\n",
    "dyn.tl.leiden(adata_labeling)\n",
    "dyn.tl.cell_velocities(adata_labeling,\n",
    "                       enforce=True,\n",
    "                       method='cosine',\n",
    "                       )\n",
    "\n",
    "dyn.pl.streamline_plot(\n",
    "    adata_labeling,\n",
    "    color=['batch'], #+ list(adata_dyn.var_names.intersection(chen_paper_genes)),\n",
    "    ncols=4,\n",
    "    basis='umap',\n",
    ")"
   ]
  },
  {
   "cell_type": "code",
   "execution_count": null,
   "id": "deee366f-1b6a-4da1-9221-271585bd97f7",
   "metadata": {},
   "outputs": [],
   "source": [
    "adata_labeling.uns['pp']"
   ]
  },
  {
   "cell_type": "code",
   "execution_count": null,
   "id": "9b8d5b6b-19db-44b2-ad27-39f099b67e28",
   "metadata": {},
   "outputs": [],
   "source": [
    "adata_labeling.obs.time.unique()"
   ]
  },
  {
   "cell_type": "code",
   "execution_count": null,
   "id": "d3bd2a0f-0b2c-4785-a836-8cd117bd6a70",
   "metadata": {},
   "outputs": [],
   "source": [
    "#############################################\n",
    "# alpha = new / (1 - e^{-rt}) * r\n",
    "#############################################\n",
    "new = adata_labeling[:, adata_labeling.var.use_for_pca].layers['M_n']\n",
    "gamma = adata_labeling[:, adata_labeling.var.use_for_pca].var.gamma\n",
    "time_3_gamma = adata_labeling[:, adata_labeling.var.use_for_pca].var.time_3_gamma.astype(float)\n",
    "time_5_gamma = adata_labeling[:, adata_labeling.var.use_for_pca].var.time_5_gamma.astype(float)\n",
    "\n",
    "t = adata_labeling.obs.time.astype(float)\n",
    "M_s = M_s[:, adata_labeling.var.use_for_pca]\n",
    "\n",
    "time_3_cells = adata_labeling.obs.time == 3\n",
    "time_5_cells = adata_labeling.obs.time == 5\n",
    "\n",
    "def alpha_minus_gamma_s(new, gamma, t, M_s):\n",
    "    alpha = new.A.T / (1 - np.exp(- gamma.values[:, None] * t.values[None, :])) * gamma.values[:, None]\n",
    "    gamma_s = gamma.values[:, None] * M_s.A.T\n",
    "    alpha_minus_gamma_s = alpha - gamma_s\n",
    "\n",
    "    return alpha_minus_gamma_s\n",
    "\n",
    "time_3_tmp = alpha_minus_gamma_s(new[time_3_cells, :], time_3_gamma, t[time_3_cells], M_s[time_3_cells, :])\n",
    "time_5_tmp = alpha_minus_gamma_s(new[time_5_cells, :], time_5_gamma, t[time_5_cells], M_s[time_5_cells, :])\n",
    "\n",
    "tmp = adata_labeling.layers['velocity_N'].copy()\n",
    "\n",
    "valid_tmp = tmp[:, adata_labeling.var.use_for_pca].copy()\n",
    "valid_tmp[time_3_cells, :] = time_3_tmp.T\n",
    "valid_tmp[time_5_cells, :] = time_5_tmp.T\n",
    "tmp[:, adata_labeling.var.use_for_pca] = valid_tmp.copy()\n",
    "\n",
    "adata_labeling.layers['velocity_alpha_minus_gamma_s'] = tmp.copy()\n",
    "\n",
    "dyn.tl.cell_velocities(adata_labeling,\n",
    "                       enforce=True,\n",
    "                       X=adata_labeling.layers['M_t'],\n",
    "                       V=adata_labeling.layers['velocity_alpha_minus_gamma_s'],\n",
    "                       method='cosine',\n",
    "                       )\n",
    "\n",
    "chen_paper_genes = ['PLEK', 'HBB', 'MPO', 'SPIB', 'CD79A', 'DNTT', 'CD34', 'CD164', \"LMO4\", \"S100A8\", \"TGFBI\"]\n",
    "dyn.pl.streamline_plot(\n",
    "    adata_labeling,\n",
    "    color=['batch'] + list(adata_dyn.var_names.intersection(chen_paper_genes)),\n",
    "    ncols=4,\n",
    "    basis='umap',\n",
    ")"
   ]
  },
  {
   "cell_type": "code",
   "execution_count": null,
   "id": "58c729b9-e3b4-4fb5-a916-1fb873125c74",
   "metadata": {},
   "outputs": [],
   "source": [
    "adata_labeling.obsm['X_umap_ori'] = adata_filtered2.obsm['X_umap'].copy()\n",
    "\n",
    "dyn.tl.cell_velocities(adata_labeling,\n",
    "                       # X=adata_labeling.layers['M_t'],\n",
    "                       # V=adata_labeling.layers['alpha_minus_gamma_s'],\n",
    "                       basis='umap_ori',\n",
    "                       method='cosine',\n",
    "                       # enforce=True,\n",
    "                       )\n",
    "\n",
    "dyn.pl.streamline_plot(\n",
    "    adata_labeling,\n",
    "    color=['batch'], #+ list(adata_dyn.var_names.intersection(chen_paper_genes)),\n",
    "    ncols=4,\n",
    "    basis='umap_ori',\n",
    ")"
   ]
  },
  {
   "cell_type": "code",
   "execution_count": null,
   "id": "b3238099-9250-43bb-8442-f9dad2ee69be",
   "metadata": {},
   "outputs": [],
   "source": [
    "# adata_labeling.obsm['X_pca'] = adata_filtered2.obsm['X_pca'].copy()\n",
    "# dyn.tl.leiden(adata_labeling, obsm_key='X_pca')\n",
    "dynamo_revision_genes = [\"LYZ\", \"PLEK\", \"MPO\", \"LMO4\", \"HBB\", \"cell_type\"]\n",
    "\n",
    "dyn.tl.leiden(adata_labeling, obsm_key='X_umap_ori', result_key='umap_leiden')\n",
    "dyn.pl.streamline_plot(adata_labeling, basis='umap_ori',\n",
    "                       color=['umap_leiden', 'cell_type'] + list(adata_dyn.var_names.intersection(dynamo_revision_genes)))"
   ]
  },
  {
   "cell_type": "code",
   "execution_count": null,
   "id": "add23757-44ba-4940-ad4a-5f2eacd3b0fb",
   "metadata": {},
   "outputs": [],
   "source": [
    "dyn.tl.louvain(adata_labeling, obsm_key='X_umap_ori', result_key='umap_louvain', resolution=0.5)\n",
    "dyn.pl.streamline_plot(adata_labeling, \n",
    "                       basis='umap_ori',\n",
    "                       color=['umap_leiden', 'batch', 'umap_louvain'] + list(adata_dyn.var_names.intersection(dynamo_revision_genes)))"
   ]
  },
  {
   "cell_type": "code",
   "execution_count": null,
   "id": "6529ab71-b970-4a20-a0d3-d7148411284a",
   "metadata": {},
   "outputs": [],
   "source": [
    "dyn.tl.louvain(adata_labeling, obsm_key='X_umap_ori', result_key='umap_louvain', resolution=0.5)\n",
    "dyn.pl.streamline_plot(adata_labeling, basis='umap_ori', color=['batch', 'umap_louvain'])"
   ]
  },
  {
   "cell_type": "code",
   "execution_count": null,
   "id": "e981f01f-7bb1-4530-aff0-7065e8367af7",
   "metadata": {},
   "outputs": [],
   "source": [
    "sum(adata_labeling.obs.umap_louvain == '12')"
   ]
  },
  {
   "cell_type": "code",
   "execution_count": null,
   "id": "d90d0da2-dfbb-428e-853a-d3cbca31ffbf",
   "metadata": {},
   "outputs": [],
   "source": [
    "# adata_labeling.obs['cell_type'] = adata_labeling.obs['umap_louvain'].map({\n",
    "#     \"4\": \"HSC\",\n",
    "#     \"5\": \"HSC\",\n",
    "#     \"12\": \"HSC\",\n",
    "#     \"13\": \"HSC\",\n",
    "#     \"16\": \"HSC\",\n",
    "#     \"10\": \"HSC\",\n",
    "#     \"12\": \"HSC\",\n",
    "    \n",
    "    \n",
    "#     \"10\": \"GMP\",\n",
    "#     \"16\": \"GMP\",\n",
    "    \n",
    "    \n",
    "#     \"3\": 'MPP',\n",
    "#     \"9\": \"MPP\",\n",
    "#     \"14\": \"MPP\",\n",
    "#     \"17\": \"MPP\",\n",
    "    \n",
    "#     \"19\": \"Neu\",\n",
    "    \n",
    "#     \"1\": \"Mon\",\n",
    "#     \"7\": \"Mon\",\n",
    "#     \"8\": \"Mon\",\n",
    "#     \"18\": \"Mon\",\n",
    "\n",
    "#     \"6\": \"Bas\",\n",
    "#     \"15\": \"Bas\",\n",
    "    \n",
    "#     \"2\": \"Ery\",\n",
    "#     \"11\": \"Ery\",\n",
    "\n",
    "#     \"0\": \"Meg\",\n",
    "# })\n",
    "\n",
    "dyn.pl.streamline_plot(adata_labeling, \n",
    "                       basis='umap_ori',\n",
    "                       color=['cell_type', 'umap_louvain'])\n"
   ]
  },
  {
   "cell_type": "markdown",
   "id": "ee2e0642-77c2-4cd2-b92f-2a333af9dd67",
   "metadata": {},
   "source": [
    "# save streamline layers"
   ]
  },
  {
   "cell_type": "code",
   "execution_count": null,
   "id": "7256827c-dd58-4ad8-89a0-d4a097fb3198",
   "metadata": {},
   "outputs": [],
   "source": [
    "\n",
    "dyn.configuration.set_pub_style(scaler=2.5)\n",
    "dyn.pl.streamline_plot(adata_labeling, \n",
    "                       ncols=6,\n",
    "                       figsize=(5, 4),\n",
    "                       color=dynamo_revision_genes,\n",
    "                       basis='umap_ori',\n",
    "                       save_show_or_return='save',\n",
    "                       save_kwargs={\"prefix\": './figure/all_data_labeling_streamline'}\n",
    "                      )"
   ]
  },
  {
   "cell_type": "code",
   "execution_count": null,
   "id": "63325055-54f4-4259-b7d8-2215179cd7e8",
   "metadata": {},
   "outputs": [],
   "source": [
    "adata_labeling"
   ]
  },
  {
   "cell_type": "markdown",
   "id": "728e56aa-31f7-46a2-8d3b-072cf243e2f8",
   "metadata": {},
   "source": [
    "# show the phase plot of the new and total RNA "
   ]
  },
  {
   "cell_type": "code",
   "execution_count": null,
   "id": "00f264ad-7e0b-45ea-8a86-c07fc175f75c",
   "metadata": {},
   "outputs": [],
   "source": [
    "# dyn.convert2float(adata_labeling, ['time_3_gamma', 'time_3_gamma_b'], var=True)"
   ]
  },
  {
   "cell_type": "code",
   "execution_count": null,
   "id": "15efef28-7bba-4b04-ace1-114fd7dfb4cd",
   "metadata": {},
   "outputs": [],
   "source": [
    "adata_labeling.layers['velocity_U'] = adata_labeling.layers['velocity_alpha_minus_gamma_s'].copy()"
   ]
  },
  {
   "cell_type": "code",
   "execution_count": null,
   "id": "dd5a52ec-7552-4543-9919-b2b36ab0e0d5",
   "metadata": {},
   "outputs": [],
   "source": [
    "adata_labeling.var['gamma_k'] = adata_labeling.var['time_3_gamma'].astype(float).copy()\n",
    "adata_labeling.var['gamma_b'] = adata_labeling.var['time_3_gamma_b'].copy()\n",
    "\n",
    "dyn.pl.phase_portraits(adata_labeling,\n",
    "                       basis='umap_ori',\n",
    "                       figsize=(5, 4),\n",
    "                       genes=dynamo_revision_genes + ['PF4', 'LYZ'],\n",
    "                       color='cell_type',\n",
    "                       show_quiver=True, \n",
    "                       no_vel_u=True,\n",
    "                       vkey='U',\n",
    "                       ekey='M_t',\n",
    "                       save_show_or_return='save',\n",
    "                       save_kwargs={\"prefix\": './figure/all_data_labeling_phase_portrait'}\n",
    "                      )"
   ]
  },
  {
   "cell_type": "code",
   "execution_count": null,
   "id": "c1ea2383-3fbd-4354-aaad-8b21a2bc4111",
   "metadata": {},
   "outputs": [],
   "source": [
    "dyn.pl.phase_portraits(adata_labeling,\n",
    "                       basis='umap_ori',\n",
    "                       figsize=(5, 4),\n",
    "                       genes=['PF4', 'LYZ'],\n",
    "                       color='cell_type',\n",
    "                       show_quiver=True, \n",
    "                       no_vel_u=True,\n",
    "                       vkey='U',\n",
    "                       ekey='M_t',\n",
    "                       save_show_or_return='save',\n",
    "                       save_kwargs={\"prefix\": './figure/all_data_labeling_phase_portrait_two_genes'}\n",
    "                      )"
   ]
  },
  {
   "cell_type": "markdown",
   "id": "c7297b80-a2b1-4063-8c59-5926da9270b1",
   "metadata": {},
   "source": [
    "# save all data for downstream vector field analysis, etc. "
   ]
  },
  {
   "cell_type": "code",
   "execution_count": null,
   "id": "92623d53-a4fa-4652-9a0f-7f8763247523",
   "metadata": {},
   "outputs": [],
   "source": [
    "dyn.cleanup(adata_labeling)\n",
    "adata_labeling.write_h5ad('./adata_labeling_all_combined_processed_final.h5ad')"
   ]
  },
  {
   "cell_type": "markdown",
   "id": "3d00ba6f-0fa8-44c2-9554-3e630dda8da2",
   "metadata": {},
   "source": [
    "# plot the heatmap of known HSC related genes "
   ]
  },
  {
   "cell_type": "code",
   "execution_count": null,
   "id": "9e2c7c7a-ec3b-49de-a0df-f612d7c12d72",
   "metadata": {},
   "outputs": [],
   "source": [
    "gene2celltype = pickle.load(open('gene2celltype.p', 'rb'))"
   ]
  },
  {
   "cell_type": "code",
   "execution_count": null,
   "id": "78bb3684-ab72-4245-9b78-c6629761b3ce",
   "metadata": {},
   "outputs": [],
   "source": [
    "adata_labeling.var_names.intersection(gene2celltype.keys())"
   ]
  },
  {
   "cell_type": "code",
   "execution_count": null,
   "id": "b9a4c386-040d-4b81-960a-94ba9f14a74c",
   "metadata": {},
   "outputs": [],
   "source": [
    "dynamo_revision_genes"
   ]
  },
  {
   "cell_type": "code",
   "execution_count": null,
   "id": "963d6fe2-44d7-4945-bdac-06316ddcbb45",
   "metadata": {},
   "outputs": [],
   "source": [
    "sc.pl.heatmap(adata_labeling, \n",
    "              adata_labeling.var_names.intersection(gene2celltype.keys()), \n",
    "              groupby='cell_type', \n",
    "              show_gene_labels=True, \n",
    "              layer='M_t',\n",
    "              swap_axes=True)"
   ]
  },
  {
   "cell_type": "code",
   "execution_count": null,
   "id": "5774dd92-37de-46ca-856d-265ccc934899",
   "metadata": {},
   "outputs": [],
   "source": [
    "sc.pl.heatmap(adata_labeling, \n",
    "              adata_labeling.var_names.intersection(gene2celltype.keys()), \n",
    "              groupby='cell_type', \n",
    "              show_gene_labels=True, \n",
    "              layer='M_n',\n",
    "              swap_axes=True)"
   ]
  },
  {
   "cell_type": "code",
   "execution_count": null,
   "id": "bac18131-d3e3-4385-88d5-b9bb23a6f819",
   "metadata": {},
   "outputs": [],
   "source": [
    "sc.tl.rank_genes_groups(adata_labeling, 'cell_type', method='t-test', layer='M_n', use_raw=False)\n",
    "sc.set_figure_params(dpi=150)\n",
    "sc.pl.rank_genes_groups(adata_labeling, n_genes=25, sharey=False)\n"
   ]
  },
  {
   "cell_type": "code",
   "execution_count": null,
   "id": "b00cf08a-6272-483f-b378-e68c5d1e6f57",
   "metadata": {},
   "outputs": [],
   "source": [
    "example_genes = [\"CSF2RB\", \"HDC\", \n",
    "                \"MINPP1\", \"XACT\", \"TFRC\",\n",
    "                \"NKTR\",\n",
    "                \"HMGB1\", \"HMGB1P5\",\n",
    "                \"MTATP6P1\",\n",
    "                \"SOS1\", \"RRN3\", \"PRKAR2B\",\n",
    "                \"MT-CO3\", \"GSTP1\",\n",
    "                \"AC011825.3\"]\n",
    "\n",
    "dyn.pl.streamline_plot(adata_labeling, \n",
    "                       basis='umap_ori', \n",
    "                       color=example_genes)"
   ]
  },
  {
   "cell_type": "code",
   "execution_count": null,
   "id": "902be5c9-101a-4fbf-bd3a-02eab52073fd",
   "metadata": {},
   "outputs": [],
   "source": [
    "sc.tl.rank_genes_groups(adata_labeling, 'cell_type', method='t-test', layer='M_t', use_raw=False)\n",
    "sc.set_figure_params(dpi=150)\n",
    "sc.pl.rank_genes_groups(adata_labeling, n_genes=25, sharey=False)\n"
   ]
  },
  {
   "cell_type": "code",
   "execution_count": null,
   "id": "4b12919a-53b0-4eb5-ad9b-feef8d039842",
   "metadata": {},
   "outputs": [],
   "source": [
    "gene_list = sc.get.rank_genes_groups_df(adata_labeling, group=\"Bas\").head(100)['names'].to_list()\n",
    "valid_gene_list = list(np.array(gene_list)[~ np.array([True if i.startswith(\"MT\") else False for i in gene_list])])\n",
    "valid_gene_list = list(gene_list)\n",
    "\n",
    "res = dyn.ext.enrichr(valid_gene_list, organism='human')\n",
    "\n",
    "res.res2d.head(20)"
   ]
  },
  {
   "cell_type": "code",
   "execution_count": null,
   "id": "71f426e2-cdec-4867-a770-1e9d75f02454",
   "metadata": {},
   "outputs": [],
   "source": [
    "example_genes = [\"CSF2RB\", \"HDC\", \n",
    "                \"FBXO7\", \"EIF5A\", \"MINPP1\",\n",
    "                \"EEF1A1P5\", \"RPS3\", \"PABPC1\",\n",
    "                \"RPL41\",\n",
    "                \"NCL\",\n",
    "                \"SOS1\", \"PDLIM1\",\n",
    "                \"SMIM24\", \"GSTP1\",\n",
    "                \"OR5G5P\", \"INO80D\", \"AC002101.1\"]\n",
    "\n",
    "dyn.pl.streamline_plot(adata_labeling, \n",
    "                       basis='umap_ori', \n",
    "                       color=example_genes)"
   ]
  },
  {
   "cell_type": "markdown",
   "id": "143c356e-a4af-459b-8579-49c3313d03ee",
   "metadata": {},
   "source": [
    "# differential geometry, etc below: "
   ]
  },
  {
   "cell_type": "code",
   "execution_count": null,
   "id": "b7c6af41-aba0-4c5c-90f2-7fe3c35e31ab",
   "metadata": {},
   "outputs": [],
   "source": [
    "adata_labeling, adata_filtered2"
   ]
  },
  {
   "cell_type": "code",
   "execution_count": null,
   "id": "2cd4a32f-fe33-4e15-a81d-f50228c469b2",
   "metadata": {},
   "outputs": [],
   "source": [
    "# adata_labeling.obsm['X_pca'] = adata_filtered2.obsm['X_pca'].copy()\n",
    "# adata_labeling.uns['pca'] = adata_filtered2.uns['pca'].copy()\n",
    "# adata_labeling.varm['PCs'] = adata_filtered2.varm['PCs'].copy()\n",
    "dyn.tl.cell_velocities(adata_labeling,\n",
    "                       X=adata_labeling.layers['M_t'],\n",
    "                       V=adata_labeling.layers['velocity_alpha_minus_gamma_s'],\n",
    "                       basis='pca',\n",
    "                       method='cosine',\n",
    "                       enforce=True,\n",
    "                       )"
   ]
  },
  {
   "cell_type": "code",
   "execution_count": null,
   "id": "87c343e9-4f45-41fb-8e93-66df69fd27ff",
   "metadata": {},
   "outputs": [],
   "source": [
    "adata_labeling"
   ]
  },
  {
   "cell_type": "code",
   "execution_count": null,
   "id": "63163d41-f463-488e-911d-b64518f46eee",
   "metadata": {},
   "outputs": [],
   "source": [
    "adata_filtered2.varm['PCs'].shape, adata_filtered2.uns['pca'], adata_filtered2.obsm['X_pca'].shape"
   ]
  },
  {
   "cell_type": "code",
   "execution_count": null,
   "id": "5549ae73-e3f9-48af-80d3-16837decd000",
   "metadata": {},
   "outputs": [],
   "source": [
    "dyn.vf.VectorField(adata_labeling, basis='pca', M=1000)\n",
    "dyn.ext.ddhodge(adata_labeling, basis='pca')"
   ]
  },
  {
   "cell_type": "code",
   "execution_count": null,
   "id": "eafcd38a-03da-4957-b58f-6898fce75eb7",
   "metadata": {},
   "outputs": [],
   "source": [
    "adata_labeling"
   ]
  },
  {
   "cell_type": "code",
   "execution_count": null,
   "id": "cf87c811-7ed6-4ecb-bec9-cecb017e7567",
   "metadata": {},
   "outputs": [],
   "source": [
    "dyn.pl.streamline_plot(adata_labeling, basis='umap_ori', color='pca_ddhodge_potential')"
   ]
  },
  {
   "cell_type": "code",
   "execution_count": null,
   "id": "6c9cc555-57f2-4571-ad01-9e165ba54ced",
   "metadata": {},
   "outputs": [],
   "source": [
    "dyn.vf.VectorField(adata_labeling, basis='umap_ori', map_topography=True, M=1000, pot_curl_div=True)"
   ]
  },
  {
   "cell_type": "code",
   "execution_count": null,
   "id": "3d7ec445-0c7b-4d38-a4be-5df9577da01c",
   "metadata": {},
   "outputs": [],
   "source": [
    "adata_labeling"
   ]
  },
  {
   "cell_type": "code",
   "execution_count": null,
   "id": "10fa9a4a-b636-4f34-852c-57fc632501e7",
   "metadata": {},
   "outputs": [],
   "source": [
    "dyn.pl.topography(adata_labeling, basis='umap_ori', fps_basis='umap_ori', color=['pca_ddhodge_potential', 'umap_ori_ddhodge_potential'])"
   ]
  },
  {
   "cell_type": "code",
   "execution_count": null,
   "id": "a3f096d8-f936-4dcf-918e-d801151c4986",
   "metadata": {},
   "outputs": [],
   "source": [
    "dyn.vf.rank_velocity_genes(adata_labeling, \n",
    "                           groups='cell_type', \n",
    "                           vkey='velocity_alpha_minus_gamma_s')"
   ]
  },
  {
   "cell_type": "code",
   "execution_count": null,
   "id": "3c548e03-95bd-46fe-ac3f-843a337816a5",
   "metadata": {},
   "outputs": [],
   "source": [
    "dyn.vf.VectorField(adata_labeling, basis='pca', M=600)\n",
    "dyn.pl.streamline_plot(adata_labeling, basis='pca', color='cell_type')"
   ]
  },
  {
   "cell_type": "code",
   "execution_count": null,
   "id": "d1988dd4-7c38-485f-9278-0575f0e2f6bf",
   "metadata": {},
   "outputs": [],
   "source": [
    "dyn.vf.VectorField(adata_labeling, basis='pca', M=250, lambda_=3, sigma=8)\n",
    "dyn.vf.acceleration(adata_labeling, basis='pca')\n",
    "dyn.vf.rank_acceleration_genes(adata_labeling, groups='cell_type')\n"
   ]
  },
  {
   "cell_type": "code",
   "execution_count": null,
   "id": "e8172a6f-2cee-4844-a28a-1a9dfeb5c78b",
   "metadata": {},
   "outputs": [],
   "source": [
    "dyn.vf.curvature(adata_labeling, basis='pca')\n",
    "dyn.vf.rank_curvature_genes(adata_labeling, groups='cell_type')\n"
   ]
  },
  {
   "cell_type": "code",
   "execution_count": null,
   "id": "015c93dd-1681-4b33-89df-a708cb345c29",
   "metadata": {},
   "outputs": [],
   "source": [
    "import numpy as np\n",
    "\n",
    "dyn.pl.scatters(adata_labeling, \n",
    "                x=np.repeat('umap_ori_ddhodge_potential', len(dynamo_revision_genes[:-1])), \n",
    "                y=dynamo_revision_genes[:-1], \n",
    "                pointsize=0.25, \n",
    "                alpha=0.8, \n",
    "                layer='M_t', \n",
    "                color='cell_type',\n",
    "                ncols=3, \n",
    "                background='white',\n",
    "               )"
   ]
  },
  {
   "cell_type": "code",
   "execution_count": null,
   "id": "9ad86321-1b36-4c44-aa4a-658d297db3bf",
   "metadata": {},
   "outputs": [],
   "source": [
    "dyn.pl.scatters(adata_labeling, \n",
    "                x=np.repeat('umap_ori_ddhodge_potential', len(dynamo_revision_genes[:-1])), \n",
    "                y=dynamo_revision_genes[:-1], \n",
    "                pointsize=0.25, \n",
    "                alpha=0.8, \n",
    "                layer='M_n', \n",
    "                color='cell_type',\n",
    "                ncols=3, \n",
    "                background='white',\n",
    "               )"
   ]
  },
  {
   "cell_type": "code",
   "execution_count": null,
   "id": "5cc0d193-fa4e-4272-a0a9-40169fa6bc2c",
   "metadata": {},
   "outputs": [],
   "source": [
    "dyn.pl.scatters(adata_labeling, \n",
    "                x=np.repeat('umap_ori_ddhodge_potential', len(dynamo_revision_genes[:-1])), \n",
    "                y=dynamo_revision_genes[:-1], \n",
    "                pointsize=0.25, \n",
    "                alpha=0.8, \n",
    "                layer='velocity_alpha_minus_gamma_s', \n",
    "                color='cell_type',\n",
    "                ncols=3, \n",
    "                background='white',\n",
    "               )"
   ]
  },
  {
   "cell_type": "code",
   "execution_count": null,
   "id": "592c9cea-6f21-4323-80bc-d5e215e1e085",
   "metadata": {},
   "outputs": [],
   "source": [
    "dyn.pl.scatters(adata_labeling, \n",
    "                x=np.repeat('umap_ori_ddhodge_potential', len(dynamo_revision_genes[:-1])), \n",
    "                y=dynamo_revision_genes[:-1], \n",
    "                pointsize=0.25, \n",
    "                alpha=0.8, \n",
    "                layer='acceleration', \n",
    "                color='cell_type',\n",
    "                ncols=3, \n",
    "                background='white',\n",
    "               )"
   ]
  },
  {
   "cell_type": "code",
   "execution_count": null,
   "id": "18694da5-9a5f-47b9-92b8-826a57c982f9",
   "metadata": {},
   "outputs": [],
   "source": [
    "Krumsiek_11 = [\"GATA2\", \"GATA1\", \"ZFPM1\", \"SPI1\", \"FLI1\", \"KLF1\", \"TAL1\", \"CEBPA\", \"GFI1\", \"JUN\", \"NAB2\"]\n",
    "# adata.var_names[adata.var.use]\n",
    "dyn.pl.scatters(adata_labeling,\n",
    "                x=np.repeat('umap_ori_ddhodge_potential', len(Krumsiek_11)),\n",
    "                y=Krumsiek_11,\n",
    "                pointsize=0.25,\n",
    "                alpha=0.8,\n",
    "                layer='acceleration',\n",
    "                color='cell_type',\n",
    "                ncols=len(Krumsiek_11),\n",
    "                background='white',\n",
    "               )"
   ]
  },
  {
   "cell_type": "code",
   "execution_count": null,
   "id": "9895a2b1-0735-42ed-93c4-bf1b9d0185f2",
   "metadata": {},
   "outputs": [],
   "source": [
    "mt_gene_mask = [gene.startswith('MT-') for gene in adata_labeling.var_names]\n",
    "adata_labeling.obs['n_counts'] = adata_labeling.layers['total'].sum(1) \n",
    "adata_labeling.obs['mt_frac'] = adata_labeling[:, mt_gene_mask].layers['total'].sum(1) \n",
    "adata_labeling.obs['mt_frac'] /= adata_labeling.obs['n_counts']"
   ]
  },
  {
   "cell_type": "code",
   "execution_count": null,
   "id": "aebba67b-deb8-4a26-b271-b056146b3e11",
   "metadata": {},
   "outputs": [],
   "source": [
    "dyn.pl.streamline_plot(\n",
    "    adata_labeling,\n",
    "    color=['mt_frac', 'cell_cycle_phase', 'GATA1'],\n",
    "    show_legend='best', \n",
    "    basis='umap_ori',\n",
    "    s_kwargs_dict= {\"alpha\": 0.4}\n",
    ")"
   ]
  },
  {
   "cell_type": "code",
   "execution_count": null,
   "id": "4ce21a0a-a36f-46ea-ab75-fcd84aff794d",
   "metadata": {},
   "outputs": [],
   "source": [
    "dyn.pl.streamline_plot(adata_labeling, basis='umap_ori', color=['PIM1', 'HDC', 'CSF2RB', 'LIF', \"Z84723.1\"])\n",
    "\n",
    "# basophil markers"
   ]
  },
  {
   "cell_type": "code",
   "execution_count": null,
   "id": "36f7ef19-beac-4d32-8f59-e498cc61fd28",
   "metadata": {},
   "outputs": [],
   "source": [
    "dyn.pl.streamline_plot(adata_labeling, basis='umap_ori', color=[\"FLI1\", \"KLF1\"])"
   ]
  },
  {
   "cell_type": "code",
   "execution_count": null,
   "id": "ce30f09c-3285-4e48-b2a5-6e82cf671515",
   "metadata": {},
   "outputs": [],
   "source": [
    "dyn.pl.streamline_plot(\n",
    "    adata_labeling, \n",
    "    basis='umap_ori', \n",
    "    color=[\"DHFR\", \"CDK6\", \"CCNH\", \"MYC\", \"CUL2\"],\n",
    "    show_legend='best', \n",
    "    s_kwargs_dict= {\"alpha\": 0.4},\n",
    "    ncols=5\n",
    ")"
   ]
  },
  {
   "cell_type": "code",
   "execution_count": null,
   "id": "73d6acb2-d713-4651-afeb-b5644a3c1363",
   "metadata": {},
   "outputs": [],
   "source": [
    "dyn.pl.streamline_plot(\n",
    "    adata_labeling, \n",
    "    basis='umap_ori',\n",
    "    color=[\"DHFR\", \"CDK6\", \"CCNH\", \"MYC\", \"CUL2\"],\n",
    "    show_legend='best', \n",
    "    s_kwargs_dict= {\"alpha\": 0.4},\n",
    "    ncols=5,\n",
    "    layer='X_new',\n",
    ")"
   ]
  },
  {
   "cell_type": "code",
   "execution_count": null,
   "id": "b997af55-1e9f-47d5-a35e-4c86f00ed456",
   "metadata": {},
   "outputs": [],
   "source": [
    "dyn.pl.streamline_plot(\n",
    "    adata_labeling, \n",
    "    basis='umap_ori',\n",
    "    color=['NR4A3', 'ZBTB16', 'GATA1'],\n",
    "    show_legend='best', \n",
    "    s_kwargs_dict= {\"alpha\": 0.4}\n",
    ")"
   ]
  },
  {
   "cell_type": "code",
   "execution_count": null,
   "id": "9f75a9eb-f1a1-4296-8ebd-ba6cf1e0de7b",
   "metadata": {},
   "outputs": [],
   "source": [
    "dyn.pl.streamline_plot(\n",
    "    adata_labeling, \n",
    "    basis='umap_ori',\n",
    "    color=['PSMD10', 'DSTYK', 'PLK1', 'HIGD1A', 'SQSTM1', 'HSPA1A'],\n",
    "    show_legend='best', \n",
    "    s_kwargs_dict= {\"alpha\": 0.4}\n",
    ")"
   ]
  },
  {
   "cell_type": "code",
   "execution_count": null,
   "id": "daa817b3-d6f8-4f0e-996a-cfcdf3313bcb",
   "metadata": {},
   "outputs": [],
   "source": [
    "dyn.convert2float(adata_labeling, \n",
    "                  columns=['gamma', 'gamma_b', 'gamma_k'], \n",
    "                  var=True)"
   ]
  },
  {
   "cell_type": "code",
   "execution_count": null,
   "id": "6f5102a2-9bbd-4989-8a76-17c6781c32b4",
   "metadata": {},
   "outputs": [],
   "source": [
    "dyn.vf.jacobian(adata_labeling, \n",
    "                regulators=adata_labeling.var_names[adata_labeling.var.use_for_pca], \n",
    "                effectors=adata_labeling.var_names[adata_labeling.var.use_for_pca])\n",
    "J_res = dyn.vf.rank_jacobian_genes(adata_labeling, groups='cell_type')"
   ]
  },
  {
   "cell_type": "code",
   "execution_count": null,
   "id": "34e4c10b-58e5-4fea-9bee-dc666f36ab05",
   "metadata": {},
   "outputs": [],
   "source": [
    "manual_selection = pd.read_csv('./data/hsc_manual_selection.csv')\n",
    "manual_selection.head(5)"
   ]
  },
  {
   "cell_type": "code",
   "execution_count": null,
   "id": "654c27b1-ff3d-4480-b3c3-0d21e8a2ba15",
   "metadata": {},
   "outputs": [],
   "source": [
    "adata_labeling.obs['manual_selection'] = manual_selection.loc[:, 'manual_selection'].values"
   ]
  },
  {
   "cell_type": "code",
   "execution_count": null,
   "id": "009ca4af-7fe2-4c8a-9056-c33532667e9f",
   "metadata": {},
   "outputs": [],
   "source": [
    "dyn.pl.streamline_plot(adata_labeling, color=['cell_type', 'manual_selection'], basis='umap_ori')"
   ]
  },
  {
   "cell_type": "code",
   "execution_count": null,
   "id": "482d4815-c2fb-4203-9aa0-be7a16eb97b6",
   "metadata": {},
   "outputs": [],
   "source": [
    "dyn.vf.rank_jacobian_genes(adata_labeling, mode='switch', groups='manual_selection')"
   ]
  },
  {
   "cell_type": "code",
   "execution_count": null,
   "id": "b241885d-c8aa-4f2b-81fa-ddfe1e0108ad",
   "metadata": {},
   "outputs": [],
   "source": [
    "adata_labeling.uns['switch'].head(10)"
   ]
  },
  {
   "cell_type": "code",
   "execution_count": null,
   "id": "3708d289-2e98-46db-b636-dfc99d1a9add",
   "metadata": {},
   "outputs": [],
   "source": [
    "cur_col = adata_labeling.uns['switch']['Mono_baso_curv'][:20]\n",
    "cur_col"
   ]
  },
  {
   "cell_type": "code",
   "execution_count": null,
   "id": "de7177e0-31ad-4331-84b9-66e8569e162d",
   "metadata": {},
   "outputs": [],
   "source": [
    "gene_pairs = cur_col.str.split(\" - \", expand=True)"
   ]
  },
  {
   "cell_type": "code",
   "execution_count": null,
   "id": "a6719e25-b82d-4036-81e1-8002433ac8ae",
   "metadata": {},
   "outputs": [],
   "source": [
    "def parse_int_df(df, self_int=False, genes=None):\n",
    "    \n",
    "    df_shape, columns = df.shape, df.columns\n",
    "    if columns[1].endswith(\"_values\"):\n",
    "        col_step = 2\n",
    "    else:\n",
    "        col_step = 1\n",
    "    \n",
    "    res = {}\n",
    "    if genes is not None: genes_set = set(genes)\n",
    "    for col in columns[::col_step]:\n",
    "        cur_col = df[col]\n",
    "        gene_pairs = cur_col.str.split(\" - \", expand=True)\n",
    "        \n",
    "        if not self_int: \n",
    "            good_int = gene_pairs[0] != gene_pairs[1]\n",
    "        else:\n",
    "            good_int = np.ones(df_shape[0], dtype=bool)\n",
    "            \n",
    "        if genes is not None: \n",
    "            good_int &= np.logical_and([i in genes_set for i in gene_pairs[0]], [i in genes_set for i in gene_pairs[1]])\n",
    "            \n",
    "        if col_step == 1:\n",
    "            res[col] = cur_col.loc[good_int].values\n",
    "        else:\n",
    "            res[col] = cur_col.loc[good_int].values\n",
    "            res[col + '_values'] = df[col + '_values'].loc[good_int].values  \n",
    "\n",
    "    return pd.DataFrame(res)\n",
    "\n",
    "res = parse_int_df(adata_labeling.uns['switch'])\n",
    "res.head(20)"
   ]
  },
  {
   "cell_type": "code",
   "execution_count": null,
   "id": "ee59b514-c628-42f9-a6d1-b6697d2a5ace",
   "metadata": {},
   "outputs": [],
   "source": [
    "human_tfs = pd.read_csv('/lab/solexa_weissman/xqiu/proj/Aristotle/data/TFs/Homo_sapiens_TF', sep='\\t')\n",
    "human_tfs"
   ]
  },
  {
   "cell_type": "code",
   "execution_count": null,
   "id": "4e6e833f-622a-4980-9e11-3e402e717827",
   "metadata": {},
   "outputs": [],
   "source": [
    "res = parse_int_df(adata_labeling.uns['switch'], genes=human_tfs['Symbol'].values)"
   ]
  },
  {
   "cell_type": "code",
   "execution_count": null,
   "id": "c07ef10f-bbe7-4641-9dd6-cd018c70dbf0",
   "metadata": {},
   "outputs": [],
   "source": [
    "res.head(20)"
   ]
  },
  {
   "cell_type": "code",
   "execution_count": null,
   "id": "590141ba-d40f-47ac-a95d-b49afe6b82c0",
   "metadata": {},
   "outputs": [],
   "source": [
    "# Ery - Meloid: Gata1 - Spi1; \n",
    "# Mega: Fli1 Gata2 ; Ery: Eklf - Klf1\n",
    "# Gran: Gfi1 ; Macro: Nab2 / Egr / Egr2 \n",
    "# B cell: Pax5 ; \n",
    "# T cell: Gata3; B lymphoid: Ebf1\n",
    "# erythroid-myeloid: Gata1-Spi1 SPi1-Tal1 Fosb-E2f8 NFia-Spi1 Hes6-Klf4\n",
    "# Gata3-Spib; Gata3-Aff3; Ebf1-Gata3 \n",
    "\n",
    "#TF from Paul paper: \n",
    "#Cebpe Calr Arid3a Gfi1 Lmo4 Cebpa Pu.1 Cux1 Scand1 Nfkbia Irf8 Id2 Chd3 Cbfa2t3 Etv6 Stat6 Pnrc1 Pbx1 Mef2c Fli1 Elf1 Lmo2 Cited2 Sox4 Runx1 Gata2 Nfe2 Mrb Foxp1 Zfpm1 Hmgb3 Klf1 Gfi1b Tcf3 Pa2g4 Mbd2 Gata1 Phf10 Phb2 Csda E2f4 Cited4 Ccne1  \n",
    "#Target of Cebpa, Irf8, Klf1, Pu.1 from Paul paper: \n",
    "#Cebpa:  Abcb1b, Acot1, C3, Cnpy3, Dhrs7, Dtx4, Edem2, Etfb, Ftl1, Gadd45b, Herpud1, Hp, Il6ra, Lcn2, Lcp1, Lman2, Lrg1, Serpinf1, Snord49b, Tnfrsf1a, Tnfsf14, Trappc1, Trf, Xdh\n",
    "#Irf8: Abcd1, Aif1, BC017643, Cbl, Ccdc109b, Ccl6, d68, d74, dc42se1, Cdca7, Csf3r, Ctss, Cybb, Cyp4f18, Dtx2, Entpd1, Ercc6l, Erp29, Fastkd3, Ftl1, Gda, Grn, H2-M3, Hexa, Hk3, Ide, Il6ra, Irf5, Lamp1, Ly86, Mtm1, Napsa, Ncf1, Osbpl3, Pdlim2, Phgdh, Pld4, Psmb10, Psmb8, Rgs2, Rod1, Snx10, Spop, Tapbp, Tapbpl, Tm6sf1, Trem2, Trem3, Wipf1, Xdh, Zfp296,\n",
    "#Irf8 (2): 1100001G20Rik, 4732418C07Rik, 9230105E10Rik, AI504432, Acox3, Actb, Aif1, Akap13, Ap1s3, Arhgap30, Arid5a, Arsk, Ass1, Bcl9l, Bst2, Ccl5, Ccl6, Ccng2, Cd52, Cd74, Cited2, Ctss, Dapp1, Emp3, Erp29, Ets1, Fgd2, Gpr18, Gramd3, H2-K1, Hist4h4, Hk3, Irf5, Lsp1, Ly86, Ncf4, Parp8, Pdlim2, Pecam1, Psap, Psmb8, Ptpn18, S100a10, Shfm1, Sla, Socs1, Tmem50a, Trove2\n",
    "#Klf1: 2010011I20Rik, 5730469M10Rik, Acsl6, Add2, Ank1, Arhgap23, Blvrb, C330018D20Rik, Ccdc23, Cd24a, Cd82, Ctbp1, Cyth3, Dnajb1, E2f4, Emilin2, Epn1, Fam132a, Fam53b, Gfi1b, Grina, Gypa, Hdgf, Hebp1, Hemgn, Hs6st1, Kel, Klf3, Lmna, Lsm4, Mgst3, Mrpl52, Nudt9, Pla2g16, Ppap2a, Prdx2, Prkab1, Samd14, Sepw1, Snx3, Srxn1, Ucp2, Vamp5, Zcchc6,\n",
    "#Pu.1: 0910001L09Rik, 2310014H01Rik, 4632428N05Rik, Abcd1, Anxa2, Ap3s1, Arid3a, Arpc1b, Arpc2, Bola2, Calm1, Cfl1, Chd7, Cited2, Csf1r, Csf3r, Ctsc, Dnajb11, Dnajc3, Edem1, Emilin1, Eml4, Ero1lb, Fes, Fgd2, G6pc3, Gsr, H13, H47, Hexa, Hspa5, Hyou1, Ifngr2, Igfbp4, Il21r, Irf1, Kdelr2, Krtcap2, Lamp1, Lcp1, Lta4h, Ltb4r1, Man2b1, Manf, Myl12b, Myo1f, Napsa, Ncf2, Ncf4, Pdia3, Pkm2, Pld4, Prtn3, Psmb8, Pstpip1, Ptgs1, Ptpn18, Renbp, Sec61b, Sh2b2, Sirpa, Ssr4, Tkt, Tmbim6, Tmed9, Tnfrsf1a, Tyrobp, Unc93b1, Vav1\n",
    "# 'Nfe2', 'Gata2', 'SCL', 'Gfi1', 'Gfi1b'\n",
    "# known megakaryocytic genes (e.g. Cd9, Lox, Vwf, Nfib,Cd61, Tgfβ1) and a cluster with several red edges comprising \n",
    "# known erythroid genes (e.g. Cd36, Klf1, Lef1, Cnrip1, Tmod1, Ank1, Dhrs3) \n",
    "# # 'Gata1_Zfpm1', 'Gata1_Gfi1b', 'Gfi1b_Gata1', 'Gata1_Tcf3', 'Gata1_Klf1', 'Klf1_Zfpm1'\n",
    "# RBC: GATA1, FOG1, GFI1B, EKLF, \n",
    "# Meg: GATA1, GATA2, FOG1, GFI1B, FLI1, NFE2\n",
    "# MAST: GATA2, GATA1 \n",
    "# Eosinophil: GATA1, CEBPA, CEBPE\n",
    "# B: E2A, EBF, PAX5, BCL11A, EVI9, XBP1\n",
    "# T: IKAROS, PU1, NOTCH, TCF1, GATA3\n",
    "# LT-HSC: RUNX1, SCL, TAL1, LMO2, MII, TEL, BMI1, GFI1, GATA2 "
   ]
  },
  {
   "cell_type": "code",
   "execution_count": null,
   "id": "34470f38-e2d2-4792-8883-816fb8fb3363",
   "metadata": {},
   "outputs": [],
   "source": [
    "columns = res.columns\n",
    "if columns[1].endswith(\"_values\"):\n",
    "    col_step = 2\n",
    "else:\n",
    "    col_step = 1\n",
    "\n",
    "for col in columns[::col_step]:\n",
    "    cur_col = res[col][:5]\n",
    "    gene_pairs = cur_col.str.split(\" - \", expand=True)\n",
    "    \n",
    "    for i, gene in gene_pairs.iterrows(): \n",
    "        dyn.pl.jacobian(adata_labeling, x=gene[0], y=gene[1], layer='M_t', regulators=gene[0], effectors=gene[1])\n",
    "        dyn.pl.scatters(adata_labeling, color=gene, basis='umap_ori')"
   ]
  },
  {
   "cell_type": "code",
   "execution_count": null,
   "id": "0a0ce8ee-504d-4829-b05d-2f897cd9651c",
   "metadata": {},
   "outputs": [],
   "source": [
    "gene[1][0]"
   ]
  },
  {
   "cell_type": "code",
   "execution_count": null,
   "id": "ed505b7a-417f-4522-9fa8-4492f665b15b",
   "metadata": {},
   "outputs": [],
   "source": [
    "np.logical_and([i in set([\"HBB\", \"PLEK\"]) for i in gene_pairs[0]], [i in set([\"HBB\", \"PLEK\"]) for i in gene_pairs[0]]) & np.logical_and([i in set([\"HBB\", \"PLEK\"]) for i in gene_pairs[0]], [i in set([\"HBB\", \"PLEK\"]) for i in gene_pairs[0]])"
   ]
  },
  {
   "cell_type": "code",
   "execution_count": null,
   "id": "8dc0cf55-b34f-4095-80a5-c44c37ff17ae",
   "metadata": {},
   "outputs": [],
   "source": [
    "dyn.vf.rank_curvature_genes(adata_labeling, groups='manual_selection')\n",
    "dyn.vf.rank_divergence_genes(adata_labeling, groups='manual_selection')\n"
   ]
  },
  {
   "cell_type": "code",
   "execution_count": null,
   "id": "481b339c-4076-48f8-95ec-aaef6fc9b373",
   "metadata": {},
   "outputs": [],
   "source": [
    "high_curvature_genes = (np.unique(adata_labeling.uns['rank_abs_curvature'].iloc[:, :-1].head(100).values))\n",
    "len(high_curvature_genes)"
   ]
  },
  {
   "cell_type": "code",
   "execution_count": null,
   "id": "9ece04cc-ae2f-446f-8718-51783adfea4c",
   "metadata": {},
   "outputs": [],
   "source": [
    "remove_high_curvature_genes = adata_labeling.var_names[adata_labeling.var.use_for_pca].difference(high_curvature_genes)\n",
    "\n",
    "len(remove_high_curvature_genes)"
   ]
  },
  {
   "cell_type": "code",
   "execution_count": null,
   "id": "38d21675-88d6-4a98-8e2c-995a9c3ab438",
   "metadata": {},
   "outputs": [],
   "source": [
    "random_genes = np.random.choice(adata_labeling.var_names[adata_labeling.var.use_for_pca], 250)"
   ]
  },
  {
   "cell_type": "code",
   "execution_count": null,
   "id": "5add3e9b-f991-409b-92fa-22f5d3494910",
   "metadata": {},
   "outputs": [],
   "source": [
    "adata_labeling.obsm['X_umap_ori_test'] = adata_labeling.obsm['X_umap_ori'].copy()\n",
    "dyn.tl.cell_velocities(adata_labeling,\n",
    "                       X=adata_labeling[:, remove_high_curvature_genes].layers['M_t'],\n",
    "                       V=adata_labeling[:, remove_high_curvature_genes].layers['velocity_alpha_minus_gamma_s'],\n",
    "                       basis='umap_ori_test',\n",
    "                       method='cosine',\n",
    "                       enforce=True,\n",
    "                       )\n",
    "dyn.pl.streamline_plot(adata_labeling, color='cell_type', basis='umap_ori_test')"
   ]
  },
  {
   "cell_type": "code",
   "execution_count": null,
   "id": "a5932969-b47f-4369-8ba7-31e48310f80d",
   "metadata": {},
   "outputs": [],
   "source": [
    "adata_labeling"
   ]
  },
  {
   "cell_type": "code",
   "execution_count": null,
   "id": "3e000ae8-f05a-4bd4-bd1c-913315ecd499",
   "metadata": {},
   "outputs": [],
   "source": [
    "dyn.vf.divergence(adata_labeling, basis='pca')\n",
    "dyn.vf.curvature(adata_labeling, basis='umap_ori')\n",
    "\n",
    "dyn.vf.acceleration(adata_labeling, basis='umap_ori')\n",
    "dyn.vf.curvature(adata_labeling, basis='umap_ori')\n",
    "\n",
    "\n",
    "dyn.pl.streamline_plot(adata_labeling, \n",
    "                       basis='umap_ori',\n",
    "                       ncols=4,\n",
    "                       color=['curvature_pca', 'curvature_umap_ori', 'acceleration_pca', 'acceleration_umap_ori'])"
   ]
  },
  {
   "cell_type": "code",
   "execution_count": null,
   "id": "1a7de4b4-2240-4eb3-8d01-5e0ec1db3cac",
   "metadata": {},
   "outputs": [],
   "source": [
    "dyn.pl.streamline_plot(adata_labeling, \n",
    "                       basis='umap_ori', \n",
    "                       cmap='bwr', \n",
    "                       s_kwargs_dict={\"sym_c\": True}, \n",
    "                       ncols=5,\n",
    "                       color=['curl_umap_ori', 'divergence_pca', 'divergence_umap_ori', 'pca_ddhodge_div', \"umap_ori_ddhodge_div\"])"
   ]
  },
  {
   "cell_type": "code",
   "execution_count": null,
   "id": "854a9f51-1d21-437b-accc-557c82f3a1df",
   "metadata": {},
   "outputs": [],
   "source": [
    "dyn.pl.streamline_plot(adata_labeling, basis='umap_ori', cmap='bwr', s_kwargs_dict={\"sym_c\": True},\n",
    "                       color=['curvature_pca', 'curvature_umap_ori', 'acceleration_pca', 'curl_umap_ori', 'divergence_pca', \n",
    "                                              'divergence_umap_ori', 'pca_ddhodge_div', \"umap_ori_ddhodge_div\"])"
   ]
  },
  {
   "cell_type": "code",
   "execution_count": null,
   "id": "6b59ff27-ab76-46b7-b124-5fe62b9aa549",
   "metadata": {},
   "outputs": [],
   "source": [
    "adata_labeling.obs['acceleration_pca'].min(), adata_labeling.obs['acceleration_pca'].max()"
   ]
  },
  {
   "cell_type": "code",
   "execution_count": null,
   "id": "cd66c8d0-26b9-4444-832c-ff1a53a75f84",
   "metadata": {},
   "outputs": [],
   "source": [
    "dyn.pl.streamline_plot(adata_labeling, basis='umap_ori', frontier=True, sort='abs',\n",
    "                       color=['curvature_pca', 'acceleration_pca'])"
   ]
  },
  {
   "cell_type": "code",
   "execution_count": null,
   "id": "008d4749-77f9-4c4a-8162-e406028c8b63",
   "metadata": {},
   "outputs": [],
   "source": [
    "adata_labeling.uns['rank_abs_velocity_alpha_minus_gamma_s'].head(10)"
   ]
  },
  {
   "cell_type": "code",
   "execution_count": null,
   "id": "a082b6fb-b73a-4846-8edb-d7d443a3404c",
   "metadata": {},
   "outputs": [],
   "source": [
    "# dyn.pl.jacobian(adata_labeling, x=\"HBB\", y=\"PLEK\", layer='M_t')\n",
    "dyn.pl.jacobian(adata_labeling, x=\"HBB\", y=\"PLEK\", layer='M_t', regulators=['HBB'], effectors=['PLEK'])"
   ]
  },
  {
   "cell_type": "code",
   "execution_count": null,
   "id": "a25d621d-d468-463c-abf3-f9e37849f12b",
   "metadata": {},
   "outputs": [],
   "source": [
    "dyn.pl.jacobian(adata_labeling, x=\"FGFR1\", y=\"HBG2\", layer='M_t', regulators=['FGFR1'], effectors=['HBG2'])"
   ]
  },
  {
   "cell_type": "code",
   "execution_count": null,
   "id": "27426af6-be0f-4473-8c32-9dc861896e83",
   "metadata": {},
   "outputs": [],
   "source": [
    "dyn.pl.jacobian(adata_labeling, x=\"FCER1A\", y=\"GSTP1\", layer='M_t', regulators=['FCER1A'], effectors=['GSTP1'])"
   ]
  },
  {
   "cell_type": "code",
   "execution_count": null,
   "id": "13971878-657c-4d09-9cd0-69be629d56dc",
   "metadata": {},
   "outputs": [],
   "source": [
    "from dynamo.plot.utils import _matplotlib_points"
   ]
  },
  {
   "cell_type": "code",
   "execution_count": null,
   "id": "a26949d3-859b-4038-ba13-b17ae2a889e7",
   "metadata": {},
   "outputs": [],
   "source": [
    "# ?_matplotlib_points"
   ]
  },
  {
   "cell_type": "code",
   "execution_count": null,
   "id": "66e9461e-ef76-4573-a689-96daccda3a78",
   "metadata": {},
   "outputs": [],
   "source": [
    "type(adata_labeling[:, \"FCER1A\"].layers[\"M_t\"].A.flatten())"
   ]
  },
  {
   "cell_type": "code",
   "execution_count": null,
   "id": "eeb8bd15-83ea-46a7-89e8-47fd84fd2b77",
   "metadata": {},
   "outputs": [],
   "source": [
    "dyn.pl.scatters(adata_labeling, color='cell_type',\n",
    "                x=adata_labeling[:, \"FCER1A\"].layers[\"M_t\"].A.flatten(), \n",
    "                y=adata_labeling[:, \"GSTP1\"].layers[\"velocity_alpha_minus_gamma_s\"].A.flatten())"
   ]
  },
  {
   "cell_type": "code",
   "execution_count": null,
   "id": "2a039c08-3f7c-4770-96d6-8570dee9dc86",
   "metadata": {},
   "outputs": [],
   "source": [
    "adata_labeling[:, \"GSTP1\"].layers[\"velocity_alpha_minus_gamma_s\"].A.flatten()"
   ]
  },
  {
   "cell_type": "code",
   "execution_count": null,
   "id": "ff4a41bf-cea8-4baa-95c7-a9f83b26e01d",
   "metadata": {},
   "outputs": [],
   "source": [
    "adata_labeling.uns['rank_abs_velocity_alpha_minus_gamma_s'].head(10)"
   ]
  },
  {
   "cell_type": "code",
   "execution_count": null,
   "id": "fe22b08a-7acf-44ef-8c6b-1b8abcafb8a9",
   "metadata": {},
   "outputs": [],
   "source": [
    "adata_labeling.uns['rank_velocity_alpha_minus_gamma_s'].head(10)"
   ]
  },
  {
   "cell_type": "code",
   "execution_count": null,
   "id": "034e0975-aab2-4fa9-ba2f-7d7f9160838a",
   "metadata": {},
   "outputs": [],
   "source": [
    "adata_labeling.uns['rank_abs_acceleration'].head(50)"
   ]
  },
  {
   "cell_type": "code",
   "execution_count": null,
   "id": "13f33b53-3cb4-4037-8ff2-ff3e7780bc85",
   "metadata": {},
   "outputs": [],
   "source": [
    "dyn.pl.scatters(adata_labeling, \n",
    "                color='AL035078.1', \n",
    "                basis='umap_ori')"
   ]
  },
  {
   "cell_type": "code",
   "execution_count": null,
   "id": "0763f020-da2d-41ac-bb44-62d437d33382",
   "metadata": {},
   "outputs": [],
   "source": [
    "dyn.pl.scatters(adata_labeling, color='AL035078.1', basis='umap_ori', layer='acceleration', cmap='bwr', sym_c=True, use_smoothed=False)"
   ]
  },
  {
   "cell_type": "code",
   "execution_count": null,
   "id": "5adffb87-7229-4391-8602-3c94ef480ba7",
   "metadata": {},
   "outputs": [],
   "source": [
    "dyn.pl.scatters(adata_labeling, \n",
    "                color=dynamo_revision_genes[:-1], \n",
    "                basis='umap_ori')"
   ]
  },
  {
   "cell_type": "code",
   "execution_count": null,
   "id": "dabb3932-1154-495e-a9e7-daf11c1f7a28",
   "metadata": {},
   "outputs": [],
   "source": [
    "dyn.pl.scatters(adata_labeling, \n",
    "                color=dynamo_revision_genes[:-1], \n",
    "                basis='umap_ori', \n",
    "                layer='acceleration', \n",
    "                cmap='bwr', \n",
    "                sym_c=True, \n",
    "                use_smoothed=False)"
   ]
  },
  {
   "cell_type": "code",
   "execution_count": null,
   "id": "e42e3670-fa31-4f49-86c1-30c916283535",
   "metadata": {},
   "outputs": [],
   "source": [
    "dyn.pl.phase_portraits(adata_labeling, \n",
    "                       color='cell_type',\n",
    "                       genes=dynamo_revision_genes[:-1],\n",
    "                       ekey='M_t',\n",
    "                       vkey='velocity_alpha_minus_gamma_s',\n",
    "                       basis='umap_ori'\n",
    "                      )"
   ]
  },
  {
   "cell_type": "code",
   "execution_count": null,
   "id": "e5d01009-0e31-4c54-a92d-8432b7e663aa",
   "metadata": {},
   "outputs": [],
   "source": [
    "adata_labeling"
   ]
  },
  {
   "cell_type": "code",
   "execution_count": null,
   "id": "14c98eac-55e0-4f3d-8116-73709f497859",
   "metadata": {},
   "outputs": [],
   "source": [
    "dyn.pl.scatters(adata_labeling, \n",
    "                color=dynamo_revision_genes[:-1], \n",
    "                basis='umap_ori', \n",
    "                layer='velocity_alpha_minus_gamma_s', \n",
    "                cmap='bwr', \n",
    "                sym_c=True, \n",
    "                use_smoothed=False)"
   ]
  },
  {
   "cell_type": "code",
   "execution_count": null,
   "id": "065dba71-bd16-45c5-9ad0-91e75ba00d4e",
   "metadata": {},
   "outputs": [],
   "source": [
    "sc.tl.rank_genes_groups(adata_labeling, 'cell_type', method='t-test', layer='velocity_alpha_minus_gamma_s', use_raw=False)\n",
    "sc.set_figure_params(dpi=150)\n",
    "sc.pl.rank_genes_groups(adata_labeling, n_genes=25, sharey=False)\n"
   ]
  },
  {
   "cell_type": "code",
   "execution_count": null,
   "id": "d749dcf4-0e17-4515-993f-b754c5c0c444",
   "metadata": {},
   "outputs": [],
   "source": [
    "sc.tl.rank_genes_groups(adata_labeling, 'cell_type', method='t-test', layer='acceleration', use_raw=False)\n",
    "sc.set_figure_params(dpi=150)\n",
    "sc.pl.rank_genes_groups(adata_labeling, n_genes=25, sharey=False)"
   ]
  },
  {
   "cell_type": "code",
   "execution_count": null,
   "id": "2d89e585-8c14-469f-9c95-b29ef486bebf",
   "metadata": {},
   "outputs": [],
   "source": [
    "sc.tl.rank_genes_groups(adata_labeling, 'cell_type', method='t-test', layer='curvature', use_raw=False)\n",
    "sc.set_figure_params(dpi=150)\n",
    "sc.pl.rank_genes_groups(adata_labeling, n_genes=25, sharey=False)"
   ]
  },
  {
   "cell_type": "code",
   "execution_count": null,
   "id": "c7dd6ff4-4003-415a-b65a-d5fb8411b134",
   "metadata": {},
   "outputs": [],
   "source": [
    "gene_list = sc.get.rank_genes_groups_df(adata_labeling, group=\"MEP-like\").head(20)['names'].to_list()\n",
    "valid_gene_list = list(np.array(gene_list)[~ np.array([True if i.startswith(\"MT\") else False for i in gene_list])])\n",
    "\n",
    "res = dyn.ext.enrichr(valid_gene_list, organism='human', cutoff=0.1)\n",
    "\n",
    "res.res2d.head(20)"
   ]
  },
  {
   "cell_type": "code",
   "execution_count": null,
   "id": "0463922b-7286-46b0-ace0-d2e75105f619",
   "metadata": {},
   "outputs": [],
   "source": [
    "two_group_M_n = dyn.tl.two_groups_degs(adata_labeling, \n",
    "                       group='cell_type', \n",
    "                       genes=adata_labeling.var_names[adata_labeling.var.use_for_pca], \n",
    "                       layer='acceleration',\n",
    "                       test_group='Neu', \n",
    "                       control_groups='Mon')"
   ]
  },
  {
   "cell_type": "code",
   "execution_count": null,
   "id": "606fb347-db53-4915-aeab-01c9e1c5d480",
   "metadata": {},
   "outputs": [],
   "source": [
    "two_group_M_n.sort_values('log2_fc', ascending=False).head(20)"
   ]
  },
  {
   "cell_type": "code",
   "execution_count": null,
   "id": "c534da3d-2b6d-42a9-898b-0a925751c275",
   "metadata": {},
   "outputs": [],
   "source": [
    "two_group_M_n = dyn.tl.two_groups_degs(adata_labeling, \n",
    "                       group='cell_type', \n",
    "                       genes=adata_labeling.var_names[adata_labeling.var.use_for_pca], \n",
    "                       layer='acceleration',\n",
    "                       test_group='Neu', \n",
    "                       control_groups='Mon')\n",
    "two_group_M_n.sort_values('log2_fc', ascending=False).head(20)"
   ]
  },
  {
   "cell_type": "raw",
   "id": "1f7e8fc1-90b3-43ec-aa66-b0cb64b5cd25",
   "metadata": {},
   "source": [
    "sc.tl.rank_genes_groups(adata_labeling, 'cell_type', groups=[], method='t-test', layer='curvature', use_raw=False)\n",
    "sc.set_figure_params(dpi=150)\n",
    "sc.pl.rank_genes_groups(adata_labeling, n_genes=25, sharey=False)"
   ]
  },
  {
   "cell_type": "code",
   "execution_count": null,
   "id": "92298598-caad-4208-b1d3-934d8ba75397",
   "metadata": {},
   "outputs": [],
   "source": [
    "# two_group_M_n = dyn.tl.two_groups_degs(adata_labeling, \n",
    "#                        group='cell_type', \n",
    "#                        genes=adata_labeling.var_names[adata_labeling.var.use_for_pca], \n",
    "#                        layer='curvature',\n",
    "#                        test_group='Neu', \n",
    "#                        control_groups='Mon')\n",
    "# two_group_M_n.sort_values('diff_ratio_pos', ascending=False).head(20)"
   ]
  },
  {
   "cell_type": "code",
   "execution_count": null,
   "id": "f1239191-c483-4e20-a77d-d2989d8f7ba7",
   "metadata": {},
   "outputs": [],
   "source": [
    "res = dyn.ext.enrichr(two_group_M_n.sort_values('specificity', ascending=False)['gene'][:50], organism='human', cutoff=0.1)\n",
    "\n",
    "res.res2d.head(20)"
   ]
  },
  {
   "cell_type": "code",
   "execution_count": null,
   "id": "0304f504-bc9d-45e7-bb3d-94ac3f185720",
   "metadata": {},
   "outputs": [],
   "source": [
    "adata_labeling"
   ]
  },
  {
   "cell_type": "code",
   "execution_count": null,
   "id": "5d335596-f8c4-4738-ad64-0c194b6ed0e4",
   "metadata": {},
   "outputs": [],
   "source": [
    "dyn.vf.VectorField(adata_labeling, basis='umap', M=1000)\n",
    "dyn.vf.curvature(adata_labeling,  basis='umap')"
   ]
  },
  {
   "cell_type": "code",
   "execution_count": null,
   "id": "185fcc0c-1f43-4a53-9e99-5a7123eee405",
   "metadata": {},
   "outputs": [],
   "source": [
    "dyn.vf.curvature(adata_labeling,  basis='umap_ori')"
   ]
  },
  {
   "cell_type": "code",
   "execution_count": null,
   "id": "f4ba9a02-dab2-4430-bfa2-17782b28ff9f",
   "metadata": {},
   "outputs": [],
   "source": [
    "feature_df = np.hstack((adata_labeling.obs.loc[:, [\"curvature_pca\", \"curvature_umap_ori\"]].values, adata_labeling.obsm['X_umap_ori']))\n",
    "\n",
    "feature_df[:5, :]"
   ]
  },
  {
   "cell_type": "markdown",
   "id": "53f8a709-1260-4be6-a427-4b13d38c8bba",
   "metadata": {},
   "source": [
    "# identify cell groups with high curvature values and then run curvature ranking for those groups. \n",
    "This makes more sense"
   ]
  },
  {
   "cell_type": "code",
   "execution_count": null,
   "id": "c05b5d1c-15d1-4ae9-8358-f018ae024ca7",
   "metadata": {},
   "outputs": [],
   "source": [
    "from anndata import AnnData\n",
    "feature_adata = AnnData(feature_df)\n",
    "feature_adata.obsm['X_pca'] = feature_df\n",
    "feature_adata.obsm['X_umap'] = feature_df[:, 2:]\n",
    "\n",
    "dyn.tl.louvain(feature_adata, obsm_key=\"X_pca\")\n",
    "dyn.tl.leiden(feature_adata, obsm_key=\"X_pca\")\n",
    "# dyn.tl.infomap(feature_adata, obsm_key=\"X_pca\")\n",
    "\n",
    "dyn.pl.umap(feature_adata, color=['louvain', 'leiden']) # , 'infomap'"
   ]
  },
  {
   "cell_type": "code",
   "execution_count": null,
   "id": "6a3db307-8375-4600-a6b4-fa9ceb6674f1",
   "metadata": {},
   "outputs": [],
   "source": [
    "dyn.pl.streamline_plot(adata_labeling, basis='umap_ori')"
   ]
  },
  {
   "cell_type": "code",
   "execution_count": null,
   "id": "fd040d93-4064-4177-bbbf-c37aefbe3632",
   "metadata": {},
   "outputs": [],
   "source": [
    "adata_labeling.obs['curv_leiden'], adata_labeling.obs['curv_louvain'] = feature_adata.obs['leiden'].values.astype(str).copy(), feature_adata.obs['louvain'].values.astype(str).copy()\n",
    "adata_labeling.obs['curv_leiden'], adata_labeling.obs['curv_louvain']\n"
   ]
  },
  {
   "cell_type": "code",
   "execution_count": null,
   "id": "7cce86ba-2b7a-442f-9da7-3e862fd1fd67",
   "metadata": {},
   "outputs": [],
   "source": [
    "dyn.pl.streamline_plot(adata_labeling, color=['curv_leiden', 'curv_louvain', 'cell_type'], basis='umap_ori') # , 'infomap'"
   ]
  },
  {
   "cell_type": "code",
   "execution_count": null,
   "id": "98501716-7d7f-4a0b-9f8a-5fd349d1e5de",
   "metadata": {},
   "outputs": [],
   "source": [
    "adata_labeling.uns['rank_curvature'].head(10)"
   ]
  },
  {
   "cell_type": "code",
   "execution_count": null,
   "id": "aa9b7a57-bee3-45ae-9d0f-0722ac0aaf19",
   "metadata": {},
   "outputs": [],
   "source": [
    "adata_labeling.uns['rank_abs_curvature'].head(10)"
   ]
  },
  {
   "cell_type": "code",
   "execution_count": null,
   "id": "905a3162-c551-44e1-b177-2a5a8373b4b2",
   "metadata": {},
   "outputs": [],
   "source": [
    "Meg_genes = ['CD9', 'LOX', 'MPL', 'VWF', 'NF1B', 'CD61', 'CD41']\n",
    "Ery_genes = ['MYB', 'TMOD1', 'LEF1', 'KLF1', 'CNRIP', 'ANK1']\n",
    "Mep_genes = ['CD44', 'KIT', 'DHRS3', 'GATA1', 'CD36']\n",
    "other_genes = ['IATGB3', 'CD9', 'MPL', 'CD47', 'ANK1', 'ITGA2B', 'TGFB1', 'MYB']"
   ]
  },
  {
   "cell_type": "code",
   "execution_count": null,
   "id": "ee304434-46da-4efd-8b8e-4c4df049b4a6",
   "metadata": {},
   "outputs": [],
   "source": [
    "dyn.pl.streamline_plot(adata_labeling, color=list(adata_labeling.var_names.intersection(Meg_genes)) + ['cell_type'], basis='umap_ori')"
   ]
  },
  {
   "cell_type": "code",
   "execution_count": null,
   "id": "daaa63c8-7a5c-4c08-a8fe-c96007c01f38",
   "metadata": {},
   "outputs": [],
   "source": [
    "dyn.pl.streamline_plot(adata_labeling, color=list(adata_labeling.var_names.intersection(Ery_genes)) + ['cell_type'], basis='umap_ori')"
   ]
  },
  {
   "cell_type": "code",
   "execution_count": null,
   "id": "03121822-b24f-4420-8193-9a6e2f24579b",
   "metadata": {},
   "outputs": [],
   "source": [
    "dyn.pl.streamline_plot(adata_labeling, color=list(adata_labeling.var_names.intersection(Mep_genes)) + ['cell_type'], basis='umap_ori')"
   ]
  },
  {
   "cell_type": "code",
   "execution_count": null,
   "id": "f9bdf2e8-b3c6-4bf5-ade3-a77dbc44569a",
   "metadata": {},
   "outputs": [],
   "source": [
    "dyn.pl.streamline_plot(adata_labeling, color=list(adata_labeling.var_names.intersection(other_genes)) + ['cell_type'], basis='umap_ori')"
   ]
  },
  {
   "cell_type": "code",
   "execution_count": null,
   "id": "8442fbc7-7008-4bb1-b31a-33555b1766c2",
   "metadata": {},
   "outputs": [],
   "source": [
    "all_valid_genes = [\"ADD2\", \"ANK1\", \"B2M\", \"BDH1\", \"BIM\", \"BCL2\", \"BMP2\", \"CCDC124\", \"CCND1\", \"BCL1\", \"CD105\", \"ENG\", \"CD110\", \"MPL\", \"CD117\", \"KIT\", \"CD123\", \n",
    "                   \"IL3RA\", \"CD135\", \"FLT3\", \"CD235a\", \"GYPA\", \"CD34\", \"CD36\", \"CD38\", \"CD41\", \"ITGA2B\", \"CD42\", \"GP1BA\", \"CD44\", \"CD47\", \"CD61\", \"ITGB3\", \n",
    "                   \"CD71\", \"TFRC\", \"CD9\", \"CD90\", \"THY1\", \"CDK4\", \"CDK6\", \"CEBPA\", \"CISH\", \"CLU\", \"CNRIP1\", \"CSF3R\", \"CTNNB1 \", \"CXCR4\", \"DDB1\", \"DHRS3\", \n",
    "                   \"ECT2\", \"EIF4EBP1\", \"EPOR\", \"ETS1\", \"FAS\", \"FHL1\", \"FLI1\", \"FOG1\", \"ZFPM1\", \"FOXO3\", \"GABPA\", \"GADD45A\", \"GADD45B\", \"GAPDH \", \"GATA1\", \n",
    "                   \"GATA2\", \"GFI1B\", \"HIF1A\", \"HIF2A\", \"EPAS1\", \"HPRT1\", \"JAK2\", \"KLF1\", \"LEF1\", \"LOX\", \"LSD1\", \"KDM1A\", \"MCL1\", \"MEIS1\", \"MPO\", \"MYB\", \n",
    "                   \"NFIB\", \"NOTCH1\", \"P27KIP1\", \"CDKN1B\", \"PAX5\", \"PF4\", \"PFKP\", \"PIM1\", \"PNMT\", \"RGS18\", \"RUNX1\", \"SDPR\", \"SELP \", \"SH2D2A\", \"SOCS3\", \n",
    "                   \"SPI1\", \"SRD5A3\", \"TAL1\", \"TGFB1\", \"TGFB2\", \"TMEM180\", \"MFSD13A\", \"TMOD1\", \"TUBB2A\", \"VWF\"]"
   ]
  },
  {
   "cell_type": "markdown",
   "id": "580ef95c-62c1-4ff5-a8f7-085e6ea15c2f",
   "metadata": {},
   "source": [
    "# do in silico perturbation "
   ]
  },
  {
   "cell_type": "markdown",
   "id": "a2485530-c3d8-4f5f-b167-888db7824e3a",
   "metadata": {},
   "source": [
    "# res = dyn.ext.enrichr(list(adata_labeling.uns['rank_abs_velocity_T']['0'][:50]), organism='human')\n",
    "\n",
    "# res.res2d.head(20)\n",
    "\n",
    "gene2celltype['MPO']\n",
    "\n",
    "res = dyn.ext.enrichr(list(adata_labeling.uns['rank_abs_acceleration']['0'][:50]), organism='human')\n",
    "\n",
    "res.res2d.head(20)\n",
    "\n",
    "res = dyn.ext.enrichr(list(adata_labeling.uns['rank_abs_curvature']['0'][:50]), organism='human')\n",
    "\n",
    "res.res2d.head(20)"
   ]
  },
  {
   "cell_type": "code",
   "execution_count": null,
   "id": "3a78e503-586f-4e47-8caf-06534c28536e",
   "metadata": {},
   "outputs": [],
   "source": [
    "set(adata_labeling.uns['rank_abs_acceleration']['Meg']).intersection(Mep_genes)"
   ]
  },
  {
   "cell_type": "code",
   "execution_count": null,
   "id": "4ec74dee-7b31-4526-bf6e-9a764f295d2a",
   "metadata": {},
   "outputs": [],
   "source": [
    "set(adata_labeling.uns['rank_abs_acceleration']['HSC']).intersection(other_genes)"
   ]
  },
  {
   "cell_type": "code",
   "execution_count": null,
   "id": "97e9343c-5d03-45c0-bec1-48999d20706d",
   "metadata": {},
   "outputs": [],
   "source": [
    "list(adata_labeling.uns['rank_abs_acceleration']['Meg']).index('VWF'), list(adata_labeling.uns['rank_abs_acceleration']['Meg']).index('KLF1'), list(adata_labeling.uns['rank_abs_acceleration']['Meg']).index('GATA1')"
   ]
  },
  {
   "cell_type": "code",
   "execution_count": null,
   "id": "478a8df8-2f04-4000-a023-30f2ab49b36b",
   "metadata": {},
   "outputs": [],
   "source": [
    "adata_labeling.uns['rank_abs_acceleration']['Meg'][:50]"
   ]
  },
  {
   "cell_type": "code",
   "execution_count": null,
   "id": "7b4ff688-2e4d-4a74-8d65-9ead7ef27920",
   "metadata": {},
   "outputs": [],
   "source": [
    "res = dyn.ext.enrichr(list(adata_labeling.uns['rank_abs_acceleration']['Meg'][:50]), organism='human')\n",
    "\n",
    "res.res2d.head(20)"
   ]
  },
  {
   "cell_type": "code",
   "execution_count": null,
   "id": "c1bf54a4-21f1-4ec1-b1a1-f9f5f98e8f82",
   "metadata": {},
   "outputs": [],
   "source": [
    "adata_labeling.uns['rank_abs_curvature'].head(10)"
   ]
  },
  {
   "cell_type": "code",
   "execution_count": null,
   "id": "686fadae-994f-4e48-805e-6d575cffffb0",
   "metadata": {},
   "outputs": [],
   "source": [
    "dyn.vf.rank_acceleration_genes(adata_labeling, groups='cell_type', normalize=True)\n",
    "adata_labeling.uns['rank_abs_acceleration'].head(10)"
   ]
  },
  {
   "cell_type": "markdown",
   "id": "3fb53b4a-682d-4584-b1c5-fd338a953f32",
   "metadata": {},
   "source": [
    "# Jacobian analysis"
   ]
  },
  {
   "cell_type": "code",
   "execution_count": null,
   "id": "6a755fd6-7bce-4a10-b2c1-2e0d79fbb4e0",
   "metadata": {},
   "outputs": [],
   "source": [
    "full_reg_rank = dyn.vf.rank_jacobian_genes(adata_labeling,\n",
    "                                           groups='cell_type',\n",
    "                                           mode=\"full_reg\",\n",
    "                                           abs=True,\n",
    "                                           output_values=True)"
   ]
  },
  {
   "cell_type": "code",
   "execution_count": null,
   "id": "f455fee9-31bd-4acb-896c-63f70877042c",
   "metadata": {},
   "outputs": [],
   "source": [
    "full_eff_rank = dyn.vf.rank_jacobian_genes(adata_labeling,\n",
    "                                           groups='cell_type',\n",
    "                                           mode=\"full_eff\",\n",
    "                                           abs=True,\n",
    "                                           output_values=True)"
   ]
  },
  {
   "cell_type": "code",
   "execution_count": null,
   "id": "d67b1b5f-e27b-498b-9c65-95acfee066c4",
   "metadata": {},
   "outputs": [],
   "source": [
    "full_reg_rank, full_eff_rank = adata_labeling.uns['full_reg'], adata_labeling.uns['full_eff']"
   ]
  },
  {
   "cell_type": "code",
   "execution_count": null,
   "id": "e8ac3632-3e41-4a52-b168-f199b4918797",
   "metadata": {},
   "outputs": [],
   "source": [
    "full_reg_rank[\"HSC\"].columns.intersection(['GATA1', 'ZFPM1', 'GATA2', 'MIR150', 'MIR451', 'ZBTB7A',  'TAL1', 'KLF1', \"FLI1\"])"
   ]
  },
  {
   "cell_type": "raw",
   "id": "eb8d2374-0eea-4187-850f-47e7f868e375",
   "metadata": {},
   "source": [
    "GATA-1, FOG-1, GATA-2, miR-150, miR-451, LRF, SCL, EKLF, FLI-1\n",
    "GATA1, ZFPM1, GATA2, MIR150, MIR451, ZBTB7A,  TAL1, KLF1, FLI1"
   ]
  },
  {
   "cell_type": "code",
   "execution_count": null,
   "id": "7cdddffb-4689-43bf-8660-b2aa7ebefa46",
   "metadata": {},
   "outputs": [],
   "source": [
    "full_reg_rank[\"Meg\"].loc[:, ['GATA1', 'GATA1_values', 'KLF1', 'KLF1_values']].head(30)"
   ]
  },
  {
   "cell_type": "code",
   "execution_count": null,
   "id": "ac121cca-02b7-4c00-9a2d-57dfce72e24b",
   "metadata": {},
   "outputs": [],
   "source": [
    "full_eff_rank[\"Meg\"].loc[:, ['GATA1', 'GATA1_values', 'KLF1', 'KLF1_values']].head(30)"
   ]
  },
  {
   "cell_type": "code",
   "execution_count": null,
   "id": "14286a19-69cc-4588-8c2c-a4e585e4adde",
   "metadata": {},
   "outputs": [],
   "source": [
    "set(full_eff_rank[\"Meg\"]['GATA1'][:20]).intersection(full_eff_rank[\"Meg\"]['KLF1'][:20])"
   ]
  },
  {
   "cell_type": "code",
   "execution_count": null,
   "id": "e6e797e3-2965-4e09-9e9b-03ae630f7ffb",
   "metadata": {},
   "outputs": [],
   "source": [
    "dyn.pl.jacobian(adata_labeling, \n",
    "                regulators=['GATA1', 'KLF1'], \n",
    "                effectors=['C6', 'TIAM1'],\n",
    "                basis='umap_ori'\n",
    "               )"
   ]
  },
  {
   "cell_type": "code",
   "execution_count": null,
   "id": "91352963-2fc8-42ee-a5b2-90ef8e8d9c5d",
   "metadata": {},
   "outputs": [],
   "source": [
    "dyn.pl.streamline_plot(adata_labeling, \n",
    "                       basis='umap_ori',\n",
    "                       color=adata_labeling.var_names.intersection(['GATA1', 'ZFPM1', 'GATA2', 'MIR150', 'MIR451', 'ZBTB7A',  'TAL1', 'KLF1', \"FLI1\"]))"
   ]
  },
  {
   "cell_type": "code",
   "execution_count": null,
   "id": "7d0d8edf-845d-4426-9cd1-c6344ea3e589",
   "metadata": {},
   "outputs": [],
   "source": [
    "dyn.pl.streamline_plot(adata_labeling, \n",
    "                       basis='umap_ori', \n",
    "                       color=adata_labeling.var_names.intersection(['GATA1', 'ZFPM1', 'GATA2', 'MIR150', 'MIR451', 'ZBTB7A',  'TAL1', 'KLF1', \"FLI1\"]), \n",
    "                       layer='X_new')"
   ]
  },
  {
   "cell_type": "code",
   "execution_count": null,
   "id": "ac416921-9ac3-45d9-bbfe-224fc27bde55",
   "metadata": {},
   "outputs": [],
   "source": [
    "adata_labeling.var_names.intersection(['KLF1', \"FLI1\"])"
   ]
  },
  {
   "cell_type": "code",
   "execution_count": null,
   "id": "5526ea52-7b69-4c3e-9872-7ca83771566f",
   "metadata": {},
   "outputs": [],
   "source": [
    "reg_rank = dyn.vf.rank_jacobian_genes(adata_labeling,\n",
    "                                      groups='cell_type',\n",
    "                                      mode=\"reg\",\n",
    "                                      abs=True,\n",
    "                                      normalize=True,\n",
    "                                      return_df=True,\n",
    "                                      output_values=True)\n",
    "reg_rank"
   ]
  },
  {
   "cell_type": "code",
   "execution_count": null,
   "id": "083aeeb0-6aba-4a9b-9a7b-3e8ae0e85968",
   "metadata": {},
   "outputs": [],
   "source": [
    "eff_rank = dyn.vf.rank_jacobian_genes(adata_labeling,\n",
    "                                      groups='cell_type',\n",
    "                                      mode=\"eff\",\n",
    "                                      abs=True,\n",
    "                                      normalize=True,\n",
    "                                      return_df=True,\n",
    "                                      output_values=True)\n",
    "reg_rank"
   ]
  },
  {
   "cell_type": "code",
   "execution_count": null,
   "id": "b4e6b7f8-0be1-40dc-a0f8-87d8af3d69d2",
   "metadata": {},
   "outputs": [],
   "source": [
    "int_rank = dyn.vf.rank_jacobian_genes(adata_labeling,\n",
    "                                      groups='cell_type',\n",
    "                                      mode=\"int\",\n",
    "                                      abs=True,\n",
    "                                      normalize=True,\n",
    "                                      return_df=True,\n",
    "                                      output_values=True)\n",
    "int_rank"
   ]
  },
  {
   "cell_type": "code",
   "execution_count": null,
   "id": "3ac91f83-9cdc-4f58-8eac-ed28729a3d8e",
   "metadata": {},
   "outputs": [],
   "source": [
    "reg_rank['Meg'].head(20)"
   ]
  },
  {
   "cell_type": "code",
   "execution_count": null,
   "id": "0daffb86-8694-4b65-870e-0b8daec3ae3b",
   "metadata": {},
   "outputs": [],
   "source": [
    "eff_rank['Meg'].head(20)"
   ]
  },
  {
   "cell_type": "code",
   "execution_count": null,
   "id": "8c49743a-d632-4aab-8268-8405fa1e9451",
   "metadata": {},
   "outputs": [],
   "source": [
    "int_rank['Meg'].head(20)"
   ]
  },
  {
   "cell_type": "code",
   "execution_count": null,
   "id": "c32c1574-5b60-4fd0-99b0-3e90f5990753",
   "metadata": {},
   "outputs": [],
   "source": [
    "dyn.pl.jacobian(adata_labeling, regulators=['KLF1', 'GATA1'], effectors=['KLF1', 'GATA1'])"
   ]
  },
  {
   "cell_type": "code",
   "execution_count": null,
   "id": "6d81ff25-1955-4e03-9048-0af5e8f854c1",
   "metadata": {},
   "outputs": [],
   "source": [
    "dyn.pl.jacobian(adata_labeling, regulators=['TIAM1', 'RORA'], effectors=['TIAM1', 'RORA'])"
   ]
  },
  {
   "cell_type": "markdown",
   "id": "b3a6e62d-b43f-46e4-b5c0-54b6d3b0b696",
   "metadata": {},
   "source": [
    "# in silico-perturbation\n",
    "\n",
    "dyn.pd.perturbation(adata_labeling, genes=['GATA1'], expression=[0])\n",
    "\n",
    "dyn.pl.streamline_plot(adata_labeling, basis='umap_perturbation', color=['GATA1'])\n",
    "\n",
    "dyn.pd.perturbation(adata_labeling, genes=['KLF1'], expression=[0])\n",
    "\n",
    "dyn.pd.perturbation(adata_labeling, genes=adata_labeling.var_names[adata_labeling.var.use_for_pca].intersection([\"TAL1\", \"LMO2\"]), expression=[100])\n",
    "\n",
    "dyn.pl.streamline_plot(adata_labeling, basis='umap_perturbation', color=adata_labeling.var_names[adata_labeling.var.use_for_pca].intersection(['GATA1', \"TAL1\", \"LMO2\"]))\n",
    "\n",
    "from dynamo.vectorfield.scVectorField import vector_field_function_knockout\n",
    "from dynamo.vectorfield import SvcVectorfield\n",
    "vf = SvcVectorfield()\n",
    "vf.from_adata(adata_labeling, basis='pca', vf_key='VecFld')\n",
    "\n",
    "KO_genes = ['GATA1'] # , 'Ins2'\n",
    "vf_perturb = vector_field_function_knockout(adata_labeling, vf, KO_genes)\n",
    "\n",
    "adata_labeling.obsm['velocity_pca_perturb'] = vf_perturb.get_V()\n",
    "adata_labeling.obsm['X_pca_perturb'] = adata_labeling.obsm['X_pca'].copy()\n",
    "\n",
    "# get the perturbed vector field on umap space\n",
    "adata_labeling.obsm['X_umap_perturb'] = adata_labeling.obsm['X_umap'].copy()\n",
    "dyn.tl.cell_velocities(adata_labeling,\n",
    "                       X=adata_labeling.obsm['X_pca'],\n",
    "                       V=adata_labeling.obsm['velocity_pca_perturb'], #- adata.obsm['velocity_pca'],\n",
    "                       basis='umap_perturb', enforce=True\n",
    "                       )\n",
    "# adata_labeling.obsm[\"velocity_umap_perturb\"] -= adata_labeling.obsm[\"velocity_umap\"]\n",
    "dyn.pl.streamline_plot(adata_labeling, basis='umap_perturb', color='GATA1')\n",
    "\n",
    "KO_genes = ['KLF1'] # , 'Ins2'\n",
    "vf_perturb = vector_field_function_knockout(adata_labeling, vf, KO_genes)\n",
    "\n",
    "adata_labeling.obsm['velocity_pca_perturb'] = vf_perturb.get_V()\n",
    "adata_labeling.obsm['X_pca_perturb'] = adata_labeling.obsm['X_pca'].copy()\n",
    "\n",
    "# get the perturbed vector field on umap space\n",
    "adata_labeling.obsm['X_umap_perturb'] = adata_labeling.obsm['X_umap'].copy()\n",
    "dyn.tl.cell_velocities(adata_labeling,\n",
    "                       X=adata_labeling.obsm['X_pca'],\n",
    "                       V=adata_labeling.obsm['velocity_pca_perturb'], #- adata.obsm['velocity_pca'],\n",
    "                       basis='umap_perturb', enforce=True\n",
    "                       )\n",
    "# adata_labeling.obsm[\"velocity_umap_perturb\"] -= adata_labeling.obsm[\"velocity_umap\"]\n",
    "dyn.pl.streamline_plot(adata_labeling, basis='umap_perturb', color='KLF1')\n",
    "\n",
    "dyn.pl.streamline_plot(adata_labeling, basis='umap', color =['CD34', \"FLT3\", \"GYPA\"])\n",
    "\n",
    "dyn.pl.jacobian(adata_labeling, regulators=['GATA1', 'KLF1'], effectors=['C6', 'TIAM1'])\n",
    "\n",
    "adata_labeling.uns['rank_abs_velocity_T'].head(10)\n",
    "\n",
    "dyn.pl.scatters(adata_dyn, color=['TUBA1B', 'AC243919.1', 'ENO1', 'MCM7'], layer='acceleration')\n",
    "\n",
    "dyn.pl.scatters(adata_dyn, color=['TUBA1B', 'AC243919.1', 'ENO1', 'MCM7'])\n",
    "\n",
    "dyn.pl.phase_portraits(adata_labeling, genes=Vijay_genes + chen_genes + klein_genes + paul_genes, color='leiden')\n",
    "\n",
    "adata_labeling.var.g\n",
    "\n",
    "dyn.pl.phase_portraits(adata_labeling, genes=chen_paper_genes, color='leiden')\n",
    "\n",
    "########### splicing data\n",
    "adata_dyn = dyn.read('./adata_dyn.h5ad')\n",
    "adata_filtered = dyn.read('./adata_filtered_hsc.h5ad')\n",
    "\n",
    "del adata_dyn.layers['new'], adata_dyn.layers['total']\n",
    "adata_dyn.obs['time'] = 3\n",
    "adata_dyn.X = adata_dyn.layers['spliced'].copy()\n",
    "\n",
    "adata_splicing = adata_dyn.copy()\n",
    "\n",
    "dyn.pp.recipe_monocle(adata_splicing,\n",
    "                      genes_to_use=adata_filtered.var.gene_name,\n",
    "                      n_top_genes=adata_filtered.n_vars,\n",
    "                      # fg_kwargs={\"min_avg_exp_s\": 1,\n",
    "                      #            \"min_cell_s\": 100,\n",
    "                      #            \"shared_count\": 50}\n",
    "                     )\n",
    "\n",
    "adata_splicing.obs['leiden_ori'] = adata_filtered.obs['leiden']\n",
    "dyn.tl.dynamics(adata_splicing, group='leiden_ori')\n",
    "dyn.tl.reduceDimension(adata_splicing)\n",
    "dyn.tl.cell_velocities(adata_splicing,\n",
    "                       transition_genes=adata_splicing.var_names[adata_splicing.var.use_for_pca],\n",
    "                       enforce=True,\n",
    "                       method='cosine',\n",
    "                       ) # , transition_genes=adata_filtered.var_names[adata_filtered.var.use_for_pca], enforce=True\n",
    "dyn.tl.leiden(adata_splicing)\n",
    "\n",
    "Vijay_genes = [\"GFI1\", \"RUNX1\", \"IRF4\", \"IRF8\", \"SPI1\", 'MPO']\n",
    "dyn.pl.streamline_plot(adata_splicing, color=Vijay_genes + ['leiden'])\n",
    "\n",
    "chen_paper_genes = ['PLEK', 'HBB', 'MPO', 'SPIB', 'CD79A', 'DNTT', 'CD34', 'CD164']\n",
    "dyn.pl.streamline_plot(\n",
    "    adata_splicing,\n",
    "    color=adata_splicing.var_names.intersection(chen_paper_genes),\n",
    "    ncols=4,\n",
    ")\n",
    "\n",
    "########### splicing data\n",
    "adata_dyn = dyn.read('./adata_dyn.h5ad')\n",
    "adata_filtered = dyn.read('./adata_filtered_hsc.h5ad')\n",
    "\n",
    "del adata_dyn.layers['new'], adata_dyn.layers['total']\n",
    "adata_dyn.obs['time'] = 3\n",
    "adata_dyn.X = adata_dyn.layers['spliced'].copy()\n",
    "\n",
    "adata_splicing = adata_dyn.copy()\n",
    "\n",
    "dyn.pp.recipe_monocle(adata_splicing,\n",
    "                      genes_to_use=adata_filtered.var.gene_name,\n",
    "                      n_top_genes=adata_filtered.n_vars,\n",
    "                      # fg_kwargs={\"min_avg_exp_s\": 1,\n",
    "                      #            \"min_cell_s\": 100,\n",
    "                      #            \"shared_count\": 50}\n",
    "                     )\n",
    "\n",
    "adata_splicing.obs['leiden_ori'] = adata_filtered.obs['leiden']\n",
    "dyn.tl.dynamics(adata_splicing)\n",
    "dyn.tl.reduceDimension(adata_splicing)\n",
    "dyn.tl.cell_velocities(adata_splicing,\n",
    "                       transition_genes=adata_splicing.var_names[adata_splicing.var.use_for_pca],\n",
    "                       enforce=True,\n",
    "                       method='cosine',\n",
    "                       ) # , transition_genes=adata_filtered.var_names[adata_filtered.var.use_for_pca], enforce=True\n",
    "dyn.tl.leiden(adata_splicing)\n",
    "\n",
    "Vijay_genes = [\"GFI1\", \"RUNX1\", \"IRF4\", \"IRF8\", \"SPI1\", 'MPO']\n",
    "dyn.pl.streamline_plot(adata_splicing, color=Vijay_genes + ['leiden'])\n",
    "\n",
    "chen_paper_genes = ['PLEK', 'HBB', 'MPO', 'SPIB', 'CD79A', 'DNTT', 'CD34', 'CD164']\n",
    "dyn.pl.streamline_plot(\n",
    "    adata_splicing,\n",
    "    color=adata_splicing.var_names.intersection(chen_paper_genes),\n",
    "    ncols=4,\n",
    ")\n",
    "\n",
    "dyn.pl.phase_portraits(adata_splicing, genes=Vijay_genes + chen_genes + klein_genes + paul_genes, color='leiden')\n",
    "\n",
    "\n",
    "import warnings\n",
    "warnings.filterwarnings('ignore')\n",
    "\n",
    "dyn.pl.scatters(adata_labeling, \n",
    "                basis=adata_labeling.var_names.intersection(Vijay_genes + chen_genes + klein_genes + paul_genes), \n",
    "                x='X_total', \n",
    "                y='X_new',\n",
    "                color='leiden',\n",
    "                use_smoothed=False,\n",
    "                pointsize=0.2,\n",
    "                alpha=0.6,\n",
    "               )\n",
    "\n",
    "\n",
    "dyn.pl.scatters(adata_splicing, \n",
    "                basis=adata_labeling.var_names.intersection(Vijay_genes + chen_genes + klein_genes + paul_genes), \n",
    "                x='X_spliced', \n",
    "                y='X_unspliced',\n",
    "                color='leiden',\n",
    "                use_smoothed=False, \n",
    "                pointsize=0.2,\n",
    "                alpha=0.6,\n",
    "               )\n",
    "\n",
    "\n",
    "dyn.tl.cell_velocities(adata_splicing,\n",
    "                       transition_genes=adata_splicing.var_names[adata_splicing.var.use_for_pca],\n",
    "                       enforce=True,\n",
    "                       method='cosine',\n",
    "                       ) # , transition_genes=adata_filtered.var_names[adata_filtered.var.use_for_pca], enforce=True\n",
    "dyn.tl.leiden(adata_splicing)\n",
    "\n",
    "Vijay_genes = [\"GFI1\", \"RUNX1\", \"IRF4\", \"IRF8\", \"SPI1\", 'MPO']\n",
    "dyn.pl.streamline_plot(adata_splicing, color=Vijay_genes + ['leiden'])\n",
    "\n",
    "chen_paper_genes = ['PLEK', 'HBB', 'MPO', 'SPIB', 'CD79A', 'DNTT', 'CD34', 'CD164']\n",
    "dyn.pl.streamline_plot(\n",
    "    adata_splicing,\n",
    "    color=adata_splicing.var_names.intersection(chen_paper_genes),\n",
    "    ncols=4,\n",
    ")\n",
    "\n",
    "dyn.pl.phase_portraits(adata_splicing, genes=chen_genes, color='leiden')\n",
    "\n",
    "\n",
    "\n",
    "dyn.tl.confident_cell_velocities(adata_dyn,\n",
    "                                 lineage_dict={\"0\": ['2', '3']},\n",
    "                                 group='leiden',\n",
    "                                 vkey='velocity_T',\n",
    "                                 ekey='M_t'\n",
    "                                 )\n",
    "\n",
    "dyn.pl.phase_portraits(adata_dyn, genes=adata_dyn.var.avg_confidence.sort_values(ascending=False).index[:5])\n",
    "dyn.pl.phase_portraits(adata_dyn, genes=adata_dyn.var.avg_confidence.sort_values(ascending=False).index[:5], color='leiden')\n",
    "adata_dyn.var['mu'] = adata_dyn.layers['X_total'].mean(0).A1\n",
    "dyn.pl.phase_portraits(adata_dyn, genes=adata_dyn.var.query(\"mu > 1\").avg_confidence.sort_values(ascending=False).index[:5], color='leiden')"
   ]
  },
  {
   "cell_type": "markdown",
   "id": "46222c8f-4333-4f29-878c-1d33d55245e7",
   "metadata": {},
   "source": [
    "# save data"
   ]
  },
  {
   "cell_type": "code",
   "execution_count": null,
   "id": "a74340d2-593c-47c8-b08e-5008ecec72c8",
   "metadata": {},
   "outputs": [],
   "source": [
    "adata_labeling.write_h5ad('./adata_labeling_for_lap_hsc_network.h5ad')"
   ]
  },
  {
   "cell_type": "code",
   "execution_count": null,
   "id": "10711228-48a5-46a8-8f7a-89265b0cd488",
   "metadata": {},
   "outputs": [],
   "source": [
    "adata_labeling[:, adata_labeling.var.use_for_pca].write_h5ad('./adata_labeling_for_lap_hsc_network_subset.h5ad')"
   ]
  },
  {
   "cell_type": "code",
   "execution_count": null,
   "id": "a7f56ae5-fb82-4a2c-a3fc-a1d02c79d1a2",
   "metadata": {},
   "outputs": [],
   "source": [
    "adata_labeling[:, Krumsiek_11].var.use_for_pca.sum(), len(Krumsiek_11)"
   ]
  },
  {
   "cell_type": "code",
   "execution_count": null,
   "id": "4349baeb-8966-415f-bf06-10325646ebc9",
   "metadata": {},
   "outputs": [],
   "source": [
    "adata_labeling[:, Krumsiek_11].write_h5ad('./adata_labeling_for_lap_hsc_network_only_hsc_network_genes.h5ad')"
   ]
  },
  {
   "cell_type": "code",
   "execution_count": null,
   "id": "4eded7c4-6d25-4918-9cdd-fc10afa73298",
   "metadata": {},
   "outputs": [],
   "source": [
    "adata_labeling_11_genes = adata_labeling[:, Krumsiek_11]"
   ]
  },
  {
   "cell_type": "code",
   "execution_count": null,
   "id": "948bc574-cf06-4654-b007-0b5e3be1aaca",
   "metadata": {},
   "outputs": [],
   "source": [
    "adata_labeling_11_genes"
   ]
  },
  {
   "cell_type": "code",
   "execution_count": null,
   "id": "da75d448-46cb-41c1-bbd4-173c7b08513f",
   "metadata": {},
   "outputs": [],
   "source": [
    "for i in ['total', 'new', 'M_tt', 'M_tn', 'M_nn', 'velocity_N', 'velocity_T', 'velocity_U', 'j_delta_x_perturbation']:\n",
    "    del adata_labeling_11_genes.layers[i]"
   ]
  },
  {
   "cell_type": "code",
   "execution_count": null,
   "id": "6e30c37b-2720-447c-bdb4-a86ad28e8c22",
   "metadata": {},
   "outputs": [],
   "source": [
    "for i in ['moments_con', 'distances', 'connectivities', 'cosine_transition_matrix', 'X_umap_ori_distances', 'X_umap_ori_connectivities', 'pca_ddhodge', 'umap_ori_ddhodge', 'fp_transition_rate', 'perturbation_transition_matrix']:\n",
    "    del adata_labeling_11_genes.obsp[i]"
   ]
  },
  {
   "cell_type": "code",
   "execution_count": null,
   "id": "a41f1e5c-3686-49f0-9caf-9a6475a9724b",
   "metadata": {},
   "outputs": [],
   "source": [
    "for i in ['full_reg', 'full_eff']:\n",
    "    del adata_labeling_11_genes.uns[i]"
   ]
  },
  {
   "cell_type": "code",
   "execution_count": null,
   "id": "91141745-071b-4ddd-ac88-17bc4cc953ea",
   "metadata": {},
   "outputs": [],
   "source": [
    "adata_labeling_11_genes\n",
    "for i in ['full reg', 'switch', 'rank_div_gene_jacobian_pca', 'grid_velocity_umap_ori_test', 'VecFld_umap', 'grid_velocity_umap_perturbation', 'grid_velocity_umap_ori_perturbation']:\n",
    "    del adata_labeling_11_genes.uns[i]"
   ]
  },
  {
   "cell_type": "code",
   "execution_count": null,
   "id": "767ed4a2-5511-4384-861b-0e4abcad2702",
   "metadata": {},
   "outputs": [],
   "source": [
    "for i in ['rank_velocity_alpha_minus_gamma_s', 'rank_abs_velocity_alpha_minus_gamma_s', 'rank_acceleration', 'rank_abs_acceleration', 'rank_curvature', 'rank_abs_curvature', 'jacobian_pca']:\n",
    "    del adata_labeling_11_genes.uns[i]"
   ]
  },
  {
   "cell_type": "code",
   "execution_count": null,
   "id": "680cba04-0191-43d4-b4f4-370f95a913fb",
   "metadata": {},
   "outputs": [],
   "source": [
    "adata_labeling_11_genes.write_h5ad('./adata_labeling_for_lap_hsc_network_only_hsc_network_genes.h5ad')"
   ]
  },
  {
   "cell_type": "code",
   "execution_count": null,
   "id": "b98f9c54-963e-4add-af87-f019c752eb7a",
   "metadata": {},
   "outputs": [],
   "source": [
    "adata_labeling_11_genes\n"
   ]
  },
  {
   "cell_type": "code",
   "execution_count": null,
   "id": "184847d0-3c5d-446d-aebe-4bd078aa8871",
   "metadata": {},
   "outputs": [],
   "source": [
    "Krumsiek_11_net = pd.read_csv(\n",
    "    'https://raw.githubusercontent.com/theislab/scanpy/master/scanpy/sim_models/krumsiek11.txt', sep=r'\\s+',\n",
    "    skiprows=np.arange(24))\n",
    "Krumsiek_11_net = Krumsiek_11_net.replace(\n",
    "    {\n",
    "        \"Pu.1\": \"Spi1\",\n",
    "         \"Fog1\": \"ZFPM1\",\n",
    "         \"EKLF\": \"KLF1\",\n",
    "         \"SCL\": \"TAL1\",\n",
    "         \"cJun\": \"Jun\",\n",
    "         \"EgrNab\": \"NAB2\"\n",
    "                     })\n",
    "\n",
    "adata_labeling_11_genes.layers['M_s'], adata_labeling_11_genes.layers['velocity_S'] = adta_labeling.layers['M_t'].copy(), adata_labeling_11_genes.layers['velocity_alpha_minus_gamma_s'].copy()\n",
    "for ind, i in Krumsiek_11_net.iterrows():\n",
    "    if i[0] != i[1]:\n",
    "        print(dyn.pl.streamline_plot(adata_labeling_11_genes, \n",
    "                                     color='cell_type', \n",
    "                                     x=i[1].upper(),  # 1 is source 2 is target\n",
    "                                     y=i[0].upper(), \n",
    "                                     ekey='M_t', \n",
    "                                     vkey='velocity_alpha_minus_gamma_s'))\n"
   ]
  },
  {
   "cell_type": "code",
   "execution_count": null,
   "id": "e838e5ca-118d-4f1a-ba90-e45434724348",
   "metadata": {},
   "outputs": [],
   "source": [
    "sns.scatterplot(*adata_labeling_11_genes[:, ['SPI1', 'GATA1']].layers[\"M_s\"].A.copy().T)"
   ]
  },
  {
   "cell_type": "code",
   "execution_count": null,
   "id": "5be9b1c2-d4fe-43f7-a880-462eb5c372a5",
   "metadata": {},
   "outputs": [],
   "source": [
    "adata_labeling_11_genes"
   ]
  },
  {
   "cell_type": "code",
   "execution_count": null,
   "id": "a12592e5-d22d-453b-a29c-bc07605e77bf",
   "metadata": {},
   "outputs": [],
   "source": [
    "adata_labeling_11_genes.layers['M_s'] = adata_labeling[:, adata_labeling_11_genes.var_names].layers['M_t'].copy()\n",
    "dyn.pl.jacobian(adata_labeling, x='SPI1', y='GATA1', layer='M_t',\n",
    "                regulators='SPI1',\n",
    "                effectors='GATA1')\n",
    "dyn.pl.streamline_plot(adata_labeling_11_genes, x='SPI1', y='GATA1')"
   ]
  },
  {
   "cell_type": "code",
   "execution_count": null,
   "id": "852859f9-4bb1-45af-bdca-f0eccbc1603f",
   "metadata": {},
   "outputs": [],
   "source": [
    "dyn.pl.jacobian(adata_labeling, \n",
    "                x='GATA1', \n",
    "                y='GATA2', \n",
    "                layer='M_t',\n",
    "                regulators='GATA1',\n",
    "                effectors='GATA2')\n",
    "\n",
    "adata_labeling_11_genes.layers['M_s'] = adata_labeling[:, adata_labeling_11_genes.var_names].layers['M_t'].copy()\n",
    "dyn.pl.streamline_plot(adata_labeling_11_genes, x='GATA1', y='GATA2')"
   ]
  },
  {
   "cell_type": "code",
   "execution_count": null,
   "id": "34918e83-6f68-4674-bd8b-41c91969216e",
   "metadata": {},
   "outputs": [],
   "source": [
    "dyn.pl.jacobian(adata_labeling, x='FLI1', y='KLF1', layer='M_t',\n",
    "                regulators='FLI1',\n",
    "                effectors='KLF1')\n",
    "dyn.pl.streamline_plot(adata_labeling_11_genes, x='FLI1', y='KLF1')"
   ]
  },
  {
   "cell_type": "code",
   "execution_count": null,
   "id": "a6e1820b-f9d3-40d1-bd3f-388a0858fe5e",
   "metadata": {},
   "outputs": [],
   "source": [
    "dyn.pl.jacobian(adata_labeling, x='GATA1', y='GATA2', layer='M_t',\n",
    "                regulators='GATA1',\n",
    "                effectors='GATA2')\n",
    "dyn.pl.streamline_plot(adata_labeling_11_genes, x='GATA1', y='GATA2')"
   ]
  },
  {
   "cell_type": "code",
   "execution_count": null,
   "id": "ba589e6d-132e-42a7-9561-c1c9e6749c07",
   "metadata": {},
   "outputs": [],
   "source": [
    "for ind, i in Krumsiek_11_net.iterrows():\n",
    "    if i[0] != i[1]:\n",
    "        print(dyn.pl.streamline_plot(adata_labeling_11_genes, \n",
    "                                     color='cell_type', \n",
    "                                     x=i[1].upper(),  # i[1] is source; i[0] is target\n",
    "                                     y=i[0].upper(), \n",
    "                                     ekey='M_t', \n",
    "                                     vkey='velocity_alpha_minus_gamma_s'))\n",
    "        dyn.pl.jacobian(adata_labeling, x=i[1], y=i[0], basis='M_t',\n",
    "                regulators=i[1], \n",
    "                effectors=i[0],\n",
    "                    \n",
    "                basis='umap_ori',\n",
    "                save_show_or_return='save',\n",
    "                save_kwargs={\"prefix\": 'Krumsiek_11_jacobian_pca_vecfld_' + str(i[1]) + \"->\" + str(i[0])}\n",
    "               )\n",
    "        dyn.pl.jacobian(adata_labeling, \n",
    "                regulators=i[1], \n",
    "                effectors=i[0],\n",
    "                basis='umap_ori',\n",
    "                save_show_or_return='save',\n",
    "                save_kwargs={\"prefix\": 'Krumsiek_11_jacobian_pca_vecfld_' + str(i[1]) + \"->\" + str(i[0])}\n",
    "               )"
   ]
  },
  {
   "cell_type": "code",
   "execution_count": null,
   "id": "81795a34-c08a-41e4-aac1-19365edcd594",
   "metadata": {},
   "outputs": [],
   "source": [
    "dyn.pl.jacobian(adata_labeling, \n",
    "                regulators=adata_labeling.var_names[adata_labeling.var.use_for_pca].intersection(Krumsiek_11), \n",
    "                effectors=adata_labeling.var_names[adata_labeling.var.use_for_pca].intersection(Krumsiek_11),\n",
    "                basis='umap_ori',\n",
    "                save_show_or_return='save',\n",
    "                save_kwargs={\"prefix\": 'Krumsiek_11_jacobian_pca_vecfld'}\n",
    "               )"
   ]
  },
  {
   "cell_type": "code",
   "execution_count": null,
   "id": "91f32aeb-61d7-4b12-9ab4-8753848a9200",
   "metadata": {},
   "outputs": [],
   "source": [
    "from dynamo.vectorfield.utils import intersect_sources_targets\n",
    "\n",
    "def get_jacobian(adata,\n",
    "                 regulators,\n",
    "                 effectors,\n",
    "                 jkey: str = \"jacobian\",\n",
    "                 j_basis: str = \"pca\",\n",
    "                 ):\n",
    "\n",
    "    regulators, effectors = (\n",
    "        list(np.unique(regulators)) if regulators is not None else None,\n",
    "        list(np.unique(effectors)) if effectors is not None else None,\n",
    "    )\n",
    "\n",
    "    Jacobian_ = jkey if j_basis is None else jkey + \"_\" + j_basis\n",
    "    Der, cell_indx, jacobian_gene, regulators_, effectors_ = (\n",
    "        adata.uns[Jacobian_].get(jkey.split(\"_\")[-1]),\n",
    "        adata.uns[Jacobian_].get(\"cell_idx\"),\n",
    "        adata.uns[Jacobian_].get(jkey.split(\"_\")[-1] + \"_gene\"),\n",
    "        adata.uns[Jacobian_].get(\"regulators\"),\n",
    "        adata.uns[Jacobian_].get(\"effectors\"),\n",
    "    )\n",
    "\n",
    "    adata_ = adata[cell_indx, :]\n",
    "\n",
    "    if regulators is None and effectors is not None:\n",
    "        regulators = effectors\n",
    "    elif effectors is None and regulators is not None:\n",
    "        effectors = regulators\n",
    "    # test the simulation data here\n",
    "    if regulators_ is None or effectors_ is None:\n",
    "        if Der.shape[0] != adata_.n_vars:\n",
    "            source_genes = [j_basis + \"_\" + str(i) for i in range(Der.shape[0])]\n",
    "            target_genes = [j_basis + \"_\" + str(i) for i in range(Der.shape[1])]\n",
    "        else:\n",
    "            source_genes, target_genes = adata_.var_names, adata_.var_names\n",
    "    else:\n",
    "        Der, source_genes, target_genes = intersect_sources_targets(\n",
    "            regulators,\n",
    "            regulators_,\n",
    "            effectors,\n",
    "            effectors_,\n",
    "            Der if jacobian_gene is None else jacobian_gene,\n",
    "        )\n",
    "\n",
    "    df = pd.DataFrame(index=adata.obs_names[cell_indx])\n",
    "    for i, source in enumerate(source_genes):\n",
    "        for j, target in enumerate(target_genes):\n",
    "            J = Der[j, i, :]  # dim 0: target; dim 1: source\n",
    "            key = source + \"->\" + target + \"_jacobian\"\n",
    "            df[key] = np.nan\n",
    "            df.loc[:, key] = J\n",
    "\n",
    "    return df"
   ]
  },
  {
   "cell_type": "code",
   "execution_count": null,
   "id": "9e1abb10-32a7-45cf-971b-cfb6d3149cdc",
   "metadata": {},
   "outputs": [],
   "source": [
    "Krumsiek_11_net = pd.read_csv(\n",
    "    'https://raw.githubusercontent.com/theislab/scanpy/master/scanpy/sim_models/krumsiek11.txt', sep=r'\\s+',\n",
    "    skiprows=np.arange(24))\n",
    "Krumsiek_11_net = Krumsiek_11_net.replace(\n",
    "    {\n",
    "        \"Pu.1\": \"Spi1\",\n",
    "         \"Fog1\": \"ZFPM1\",\n",
    "         \"EKLF\": \"KLF1\",\n",
    "         \"SCL\": \"TAL1\",\n",
    "         \"cJun\": \"Jun\",\n",
    "         \"EgrNab\": \"NAB2\"\n",
    "                     })\n",
    "\n",
    "adata_labeling_11_genes.layers['velocity_S'] = adata_labeling[:, adata_labeling_11_genes.var_names].layers['velocity_alpha_minus_gamma_s'].copy()\n",
    "\n",
    "for ind, i in Krumsiek_11_net.iterrows():\n",
    "    i = i[1].upper(), i[0].upper() # 0 is target while 1 is regulator \n",
    "    if i[0] != i[1]:\n",
    "        print(dyn.pl.jacobian(adata_labeling, x=i[0], y=i[1], layer='M_t',\n",
    "                regulators=i[0],\n",
    "                effectors=i[1]))\n",
    "        print(dyn.pl.streamline_plot(adata_labeling_11_genes, color='cell_type', x=i[0].upper(), y=i[1].upper(), layer='M_t', ekey='M_s', \n",
    "                               vkey='velocity_alpha_minus_gamma_s'))\n",
    "\n",
    "        J_df = get_jacobian(adata_labeling,\n",
    "                             i[0],\n",
    "                             i[1],\n",
    "                             )\n",
    "        \n",
    "        jkey = i[0] + '->' + i[1] + '_jacobian'\n",
    "        adata_labeling.obs['jacobian'] = J_df[jkey]\n",
    "\n",
    "        print(dyn.pl.scatters(adata_labeling, \n",
    "                        color='jacobian', \n",
    "                        cmap='bwr', \n",
    "                        sym_c=True, \n",
    "                        basis=r\"$E_{%s}\\ vs.\\ \\frac{\\partial f_{%s}}{\\partial x_{%s}}$\" % (i[0], i[1], i[0]),\n",
    "                        x=adata_labeling[:, i[0]].layers['M_t'].A.flatten(), \n",
    "                        y=J_df[jkey].values.flatten()))\n",
    "        \n",
    "        print(dyn.pl.scatters(adata_labeling, \n",
    "                color='jacobian', \n",
    "                cmap='bwr', \n",
    "                basis=r\"$E_{%s}\\ vs.\\ f_{%s}}$\" % (i[0], i[1]),\n",
    "                sym_c=True, \n",
    "                x=adata_labeling[:, 'SPI1'].layers['M_t'].A.flatten(), \n",
    "                y=adata_labeling[:, 'GATA1'].layers['velocity_alpha_minus_gamma_s'].A.flatten()))"
   ]
  },
  {
   "cell_type": "code",
   "execution_count": null,
   "id": "c6c456bd-d4ca-4139-927b-9252bb2da2cd",
   "metadata": {},
   "outputs": [],
   "source": [
    "Krumsiek_11_net"
   ]
  },
  {
   "cell_type": "code",
   "execution_count": null,
   "id": "506ca8de-f0fb-4c1e-86ff-e6e58631dacf",
   "metadata": {},
   "outputs": [],
   "source": [
    "i = [\"SPI1\", \"GATA1\"]\n",
    "\n",
    "dyn.pl.streamline_plot(adata_labeling_11_genes, \n",
    "                                       color='cell_type',\n",
    "                                       x=i[0].upper(), \n",
    "                                       y=i[1].upper(), \n",
    "                                       layer='M_t', \n",
    "                                       ekey='M_s', \n",
    "                                       vkey='velocity_alpha_minus_gamma_s',\n",
    "                      )\n",
    "\n",
    "fig1, f1_axes = plt.subplots(ncols=6, nrows=2, constrained_layout=True, figsize=(24, 8)) # \n",
    "# 1. velocity\n",
    "\n",
    "f1_axes[0, 0] = dyn.pl.scatters(adata_labeling, \n",
    "                                color=i[0],\n",
    "                                layer='velocity_alpha_minus_gamma_s', \n",
    "                                use_smoothed=False,\n",
    "                                cmap='bwr', \n",
    "                                basis=r\"$f^{alpha}_{%s}}$\" % (i[0]),\n",
    "                                sym_c=True, \n",
    "                                frontier=True, sort='abs', alpha=0.2, pointsize=0.1,\n",
    "                                x=adata_labeling[:, i[0]].layers['M_t'].A.flatten(), \n",
    "                                y=adata_labeling[:, i[1]].layers['M_t'].A.flatten(), \n",
    "                                ax=f1_axes[0, 0], save_show_or_return='return',\n",
    "                               )\n",
    "f1_axes[1, 0] = dyn.pl.scatters(adata_labeling, \n",
    "                                color=i[1],\n",
    "                                layer='velocity_alpha_minus_gamma_s', \n",
    "                                use_smoothed=False,\n",
    "                                cmap='bwr', \n",
    "                                basis=r\"$f^{alpha}_{%s}}$\" % (i[1]),\n",
    "                                sym_c=True, \n",
    "                                frontier=True, sort='abs', alpha=0.2, pointsize=0.1,\n",
    "                                x=adata_labeling[:, i[0]].layers['M_t'].A.flatten(), \n",
    "                                y=adata_labeling[:, i[1]].layers['M_t'].A.flatten(),\n",
    "                                ax=f1_axes[1, 0], \n",
    "                                save_show_or_return='return',)\n",
    "\n",
    "# 2. jacobian\n",
    "\n",
    "J_df = get_jacobian(adata_labeling,\n",
    "                     i[0],\n",
    "                     i[0],\n",
    "                     )\n",
    "\n",
    "jkey_i0_i0_ = i[0] + '->' + i[0] + '_jacobian'\n",
    "jkey_i0_i0 = i[0] + '_' + i[0] + '_jacobian'\n",
    "\n",
    "adata_labeling.obs[jkey_i0_i0] = J_df[jkey_i0_i0_]\n",
    "\n",
    "f1_axes[0, 1] = dyn.pl.scatters(adata_labeling, vmin=0, vmax=100, \n",
    "                                color=jkey_i0_i0, \n",
    "                                cmap='bwr', \n",
    "                                sym_c=True, frontier=True, sort='abs', alpha=0.2, pointsize=0.1,\n",
    "                                basis=r\"$\\frac{\\partial f_{%s}}{\\partial x_{%s}}$\" % (i[0], i[0]),\n",
    "                                x=adata_labeling[:, i[0]].layers['M_t'].A.flatten(), \n",
    "                                y=adata_labeling[:, i[1]].layers['M_t'].A.flatten(), \n",
    "                                ax=f1_axes[0, 1], \n",
    "                                save_show_or_return='return',\n",
    "                               )\n",
    "\n",
    "J_df = get_jacobian(adata_labeling,\n",
    "                     i[1],\n",
    "                     i[0],\n",
    "                     )\n",
    "\n",
    "jkey_i1_i0 = i[1] + '_' + i[0] + '_jacobian'\n",
    "jkey_i1_i0_ = i[1] + '->' + i[0] + '_jacobian'\n",
    "adata_labeling.obs[jkey_i1_i0] = J_df[jkey_i1_i0_]\n",
    "\n",
    "f1_axes[1, 1] = dyn.pl.scatters(adata_labeling,  vmin=0, vmax=100, \n",
    "                                color=jkey_i1_i0, \n",
    "                                cmap='bwr', \n",
    "                                sym_c=True, frontier=True, sort='abs', alpha=0.2, pointsize=0.1,\n",
    "                                basis=r\"$\\frac{\\partial f_{%s}}{\\partial x_{%s}}$\" % (i[0], i[1]),\n",
    "                                x=adata_labeling[:, i[0]].layers['M_t'].A.flatten(), \n",
    "                                y=adata_labeling[:, i[1]].layers['M_t'].A.flatten(), \n",
    "                                ax=f1_axes[1, 1], \n",
    "                                save_show_or_return='return',\n",
    "                               )\n",
    "\n",
    "\n",
    "# Expression vs. velocity \n",
    "f1_axes[0, 2] = dyn.pl.scatters(adata_labeling, \n",
    "                                color=i[0], vmin=0, vmax=100, \n",
    "                                layer='velocity_alpha_minus_gamma_s', \n",
    "                                use_smoothed=False,\n",
    "                                cmap='bwr', \n",
    "                                basis=r\"$f_{%s}}$\" % (i[0]),\n",
    "                                sym_c=True, \n",
    "                                frontier=True, sort='abs', \n",
    "                                alpha=0.2, pointsize=0.1,\n",
    "                                x=adata_labeling[:, i[0]].layers['M_t'].A.flatten(), \n",
    "                                y=adata_labeling[:, i[0]].layers['velocity_alpha_minus_gamma_s'].A.flatten(),\n",
    "                                ax=f1_axes[0, 2], \n",
    "                                save_show_or_return='return',)\n",
    "        \n",
    "f1_axes[1, 2] = dyn.pl.scatters(adata_labeling, \n",
    "                                color=i[0],  vmin=0, vmax=100, \n",
    "                                layer='velocity_alpha_minus_gamma_s', \n",
    "                                use_smoothed=False,\n",
    "                                cmap='bwr', \n",
    "                                basis=r\"$f_{%s}}$\" % (i[0]),\n",
    "                                sym_c=True, \n",
    "                                frontier=True, sort='abs', alpha=0.2, pointsize=0.1,\n",
    "                                x=adata_labeling[:, i[1]].layers['M_t'].A.flatten(), \n",
    "                                y=adata_labeling[:, i[0]].layers['velocity_alpha_minus_gamma_s'].A.flatten(),\n",
    "                                ax=f1_axes[1, 2], \n",
    "                                save_show_or_return='return',)\n",
    "f1_axes[0, 3] = dyn.pl.scatters(adata_labeling, \n",
    "                                color=i[1],  vmin=0, vmax=100, \n",
    "                                layer='velocity_alpha_minus_gamma_s', \n",
    "                                use_smoothed=False,\n",
    "                                cmap='bwr', \n",
    "                                basis=r\"$f_{%s}}$\" % (i[1]),\n",
    "                                sym_c=True, \n",
    "                                frontier=True, sort='abs', alpha=0.2, pointsize=0.1,\n",
    "                                x=adata_labeling[:, i[0]].layers['M_t'].A.flatten(), \n",
    "                                y=adata_labeling[:, i[1]].layers['velocity_alpha_minus_gamma_s'].A.flatten(),\n",
    "                                ax=f1_axes[0, 3], \n",
    "                                save_show_or_return='return',)\n",
    "        \n",
    "f1_axes[1, 3] = dyn.pl.scatters(adata_labeling, \n",
    "                                color=i[1],  vmin=0, vmax=100, \n",
    "                                layer='velocity_alpha_minus_gamma_s', \n",
    "                                use_smoothed=False,\n",
    "                                cmap='bwr', \n",
    "                                basis=r\"$f_{%s}}$\" % (i[1]),\n",
    "                                sym_c=True, \n",
    "                                frontier=True, sort='abs',alpha=0.2, pointsize=0.1,\n",
    "                                x=adata_labeling[:, i[1]].layers['M_t'].A.flatten(), \n",
    "                                y=adata_labeling[:, i[1]].layers['velocity_alpha_minus_gamma_s'].A.flatten(),\n",
    "                                ax=f1_axes[1, 3], \n",
    "                                save_show_or_return='return',)\n",
    "\n",
    "# Expression vs. jacobian \n",
    "f1_axes[0, 4] = dyn.pl.scatters(adata_labeling, \n",
    "                                color=jkey_i0_i0,   vmin=0, vmax=100, \n",
    "                                cmap='bwr', \n",
    "                                basis=r\"$\\frac{\\partial f_{%s}}{\\partial x_{%s}}$\" % (i[0], i[0]),\n",
    "                                sym_c=True, frontier=True, sort='abs', alpha=0.2, pointsize=0.1,\n",
    "                                x=adata_labeling[:, i[0]].layers['M_t'].A.flatten(), \n",
    "                                y=adata_labeling.obs[jkey_i0_i0].values,\n",
    "                                ax=f1_axes[0, 4], \n",
    "                                save_show_or_return='return',\n",
    "                               )\n",
    "\n",
    "\n",
    "\n",
    "f1_axes[1, 4] = dyn.pl.scatters(adata_labeling, \n",
    "                                color=jkey_i1_i0,  vmin=0, vmax=100, \n",
    "                                cmap='bwr', \n",
    "                                basis=r\"$\\frac{\\partial f_{%s}}{\\partial x_{%s}}$\" % (i[0], i[1]),\n",
    "                                sym_c=True, frontier=True, sort='abs', alpha=0.2, pointsize=0.1,\n",
    "                                x=adata_labeling[:, i[0]].layers['M_t'].A.flatten(), \n",
    "                                y=adata_labeling.obs[jkey_i1_i0].values,\n",
    "                                ax=f1_axes[1, 4], \n",
    "                                save_show_or_return='return',\n",
    "                               )\n",
    "\n",
    "f1_axes[0, 5] = dyn.pl.scatters(adata_labeling, \n",
    "                                color=jkey_i0_i0,   vmin=0, vmax=100, \n",
    "                                cmap='bwr', \n",
    "                                basis=r\"$\\frac{\\partial f_{%s}}{\\partial x_{%s}}$\" % (i[0], i[0]),\n",
    "                                sym_c=True, frontier=True, sort='abs', alpha=0.2, pointsize=0.1,\n",
    "                                x=adata_labeling[:, i[1]].layers['M_t'].A.flatten(), \n",
    "                                y=adata_labeling.obs[jkey_i0_i0].values,\n",
    "                                ax=f1_axes[0, 5], \n",
    "                                save_show_or_return='return',\n",
    "                               )\n",
    "f1_axes[1, 5] = dyn.pl.scatters(adata_labeling,  vmin=0, vmax=100, \n",
    "                                color=jkey_i1_i0, \n",
    "                                cmap='bwr', \n",
    "                                basis=r\"$\\frac{\\partial f_{%s}}{\\partial x_{%s}}$\" % (i[0], i[1]),\n",
    "                                sym_c=True, frontier=True, sort='abs', alpha=0.1, pointsize=0.1,\n",
    "                                x=adata_labeling[:, i[1]].layers['M_t'].A.flatten(), \n",
    "                                y=adata_labeling.obs[jkey_i1_i0].values,\n",
    "                                ax=f1_axes[1, 5], \n",
    "                                save_show_or_return='return',\n",
    "                               )\n",
    "\n",
    "plt.tight_layout()\n",
    "plt.show()"
   ]
  },
  {
   "cell_type": "code",
   "execution_count": null,
   "id": "60132fb2-d12a-425e-8c59-75564a483675",
   "metadata": {},
   "outputs": [],
   "source": [
    "# del adata_labeling.obs[i[0]]\n",
    "# del adata_labeling.obs[i[1]]\n",
    "\n",
    "for ind, i in Krumsiek_11_net.loc[[6, 19], :].iterrows():\n",
    "    i = i[1].upper(), i[0].upper() # 0 is target while 1 is regulator \n",
    "    if i[0] != i[1]:\n",
    "        print(dyn.pl.jacobian(adata_labeling, x=i[0], y=i[1], layer='M_t',\n",
    "                regulators=i[0],\n",
    "                effectors=i[1]))\n",
    "        print(dyn.pl.streamline_plot(adata_labeling_11_genes, color='cell_type', x=i[0].upper(), y=i[1].upper(), layer='M_t', ekey='M_s', \n",
    "                               vkey='velocity_alpha_minus_gamma_s'))\n",
    "\n",
    "#         adata_labeling.obs[i[0]] = adata_labeling[:, i[0]].layers['velocity_alpha_minus_gamma_s'].A.flatten()\n",
    "#         adata_labeling.obs[i[1]] = adata_labeling[:, i[1]].layers['velocity_alpha_minus_gamma_s'].A.flatten()\n",
    "        print(dyn.pl.scatters(adata_labeling, \n",
    "                color=i[0],\n",
    "                layer='velocity_alpha_minus_gamma_s', \n",
    "                use_smoothed=False,\n",
    "                cmap='bwr', \n",
    "                basis=r\"$f_{%s}}$\" % (i[0]),\n",
    "                sym_c=True, \n",
    "                frontier=True, sort='abs',\n",
    "                x=adata_labeling[:, 'SPI1'].layers['M_t'].A.flatten(), \n",
    "                y=adata_labeling[:, 'GATA1'].layers['M_t'].A.flatten()))\n",
    "        \n",
    "        print(dyn.pl.scatters(adata_labeling, \n",
    "                color=i[1],\n",
    "                layer='velocity_alpha_minus_gamma_s', \n",
    "                use_smoothed=False,\n",
    "                cmap='bwr', \n",
    "                basis=r\"$f_{%s}}$\" % (i[1]),\n",
    "                sym_c=True, \n",
    "                frontier=True, sort='abs',\n",
    "                x=adata_labeling[:, 'SPI1'].layers['M_t'].A.flatten(), \n",
    "                y=adata_labeling[:, 'GATA1'].layers['M_t'].A.flatten()))\n",
    "        \n",
    "        J_df = get_jacobian(adata_labeling,\n",
    "                             i[0],\n",
    "                             i[1],\n",
    "                             )\n",
    "        \n",
    "        jkey = i[0] + '->' + i[1] + '_jacobian'\n",
    "        adata_labeling.obs['jacobian'] = J_df[jkey]\n",
    "\n",
    "        print(dyn.pl.scatters(adata_labeling, \n",
    "                        color='jacobian', \n",
    "                        cmap='bwr', \n",
    "                        sym_c=True, \n",
    "                        basis=r\"$E_{%s}\\ vs.\\ \\frac{\\partial f_{%s}}{\\partial x_{%s}}$\" % (i[0], i[1], i[0]),\n",
    "                        x=adata_labeling[:, i[0]].layers['M_t'].A.flatten(), \n",
    "                        y=J_df[jkey].values.flatten()))\n",
    "        \n",
    "        print(dyn.pl.scatters(adata_labeling, \n",
    "                color='jacobian', \n",
    "                cmap='bwr', \n",
    "                basis=r\"$E_{%s}\\ vs.\\ f_{%s}}$\" % (i[0], i[1]),\n",
    "                sym_c=True, \n",
    "                x=adata_labeling[:, 'SPI1'].layers['M_t'].A.flatten(), \n",
    "                y=adata_labeling[:, 'GATA1'].layers['velocity_alpha_minus_gamma_s'].A.flatten()))"
   ]
  },
  {
   "cell_type": "code",
   "execution_count": null,
   "id": "5bf26aab-6f10-42ad-8911-9b18b55fa750",
   "metadata": {},
   "outputs": [],
   "source": []
  },
  {
   "cell_type": "code",
   "execution_count": null,
   "id": "7b380108-bb58-4d77-a4c1-c63adda2bdfe",
   "metadata": {},
   "outputs": [],
   "source": [
    "adata_labeling.obs['SPI1->GATA1_jacobian'] = J_df['SPI1->GATA1_jacobian']\n",
    "\n",
    "dyn.pl.scatters(adata_labeling, \n",
    "                color='SPI1->GATA1_jacobian', \n",
    "                cmap='bwr', \n",
    "                sym_c=True, \n",
    "                basis=r\"$E_{%s}\\ vs.\\ \\frac{\\partial f_{%s}}{\\partial x_{%s}}$\" % (regulators, effectors, regulators),\n",
    "                x=adata_labeling[:, 'SPI1'].layers['M_t'].A.flatten(), \n",
    "                y=J_df['SPI1->GATA1_jacobian'].values.flatten())"
   ]
  },
  {
   "cell_type": "code",
   "execution_count": null,
   "id": "2b307717-af6b-4f31-af0f-dcb012ad484e",
   "metadata": {},
   "outputs": [],
   "source": [
    "dyn.pl.scatters(adata_labeling, \n",
    "                contour=True,\n",
    "                color='SPI1->GATA1_jacobian', \n",
    "                cmap='bwr', \n",
    "                basis=r\"$E_{%s}\\ vs.\\ f_{%s}}$\" % (regulators, effectors),\n",
    "                sym_c=True, \n",
    "                x=adata_labeling[:, 'SPI1'].layers['M_t'].A.flatten(), \n",
    "                y=adata_labeling[:, 'GATA1'].layers['velocity_alpha_minus_gamma_s'].A.flatten())"
   ]
  },
  {
   "cell_type": "code",
   "execution_count": null,
   "id": "0e487382-ad51-469c-953a-274591088b7b",
   "metadata": {},
   "outputs": [],
   "source": [
    "J_df['SPI1->GATA1_jacobian'].values.flatten()"
   ]
  },
  {
   "cell_type": "markdown",
   "id": "a3a31875-0e56-42e4-bacd-cce00c0b0604",
   "metadata": {},
   "source": [
    "# test the idea of separately alpha and gamma_s"
   ]
  },
  {
   "cell_type": "code",
   "execution_count": null,
   "id": "45d61759-9707-4317-868a-38c46bd62a1f",
   "metadata": {},
   "outputs": [],
   "source": [
    "def alpha_minus_gamma_s(new, gamma, t, M_s):\n",
    "    alpha = new.A.T / (1 - np.exp(- gamma.values[:, None] * t.values[None, :])) * gamma.values[:, None]\n",
    "    gamma_s = gamma.values[:, None] * M_s.A.T\n",
    "    alpha_minus_gamma_s = alpha - gamma_s\n",
    "\n",
    "    return alpha, gamma_s, alpha_minus_gamma_s\n",
    "\n",
    "alpha_3, gamma_s_3, time_3_tmp = alpha_minus_gamma_s(new[time_3_cells, :], time_3_gamma, t[time_3_cells], M_s[time_3_cells, :])\n",
    "alpha_5, gamma_s_5, time_5_tmp = alpha_minus_gamma_s(new[time_5_cells, :], time_5_gamma, t[time_5_cells], M_s[time_5_cells, :])\n",
    "\n",
    "alpha_tmp = adata_labeling.layers['velocity_N'].copy()\n",
    "\n",
    "alpha = alpha_tmp[:, adata_labeling.var.use_for_pca].copy()\n",
    "alpha[time_3_cells, :] = alpha_3.T\n",
    "alpha[time_5_cells, :] = alpha_5.T\n",
    "alpha_tmp[:, adata_labeling.var.use_for_pca] = alpha.copy()\n",
    "\n",
    "adata_labeling.layers['alpha'] = alpha_tmp.copy()\n",
    "\n",
    "gamma_tmp = adata_labeling.layers['velocity_N'].copy()\n",
    "\n",
    "gamma_s = gamma_tmp[:, adata_labeling.var.use_for_pca].copy()\n",
    "gamma_s[time_3_cells, :] = gamma_s_3.T\n",
    "gamma_s[time_5_cells, :] = gamma_s_5.T\n",
    "gamma_tmp[:, adata_labeling.var.use_for_pca] = gamma_s.copy()\n",
    "\n",
    "adata_labeling.layers['gamma_s'] = gamma_tmp.copy()\n",
    "\n",
    "adata_labeling.write_h5ad('./adata_labeling_for_jacobian_with_only_alpha.h5ad')"
   ]
  },
  {
   "cell_type": "code",
   "execution_count": null,
   "id": "115a63c7-6a4f-4a39-974f-f55830fb8801",
   "metadata": {},
   "outputs": [],
   "source": [
    "adata_labeling[:, adata_labeling.var.use_for_pca].layers['alpha'][:5, :5].A, adata_labeling[:, adata_labeling.var.use_for_pca].layers['gamma_s'][:5, :5].A"
   ]
  },
  {
   "cell_type": "code",
   "execution_count": null,
   "id": "2c74dca5-080d-4e80-bf55-26ebfd8a3656",
   "metadata": {},
   "outputs": [],
   "source": [
    "alpha_3.shape, gamma_s_3.shape, time_3_tmp.shape"
   ]
  },
  {
   "cell_type": "code",
   "execution_count": null,
   "id": "d487b667-2cf9-47e5-87ba-5154535aef39",
   "metadata": {},
   "outputs": [],
   "source": [
    "adata_labeling"
   ]
  },
  {
   "cell_type": "code",
   "execution_count": null,
   "id": "a6648601-e311-491d-bb82-19475822606f",
   "metadata": {},
   "outputs": [],
   "source": [
    "valid_cell_type = ['HSC', 'MEP-like', 'Meg', 'Ery', 'Bas']\n",
    "\n",
    "df = adata_labeling.obs.query(\"cell_type in @valid_cell_type\").loc[:, ['pca_ddhodge_potential', 'umap_ori_ddhodge_potential', 'cell_type']]\n",
    "df['cell_type'] = list(df['cell_type'])"
   ]
  },
  {
   "cell_type": "code",
   "execution_count": null,
   "id": "d7d668a8-6bc6-4180-9526-697a93e03ace",
   "metadata": {},
   "outputs": [],
   "source": [
    "import seaborn as sns\n",
    "sns.set_theme(style=\"whitegrid\")\n",
    "\n",
    "# Plot the distribution of clarity ratings, conditional on carat\n",
    "sns.displot(\n",
    "    data=df,\n",
    "    x=\"umap_ori_ddhodge_potential\", hue=\"cell_type\",\n",
    "    kind=\"kde\", height=6,\n",
    "    multiple=\"fill\", clip=(0, None),\n",
    "    palette=\"glasbey_white\",\n",
    ")"
   ]
  },
  {
   "cell_type": "code",
   "execution_count": null,
   "id": "31aaf5cb-50d2-47c7-9ab1-a17a65df875b",
   "metadata": {},
   "outputs": [],
   "source": [
    "valid_cell_type = ['Meg', 'Ery', 'Bas']\n",
    "\n",
    "df = adata_labeling.obs.query(\"cell_type in @valid_cell_type\").loc[:, ['pca_ddhodge_potential', 'umap_ori_ddhodge_potential', 'cell_type']]\n",
    "df['cell_type'] = list(df['cell_type'])\n",
    "\n",
    "sns.displot(\n",
    "    data=df,\n",
    "    x=\"umap_ori_ddhodge_potential\", hue=\"cell_type\",\n",
    "    kind=\"kde\", height=6,\n",
    "    multiple=\"fill\", clip=(0, None),\n",
    "    palette=\"glasbey_white\",\n",
    ")\n",
    "plt.xlim(0.5, 1.5)"
   ]
  },
  {
   "cell_type": "code",
   "execution_count": null,
   "id": "9ee6918f-c3d3-4994-a6db-1ff7324a6a6b",
   "metadata": {},
   "outputs": [],
   "source": [
    "dyn.vf.speed(adata_labeling, basis='pca')\n",
    "dyn.vf.speed(adata_labeling, basis='umap_ori')\n",
    "\n",
    "adata_labeling"
   ]
  },
  {
   "cell_type": "code",
   "execution_count": null,
   "id": "371c0bad-64dd-4844-877d-9fdf28cc11ee",
   "metadata": {},
   "outputs": [],
   "source": [
    "#valid_cell_type = ['Meg', 'Ery', 'Bas']\n",
    "\n",
    "df = adata_labeling.obs.loc[:, ['pca_ddhodge_potential', 'umap_ori_ddhodge_potential', 'speed_pca', 'speed_umap_ori', 'cell_type']]\n",
    "df['cell_type'] = list(df['cell_type'])\n",
    "\n",
    "dyn.pl.scatters(adata_labeling, x=df['umap_ori_ddhodge_potential'].values, y=df['speed_umap_ori'].values, color='cell_type')\n",
    "# plt.xlim(0.5, 1.5)\n",
    "# plt.ylim(0, 0.15)"
   ]
  },
  {
   "cell_type": "code",
   "execution_count": null,
   "id": "6365fd84-1e7a-4cba-a812-7abcb36b5498",
   "metadata": {},
   "outputs": [],
   "source": [
    "# dyn.vf.VectorField(adata_labeling, )\n",
    "valid_cell_type = ['Meg', 'Ery', 'Bas']\n",
    "\n",
    "df = adata_labeling.obs.query(\"cell_type in @valid_cell_type\").loc[:, ['pca_ddhodge_potential', 'umap_ori_ddhodge_potential', 'cell_type']]\n",
    "df['cell_type'] = list(df['cell_type'])\n",
    "\n",
    "ax = sns.displot(\n",
    "    data=df,\n",
    "    x=\"umap_ori_ddhodge_potential\", hue=\"cell_type\",\n",
    "    kind=\"kde\",\n",
    "    palette=\"glasbey_white\",\n",
    ")\n",
    "plt.xlim(0.5, 1.5)\n",
    "plt.ylim(0, 0.15)\n",
    "# sns.displot(data=penguins, x=\"flipper_length_mm\", hue=\"species\", col=\"sex\", kind=\"kde\")\n"
   ]
  },
  {
   "cell_type": "code",
   "execution_count": null,
   "id": "57ab766b-fba2-4509-a690-384f068f1396",
   "metadata": {},
   "outputs": [],
   "source": [
    "valid_cell_type = ['Meg', 'Ery', 'Bas']\n",
    "\n",
    "df = adata_labeling#.obs.query(\"cell_type in @valid_cell_type\").loc[:, ['pca_ddhodge_potential', 'umap_ori_ddhodge_potential', 'cell_type']]\n",
    "df['cell_type'] = list(df['cell_type'])\n",
    "\n",
    "ax = sns.regplot(x=\"umap_ori_ddhodge_potential\", y=\"big_tip\", data=tips,\n",
    "                 logistic=True, n_boot=500, y_jitter=.03)\n",
    "\n",
    "plt.xlim(0.5, 1.5)\n",
    "plt.ylim(0, 0.15)"
   ]
  },
  {
   "cell_type": "code",
   "execution_count": null,
   "id": "fcfafe8e-cacc-45cb-8353-d27cfcf3fe12",
   "metadata": {},
   "outputs": [],
   "source": [
    "dyn.pl.streamline_plot(adata_labeling, color=['pca_ddhodge_potential', 'umap_ori_ddhodge_potential', 'cell_type'], basis='umap_ori')"
   ]
  },
  {
   "cell_type": "code",
   "execution_count": null,
   "id": "d9bb1973-1157-4f04-8f58-a578e22e6133",
   "metadata": {},
   "outputs": [],
   "source": [
    "dyn.pd.state_graph(adata_labeling, group='cell_type', basis='umap_ori') # the markov method "
   ]
  },
  {
   "cell_type": "code",
   "execution_count": null,
   "id": "b6664ea5-8a65-4809-af74-d7f75e2b02e7",
   "metadata": {},
   "outputs": [],
   "source": [
    "dyn.pl.state_graph(adata_labeling, group='cell_type', color='cell_type', basis='umap_ori', show_legend='on data')"
   ]
  },
  {
   "cell_type": "code",
   "execution_count": null,
   "id": "30cd1fa6-077c-4ec5-87ef-fd70dafb4f6e",
   "metadata": {},
   "outputs": [],
   "source": [
    "dyn.tl.neighbors(adata_labeling, basis='umap_ori', result_prefix='umap_ori_knn', n_neighbors=80)\n"
   ]
  },
  {
   "cell_type": "code",
   "execution_count": null,
   "id": "d5acb0e4-90bd-41a3-924c-687f53ae199d",
   "metadata": {},
   "outputs": [],
   "source": [
    "from scipy.sparse import csr_matrix\n",
    "from scipy.sparse.csgraph import minimum_spanning_tree\n",
    "from patsy import dmatrix\n",
    "\n",
    "group = 'cell_type'\n",
    "data = adata_labeling.obs\n",
    "groups = adata_labeling.obs['cell_type']\n",
    "uniq_cts, data[group] = groups.unique(), list(groups)\n",
    "\n",
    "transition_matrix = adata_labeling.obsp['umap_ori_knn_distances']\n",
    "cell_membership = csr_matrix(dmatrix(f\"~{group}+0\", data=data))\n",
    "membership_matrix = cell_membership.T.dot(transition_matrix).dot(cell_membership)\n",
    "group_graph = adata_labeling.uns['cell_type_graph']['group_graph']\n",
    "\n",
    "tmp = ['Bas', 'Ery', 'GMP-like', 'HSC', 'MEP-like', 'Meg', 'Mon', 'Neu']\n",
    "membership_df = pd.DataFrame(membership_matrix.A> 0, index=tmp, columns=tmp)\n",
    "group_graph_df = pd.DataFrame(group_graph, index=uniq_cts, columns=uniq_cts)\n",
    "adata_labeling.uns['cell_type2_graph'] = adata_labeling.uns['cell_type_graph'].copy()\n",
    "adata_labeling.uns['cell_type2_graph']['group_graph'] = (group_graph  * (membership_df.loc[uniq_cts, uniq_cts].values > 0) > 0).astype(float) # (group_graph  * (membership_matrix > 0) > 0).astype(float)\n",
    "\n",
    "adata_labeling.obs['cell_type2'] = adata_labeling.obs['cell_type'].copy() \n",
    "dyn.pl.state_graph(adata_labeling, group='cell_type2', keep_only_one_direction=False, transition_threshold=None, color='cell_type2', basis='umap_ori', show_legend='on data')"
   ]
  },
  {
   "cell_type": "code",
   "execution_count": null,
   "id": "9f024b1f-e0d8-4433-a298-bf60cf37d205",
   "metadata": {},
   "outputs": [],
   "source": [
    "data[group], np.sort(tmp)"
   ]
  },
  {
   "cell_type": "code",
   "execution_count": null,
   "id": "67d82adf-53ba-4fef-bebd-1534c43cf536",
   "metadata": {},
   "outputs": [],
   "source": [
    "from scipy.sparse import csr_matrix\n",
    "from scipy.sparse.csgraph import minimum_spanning_tree\n",
    "from patsy import dmatrix\n",
    "\n",
    "group = 'cell_type'\n",
    "data = adata_labeling.obs\n",
    "\n",
    "transition_matrix = adata_labeling.obsp['umap_ori_knn_distances']\n",
    "cell_membership = csr_matrix(dmatrix(f\"~{group}+0\", data=data))\n",
    "membership_matrix = cell_membership.T.dot(transition_matrix).dot(cell_membership)\n",
    "group_graph = adata_labeling.uns['cell_type_graph']['group_graph']\n",
    "\n",
    "membership_df = pd.DataFrame(membership_matrix.A> 0, \n",
    "             index=['Bas', 'Ery', 'GMP-like', 'HSC', 'MEP-like', 'Meg', 'Mon', 'Neu'], \n",
    "             columns=['Bas', 'Ery', 'GMP-like', 'HSC', 'MEP-like', 'Meg', 'Mon', 'Neu'])\n",
    "uniq_cts = adata_labeling.obs['cell_type'].unique()\n",
    "group_graph_df = pd.DataFrame(group_graph, \n",
    "             index=uniq_cts, \n",
    "             columns=uniq_cts)\n",
    "adata_labeling.uns['cell_type2_graph'] = adata_labeling.uns['cell_type_graph'].copy()\n",
    "adata_labeling.uns['cell_type2_graph']['group_graph'] = (group_graph  * (membership_df.loc[uniq_cts, uniq_cts].values > 0) > 0).astype(float)\n",
    "\n",
    "adata_labeling.obs['cell_type2'] = adata_labeling.obs['cell_type'].copy() \n",
    "dyn.pl.state_graph(adata_labeling, group='cell_type2', keep_only_one_direction=False, transition_threshold=None, color='cell_type2', basis='umap_ori', show_legend='on data')"
   ]
  },
  {
   "cell_type": "code",
   "execution_count": null,
   "id": "9d6e7219-4b12-4c99-b7fc-9be67bbad5ef",
   "metadata": {},
   "outputs": [],
   "source": [
    "uniq_cts"
   ]
  },
  {
   "cell_type": "code",
   "execution_count": null,
   "id": "61f63fcb-180a-4ccc-ac25-977ac689c415",
   "metadata": {},
   "outputs": [],
   "source": [
    "source = list(uniq_cts).index('HSC')\n",
    "target = [list(uniq_cts).index(i) for i in ['Mon', 'Meg', 'Ery', 'Bas', 'Neu']]"
   ]
  },
  {
   "cell_type": "code",
   "execution_count": null,
   "id": "2a55f75f-4867-4d63-83af-42bb2e2ba60e",
   "metadata": {},
   "outputs": [],
   "source": [
    "M"
   ]
  },
  {
   "cell_type": "code",
   "execution_count": null,
   "id": "ab80f931-53b7-4c1c-9b62-955934575d29",
   "metadata": {},
   "outputs": [],
   "source": [
    "from scipy.sparse.csgraph import shortest_path\n",
    "\n",
    "M = (group_graph  * (membership_df.loc[uniq_cts, uniq_cts].values > 0) > 0).astype(float)\n",
    "M = adata_labeling.uns['cell_type2_graph']['group_graph']\n",
    "M[M > 0] = 1 - M[M > 0]\n",
    "\n",
    "D, Pr = shortest_path(M, directed=False, method='FW', return_predecessors=True)\n",
    "res = np.zeros(M.shape)\n",
    "\n",
    "def get_path(Pr, i, j):\n",
    "    path = [j]\n",
    "    k = j\n",
    "    while Pr[i, k] != -9999:\n",
    "        path.append(Pr[i, k])\n",
    "        k = Pr[i, k]\n",
    "    return path[::-1]\n",
    "\n",
    "for j in target:\n",
    "    p = j\n",
    "    while Pr[source, p] != -9999:\n",
    "        res[Pr[source, p], p] = 1\n",
    "        p = Pr[source, p]\n",
    "    \n",
    "adata_labeling.uns['cell_type2_graph']['group_graph'] = res\n",
    "\n",
    "dyn.pl.state_graph(adata_labeling, group='cell_type2', keep_only_one_direction=False, transition_threshold=None, color='cell_type2', basis='umap_ori', show_legend='on data')"
   ]
  },
  {
   "cell_type": "code",
   "execution_count": null,
   "id": "1197dc87-3814-4042-bd47-b40a6fda85ef",
   "metadata": {},
   "outputs": [],
   "source": [
    "np.zeros_like(M)\n",
    "\n",
    "for i, j in enumerate(Pr[source]):\n",
    "    if j != -9999:\n",
    "        p = Pr[source, j]\n",
    "    if p != -9999:\n",
    "        res[j, p] = 1\n",
    "        \n",
    "res, Pr"
   ]
  },
  {
   "cell_type": "code",
   "execution_count": null,
   "id": "517257ab-98c7-4737-aca6-a4650c47e12c",
   "metadata": {},
   "outputs": [],
   "source": [
    "membership_df.loc[\"GMP-like\", 'MEP-like'] = 0\n",
    "membership_df.loc[\"MEP-like\", 'Mon'] = 0\n",
    "membership_df.loc[\"Mon\", 'Neu'] = 0\n",
    "membership_df.loc[\"Mon\", 'Bas'] = 0\n",
    "membership_df.loc[\"Ery\", 'Bas'] = 0\n",
    "membership_df.loc[\"Ery\", 'Meg'] = 0\n",
    "\n",
    "adata_labeling.uns['cell_type2_graph']['group_graph'] = (group_graph  * (membership_df.loc[uniq_cts, uniq_cts].values > 0) > 0).astype(float)\n",
    "\n",
    "adata_labeling.obs['cell_type2'] = adata_labeling.obs['cell_type'].copy() \n",
    "dyn.pl.state_graph(adata_labeling, group='cell_type2', keep_only_one_direction=False, transition_threshold=None, color='cell_type2', basis='umap_ori', show_legend='on data')"
   ]
  },
  {
   "cell_type": "code",
   "execution_count": null,
   "id": "32187bbe-1b68-4a0b-9acf-aeeec4279b7b",
   "metadata": {},
   "outputs": [],
   "source": [
    "(group_graph  * (membership_df.loc[uniq_cts, uniq_cts].values > 0) > 0).astype(float)"
   ]
  },
  {
   "cell_type": "code",
   "execution_count": null,
   "id": "ce651333-7a22-46ed-8eac-4565a4eaf862",
   "metadata": {},
   "outputs": [],
   "source": [
    "#group_graph * \n",
    "pd.DataFrame(membership_matrix.A> 0, \n",
    "             index=['Bas', 'Ery', 'GMP-like', 'HSC', 'MEP-like', 'Meg', 'Mon', 'Neu'], \n",
    "             columns=['Bas', 'Ery', 'GMP-like', 'HSC', 'MEP-like', 'Meg', 'Mon', 'Neu'])"
   ]
  },
  {
   "cell_type": "code",
   "execution_count": null,
   "id": "19084c86-34bf-4024-a662-cfb586607135",
   "metadata": {},
   "outputs": [],
   "source": [
    "cell_membership.A[:5, :], adata_labeling.obs.cell_type[:5]\n"
   ]
  },
  {
   "cell_type": "code",
   "execution_count": null,
   "id": "16be0ed6-c421-4217-ae85-aaa9e63af3b1",
   "metadata": {},
   "outputs": [],
   "source": [
    "dyn.pd.state_graph(adata_labeling, group='cell_type', method='markov', transition_mat_key='cosine_transition_matrix') # the markov method "
   ]
  },
  {
   "cell_type": "code",
   "execution_count": null,
   "id": "b5a750ff-a12a-4a99-8ac2-ed8479441f2c",
   "metadata": {},
   "outputs": [],
   "source": [
    "dyn.pl.state_graph(adata_labeling, group='cell_type', color='cell_type', basis='umap_ori')"
   ]
  },
  {
   "cell_type": "code",
   "execution_count": null,
   "id": "4fe650e1-6fda-493b-9f00-ef143054070d",
   "metadata": {},
   "outputs": [],
   "source": [
    "adata_labeling"
   ]
  },
  {
   "cell_type": "code",
   "execution_count": null,
   "id": "bde06c4c-4925-4ed4-a084-3b4568d1f16d",
   "metadata": {},
   "outputs": [],
   "source": [
    "dyn.tl.cell_velocities(adata_labeling,\n",
    "                       X=adata_labeling.layers['M_t'],\n",
    "                       V=adata_labeling.layers['velocity_alpha_minus_gamma_s'],\n",
    "                       basis='umap',\n",
    "                       method='fp',\n",
    "                       enforce=True,\n",
    "                       )\n",
    "\n",
    "adata_labeling"
   ]
  },
  {
   "cell_type": "code",
   "execution_count": null,
   "id": "670d77a2-82c6-49ef-a4c6-767f9f705edb",
   "metadata": {},
   "outputs": [],
   "source": [
    "dyn.pd.state_graph(adata_labeling,\n",
    "                   group='cell_type',\n",
    "                   method='markov',\n",
    "                   transition_mat_key='fp_transition_matrix') # the markov method\n",
    "dyn.pl.state_graph(adata_labeling, group='cell_type', basis='umap_ori', color='cell_type', show_legend='on data')\n"
   ]
  },
  {
   "cell_type": "code",
   "execution_count": null,
   "id": "fe7b74f3-b42a-4d9e-a805-f63fc4e14848",
   "metadata": {},
   "outputs": [],
   "source": [
    "from scipy.sparse.csgraph import minimum_spanning_tree\n",
    "X = adata_labeling.uns['cell_type_graph']['group_graph']\n",
    "Tcsr = minimum_spanning_tree(X)\n",
    "\n",
    "adata_labeling.uns['cell_type_graph']['group_graph'] = Tcsr.A\n",
    "dyn.pl.state_graph(adata_labeling, group='cell_type', basis='umap_ori', color='cell_type', show_legend='on data')\n"
   ]
  },
  {
   "cell_type": "code",
   "execution_count": null,
   "id": "c7cd18a4-2ae4-4c6b-86db-28e56c832aab",
   "metadata": {},
   "outputs": [],
   "source": [
    "Tcsr"
   ]
  },
  {
   "cell_type": "code",
   "execution_count": null,
   "id": "d2f15fa6-5b73-44ab-bca7-2d137c1265b9",
   "metadata": {},
   "outputs": [],
   "source": []
  }
 ],
 "metadata": {
  "interpreter": {
   "hash": "149170a34b80921e9f067d63e9cd48cc3daa8835f3726c438cfa63a39a78a9cb"
  },
  "kernelspec": {
   "display_name": "Python3.7 My Test Env",
   "language": "python",
   "name": "python3"
  },
  "language_info": {
   "codemirror_mode": {
    "name": "ipython",
    "version": 3
   },
   "file_extension": ".py",
   "mimetype": "text/x-python",
   "name": "python",
   "nbconvert_exporter": "python",
   "pygments_lexer": "ipython3",
   "version": "3.9.7"
  },
  "widgets": {
   "application/vnd.jupyter.widget-state+json": {
    "state": {},
    "version_major": 2,
    "version_minor": 0
   }
  }
 },
 "nbformat": 4,
 "nbformat_minor": 5
}
