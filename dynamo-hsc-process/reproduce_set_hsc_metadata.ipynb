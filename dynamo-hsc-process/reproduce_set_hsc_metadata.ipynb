{
 "cells": [
  {
   "cell_type": "code",
   "execution_count": null,
   "metadata": {},
   "outputs": [
    {
     "name": "stderr",
     "output_type": "stream",
     "text": [
      "<frozen importlib._bootstrap>:228: RuntimeWarning: scipy._lib.messagestream.MessageStream size changed, may indicate binary incompatibility. Expected 56 from C header, got 64 from PyObject\n"
     ]
    },
    {
     "name": "stdout",
     "output_type": "stream",
     "text": [
      "|-----> setting visualization default mode in dynamo. Your customized matplotlib settings might be overritten.\n"
     ]
    },
    {
     "name": "stderr",
     "output_type": "stream",
     "text": [
      "/Users/random/opt/anaconda3/envs/dynamo-dev/lib/python3.9/site-packages/nxviz/__init__.py:18: UserWarning: \n",
      "nxviz has a new API! Version 0.7.3 onwards, the old class-based API is being\n",
      "deprecated in favour of a new API focused on advancing a grammar of network\n",
      "graphics. If your plotting code depends on the old API, please consider\n",
      "pinning nxviz at version 0.7.3, as the new API will break your old code.\n",
      "\n",
      "To check out the new API, please head over to the docs at\n",
      "https://ericmjl.github.io/nxviz/ to learn more. We hope you enjoy using it!\n",
      "\n",
      "(This deprecation message will go away in version 1.0.)\n",
      "\n",
      "  warnings.warn(\n"
     ]
    }
   ],
   "source": [
    "import dynamo as dyn\n",
    "import pandas as pd\n",
    "import numpy as np\n",
    "import scipy\n",
    "import scanpy as sc\n",
    "import warnings\n",
    "warnings.filterwarnings(\"ignore\")\n",
    "\n",
    "adata_hsc_raw = dyn.read(\"./hsc_all_combined_all_layers.h5ad\")\n"
   ]
  },
  {
   "cell_type": "markdown",
   "id": "473e94c7",
   "metadata": {},
   "source": [
    "## Read and set HSC metadata"
   ]
  },
  {
   "cell_type": "code",
   "execution_count": null,
   "id": "c4f94ccc-326f-4b2c-863d-0ac32db78258",
   "metadata": {},
   "outputs": [
    {
     "data": {
      "text/html": [
       "<div>\n",
       "<style scoped>\n",
       "    .dataframe tbody tr th:only-of-type {\n",
       "        vertical-align: middle;\n",
       "    }\n",
       "\n",
       "    .dataframe tbody tr th {\n",
       "        vertical-align: top;\n",
       "    }\n",
       "\n",
       "    .dataframe thead th {\n",
       "        text-align: right;\n",
       "    }\n",
       "</style>\n",
       "<table border=\"1\" class=\"dataframe\">\n",
       "  <thead>\n",
       "    <tr style=\"text-align: right;\">\n",
       "      <th></th>\n",
       "      <th>batch</th>\n",
       "      <th>time</th>\n",
       "      <th>cell_type</th>\n",
       "      <th>nGenes</th>\n",
       "      <th>nCounts</th>\n",
       "      <th>pMito</th>\n",
       "      <th>pass_basic_filter</th>\n",
       "      <th>new_Size_Factor</th>\n",
       "      <th>initial_new_cell_size</th>\n",
       "      <th>total_Size_Factor</th>\n",
       "      <th>...</th>\n",
       "      <th>pca_ddhodge_potential</th>\n",
       "      <th>umap_ori_ddhodge_div</th>\n",
       "      <th>umap_ori_ddhodge_potential</th>\n",
       "      <th>curl_umap_ori</th>\n",
       "      <th>divergence_umap_ori</th>\n",
       "      <th>control_point_umap_ori</th>\n",
       "      <th>inlier_prob_umap_ori</th>\n",
       "      <th>obs_vf_angle_umap_ori</th>\n",
       "      <th>n_counts</th>\n",
       "      <th>mt_frac</th>\n",
       "    </tr>\n",
       "    <tr>\n",
       "      <th>barcode</th>\n",
       "      <th></th>\n",
       "      <th></th>\n",
       "      <th></th>\n",
       "      <th></th>\n",
       "      <th></th>\n",
       "      <th></th>\n",
       "      <th></th>\n",
       "      <th></th>\n",
       "      <th></th>\n",
       "      <th></th>\n",
       "      <th></th>\n",
       "      <th></th>\n",
       "      <th></th>\n",
       "      <th></th>\n",
       "      <th></th>\n",
       "      <th></th>\n",
       "      <th></th>\n",
       "      <th></th>\n",
       "      <th></th>\n",
       "      <th></th>\n",
       "      <th></th>\n",
       "    </tr>\n",
       "  </thead>\n",
       "  <tbody>\n",
       "    <tr>\n",
       "      <th>CCACAAGCGTGC-JL12_0</th>\n",
       "      <td>JL12_0</td>\n",
       "      <td>3</td>\n",
       "      <td>Mon</td>\n",
       "      <td>1196</td>\n",
       "      <td>1944.0</td>\n",
       "      <td>0.114198</td>\n",
       "      <td>True</td>\n",
       "      <td>1.039024</td>\n",
       "      <td>852.0</td>\n",
       "      <td>1.227772</td>\n",
       "      <td>...</td>\n",
       "      <td>0.507833</td>\n",
       "      <td>-16.341991</td>\n",
       "      <td>1.792488</td>\n",
       "      <td>-0.046206</td>\n",
       "      <td>0.112111</td>\n",
       "      <td>False</td>\n",
       "      <td>0.999549</td>\n",
       "      <td>0.176351</td>\n",
       "      <td>3466.0</td>\n",
       "      <td>0.073572</td>\n",
       "    </tr>\n",
       "    <tr>\n",
       "      <th>CCATCCTGTGGA-JL12_0</th>\n",
       "      <td>JL12_0</td>\n",
       "      <td>3</td>\n",
       "      <td>Meg</td>\n",
       "      <td>1172</td>\n",
       "      <td>1706.0</td>\n",
       "      <td>0.067995</td>\n",
       "      <td>True</td>\n",
       "      <td>0.506098</td>\n",
       "      <td>415.0</td>\n",
       "      <td>1.002834</td>\n",
       "      <td>...</td>\n",
       "      <td>4.700147</td>\n",
       "      <td>41.514399</td>\n",
       "      <td>3.392540</td>\n",
       "      <td>0.098062</td>\n",
       "      <td>-0.273977</td>\n",
       "      <td>False</td>\n",
       "      <td>0.860345</td>\n",
       "      <td>0.354914</td>\n",
       "      <td>2831.0</td>\n",
       "      <td>0.048746</td>\n",
       "    </tr>\n",
       "    <tr>\n",
       "      <th>CCCTCGGCCGCA-JL12_0</th>\n",
       "      <td>JL12_0</td>\n",
       "      <td>3</td>\n",
       "      <td>Mon</td>\n",
       "      <td>663</td>\n",
       "      <td>915.0</td>\n",
       "      <td>0.044809</td>\n",
       "      <td>True</td>\n",
       "      <td>0.507317</td>\n",
       "      <td>416.0</td>\n",
       "      <td>0.718030</td>\n",
       "      <td>...</td>\n",
       "      <td>0.659788</td>\n",
       "      <td>-10.063857</td>\n",
       "      <td>1.593789</td>\n",
       "      <td>-0.017185</td>\n",
       "      <td>0.040728</td>\n",
       "      <td>False</td>\n",
       "      <td>0.999324</td>\n",
       "      <td>-0.352141</td>\n",
       "      <td>2027.0</td>\n",
       "      <td>0.024667</td>\n",
       "    </tr>\n",
       "    <tr>\n",
       "      <th>CCGCCCACCATG-JL12_0</th>\n",
       "      <td>JL12_0</td>\n",
       "      <td>3</td>\n",
       "      <td>Mon</td>\n",
       "      <td>2349</td>\n",
       "      <td>4739.0</td>\n",
       "      <td>0.138637</td>\n",
       "      <td>True</td>\n",
       "      <td>3.087805</td>\n",
       "      <td>2532.0</td>\n",
       "      <td>3.222813</td>\n",
       "      <td>...</td>\n",
       "      <td>0.609316</td>\n",
       "      <td>-15.608460</td>\n",
       "      <td>1.580450</td>\n",
       "      <td>0.110991</td>\n",
       "      <td>0.144292</td>\n",
       "      <td>False</td>\n",
       "      <td>0.999277</td>\n",
       "      <td>-0.449798</td>\n",
       "      <td>9098.0</td>\n",
       "      <td>0.086942</td>\n",
       "    </tr>\n",
       "    <tr>\n",
       "      <th>CCGCTGTGTAAG-JL12_0</th>\n",
       "      <td>JL12_0</td>\n",
       "      <td>3</td>\n",
       "      <td>MPP</td>\n",
       "      <td>1365</td>\n",
       "      <td>2140.0</td>\n",
       "      <td>0.077103</td>\n",
       "      <td>True</td>\n",
       "      <td>1.018293</td>\n",
       "      <td>835.0</td>\n",
       "      <td>1.231669</td>\n",
       "      <td>...</td>\n",
       "      <td>0.526728</td>\n",
       "      <td>-4.605920</td>\n",
       "      <td>1.269363</td>\n",
       "      <td>-0.040901</td>\n",
       "      <td>0.104698</td>\n",
       "      <td>False</td>\n",
       "      <td>0.999717</td>\n",
       "      <td>0.006409</td>\n",
       "      <td>3477.0</td>\n",
       "      <td>0.057521</td>\n",
       "    </tr>\n",
       "  </tbody>\n",
       "</table>\n",
       "<p>5 rows × 36 columns</p>\n",
       "</div>"
      ],
      "text/plain": [
       "                      batch  time cell_type  nGenes  nCounts     pMito  \\\n",
       "barcode                                                                  \n",
       "CCACAAGCGTGC-JL12_0  JL12_0     3       Mon    1196   1944.0  0.114198   \n",
       "CCATCCTGTGGA-JL12_0  JL12_0     3       Meg    1172   1706.0  0.067995   \n",
       "CCCTCGGCCGCA-JL12_0  JL12_0     3       Mon     663    915.0  0.044809   \n",
       "CCGCCCACCATG-JL12_0  JL12_0     3       Mon    2349   4739.0  0.138637   \n",
       "CCGCTGTGTAAG-JL12_0  JL12_0     3       MPP    1365   2140.0  0.077103   \n",
       "\n",
       "                     pass_basic_filter  new_Size_Factor  \\\n",
       "barcode                                                   \n",
       "CCACAAGCGTGC-JL12_0               True         1.039024   \n",
       "CCATCCTGTGGA-JL12_0               True         0.506098   \n",
       "CCCTCGGCCGCA-JL12_0               True         0.507317   \n",
       "CCGCCCACCATG-JL12_0               True         3.087805   \n",
       "CCGCTGTGTAAG-JL12_0               True         1.018293   \n",
       "\n",
       "                     initial_new_cell_size  total_Size_Factor  ...  \\\n",
       "barcode                                                        ...   \n",
       "CCACAAGCGTGC-JL12_0                  852.0           1.227772  ...   \n",
       "CCATCCTGTGGA-JL12_0                  415.0           1.002834  ...   \n",
       "CCCTCGGCCGCA-JL12_0                  416.0           0.718030  ...   \n",
       "CCGCCCACCATG-JL12_0                 2532.0           3.222813  ...   \n",
       "CCGCTGTGTAAG-JL12_0                  835.0           1.231669  ...   \n",
       "\n",
       "                     pca_ddhodge_potential  umap_ori_ddhodge_div  \\\n",
       "barcode                                                            \n",
       "CCACAAGCGTGC-JL12_0               0.507833            -16.341991   \n",
       "CCATCCTGTGGA-JL12_0               4.700147             41.514399   \n",
       "CCCTCGGCCGCA-JL12_0               0.659788            -10.063857   \n",
       "CCGCCCACCATG-JL12_0               0.609316            -15.608460   \n",
       "CCGCTGTGTAAG-JL12_0               0.526728             -4.605920   \n",
       "\n",
       "                     umap_ori_ddhodge_potential  curl_umap_ori  \\\n",
       "barcode                                                          \n",
       "CCACAAGCGTGC-JL12_0                    1.792488      -0.046206   \n",
       "CCATCCTGTGGA-JL12_0                    3.392540       0.098062   \n",
       "CCCTCGGCCGCA-JL12_0                    1.593789      -0.017185   \n",
       "CCGCCCACCATG-JL12_0                    1.580450       0.110991   \n",
       "CCGCTGTGTAAG-JL12_0                    1.269363      -0.040901   \n",
       "\n",
       "                     divergence_umap_ori  control_point_umap_ori  \\\n",
       "barcode                                                            \n",
       "CCACAAGCGTGC-JL12_0             0.112111                   False   \n",
       "CCATCCTGTGGA-JL12_0            -0.273977                   False   \n",
       "CCCTCGGCCGCA-JL12_0             0.040728                   False   \n",
       "CCGCCCACCATG-JL12_0             0.144292                   False   \n",
       "CCGCTGTGTAAG-JL12_0             0.104698                   False   \n",
       "\n",
       "                     inlier_prob_umap_ori  obs_vf_angle_umap_ori n_counts  \\\n",
       "barcode                                                                     \n",
       "CCACAAGCGTGC-JL12_0              0.999549               0.176351   3466.0   \n",
       "CCATCCTGTGGA-JL12_0              0.860345               0.354914   2831.0   \n",
       "CCCTCGGCCGCA-JL12_0              0.999324              -0.352141   2027.0   \n",
       "CCGCCCACCATG-JL12_0              0.999277              -0.449798   9098.0   \n",
       "CCGCTGTGTAAG-JL12_0              0.999717               0.006409   3477.0   \n",
       "\n",
       "                      mt_frac  \n",
       "barcode                        \n",
       "CCACAAGCGTGC-JL12_0  0.073572  \n",
       "CCATCCTGTGGA-JL12_0  0.048746  \n",
       "CCCTCGGCCGCA-JL12_0  0.024667  \n",
       "CCGCCCACCATG-JL12_0  0.086942  \n",
       "CCGCTGTGTAAG-JL12_0  0.057521  \n",
       "\n",
       "[5 rows x 36 columns]"
      ]
     },
     "metadata": {},
     "output_type": "display_data"
    }
   ],
   "source": [
    "adata_labeling = adata_hsc_raw\n",
    "# TODO: csv results from leiden\n",
    "labeling_obs_metadata = pd.read_csv(\"adata_labeling_all_combined_processed_final.csv\", index_col=0)\n",
    "labeling_obs_metadata.head()\n"
   ]
  },
  {
   "cell_type": "code",
   "execution_count": null,
   "id": "ba70dec4",
   "metadata": {},
   "outputs": [
    {
     "data": {
      "text/plain": [
       "((2019, 26193), (1947, 36))"
      ]
     },
     "metadata": {},
     "output_type": "display_data"
    }
   ],
   "source": [
    "adata_labeling.shape, labeling_obs_metadata.shape\n"
   ]
  },
  {
   "cell_type": "code",
   "execution_count": null,
   "id": "428f99fb",
   "metadata": {},
   "outputs": [],
   "source": [
    "obs_names = set(adata_labeling.obs_names).intersection(labeling_obs_metadata.index)\n",
    "obs_names = list(obs_names)\n",
    "# adata_labeling = adata_labeling[obs_names, :]\n"
   ]
  },
  {
   "cell_type": "code",
   "execution_count": null,
   "id": "78d61a7e-76a1-476b-8f13-b7d74ca19a53",
   "metadata": {},
   "outputs": [],
   "source": [
    "adata_labeling.obs[\"cell_type\"] = np.nan\n",
    "adata_labeling.obs[\"cell_type\"][obs_names] = list(labeling_obs_metadata.loc[obs_names, \"cell_type\"])\n"
   ]
  },
  {
   "cell_type": "code",
   "execution_count": null,
   "id": "57ff5c9a-0ebe-4404-8b8d-453c49b862cc",
   "metadata": {},
   "outputs": [
    {
     "data": {
      "text/plain": [
       "array(['Mon', 'Meg', 'MPP', 'Ery', 'Bas', 'GMP', nan, 'HSC', 'Neu'],\n",
       "      dtype=object)"
      ]
     },
     "metadata": {},
     "output_type": "display_data"
    }
   ],
   "source": [
    "adata_labeling.obs[\"cell_type\"].unique()\n"
   ]
  },
  {
   "cell_type": "code",
   "execution_count": null,
   "id": "b20c02f7-fb1f-46a5-a41e-617911c6e920",
   "metadata": {},
   "outputs": [
    {
     "data": {
      "text/plain": [
       "MEP-like    457\n",
       "Mon         423\n",
       "HSC         309\n",
       "Ery         234\n",
       "Bas         177\n",
       "GMP-like    161\n",
       "Meg         154\n",
       "Neu          32\n",
       "Name: cell_type, dtype: int64"
      ]
     },
     "metadata": {},
     "output_type": "display_data"
    }
   ],
   "source": [
    "adata_labeling.obs[\"cell_type\"] = adata_labeling.obs[\"cell_type\"].map(\n",
    "    {\n",
    "        \"GMP\": \"GMP-like\",\n",
    "        \"MPP\": \"MEP-like\",\n",
    "        \"Mon\": \"Mon\",\n",
    "        \"Meg\": \"Meg\",\n",
    "        \"Ery\": \"Ery\",\n",
    "        \"Bas\": \"Bas\",\n",
    "        \"HSC\": \"HSC\",\n",
    "        \"Neu\": \"Neu\",\n",
    "    }\n",
    ")\n",
    "\n",
    "adata_labeling.obs[\"cell_type\"].value_counts()\n"
   ]
  },
  {
   "cell_type": "code",
   "execution_count": null,
   "metadata": {},
   "outputs": [
    {
     "name": "stdout",
     "output_type": "stream",
     "text": [
      "|-----> Downloading processed hematopoiesis adata\n",
      "|-----> Downloading data to ./data/hematopoiesis.h5ad\n"
     ]
    }
   ],
   "source": [
    "adata_labeling_processed = dyn.sample_data.hematopoiesis()"
   ]
  },
  {
   "cell_type": "code",
   "execution_count": null,
   "metadata": {},
   "outputs": [
    {
     "data": {
      "text/plain": [
       "MEP-like    457\n",
       "Mon         423\n",
       "HSC         309\n",
       "Ery         234\n",
       "Bas         177\n",
       "GMP-like    161\n",
       "Meg         154\n",
       "Neu          32\n",
       "Name: cell_type, dtype: int64"
      ]
     },
     "metadata": {},
     "output_type": "display_data"
    }
   ],
   "source": [
    "adata_labeling_processed.obs.cell_type.value_counts()"
   ]
  },
  {
   "cell_type": "code",
   "execution_count": null,
   "metadata": {},
   "outputs": [
    {
     "data": {
      "text/plain": [
       "AnnData object with n_obs × n_vars = 2019 × 26193\n",
       "    obs: 'batch', 'cell_type'\n",
       "    var: 'gene_name'\n",
       "    layers: 'X_l_TC', 'X_n_TC', 'ambiguous', 'labeled_TC', 'sl_TC', 'sn_TC', 'spliced', 'total', 'ul_TC', 'un_TC', 'unlabeled_TC', 'unspliced'"
      ]
     },
     "metadata": {},
     "output_type": "display_data"
    }
   ],
   "source": [
    "adata_labeling"
   ]
  },
  {
   "cell_type": "code",
   "execution_count": null,
   "metadata": {},
   "outputs": [],
   "source": [
    "adata_labeling = adata_labeling[adata_labeling_processed.obs_names]\n",
    "adata_labeling.obsm[\"X_umap\"] = adata_labeling_processed[adata_labeling.obs_names].obsm[\"X_umap\"]\n",
    "adata_labeling.write_h5ad(\"hsc_raw_with_metadata.h5ad\")"
   ]
  }
 ],
 "metadata": {
  "language_info": {
   "name": "python"
  },
  "orig_nbformat": 4
 },
 "nbformat": 4,
 "nbformat_minor": 2
}
