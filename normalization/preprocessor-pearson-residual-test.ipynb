{
 "cells": [
  {
   "cell_type": "markdown",
   "metadata": {},
   "source": [
    "# Zebrafish pigmentation"
   ]
  },
  {
   "cell_type": "markdown",
   "metadata": {},
   "source": [
    "This tutorial uses data from [Saunders, et al (2019)](https://elifesciences.org/articles/45181). Special thanks also go to [Lauren](https://twitter.com/LSaund11) for the tutorial improvement. \n",
    "\n",
    "In this [study](https://elifesciences.org/articles/45181), the authors profiled thousands of neural crest-derived cells from trunks of post-embryonic zebrafish. These cell classes include pigment cells, multipotent pigment cell progenitors, peripheral neurons, Schwann cells, chromaffin cells and others. These cells were collected during an active period of post-embryonic development, which has many similarities to fetal and neonatal development in mammals, when many of these cell types are migrating and differentiating as the animal transitions into its adult form. This study also explores the role of thyroid hormone (TH), a common endocrine factor, on the development of these different cell types. \n",
    "\n",
    "Such developmental and other dynamical processes are especially suitable for dynamo analysis as dynamo is designed to accurately estimate direction and magnitude of expression dynamics (`RNA velocity`), predict the entire lineage trajectory of any intial cell state (`vector field`), characterize the structure (`vector field topology`) of full gene expression space, as well as fate commitment potential (`single cell potential`). "
   ]
  },
  {
   "cell_type": "markdown",
   "metadata": {},
   "source": [
    "Import the package and silence some warning information (mostly `is_categorical_dtype` warning from anndata)"
   ]
  },
  {
   "cell_type": "code",
   "execution_count": 1,
   "metadata": {},
   "outputs": [],
   "source": [
    "import warnings\n",
    "warnings.filterwarnings('ignore')\n",
    "\n",
    "import dynamo as dyn \n",
    "from dynamo.configuration import DKM\n",
    "import numpy as np"
   ]
  },
  {
   "cell_type": "markdown",
   "metadata": {},
   "source": [
    "this is like R's sessionInfo() which helps you to debug version related bugs if any. "
   ]
  },
  {
   "cell_type": "code",
   "execution_count": 2,
   "metadata": {},
   "outputs": [
    {
     "data": {
      "text/html": [
       "<div>\n",
       "<style scoped>\n",
       "    .dataframe tbody tr th:only-of-type {\n",
       "        vertical-align: middle;\n",
       "    }\n",
       "\n",
       "    .dataframe tbody tr th {\n",
       "        vertical-align: top;\n",
       "    }\n",
       "\n",
       "    .dataframe thead th {\n",
       "        text-align: right;\n",
       "    }\n",
       "</style>\n",
       "<table border=\"1\" class=\"dataframe\">\n",
       "  <thead>\n",
       "    <tr style=\"text-align: right;\">\n",
       "      <th>package</th>\n",
       "      <th>dynamo-release</th>\n",
       "      <th>pre-commit</th>\n",
       "      <th>colorcet</th>\n",
       "      <th>cvxopt</th>\n",
       "      <th>hdbscan</th>\n",
       "      <th>loompy</th>\n",
       "      <th>matplotlib</th>\n",
       "      <th>networkx</th>\n",
       "      <th>numba</th>\n",
       "      <th>numdifftools</th>\n",
       "      <th>numpy</th>\n",
       "      <th>pandas</th>\n",
       "      <th>pynndescent</th>\n",
       "      <th>python-igraph</th>\n",
       "      <th>scikit-learn</th>\n",
       "      <th>scipy</th>\n",
       "      <th>seaborn</th>\n",
       "      <th>setuptools</th>\n",
       "      <th>statsmodels</th>\n",
       "      <th>tqdm</th>\n",
       "      <th>trimap</th>\n",
       "      <th>umap-learn</th>\n",
       "    </tr>\n",
       "  </thead>\n",
       "  <tbody>\n",
       "    <tr>\n",
       "      <th>version</th>\n",
       "      <td>1.0.0</td>\n",
       "      <td>2.15.0</td>\n",
       "      <td>2.0.6</td>\n",
       "      <td>1.2.7</td>\n",
       "      <td>0.8.27</td>\n",
       "      <td>3.0.6</td>\n",
       "      <td>3.4.3</td>\n",
       "      <td>2.6.3</td>\n",
       "      <td>0.54.0</td>\n",
       "      <td>0.9.40</td>\n",
       "      <td>1.20.3</td>\n",
       "      <td>1.3.3</td>\n",
       "      <td>0.5.4</td>\n",
       "      <td>0.9.6</td>\n",
       "      <td>0.24.2</td>\n",
       "      <td>1.7.1</td>\n",
       "      <td>0.11.2</td>\n",
       "      <td>58.0.4</td>\n",
       "      <td>0.12.2</td>\n",
       "      <td>4.62.3</td>\n",
       "      <td>1.0.15</td>\n",
       "      <td>0.5.1</td>\n",
       "    </tr>\n",
       "  </tbody>\n",
       "</table>\n",
       "</div>"
      ],
      "text/plain": [
       "package dynamo-release pre-commit colorcet cvxopt hdbscan loompy matplotlib  \\\n",
       "version          1.0.0     2.15.0    2.0.6  1.2.7  0.8.27  3.0.6      3.4.3   \n",
       "\n",
       "package networkx   numba numdifftools   numpy pandas pynndescent  \\\n",
       "version    2.6.3  0.54.0       0.9.40  1.20.3  1.3.3       0.5.4   \n",
       "\n",
       "package python-igraph scikit-learn  scipy seaborn setuptools statsmodels  \\\n",
       "version         0.9.6       0.24.2  1.7.1  0.11.2     58.0.4      0.12.2   \n",
       "\n",
       "package    tqdm  trimap umap-learn  \n",
       "version  4.62.3  1.0.15      0.5.1  "
      ]
     },
     "metadata": {},
     "output_type": "display_data"
    }
   ],
   "source": [
    "dyn.get_all_dependencies_version()"
   ]
  },
  {
   "cell_type": "markdown",
   "metadata": {},
   "source": [
    "## Load data"
   ]
  },
  {
   "cell_type": "code",
   "execution_count": 3,
   "metadata": {},
   "outputs": [
    {
     "name": "stderr",
     "output_type": "stream",
     "text": [
      "|-----> Downloading data to ./data/zebrafish.h5ad\n"
     ]
    }
   ],
   "source": [
    "adata = dyn.sample_data.zebrafish()\n"
   ]
  },
  {
   "cell_type": "markdown",
   "metadata": {},
   "source": [
    "## Run pearson residual functions"
   ]
  },
  {
   "cell_type": "code",
   "execution_count": 4,
   "metadata": {},
   "outputs": [
    {
     "name": "stdout",
     "output_type": "stream",
     "text": [
      "2.93308\n",
      "7.64057\n"
     ]
    }
   ],
   "source": [
    "print(adata.X.data.mean())\n",
    "print(adata.X.data.std())"
   ]
  },
  {
   "cell_type": "code",
   "execution_count": 5,
   "metadata": {},
   "outputs": [],
   "source": [
    "import pearson_residual_normalization_recipe"
   ]
  },
  {
   "cell_type": "code",
   "execution_count": 6,
   "metadata": {},
   "outputs": [
    {
     "name": "stderr",
     "output_type": "stream",
     "text": [
      "|-----> Gene selection and normalization on layer: X\n",
      "|-----> extracting highly variable genes\n"
     ]
    }
   ],
   "source": [
    "pearson_residual_normalization_recipe.select_genes_by_pearson_residual(adata)"
   ]
  },
  {
   "cell_type": "code",
   "execution_count": 7,
   "metadata": {},
   "outputs": [
    {
     "name": "stdout",
     "output_type": "stream",
     "text": [
      "2.93308\n",
      "7.6405706\n"
     ]
    }
   ],
   "source": [
    "print(adata.X.data.mean())\n",
    "print(adata.X.data.std())"
   ]
  },
  {
   "cell_type": "code",
   "execution_count": 8,
   "metadata": {},
   "outputs": [
    {
     "data": {
      "text/plain": [
       "dict_keys(['hvg'])"
      ]
     },
     "execution_count": 8,
     "metadata": {},
     "output_type": "execute_result"
    }
   ],
   "source": [
    "adata.uns[\"pp\"].keys()"
   ]
  },
  {
   "cell_type": "markdown",
   "metadata": {},
   "source": [
    "## Apply pearson residual normalization on different layers according `select_genes_key`. We may use other select_genes function combined with pearson residual normalization."
   ]
  },
  {
   "cell_type": "code",
   "execution_count": 13,
   "metadata": {},
   "outputs": [
    {
     "name": "stderr",
     "output_type": "stream",
     "text": [
      "|-----> normalize with selected genes.\n",
      "|-----> applying Pearson residuals to X\n",
      "|-----> replacing layer <X> with pearson residual normalized data.\n"
     ]
    },
    {
     "name": "stdout",
     "output_type": "stream",
     "text": [
      "pp pearson store key: X_pearson_residuals_normalization_params\n"
     ]
    },
    {
     "name": "stderr",
     "output_type": "stream",
     "text": [
      "|-----> [pearson residual normalization] in progress: 100.0000%\n",
      "|-----> [pearson residual normalization] finished [1.9587s]\n",
      "|-----> normalize with selected genes.\n",
      "|-----> applying Pearson residuals to X\n"
     ]
    },
    {
     "name": "stdout",
     "output_type": "stream",
     "text": [
      "pp pearson store key: X_pearson_residuals_normalization_params\n"
     ]
    },
    {
     "name": "stderr",
     "output_type": "stream",
     "text": [
      "|-----> replacing layer <X> with pearson residual normalized data.\n",
      "|-----> [pearson residual normalization] in progress: 100.0000%\n",
      "|-----> [pearson residual normalization] finished [1.2813s]\n",
      "|-----> normalize with selected genes.\n",
      "|-----> applying Pearson residuals to spliced\n"
     ]
    },
    {
     "name": "stdout",
     "output_type": "stream",
     "text": [
      "pp pearson store key: spliced_pearson_residuals_normalization_params\n"
     ]
    },
    {
     "name": "stderr",
     "output_type": "stream",
     "text": [
      "|-----> replacing layer <spliced> with pearson residual normalized data.\n",
      "|-----> [pearson residual normalization] in progress: 100.0000%\n",
      "|-----> [pearson residual normalization] finished [0.4625s]\n",
      "|-----> normalize with selected genes.\n",
      "|-----> applying Pearson residuals to unspliced\n"
     ]
    },
    {
     "name": "stdout",
     "output_type": "stream",
     "text": [
      "pp pearson store key: unspliced_pearson_residuals_normalization_params\n"
     ]
    },
    {
     "name": "stderr",
     "output_type": "stream",
     "text": [
      "|-----> replacing layer <unspliced> with pearson residual normalized data.\n",
      "|-----> [pearson residual normalization] in progress: 100.0000%\n",
      "|-----> [pearson residual normalization] finished [0.4915s]\n"
     ]
    }
   ],
   "source": [
    "pearson_residual_normalization_recipe.normalize_pearson_residuals(adata, select_genes_key=DKM.VAR_GENE_HIGHLY_VARIABLE_KEY)\n",
    "pearson_residual_normalization_recipe.normalize_pearson_residuals(adata, select_genes_key=DKM.VAR_USE_FOR_PCA)\n",
    "pearson_residual_normalization_recipe.normalize_layers_pearson_residuals(adata, layers=[\"spliced\", \"unspliced\"], select_genes_key=DKM.VAR_USE_FOR_PCA)"
   ]
  },
  {
   "cell_type": "code",
   "execution_count": 10,
   "metadata": {},
   "outputs": [
    {
     "name": "stderr",
     "output_type": "stream",
     "text": [
      "|-----> Running preprocessing pipeline...\n",
      "|-----------> <insert> {} to uns['pp'] in AnnData Object.\n",
      "|-----------> <insert> tkey=None to uns['pp'] in AnnData Object.\n",
      "|-----------> <insert> experiment_type=conventional to uns['pp'] in AnnData Object.\n",
      "|-----> making adata observation index unique...\n",
      "|-----> applying collapse species adata...\n",
      "|-----> applying convert_gene_name function...\n",
      "|-----> filtering outlier cells...\n",
      "|-----------> filtering cells by layer:X\n",
      "|-----------> filtering cells by layer:spliced\n",
      "|-----------> filtering cells by layer:unspliced\n",
      "|-----> skip filtering by layer:protein as it is not in adata.\n",
      "|-----> <insert> pass_basic_filter to obs in AnnData Object.\n",
      "|-----------> inplace subsetting adata by filtered genes\n",
      "|-----> filtering outlier genes...\n",
      "|-----> applying normalizing by cells function...\n",
      "|-----> selecting genes...\n",
      "|-----> Gene selection and normalization on layer: X\n",
      "|-----> extracting highly variable genes\n",
      "|-----> normalizing selected genes...\n",
      "|-----> applying Pearson residuals to spliced\n"
     ]
    },
    {
     "name": "stdout",
     "output_type": "stream",
     "text": [
      "pp pearson store key: spliced_pearson_residuals_normalization_params\n"
     ]
    },
    {
     "name": "stderr",
     "output_type": "stream",
     "text": [
      "|-----> replacing layer <spliced> with pearson residual normalized data.\n",
      "|-----> [pearson residual normalization] in progress: 100.0000%\n",
      "|-----> [pearson residual normalization] finished [2.5014s]\n",
      "|-----> applying Pearson residuals to unspliced\n"
     ]
    },
    {
     "name": "stdout",
     "output_type": "stream",
     "text": [
      "pp pearson store key: unspliced_pearson_residuals_normalization_params\n"
     ]
    },
    {
     "name": "stderr",
     "output_type": "stream",
     "text": [
      "|-----> replacing layer <unspliced> with pearson residual normalized data.\n",
      "|-----> [pearson residual normalization] in progress: 100.0000%\n",
      "|-----> [pearson residual normalization] finished [2.5837s]\n",
      "|-----? Your adata.X maybe log1p transformed before. If you are sure that your adata is not log1p transformed, please ignore this warning. Dynamo will do log1p transformation still.\n",
      "|-----> applying log1p transformation on expression matrix data (adata.X)...\n",
      "|-----> applying filter genes function...\n",
      "|-----> Gene selection and normalization on layer: X\n",
      "|-----> extracting highly variable genes\n",
      "|-----> appended 0 extra genes as required...\n",
      "|-----> excluded 0 genes as required...\n"
     ]
    }
   ],
   "source": [
    "# adata = dyn.sample_data.zebrafish()\n",
    "from dynamo.preprocessing import Preprocessor\n",
    "preprocessor = Preprocessor(select_genes_function=pearson_residual_normalization_recipe.select_genes_by_pearson_residual,\n",
    "                            normalize_selected_genes_function=pearson_residual_normalization_recipe.normalize_layers_pearson_residuals)\n",
    "preprocessor.preprocess_adata(adata)\n"
   ]
  }
 ],
 "metadata": {
  "interpreter": {
   "hash": "c0f224693fc3f3b337b469fdaf7389d3b291b17a90dca45f35bda4453932d9dd"
  },
  "kernelspec": {
   "display_name": "Python 3.8.11 64-bit ('dynamo-dev': conda)",
   "name": "python3"
  },
  "language_info": {
   "codemirror_mode": {
    "name": "ipython",
    "version": 3
   },
   "file_extension": ".py",
   "mimetype": "text/x-python",
   "name": "python",
   "nbconvert_exporter": "python",
   "pygments_lexer": "ipython3",
   "version": "3.8.11"
  },
  "widgets": {
   "application/vnd.jupyter.widget-state+json": {
    "state": {},
    "version_major": 2,
    "version_minor": 0
   }
  }
 },
 "nbformat": 4,
 "nbformat_minor": 4
}
