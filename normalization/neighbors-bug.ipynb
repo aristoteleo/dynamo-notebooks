{
 "cells": [
  {
   "cell_type": "code",
   "execution_count": 4,
   "metadata": {},
   "outputs": [
    {
     "name": "stdout",
     "output_type": "stream",
     "text": [
      "|-----> Downloading data to ./data/zebrafish.h5ad\n",
      "|-----> Start computing neighbor graph...\n",
      "|-----------> X_data is None, fetching or recomputing...\n",
      "|-----------> PCA as basis not X_pca not found, doing PCAs\n",
      "|-----> method arg is None, choosing methods automatically...\n",
      "|-----------> method ball_tree selected\n",
      "|-----> <insert> connectivities to obsp in AnnData Object.\n",
      "|-----> <insert> distances to obsp in AnnData Object.\n",
      "|-----> <insert> neighbors to uns in AnnData Object.\n",
      "|-----> <insert> neighbors.indices to uns in AnnData Object.\n",
      "|-----> <insert> neighbors.params to uns in AnnData Object.\n"
     ]
    },
    {
     "data": {
      "text/plain": [
       "AnnData object with n_obs × n_vars = 4181 × 16940\n",
       "    obs: 'split_id', 'sample', 'Size_Factor', 'condition', 'Cluster', 'Cell_type', 'umap_1', 'umap_2', 'batch'\n",
       "    uns: 'PCs', 'explained_variance_ratio_', 'pca_mean', 'neighbors'\n",
       "    obsm: 'X_pca'\n",
       "    layers: 'spliced', 'unspliced'\n",
       "    obsp: 'distances', 'connectivities'"
      ]
     },
     "execution_count": 4,
     "metadata": {},
     "output_type": "execute_result"
    }
   ],
   "source": [
    "import dynamo as dyn \n",
    "import numpy as np\n",
    "adata = dyn.sample_data.zebrafish()\n",
    "dyn.tl.neighbors(adata)"
   ]
  }
 ],
 "metadata": {
  "interpreter": {
   "hash": "c0f224693fc3f3b337b469fdaf7389d3b291b17a90dca45f35bda4453932d9dd"
  },
  "kernelspec": {
   "display_name": "Python 3.8.11 64-bit ('dynamo-dev': conda)",
   "name": "python3"
  },
  "language_info": {
   "codemirror_mode": {
    "name": "ipython",
    "version": 3
   },
   "file_extension": ".py",
   "mimetype": "text/x-python",
   "name": "python",
   "nbconvert_exporter": "python",
   "pygments_lexer": "ipython3",
   "version": "3.8.11"
  },
  "orig_nbformat": 4
 },
 "nbformat": 4,
 "nbformat_minor": 2
}
