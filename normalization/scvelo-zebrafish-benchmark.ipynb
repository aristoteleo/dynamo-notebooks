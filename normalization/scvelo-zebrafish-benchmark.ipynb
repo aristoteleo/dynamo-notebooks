{
 "cells": [
  {
   "cell_type": "markdown",
   "metadata": {
    "hideCode": false,
    "hidePrompt": false
   },
   "source": [
    "# Dynamo-scvelo benchmark"
   ]
  },
  {
   "cell_type": "markdown",
   "metadata": {},
   "source": [
    "Here you will learn the basics of RNA velocity analysis.\n",
    "\n",
    "For illustration, it is applied to endocrine development in the pancreas, with lineage commitment to four major fates: α, β, δ and ε-cells. <br/> \n",
    "See [here](https://scvelo.readthedocs.io/scvelo.datasets.pancreas.html) for more details. It can be applied to your own data along the same lines. \n",
    "\n",
    "The notebook is also available at\n",
    "[Google Colab](https://colab.research.google.com/github/theislab/scvelo_notebooks/blob/master/VelocityBasics.ipynb)\n",
    "and [nbviewer](https://nbviewer.jupyter.org/github/theislab/scvelo_notebooks/blob/master/VelocityBasics.ipynb)."
   ]
  },
  {
   "cell_type": "code",
   "execution_count": null,
   "metadata": {},
   "outputs": [],
   "source": [
    "# update to the latest version, if not done yet.\n",
    "!pip install scvelo --upgrade --quiet"
   ]
  },
  {
   "cell_type": "code",
   "execution_count": null,
   "metadata": {
    "ExecuteTime": {
     "end_time": "2020-05-16T10:55:13.135019Z",
     "start_time": "2020-05-16T10:55:10.811103Z"
    },
    "hideCode": false,
    "hidePrompt": false
   },
   "outputs": [],
   "source": [
    "import scvelo as scv\n",
    "scv.logging.print_version()"
   ]
  },
  {
   "cell_type": "code",
   "execution_count": null,
   "metadata": {},
   "outputs": [],
   "source": [
    "import dynamo\n",
    "import dynamo as dyn\n",
    "from dynamo.preprocessing import Preprocessor\n",
    "import pearson_residual_normalization_recipe\n",
    "from benchmark_utils import *\n",
    "dyn_adata = dyn.sample_data.zebrafish()\n",
    "print(\"original data shape:\", dyn_adata.shape)\n",
    "dyn_adata\n"
   ]
  },
  {
   "cell_type": "code",
   "execution_count": null,
   "metadata": {},
   "outputs": [],
   "source": [
    "celltype_key = \"Cell_type\""
   ]
  },
  {
   "cell_type": "code",
   "execution_count": null,
   "metadata": {},
   "outputs": [],
   "source": [
    "\n",
    "preprocessor = Preprocessor()\n",
    "preprocessor.config_monocle_recipe(dyn_adata) # use monocle as default base config\n",
    "preprocessor.config_seurat_recipe()\n",
    "# preprocessor.preprocess_adata_seurat(dyn_adata)\n",
    "\n",
    "dyn.preprocessing.utils.unique_var_obs_adata(dyn_adata)\n",
    "preprocessor.filter_genes_by_outliers(dyn_adata, shared_count=20)\n",
    "preprocessor.normalize_by_cells(dyn_adata, skip_log=True)\n",
    "preprocessor.select_genes(dyn_adata, recipe=\"seurat\", n_top_genes=2000)\n",
    "preprocessor.log1p(dyn_adata, layers=[\"X\"])\n",
    "preprocessor.pca(dyn_adata, pca_key=\"X_pca\")"
   ]
  },
  {
   "cell_type": "code",
   "execution_count": null,
   "metadata": {},
   "outputs": [],
   "source": [
    "# dyn_adata.layers['spliced']\n",
    "dyn_adata.layers[\"spliced\"]"
   ]
  },
  {
   "cell_type": "code",
   "execution_count": null,
   "metadata": {},
   "outputs": [],
   "source": [
    "dyn_adata"
   ]
  },
  {
   "cell_type": "code",
   "execution_count": null,
   "metadata": {
    "ExecuteTime": {
     "end_time": "2020-05-14T22:09:18.047750Z",
     "start_time": "2020-05-14T22:09:18.041815Z"
    },
    "hideCode": false,
    "hidePrompt": false
   },
   "outputs": [],
   "source": [
    "scv.settings.verbosity = 3  # show errors(0), warnings(1), info(2), hints(3)\n",
    "scv.settings.presenter_view = True  # set max width size for presenter view\n",
    "scv.set_figure_params('scvelo')  # for beautified visualization\n"
   ]
  },
  {
   "cell_type": "markdown",
   "metadata": {
    "hideCode": false,
    "hidePrompt": false
   },
   "source": [
    "### Load the Data"
   ]
  },
  {
   "cell_type": "markdown",
   "metadata": {
    "hideCode": false,
    "hidePrompt": false
   },
   "source": [
    "## Preprocess by scv.pp"
   ]
  },
  {
   "cell_type": "code",
   "execution_count": null,
   "metadata": {
    "ExecuteTime": {
     "end_time": "2020-05-14T22:09:18.841409Z",
     "start_time": "2020-05-14T22:09:18.052145Z"
    },
    "hideCode": false,
    "hidePrompt": false
   },
   "outputs": [],
   "source": [
    "adata = dynamo.sample_data.zebrafish()"
   ]
  },
  {
   "cell_type": "markdown",
   "metadata": {
    "hideCode": false,
    "hidePrompt": false
   },
   "source": [
    "### Preprocess the Data by scelo"
   ]
  },
  {
   "cell_type": "code",
   "execution_count": null,
   "metadata": {
    "ExecuteTime": {
     "end_time": "2020-05-14T22:09:25.052883Z",
     "start_time": "2020-05-14T22:09:19.109179Z"
    },
    "hideCode": false,
    "hidePrompt": false
   },
   "outputs": [],
   "source": [
    "scv.pp.filter_and_normalize(adata, min_shared_counts=20, n_top_genes=2000, flavor=\"seurat\")\n",
    "scv.pp.moments(adata, n_pcs=30, n_neighbors=30)\n"
   ]
  },
  {
   "cell_type": "markdown",
   "metadata": {},
   "source": [
    "## Check if gene subset used for pca are the same"
   ]
  },
  {
   "cell_type": "code",
   "execution_count": null,
   "metadata": {},
   "outputs": [],
   "source": [
    "dyn_pca_genes = set(dyn_adata.var_names[dyn_adata.var[\"use_for_pca\"]])\n",
    "print(len(set(adata.var_names).intersection(dyn_pca_genes)))\n",
    "assert len(set(adata.var_names).intersection(dyn_pca_genes)) == len(adata.var_names)\n",
    "assert len(set(adata.var_names).intersection(dyn_pca_genes)) == len(dyn_pca_genes)\n",
    "print(len(set(adata.var_names).difference(dyn_pca_genes)))\n",
    "print(len(set(dyn_pca_genes).difference(set(adata.var_names))))\n",
    "assert len(set(dyn_pca_genes).difference(set(adata.var_names))) == 0\n",
    "print(len(dyn_pca_genes))\n",
    "print(adata.n_vars)"
   ]
  },
  {
   "cell_type": "code",
   "execution_count": null,
   "metadata": {},
   "outputs": [],
   "source": [
    "dyn_adata"
   ]
  },
  {
   "cell_type": "code",
   "execution_count": null,
   "metadata": {},
   "outputs": [],
   "source": [
    "adata.obs[\"initial_size\"].describe()"
   ]
  },
  {
   "cell_type": "code",
   "execution_count": null,
   "metadata": {},
   "outputs": [],
   "source": [
    "print(adata.obsm[\"X_pca\"].shape)\n",
    "print(dyn_adata.obsm[\"X_pca\"].shape)"
   ]
  },
  {
   "cell_type": "markdown",
   "metadata": {},
   "source": [
    "## Comparison of X_pca, spliced and unspliced data  \n",
    "Note: scvelo does not log1p transform unspliced and spliced layers/"
   ]
  },
  {
   "cell_type": "code",
   "execution_count": null,
   "metadata": {},
   "outputs": [],
   "source": [
    "import seaborn as sns\n",
    "import matplotlib.pyplot as plt\n",
    "import pandas as pd\n",
    "fig, axes = plt.subplots(4, figsize=(10, 30))\n",
    "\n",
    "key = \"X_pca\"\n",
    "axes[0].scatter(adata.obsm[key].flatten(), dyn_adata.obsm[key].flatten())#, title=\"X_pca comparison\")\n",
    "axes[0].set_title(key)\n",
    "# plot_scatter_sparse(adata.layers[\"spliced\"], dyn_adata.layers[\"spliced\"], ax=axes[1])\n",
    "# plot_scatter_sparse(adata.layers[\"unspliced\"], dyn_adata.layers[\"unspliced\"], ax=axes[2])\n",
    "# use_for_pca = dyn_adata.var[DKM.VAR_USE_FOR_PCA]\n",
    "use_for_pca = list(set(adata.var_names).intersection(dyn_pca_genes))\n",
    "plot_scatter_sparse(adata[:, use_for_pca].X, dyn_adata[:, use_for_pca].X, ax=axes[1])\n",
    "axes[1].set_title(\"adata.X comparison\")\n",
    "axes[1].set_xlabel(\"scv\")\n",
    "axes[1].set_ylabel(\"dyn\")\n",
    "\n",
    "plot_scatter_sparse(adata[:, use_for_pca].layers[\"spliced\"], dyn_adata[:, use_for_pca].layers[\"X_spliced\"], ax=axes[2])\n",
    "axes[2].set_title(\"adata spliced comparison\")\n",
    "axes[2].set_xlabel(\"scv\")\n",
    "axes[2].set_ylabel(\"dyn\")\n",
    "plot_scatter_sparse(adata[:, use_for_pca].layers[\"unspliced\"], dyn_adata[:, use_for_pca].layers[\"X_unspliced\"], ax=axes[3])\n",
    "axes[3].set_title(\"adata unspliced comparison\")\n",
    "axes[3].set_xlabel(\"scv\")\n",
    "axes[3].set_ylabel(\"dyn\")\n",
    "\n",
    "print(\"scvelo seurat X_pca stats:\")\n",
    "print(pd.Series(adata.obsm[\"X_pca\"].flatten()).describe())\n",
    "print(\"dynamo seurat X_pca stats:\")\n",
    "pd.Series(dyn_adata.obsm[\"X_pca\"].flatten()).describe()"
   ]
  },
  {
   "cell_type": "code",
   "execution_count": null,
   "metadata": {},
   "outputs": [],
   "source": [
    "sns.scatterplot(adata.obs[\"initial_size\"].to_numpy(), dyn_adata.obs[\"Size_Factor\"].to_numpy())"
   ]
  },
  {
   "cell_type": "code",
   "execution_count": null,
   "metadata": {},
   "outputs": [],
   "source": [
    "sns.scatterplot(adata.obs[\"initial_size_unspliced\"].to_numpy(), dyn_adata.obs[\"unspliced_Size_Factor\"].to_numpy())"
   ]
  },
  {
   "cell_type": "code",
   "execution_count": null,
   "metadata": {},
   "outputs": [],
   "source": [
    "sns.scatterplot(adata.obs[\"initial_size_spliced\"].to_numpy(), dyn_adata.obs[\"spliced_Size_Factor\"].to_numpy())"
   ]
  },
  {
   "cell_type": "code",
   "execution_count": null,
   "metadata": {},
   "outputs": [],
   "source": [
    "dyn.tl.reduceDimension(dyn_adata)\n",
    "dyn.pl.umap(dyn_adata, color=celltype_key)"
   ]
  },
  {
   "cell_type": "code",
   "execution_count": null,
   "metadata": {},
   "outputs": [],
   "source": [
    "scv.tl.umap(adata)\n",
    "scv.pl.umap(adata, color=celltype_key)"
   ]
  }
 ],
 "metadata": {
  "hide_code_all_hidden": false,
  "interpreter": {
   "hash": "9277296c2ac42a50c4dcd68092ac8997d3dccf7662a5bfb518f16270e9af965e"
  },
  "kernelspec": {
   "display_name": "Python 3.8.12 64-bit ('scvelo': conda)",
   "name": "python3"
  },
  "language_info": {
   "codemirror_mode": {
    "name": "ipython",
    "version": 3
   },
   "file_extension": ".py",
   "mimetype": "text/x-python",
   "name": "python",
   "nbconvert_exporter": "python",
   "pygments_lexer": "ipython3",
   "version": "3.8.12"
  },
  "nbpresent": {
   "slides": {},
   "themes": {
    "default": "15f06427-3b2a-49bc-bf86-daf4b06df6ed",
    "theme": {
     "15f06427-3b2a-49bc-bf86-daf4b06df6ed": {
      "backgrounds": {
       "dc7afa04-bf90-40b1-82a5-726e3cff5267": {
        "background-color": "31af15d2-7e15-44c5-ab5e-e04b16a89eff",
        "id": "dc7afa04-bf90-40b1-82a5-726e3cff5267"
       }
      },
      "id": "15f06427-3b2a-49bc-bf86-daf4b06df6ed",
      "palette": {
       "19cc588f-0593-49c9-9f4b-e4d7cc113b1c": {
        "id": "19cc588f-0593-49c9-9f4b-e4d7cc113b1c",
        "rgb": [
         252,
         252,
         252
        ]
       },
       "31af15d2-7e15-44c5-ab5e-e04b16a89eff": {
        "id": "31af15d2-7e15-44c5-ab5e-e04b16a89eff",
        "rgb": [
         68,
         68,
         68
        ]
       },
       "50f92c45-a630-455b-aec3-788680ec7410": {
        "id": "50f92c45-a630-455b-aec3-788680ec7410",
        "rgb": [
         197,
         226,
         245
        ]
       },
       "c5cc3653-2ee1-402a-aba2-7caae1da4f6c": {
        "id": "c5cc3653-2ee1-402a-aba2-7caae1da4f6c",
        "rgb": [
         43,
         126,
         184
        ]
       },
       "efa7f048-9acb-414c-8b04-a26811511a21": {
        "id": "efa7f048-9acb-414c-8b04-a26811511a21",
        "rgb": [
         25.118061674008803,
         73.60176211453744,
         107.4819383259912
        ]
       }
      },
      "rules": {
       "a": {
        "color": "19cc588f-0593-49c9-9f4b-e4d7cc113b1c"
       },
       "blockquote": {
        "color": "50f92c45-a630-455b-aec3-788680ec7410",
        "font-size": 3
       },
       "code": {
        "font-family": "Anonymous Pro"
       },
       "h1": {
        "color": "19cc588f-0593-49c9-9f4b-e4d7cc113b1c",
        "font-family": "Merriweather",
        "font-size": 8
       },
       "h2": {
        "color": "19cc588f-0593-49c9-9f4b-e4d7cc113b1c",
        "font-family": "Merriweather",
        "font-size": 6
       },
       "h3": {
        "color": "50f92c45-a630-455b-aec3-788680ec7410",
        "font-family": "Lato",
        "font-size": 5.5
       },
       "h4": {
        "color": "c5cc3653-2ee1-402a-aba2-7caae1da4f6c",
        "font-family": "Lato",
        "font-size": 5
       },
       "h5": {
        "font-family": "Lato"
       },
       "h6": {
        "font-family": "Lato"
       },
       "h7": {
        "font-family": "Lato"
       },
       "li": {
        "color": "50f92c45-a630-455b-aec3-788680ec7410",
        "font-size": 3.25
       },
       "pre": {
        "font-family": "Anonymous Pro",
        "font-size": 4
       }
      },
      "text-base": {
       "color": "19cc588f-0593-49c9-9f4b-e4d7cc113b1c",
       "font-family": "Lato",
       "font-size": 4
      }
     }
    }
   }
  },
  "varInspector": {
   "cols": {
    "lenName": 16,
    "lenType": 16,
    "lenVar": 40
   },
   "kernels_config": {
    "python": {
     "delete_cmd_postfix": "",
     "delete_cmd_prefix": "del ",
     "library": "var_list.py",
     "varRefreshCmd": "print(var_dic_list())"
    },
    "r": {
     "delete_cmd_postfix": ") ",
     "delete_cmd_prefix": "rm(",
     "library": "var_list.r",
     "varRefreshCmd": "cat(var_dic_list()) "
    }
   },
   "types_to_exclude": [
    "module",
    "function",
    "builtin_function_or_method",
    "instance",
    "_Feature"
   ],
   "window_display": false
  }
 },
 "nbformat": 4,
 "nbformat_minor": 2
}
