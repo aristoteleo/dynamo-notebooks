{
 "cells": [
  {
   "cell_type": "markdown",
   "metadata": {
    "hideCode": false,
    "hidePrompt": false
   },
   "source": [
    "# RNA Velocity Basics"
   ]
  },
  {
   "cell_type": "markdown",
   "metadata": {},
   "source": [
    "Here you will learn the basics of RNA velocity analysis.\n",
    "\n",
    "For illustration, it is applied to endocrine development in the pancreas, with lineage commitment to four major fates: α, β, δ and ε-cells. <br/> \n",
    "See [here](https://scvelo.readthedocs.io/scvelo.datasets.pancreas.html) for more details. It can be applied to your own data along the same lines. \n",
    "\n",
    "The notebook is also available at\n",
    "[Google Colab](https://colab.research.google.com/github/theislab/scvelo_notebooks/blob/master/VelocityBasics.ipynb)\n",
    "and [nbviewer](https://nbviewer.jupyter.org/github/theislab/scvelo_notebooks/blob/master/VelocityBasics.ipynb)."
   ]
  },
  {
   "cell_type": "code",
   "execution_count": 1,
   "metadata": {},
   "outputs": [],
   "source": [
    "# update to the latest version, if not done yet.\n",
    "!pip install scvelo --upgrade --quiet"
   ]
  },
  {
   "cell_type": "code",
   "execution_count": 2,
   "metadata": {
    "ExecuteTime": {
     "end_time": "2020-05-16T10:55:13.135019Z",
     "start_time": "2020-05-16T10:55:10.811103Z"
    },
    "hideCode": false,
    "hidePrompt": false
   },
   "outputs": [
    {
     "name": "stdout",
     "output_type": "stream",
     "text": [
      "Running scvelo 0.2.4 (python 3.8.12) on 2021-11-03 12:49.\n"
     ]
    }
   ],
   "source": [
    "import scvelo as scv\n",
    "scv.logging.print_version()"
   ]
  },
  {
   "cell_type": "code",
   "execution_count": 3,
   "metadata": {},
   "outputs": [
    {
     "name": "stderr",
     "output_type": "stream",
     "text": [
      "|-----> Downloading data to ./data/zebrafish.h5ad\n",
      "|-----------> <insert> {} to uns['pp'] in AnnData Object.\n",
      "|-----> Running preprocessing pipeline...\n",
      "|-----------> <insert> {} to uns['pp'] in AnnData Object.\n",
      "|-----------> <insert> tkey=None to uns['pp'] in AnnData Object.\n",
      "|-----------> <insert> experiment_type=None to uns['pp'] in AnnData Object.\n",
      "|-----> making adata observation index unique...\n",
      "|-----> applying collapse species adata...\n",
      "|-----> applying convert_gene_name function...\n",
      "|-----> filtering outlier cells...\n",
      "|-----> cell filter kwargs:{'filter_bool': None, 'layer': 'all', 'min_expr_genes_s': 50, 'min_expr_genes_u': 25, 'min_expr_genes_p': 2, 'max_expr_genes_s': inf, 'max_expr_genes_u': inf, 'max_expr_genes_p': inf, 'shared_count': None}\n",
      "|-----------> filtering cells by layer:X\n",
      "|-----------> filtering cells by layer:spliced\n"
     ]
    },
    {
     "name": "stdout",
     "output_type": "stream",
     "text": [
      "original data shape: (4181, 16940)\n"
     ]
    },
    {
     "name": "stderr",
     "output_type": "stream",
     "text": [
      "|-----------> filtering cells by layer:unspliced\n",
      "|-----> skip filtering by layer:protein as it is not in adata.\n",
      "|-----> <insert> pass_basic_filter to obs in AnnData Object.\n",
      "|-----------> inplace subsetting adata by filtered genes\n",
      "|-----> filtering outlier genes...\n",
      "|-----> gene filter kwargs:{'filter_bool': None, 'layer': 'all', 'min_cell_s': 41.81, 'min_cell_u': 20.905, 'min_cell_p': 20.905, 'min_avg_exp_s': 0, 'min_avg_exp_u': 0, 'min_avg_exp_p': 0, 'max_avg_exp': inf, 'min_count_s': 0, 'min_count_u': 0, 'min_count_p': 0, 'shared_count': 30}\n",
      "|-----> selecting genes...\n",
      "|-----> filtering genes by dispersion...\n",
      "|-----> select genes by recipe: seurat\n",
      "|-----------> choose 2000 top genes\n",
      "|-----> <insert> pp_gene_means to var in AnnData Object.\n",
      "|-----> <insert> gene_vars to var in AnnData Object.\n",
      "|-----> <insert> gene_highly_variable to var in AnnData Object.\n",
      "|-----> number of selected highly variable genes: 2000\n",
      "|-----> [filter genes by dispersion] in progress: 100.0000%\n",
      "|-----> [filter genes by dispersion] finished [1.4332s]\n",
      "|-----> appended 0 extra genes as required...\n",
      "|-----> excluded 0 genes as required...\n",
      "|-----> applying normalize by cells function...\n",
      "|-----> applying None to layer<unspliced>\n",
      "|-----> <insert> X_unspliced to obsm in AnnData Object.\n",
      "|-----> <insert> pp.norm_method to uns in AnnData Object.\n",
      "|-----> applying None to layer<spliced>\n",
      "|-----> <insert> X_spliced to obsm in AnnData Object.\n",
      "|-----> <insert> pp.norm_method to uns in AnnData Object.\n",
      "|-----> applying np.log1p to <X>\n",
      "|-----> set adata <X> to normalized data.\n",
      "|-----> <insert> pp.norm_method to uns in AnnData Object.\n",
      "|-----> reducing dimension by PCA...\n"
     ]
    },
    {
     "name": "stdout",
     "output_type": "stream",
     "text": [
      "preprocessor pca inputs:\n",
      "count    463787.000000\n",
      "mean          0.894726\n",
      "std           0.772611\n",
      "min           0.117937\n",
      "25%           0.379343\n",
      "50%           0.665709\n",
      "75%           1.099282\n",
      "max           6.724962\n",
      "dtype: float64\n"
     ]
    },
    {
     "name": "stderr",
     "output_type": "stream",
     "text": [
      "|-----> [preprocess] in progress: 100.0000%\n",
      "|-----> [preprocess] finished [2.9535s]\n"
     ]
    }
   ],
   "source": [
    "import dynamo\n",
    "import dynamo as dyn\n",
    "from dynamo.preprocessing import Preprocessor\n",
    "import pearson_residual_normalization_recipe\n",
    "\n",
    "dyn_adata = dyn.sample_data.zebrafish()\n",
    "print(\"original data shape:\", dyn_adata.shape)\n",
    "\n",
    "preprocessor = Preprocessor()\n",
    "preprocessor.config_monocle_recipe(dyn_adata) # use monocle as default base config\n",
    "preprocessor.config_seurat_recipe()\n",
    "preprocessor.preprocess_adata(dyn_adata);"
   ]
  },
  {
   "cell_type": "code",
   "execution_count": 4,
   "metadata": {
    "ExecuteTime": {
     "end_time": "2020-05-14T22:09:18.047750Z",
     "start_time": "2020-05-14T22:09:18.041815Z"
    },
    "hideCode": false,
    "hidePrompt": false
   },
   "outputs": [],
   "source": [
    "scv.settings.verbosity = 3  # show errors(0), warnings(1), info(2), hints(3)\n",
    "scv.settings.presenter_view = True  # set max width size for presenter view\n",
    "scv.set_figure_params('scvelo')  # for beautified visualization\n"
   ]
  },
  {
   "cell_type": "markdown",
   "metadata": {
    "hideCode": false,
    "hidePrompt": false
   },
   "source": [
    "### Load the Data"
   ]
  },
  {
   "cell_type": "markdown",
   "metadata": {
    "hideCode": false,
    "hidePrompt": false
   },
   "source": [
    "The analysis is based on the in-built [pancreas data](https://scvelo.readthedocs.io/scvelo.datasets.pancreas).<br/>\n",
    "To run velocity analysis on your own data, read your file (loom, h5ad, csv …) to an AnnData object with `adata = scv.read('path/file.loom', cache=True)`. If you want to merge your loom file into an already existing AnnData object, use `scv.utils.merge(adata, adata_loom)`."
   ]
  },
  {
   "cell_type": "code",
   "execution_count": 5,
   "metadata": {
    "ExecuteTime": {
     "end_time": "2020-05-14T22:09:18.841409Z",
     "start_time": "2020-05-14T22:09:18.052145Z"
    },
    "hideCode": false,
    "hidePrompt": false
   },
   "outputs": [
    {
     "name": "stderr",
     "output_type": "stream",
     "text": [
      "|-----> Downloading data to ./data/zebrafish.h5ad\n"
     ]
    }
   ],
   "source": [
    "adata = dynamo.sample_data.zebrafish()"
   ]
  },
  {
   "cell_type": "markdown",
   "metadata": {
    "hideCode": false,
    "hidePrompt": false
   },
   "source": [
    "### Preprocess the Data by scelo"
   ]
  },
  {
   "cell_type": "code",
   "execution_count": 6,
   "metadata": {
    "ExecuteTime": {
     "end_time": "2020-05-14T22:09:25.052883Z",
     "start_time": "2020-05-14T22:09:19.109179Z"
    },
    "hideCode": false,
    "hidePrompt": false
   },
   "outputs": [
    {
     "name": "stdout",
     "output_type": "stream",
     "text": [
      "Filtered out 11388 genes that are detected 20 counts (shared).\n",
      "Normalized count data: X, spliced, unspliced.\n",
      "Extracted 2000 highly variable genes.\n",
      "Logarithmized X.\n",
      "WARNING: You seem to have 38 duplicate cells in your data. Consider removing these via pp.remove_duplicate_cells.\n",
      "computing neighbors\n",
      "    finished (0:00:02) --> added \n",
      "    'distances' and 'connectivities', weighted adjacency matrices (adata.obsp)\n",
      "computing moments based on connectivities\n",
      "    finished (0:00:00) --> added \n",
      "    'Ms' and 'Mu', moments of un/spliced abundances (adata.layers)\n"
     ]
    }
   ],
   "source": [
    "scv.pp.filter_and_normalize(adata, min_shared_counts=20, n_top_genes=2000, flavor=\"seurat\")\n",
    "scv.pp.moments(adata, n_pcs=30, n_neighbors=30)\n"
   ]
  },
  {
   "cell_type": "code",
   "execution_count": 10,
   "metadata": {},
   "outputs": [
    {
     "name": "stdout",
     "output_type": "stream",
     "text": [
      "(4181, 30)\n",
      "(4167, 30)\n"
     ]
    },
    {
     "data": {
      "text/plain": [
       "AnnData object with n_obs × n_vars = 4181 × 2000\n",
       "    obs: 'split_id', 'sample', 'Size_Factor', 'condition', 'Cluster', 'Cell_type', 'umap_1', 'umap_2', 'batch', 'initial_size_spliced', 'initial_size_unspliced', 'initial_size', 'n_counts'\n",
       "    var: 'gene_count_corr', 'means', 'dispersions', 'dispersions_norm', 'highly_variable'\n",
       "    uns: 'pca', 'neighbors'\n",
       "    obsm: 'X_pca'\n",
       "    varm: 'PCs'\n",
       "    layers: 'spliced', 'unspliced', 'Ms', 'Mu'\n",
       "    obsp: 'distances', 'connectivities'"
      ]
     },
     "execution_count": 10,
     "metadata": {},
     "output_type": "execute_result"
    }
   ],
   "source": [
    "print(adata.obsm[\"X_pca\"].shape)\n",
    "print(dyn_adata.obsm[\"X_pca\"].shape)"
   ]
  },
  {
   "cell_type": "code",
   "execution_count": 17,
   "metadata": {},
   "outputs": [
    {
     "name": "stdout",
     "output_type": "stream",
     "text": [
      "scvelo seurat X_pca stats:\n",
      "count    1.254300e+05\n",
      "mean    -2.070514e-07\n",
      "std      1.605636e+00\n",
      "min     -8.343900e+00\n",
      "25%     -6.412283e-01\n",
      "50%     -2.956188e-02\n",
      "75%      5.880693e-01\n",
      "max      1.131858e+01\n",
      "dtype: float64\n",
      "dynamo seurat X_pca stats:\n"
     ]
    },
    {
     "data": {
      "text/plain": [
       "count    1.250100e+05\n",
       "mean     2.404593e-07\n",
       "std      1.253125e+00\n",
       "min     -5.792617e+00\n",
       "25%     -4.875923e-01\n",
       "50%     -1.182934e-02\n",
       "75%      4.618027e-01\n",
       "max      1.245750e+01\n",
       "dtype: float64"
      ]
     },
     "execution_count": 17,
     "metadata": {},
     "output_type": "execute_result"
    }
   ],
   "source": [
    "import seaborn as sns\n",
    "import matplotlib.pyplot as plt\n",
    "import pandas as pd\n",
    "# plt.plot(adata.obsm[\"X_pca\"].flatten(), dyn_adata.obsm[\"X_pca\"].flatten()).set_title(\"X_pca comparison\")\n",
    "print(\"scvelo seurat X_pca stats:\")\n",
    "print(pd.Series(adata.obsm[\"X_pca\"].flatten()).describe())\n",
    "print(\"dynamo seurat X_pca stats:\")\n",
    "pd.Series(dyn_adata.obsm[\"X_pca\"].flatten()).describe()"
   ]
  }
 ],
 "metadata": {
  "hide_code_all_hidden": false,
  "interpreter": {
   "hash": "9277296c2ac42a50c4dcd68092ac8997d3dccf7662a5bfb518f16270e9af965e"
  },
  "kernelspec": {
   "display_name": "Python 3.8.12 64-bit ('scvelo': conda)",
   "name": "python3"
  },
  "language_info": {
   "codemirror_mode": {
    "name": "ipython",
    "version": 3
   },
   "file_extension": ".py",
   "mimetype": "text/x-python",
   "name": "python",
   "nbconvert_exporter": "python",
   "pygments_lexer": "ipython3",
   "version": "3.8.12"
  },
  "nbpresent": {
   "slides": {},
   "themes": {
    "default": "15f06427-3b2a-49bc-bf86-daf4b06df6ed",
    "theme": {
     "15f06427-3b2a-49bc-bf86-daf4b06df6ed": {
      "backgrounds": {
       "dc7afa04-bf90-40b1-82a5-726e3cff5267": {
        "background-color": "31af15d2-7e15-44c5-ab5e-e04b16a89eff",
        "id": "dc7afa04-bf90-40b1-82a5-726e3cff5267"
       }
      },
      "id": "15f06427-3b2a-49bc-bf86-daf4b06df6ed",
      "palette": {
       "19cc588f-0593-49c9-9f4b-e4d7cc113b1c": {
        "id": "19cc588f-0593-49c9-9f4b-e4d7cc113b1c",
        "rgb": [
         252,
         252,
         252
        ]
       },
       "31af15d2-7e15-44c5-ab5e-e04b16a89eff": {
        "id": "31af15d2-7e15-44c5-ab5e-e04b16a89eff",
        "rgb": [
         68,
         68,
         68
        ]
       },
       "50f92c45-a630-455b-aec3-788680ec7410": {
        "id": "50f92c45-a630-455b-aec3-788680ec7410",
        "rgb": [
         197,
         226,
         245
        ]
       },
       "c5cc3653-2ee1-402a-aba2-7caae1da4f6c": {
        "id": "c5cc3653-2ee1-402a-aba2-7caae1da4f6c",
        "rgb": [
         43,
         126,
         184
        ]
       },
       "efa7f048-9acb-414c-8b04-a26811511a21": {
        "id": "efa7f048-9acb-414c-8b04-a26811511a21",
        "rgb": [
         25.118061674008803,
         73.60176211453744,
         107.4819383259912
        ]
       }
      },
      "rules": {
       "a": {
        "color": "19cc588f-0593-49c9-9f4b-e4d7cc113b1c"
       },
       "blockquote": {
        "color": "50f92c45-a630-455b-aec3-788680ec7410",
        "font-size": 3
       },
       "code": {
        "font-family": "Anonymous Pro"
       },
       "h1": {
        "color": "19cc588f-0593-49c9-9f4b-e4d7cc113b1c",
        "font-family": "Merriweather",
        "font-size": 8
       },
       "h2": {
        "color": "19cc588f-0593-49c9-9f4b-e4d7cc113b1c",
        "font-family": "Merriweather",
        "font-size": 6
       },
       "h3": {
        "color": "50f92c45-a630-455b-aec3-788680ec7410",
        "font-family": "Lato",
        "font-size": 5.5
       },
       "h4": {
        "color": "c5cc3653-2ee1-402a-aba2-7caae1da4f6c",
        "font-family": "Lato",
        "font-size": 5
       },
       "h5": {
        "font-family": "Lato"
       },
       "h6": {
        "font-family": "Lato"
       },
       "h7": {
        "font-family": "Lato"
       },
       "li": {
        "color": "50f92c45-a630-455b-aec3-788680ec7410",
        "font-size": 3.25
       },
       "pre": {
        "font-family": "Anonymous Pro",
        "font-size": 4
       }
      },
      "text-base": {
       "color": "19cc588f-0593-49c9-9f4b-e4d7cc113b1c",
       "font-family": "Lato",
       "font-size": 4
      }
     }
    }
   }
  },
  "varInspector": {
   "cols": {
    "lenName": 16,
    "lenType": 16,
    "lenVar": 40
   },
   "kernels_config": {
    "python": {
     "delete_cmd_postfix": "",
     "delete_cmd_prefix": "del ",
     "library": "var_list.py",
     "varRefreshCmd": "print(var_dic_list())"
    },
    "r": {
     "delete_cmd_postfix": ") ",
     "delete_cmd_prefix": "rm(",
     "library": "var_list.r",
     "varRefreshCmd": "cat(var_dic_list()) "
    }
   },
   "types_to_exclude": [
    "module",
    "function",
    "builtin_function_or_method",
    "instance",
    "_Feature"
   ],
   "window_display": false
  }
 },
 "nbformat": 4,
 "nbformat_minor": 2
}
