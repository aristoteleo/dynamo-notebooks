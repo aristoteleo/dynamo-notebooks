{
 "cells": [
  {
   "cell_type": "code",
   "execution_count": 1,
   "metadata": {},
   "outputs": [],
   "source": [
    "from pearson_residual_normalization_recipe import *"
   ]
  },
  {
   "cell_type": "code",
   "execution_count": 2,
   "metadata": {},
   "outputs": [
    {
     "name": "stderr",
     "output_type": "stream",
     "text": [
      "|-----> Downloading data to ./data/zebrafish.h5ad\n"
     ]
    }
   ],
   "source": [
    "adata = dyn.sample_data.zebrafish()\n"
   ]
  },
  {
   "cell_type": "code",
   "execution_count": 3,
   "metadata": {},
   "outputs": [
    {
     "data": {
      "text/plain": [
       "AnnData object with n_obs × n_vars = 4181 × 16940\n",
       "    obs: 'split_id', 'sample', 'Size_Factor', 'condition', 'Cluster', 'Cell_type', 'umap_1', 'umap_2', 'batch'\n",
       "    layers: 'spliced', 'unspliced'"
      ]
     },
     "execution_count": 3,
     "metadata": {},
     "output_type": "execute_result"
    }
   ],
   "source": [
    "adata"
   ]
  },
  {
   "cell_type": "code",
   "execution_count": 4,
   "metadata": {},
   "outputs": [
    {
     "name": "stderr",
     "output_type": "stream",
     "text": [
      "|-----> Gene selection and normalization on layer: X\n",
      "|-----> extracting highly variable genes\n",
      "C:\\Users\\dummy\\Anaconda3\\envs\\dynamo-dev\\lib\\site-packages\\pandas\\core\\arrays\\categorical.py:2630: FutureWarning: The `inplace` parameter in pandas.Categorical.remove_unused_categories is deprecated and will be removed in a future version.\n",
      "  res = method(*args, **kwargs)\n",
      "|-----> computing analytic Pearson residuals on X\n",
      "|-----> replace layer X with pearson residuals.\n",
      "|-----> [pearson residual normalization] in progress: 100.0000%\n",
      "|-----> [pearson residual normalization] finished [0.1349s]\n"
     ]
    },
    {
     "name": "stdout",
     "output_type": "stream",
     "text": [
      "AnnData object with n_obs × n_vars = 4181 × 1000\n",
      "    obs: 'split_id', 'sample', 'Size_Factor', 'condition', 'Cluster', 'Cell_type', 'umap_1', 'umap_2', 'batch'\n",
      "    var: 'means', 'variances', 'residual_variances', 'highly_variable_rank', 'highly_variable', 'use_for_pca'\n",
      "    uns: 'hvg', 'pearson_residuals_normalization', 'PCs', 'explained_variance_ratio_', 'pca_mean'\n",
      "    obsm: 'X_pca'\n",
      "    layers: 'spliced', 'unspliced', 'X'\n"
     ]
    }
   ],
   "source": [
    "recipe_pearson_residuals(adata)"
   ]
  },
  {
   "cell_type": "code",
   "execution_count": 5,
   "metadata": {},
   "outputs": [
    {
     "data": {
      "text/plain": [
       "AnnData object with n_obs × n_vars = 4181 × 16940\n",
       "    obs: 'split_id', 'sample', 'Size_Factor', 'condition', 'Cluster', 'Cell_type', 'umap_1', 'umap_2', 'batch'\n",
       "    var: 'means', 'variances', 'residual_variances', 'highly_variable_rank', 'highly_variable'\n",
       "    uns: 'hvg', 'PCs', 'pearson_residuals_normalization'\n",
       "    obsm: 'X_pca'\n",
       "    layers: 'spliced', 'unspliced'"
      ]
     },
     "execution_count": 5,
     "metadata": {},
     "output_type": "execute_result"
    }
   ],
   "source": [
    "adata"
   ]
  },
  {
   "cell_type": "code",
   "execution_count": 6,
   "metadata": {},
   "outputs": [
    {
     "data": {
      "text/plain": [
       "{'theta': 100,\n",
       " 'clip': None,\n",
       " 'computed_on': 'X',\n",
       " 'pearson_residuals_df':                         tmsb4x      rpl8     ppiaa    rpl10a     rps4x  \\\n",
       " index                                                                    \n",
       " TGCCAAATCACCACCT-1-0 -0.831856 -0.579417 -0.606186 -0.530172  1.475154   \n",
       " AAATGCCAGGAGCGTT-1-0 -0.734193 -0.511188 -0.534824  1.665670 -0.444600   \n",
       " CAGCGACAGAGAACAG-1-0 -0.908530 -0.633042  0.841072 -0.579270 -0.550674   \n",
       " GGGACCTGTGACCAAG-1-0  4.355571  0.549647 -0.794465 -0.695058 -0.660793   \n",
       " TCCCGATAGTGTGGCA-1-0 -0.115097 -0.734698 -0.768567  0.808191  0.918823   \n",
       " ...                        ...       ...       ...       ...       ...   \n",
       " TAGACCAAGTCCATAC-1-1  6.837523 -2.032123 -2.055586 -3.091041 -1.861915   \n",
       " GGTGTTAAGGAATCGC-1-1  0.098607 -0.110022 -0.691800 -0.530074  0.289294   \n",
       " CTACCCAAGTGACATA-1-1  0.302067 -1.300287  1.955361  0.119041  1.096621   \n",
       " TACTCATGTTACGCGC-1-1  0.876412  0.293621  1.548350  2.149724 -0.424065   \n",
       " TCAACGACACTCTGTC-1-1 -1.828441 -0.564158 -0.784951  0.658691  2.141993   \n",
       " \n",
       "                         rplp2l      rpsa     rpl7a    pvalb1     rpl31  ...  \\\n",
       " index                                                                   ...   \n",
       " TGCCAAATCACCACCT-1-0 -0.538464 -0.503201  1.196695 -0.113302 -0.478696  ...   \n",
       " AAATGCCAGGAGCGTT-1-0 -0.475034 -0.443907 -0.499007 -0.099924 -0.422278  ...   \n",
       " CAGCGACAGAGAACAG-1-0 -0.588325  1.263474 -0.617978 -0.123827 -0.523053  ...   \n",
       " GGGACCTGTGACCAAG-1-0  2.113211 -0.659765 -0.741427 -0.148683 -0.627690  ...   \n",
       " TCCCGATAGTGTGGCA-1-0  0.774723 -0.638218 -0.717238 -0.143808 -0.607181  ...   \n",
       " ...                        ...       ...       ...       ...       ...  ...   \n",
       " TAGACCAAGTCCATAC-1-1 -2.503142 -1.549898 -2.473335 -1.287586 -1.940521  ...   \n",
       " GGTGTTAAGGAATCGC-1-1 -0.149560 -0.516917 -1.104312  0.008929 -1.810863  ...   \n",
       " CTACCCAAGTGACATA-1-1 -0.529893 -1.073996 -0.720086  3.285409  0.232897  ...   \n",
       " TACTCATGTTACGCGC-1-1 -1.002108  0.455285  0.813217  9.607304  0.264295  ...   \n",
       " TCAACGACACTCTGTC-1-1  1.878069  3.223414 -0.706129  6.430366  2.480403  ...   \n",
       " \n",
       "                         bach2a    esrrga      rgs8      hmx3a   ADAMTS7  \\\n",
       " index                                                                     \n",
       " TGCCAAATCACCACCT-1-0 -0.024685 -0.011040 -0.028934  -0.022904 -0.011040   \n",
       " AAATGCCAGGAGCGTT-1-0 -0.021770 -0.009736 -0.025518  -0.020199 -0.009736   \n",
       " CAGCGACAGAGAACAG-1-0 -0.026979 -0.012065 -0.031623  -0.025032 -0.012065   \n",
       " GGGACCTGTGACCAAG-1-0 -0.032395 -0.014488 -0.037972  -0.030057 -0.014488   \n",
       " TCCCGATAGTGTGGCA-1-0 -0.031333 -0.014012 -0.036726  -0.029071 -0.014012   \n",
       " ...                        ...       ...       ...        ...       ...   \n",
       " TAGACCAAGTCCATAC-1-1 -0.282752 -0.126491 -0.331375  34.018013 -0.126491   \n",
       " GGTGTTAAGGAATCGC-1-1 -0.376088 -0.168287 -0.440711  -0.348980 -0.168287   \n",
       " CTACCCAAGTGACATA-1-1 -0.318629 -0.142553 -0.373407  -0.295655 -0.142553   \n",
       " TACTCATGTTACGCGC-1-1 -0.329599 -0.147465 -0.386258  -0.305836 -0.147465   \n",
       " TCAACGACACTCTGTC-1-1 -0.280260 -0.125376 -0.328456  -0.260048 -0.125376   \n",
       " \n",
       "                          calb1     fhl2b   rnf220b  zgc:194627     rgs16  \n",
       " index                                                                     \n",
       " TGCCAAATCACCACCT-1-0 -0.021347 -0.040398 -0.010294   -0.033437 -0.075716  \n",
       " AAATGCCAGGAGCGTT-1-0 -0.018826 -0.035628 -0.009079   -0.029489 -0.066776  \n",
       " CAGCGACAGAGAACAG-1-0 -0.023330 -0.044151 -0.011251   -0.036543 -0.082750  \n",
       " GGGACCTGTGACCAAG-1-0 -0.028014 -0.053015 -0.013510   -0.043880 -0.099363  \n",
       " TCCCGATAGTGTGGCA-1-0 -0.027096 -0.051277 -0.013067   -0.042441 -0.096105  \n",
       " ...                        ...       ...       ...         ...       ...  \n",
       " TAGACCAAGTCCATAC-1-1 -0.244540 -0.462424 -0.117955   -0.382871 -0.864400  \n",
       " GGTGTTAAGGAATCGC-1-1 -0.325287 -0.614754 -0.156931    1.449932 -1.146798  \n",
       " CTACCCAAGTGACATA-1-1 -0.275576 -0.521006 -0.132933   -0.431414 -0.973206  \n",
       " TACTCATGTTACGCGC-1-1 -0.285067 -0.538911 -0.137514   -0.446254 -1.006414  \n",
       " TCAACGACACTCTGTC-1-1 -0.242384 -0.458355 -0.116915   -0.379500 -0.856834  \n",
       " \n",
       " [4181 rows x 1000 columns]}"
      ]
     },
     "execution_count": 6,
     "metadata": {},
     "output_type": "execute_result"
    }
   ],
   "source": [
    "adata.uns['pearson_residuals_normalization']"
   ]
  },
  {
   "cell_type": "code",
   "execution_count": 7,
   "metadata": {},
   "outputs": [
    {
     "name": "stderr",
     "output_type": "stream",
     "text": [
      "|-----> Gene selection and normalization on layer: spliced\n",
      "|-----> extracting highly variable genes\n",
      "C:\\Users\\dummy\\Anaconda3\\envs\\dynamo-dev\\lib\\site-packages\\pandas\\core\\arrays\\categorical.py:2630: FutureWarning: The `inplace` parameter in pandas.Categorical.remove_unused_categories is deprecated and will be removed in a future version.\n",
      "  res = method(*args, **kwargs)\n"
     ]
    }
   ],
   "source": [
    "recipe_pearson_residuals(adata, layer=\"spliced\")"
   ]
  },
  {
   "cell_type": "code",
   "execution_count": null,
   "metadata": {},
   "outputs": [],
   "source": [
    "recipe_pearson_residuals(adata, layer=\"unspliced\")"
   ]
  }
 ],
 "metadata": {
  "interpreter": {
   "hash": "c0f224693fc3f3b337b469fdaf7389d3b291b17a90dca45f35bda4453932d9dd"
  },
  "kernelspec": {
   "display_name": "Python 3.8.11 64-bit ('dynamo-dev': conda)",
   "name": "python3"
  },
  "language_info": {
   "codemirror_mode": {
    "name": "ipython",
    "version": 3
   },
   "file_extension": ".py",
   "mimetype": "text/x-python",
   "name": "python",
   "nbconvert_exporter": "python",
   "pygments_lexer": "ipython3",
   "version": "3.8.11"
  },
  "orig_nbformat": 4
 },
 "nbformat": 4,
 "nbformat_minor": 2
}
