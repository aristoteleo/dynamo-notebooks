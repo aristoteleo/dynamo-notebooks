{
 "cells": [
  {
   "cell_type": "markdown",
   "metadata": {},
   "source": [
    "# Pearson Residual Normalization on Zebrafish data"
   ]
  },
  {
   "cell_type": "markdown",
   "metadata": {},
   "source": [
    "This tutorial uses data from [Saunders, et al (2019)](https://elifesciences.org/articles/45181). Special thanks also go to [Lauren](https://twitter.com/LSaund11) for the tutorial improvement. \n",
    "\n",
    "In this [study](https://elifesciences.org/articles/45181), the authors profiled thousands of neural crest-derived cells from trunks of post-embryonic zebrafish. These cell classes include pigment cells, multipotent pigment cell progenitors, peripheral neurons, Schwann cells, chromaffin cells and others. These cells were collected during an active period of post-embryonic development, which has many similarities to fetal and neonatal development in mammals, when many of these cell types are migrating and differentiating as the animal transitions into its adult form. This study also explores the role of thyroid hormone (TH), a common endocrine factor, on the development of these different cell types. \n",
    "\n",
    "Such developmental and other dynamical processes are especially suitable for dynamo analysis as dynamo is designed to accurately estimate direction and magnitude of expression dynamics (`RNA velocity`), predict the entire lineage trajectory of any intial cell state (`vector field`), characterize the structure (`vector field topology`) of full gene expression space, as well as fate commitment potential (`single cell potential`). "
   ]
  },
  {
   "cell_type": "markdown",
   "metadata": {},
   "source": [
    "Import the package and silence some warning information (mostly `is_categorical_dtype` warning from anndata)"
   ]
  },
  {
   "cell_type": "code",
   "execution_count": 1,
   "metadata": {},
   "outputs": [],
   "source": [
    "import warnings\n",
    "warnings.filterwarnings('ignore')\n",
    "\n",
    "import dynamo as dyn \n",
    "from dynamo.configuration import DKM\n",
    "import numpy as np\n",
    "celltype_key = \"Cell_type\""
   ]
  },
  {
   "cell_type": "markdown",
   "metadata": {},
   "source": [
    "this is like R's sessionInfo() which helps you to debug version related bugs if any. "
   ]
  },
  {
   "cell_type": "markdown",
   "metadata": {},
   "source": [
    "## Load data"
   ]
  },
  {
   "cell_type": "code",
   "execution_count": 2,
   "metadata": {},
   "outputs": [
    {
     "name": "stderr",
     "output_type": "stream",
     "text": [
      "|-----> Downloading data to ./data/zebrafish.h5ad\n",
      "|-----> Downloading data to ./data/zebrafish.h5ad\n"
     ]
    }
   ],
   "source": [
    "import scipy\n",
    "from scipy.sparse import issparse, csr_matrix\n",
    "\n",
    "adata = dyn.sample_data.zebrafish()\n",
    "# adata.X = adata.layers[\"spliced\"].copy()\n",
    "# adata.X = csr_matrix(adata.X)\n",
    "adata_origin = dyn.sample_data.zebrafish()"
   ]
  },
  {
   "cell_type": "markdown",
   "metadata": {},
   "source": [
    "## Apply pearson residual normalization on different layers according `select_genes_key`. We may use other select_genes function combined with pearson residual normalization."
   ]
  },
  {
   "cell_type": "code",
   "execution_count": 3,
   "metadata": {},
   "outputs": [
    {
     "name": "stderr",
     "output_type": "stream",
     "text": [
      "|-----------> <insert> {} to uns['pp'] in AnnData Object.\n",
      "|-----> gene selection on layer: X\n",
      "|-----> extracting highly variable genes\n",
      "|-----> applying Pearson residuals to layer <X>\n"
     ]
    },
    {
     "name": "stdout",
     "output_type": "stream",
     "text": [
      "count    4.166246e+06\n",
      "mean     2.933080e+00\n",
      "std      7.640573e+00\n",
      "min      1.000000e+00\n",
      "25%      1.000000e+00\n",
      "50%      1.000000e+00\n",
      "75%      2.000000e+00\n",
      "max      9.980000e+02\n",
      "dtype: float64\n"
     ]
    },
    {
     "name": "stderr",
     "output_type": "stream",
     "text": [
      "|-----> replacing layer <X> with pearson residual normalized data.\n",
      "|-----> [pearson residual normalization] in progress: 100.0000%\n",
      "|-----> [pearson residual normalization] finished [1.3360s]\n",
      "|-----> applying Pearson residuals to layer <spliced>\n",
      "|-----> replacing layer <spliced> with pearson residual normalized data.\n",
      "|-----> [pearson residual normalization] in progress: 100.0000%\n",
      "|-----> [pearson residual normalization] finished [4.5640s]\n",
      "|-----> applying Pearson residuals to layer <unspliced>\n",
      "|-----> replacing layer <unspliced> with pearson residual normalized data.\n",
      "|-----> [pearson residual normalization] in progress: 100.0000%\n",
      "|-----> [pearson residual normalization] finished [3.7720s]\n"
     ]
    },
    {
     "name": "stdout",
     "output_type": "stream",
     "text": [
      "count    1.131108e+07\n",
      "mean     4.164497e-01\n",
      "std      1.969009e+00\n",
      "min     -7.406888e+00\n",
      "25%     -2.788494e-01\n",
      "50%     -7.355421e-02\n",
      "75%      1.000000e+00\n",
      "max      5.840000e+02\n",
      "dtype: float64\n"
     ]
    },
    {
     "data": {
      "text/plain": [
       "AnnData object with n_obs × n_vars = 4181 × 16940\n",
       "    obs: 'split_id', 'sample', 'Size_Factor', 'condition', 'Cluster', 'Cell_type', 'umap_1', 'umap_2', 'batch'\n",
       "    var: 'means', 'variances', 'residual_variances', 'highly_variable_rank', 'gene_highly_variable', 'use_for_pca'\n",
       "    uns: 'pp', 'PCs', 'explained_variance_ratio_', 'pca_mean'\n",
       "    obsm: 'X_pca'\n",
       "    layers: 'spliced', 'unspliced'"
      ]
     },
     "execution_count": 3,
     "metadata": {},
     "output_type": "execute_result"
    }
   ],
   "source": [
    "# adata = dyn.sample_data.zebrafish()\n",
    "from dynamo.preprocessing import Preprocessor\n",
    "import pearson_residual_normalization_recipe\n",
    "from benchmark_utils import *\n",
    "preprocessor = Preprocessor()\n",
    "preprocessor.config_monocle_recipe(adata)\n",
    "preprocessor.filter_cells_by_outliers = None\n",
    "preprocessor.filter_genes_by_outliers = None\n",
    "preprocessor.normalize_by_cells = None\n",
    "preprocessor.select_genes_function = pearson_residual_normalization_recipe.select_genes_by_pearson_residual\n",
    "preprocessor.normalize_selected_genes_function = pearson_residual_normalization_recipe.normalize_layers_pearson_residuals\n",
    "# preprocessor.use_log1p = True\n",
    "# preprocessor.preprocess_adata(adata)\n",
    "\n",
    "preprocessor.select_genes_function(adata, n_top_genes=2000)\n",
    "print(describe_mat(adata.X))\n",
    "preprocessor.normalize_selected_genes_function(adata)\n",
    "print(describe_mat(adata.X))\n",
    "preprocessor.pca(adata, pca_key=\"X_pca\",n_pca_components=50)\n"
   ]
  },
  {
   "cell_type": "code",
   "execution_count": 4,
   "metadata": {},
   "outputs": [],
   "source": [
    "np.save(\"dyn_env_Xpca.npy\", adata.obsm[\"X_pca\"])"
   ]
  },
  {
   "cell_type": "code",
   "execution_count": 5,
   "metadata": {},
   "outputs": [
    {
     "name": "stderr",
     "output_type": "stream",
     "text": [
      "|-----> Downloading data to ./data/zebrafish.h5ad\n"
     ]
    }
   ],
   "source": [
    "import scanpy as sc\n",
    "import dynamo as dyn\n",
    "\n",
    "sc_adata = dyn.sample_data.zebrafish()\n",
    "sc_adata.X = sc_adata.layers[\"spliced\"]\n",
    "sc.experimental.pp.recipe_pearson_residuals(sc_adata, n_comps=50, n_top_genes=2000)"
   ]
  },
  {
   "cell_type": "code",
   "execution_count": 6,
   "metadata": {},
   "outputs": [
    {
     "data": {
      "text/plain": [
       "AnnData object with n_obs × n_vars = 4181 × 16940\n",
       "    obs: 'split_id', 'sample', 'Size_Factor', 'condition', 'Cluster', 'Cell_type', 'umap_1', 'umap_2', 'batch'\n",
       "    var: 'means', 'variances', 'residual_variances', 'highly_variable_rank', 'highly_variable'\n",
       "    uns: 'hvg', 'pca', 'pearson_residuals_normalization'\n",
       "    obsm: 'X_pca'\n",
       "    varm: 'PCs'\n",
       "    layers: 'spliced', 'unspliced'"
      ]
     },
     "execution_count": 6,
     "metadata": {},
     "output_type": "execute_result"
    }
   ],
   "source": [
    "sc_adata"
   ]
  },
  {
   "cell_type": "code",
   "execution_count": 7,
   "metadata": {},
   "outputs": [
    {
     "data": {
      "image/png": "[encoded data removed]",
      "text/plain": [
       "<Figure size 432x288 with 1 Axes>"
      ]
     },
     "metadata": {
      "needs_background": "light"
     },
     "output_type": "display_data"
    },
    {
     "data": {
      "image/png": "[encoded data removed]",
      "text/plain": [
       "<Figure size 432x288 with 1 Axes>"
      ]
     },
     "metadata": {
      "needs_background": "light"
     },
     "output_type": "display_data"
    },
    {
     "data": {
      "text/plain": [
       "Text(0.5, 1.0, 'residual_variances')"
      ]
     },
     "execution_count": 7,
     "metadata": {},
     "output_type": "execute_result"
    },
    {
     "data": {
      "image/png": "[encoded data removed]",
      "text/plain": [
       "<Figure size 432x288 with 1 Axes>"
      ]
     },
     "metadata": {
      "needs_background": "light"
     },
     "output_type": "display_data"
    }
   ],
   "source": [
    "sns.scatterplot(adata.var[\"means\"], sc_adata.var[\"means\"]).set_title(\"means\")\n",
    "plt.show()\n",
    "plt.clf()\n",
    "sns.scatterplot(adata.var[\"variances\"], sc_adata.var[\"variances\"]).set_title(\"variances\")\n",
    "plt.show()\n",
    "plt.clf()\n",
    "sns.scatterplot(adata.var[\"residual_variances\"], sc_adata.var[\"residual_variances\"]).set_title(\"residual_variances\")\n",
    "\n",
    "\n",
    "\n"
   ]
  },
  {
   "cell_type": "code",
   "execution_count": 8,
   "metadata": {},
   "outputs": [
    {
     "data": {
      "text/plain": [
       "{'tkey': None,\n",
       " 'has_splicing': True,\n",
       " 'has_labeling': False,\n",
       " 'has_protein': False,\n",
       " 'splicing_labeling': False,\n",
       " 'experiment_type': 'conventional',\n",
       " 'experiment_layers': ['X', 'spliced', 'unspliced'],\n",
       " 'experiment_total_layers': None,\n",
       " 'hvg': {'flavor': 'pearson_residuals', 'computed_on': 'adata.X'},\n",
       " 'X_pearson_residuals_normalization_params': {'theta': 100,\n",
       "  'clip': None,\n",
       "  'layer': 'X'},\n",
       " 'spliced_pearson_residuals_normalization_params': {'theta': 100,\n",
       "  'clip': None,\n",
       "  'layer': 'spliced'},\n",
       " 'unspliced_pearson_residuals_normalization_params': {'theta': 100,\n",
       "  'clip': None,\n",
       "  'layer': 'unspliced'}}"
      ]
     },
     "execution_count": 8,
     "metadata": {},
     "output_type": "execute_result"
    }
   ],
   "source": [
    "adata.uns[\"pp\"]"
   ]
  },
  {
   "cell_type": "code",
   "execution_count": 9,
   "metadata": {},
   "outputs": [
    {
     "name": "stdout",
     "output_type": "stream",
     "text": [
      "count    1.217164e+06\n",
      "mean     6.297184e+00\n",
      "std      1.324103e+01\n",
      "min      1.000000e+00\n",
      "25%      1.000000e+00\n",
      "50%      2.000000e+00\n",
      "75%      6.000000e+00\n",
      "max      9.980000e+02\n",
      "dtype: float64\n",
      "count    8.362000e+06\n",
      "mean     1.856885e-02\n",
      "std      1.843442e+00\n",
      "min     -7.406888e+00\n",
      "25%     -3.741466e-01\n",
      "50%     -1.574537e-01\n",
      "75%     -5.090857e-02\n",
      "max      6.466065e+01\n",
      "dtype: float64\n",
      "count    8.362000e+06\n",
      "mean     1.856881e-02\n",
      "std      1.843442e+00\n",
      "min     -7.406888e+00\n",
      "25%     -3.741466e-01\n",
      "50%     -1.574537e-01\n",
      "75%     -5.090866e-02\n",
      "max      6.466065e+01\n",
      "dtype: float64\n"
     ]
    }
   ],
   "source": [
    "print(describe_mat(adata_origin[:, adata.var[\"use_for_pca\"]].X))\n",
    "print(describe_mat(adata[:, adata.var[\"use_for_pca\"]].X))\n",
    "# print(describe_mat(adata.uns[\"pp\"][\"pearson_residuals_normalization\"][\"pearson_residuals_df\"].to_numpy()))\n",
    "print(describe_mat(sc_adata.uns[\"pearson_residuals_normalization\"][\"pearson_residuals_df\"].to_numpy()))"
   ]
  },
  {
   "cell_type": "code",
   "execution_count": 10,
   "metadata": {},
   "outputs": [
    {
     "data": {
      "text/plain": [
       "count    8.362000e+06\n",
       "mean     1.856885e-02\n",
       "std      1.843442e+00\n",
       "min     -7.406888e+00\n",
       "25%     -3.741466e-01\n",
       "50%     -1.574537e-01\n",
       "75%     -5.090857e-02\n",
       "max      6.466065e+01\n",
       "dtype: float64"
      ]
     },
     "execution_count": 10,
     "metadata": {},
     "output_type": "execute_result"
    }
   ],
   "source": [
    "residuals = pearson_residual_normalization_recipe.compute_pearson_residuals(adata_origin[:, adata.var[\"use_for_pca\"]].X, theta=100, clip=None, check_values=True,copy=False)\n",
    "describe_mat(residuals)"
   ]
  },
  {
   "cell_type": "code",
   "execution_count": 11,
   "metadata": {},
   "outputs": [
    {
     "data": {
      "text/plain": [
       "AnnData object with n_obs × n_vars = 4181 × 16940\n",
       "    obs: 'split_id', 'sample', 'Size_Factor', 'condition', 'Cluster', 'Cell_type', 'umap_1', 'umap_2', 'batch'\n",
       "    var: 'means', 'variances', 'residual_variances', 'highly_variable_rank', 'highly_variable'\n",
       "    uns: 'hvg', 'pca', 'pearson_residuals_normalization'\n",
       "    obsm: 'X_pca'\n",
       "    varm: 'PCs'\n",
       "    layers: 'spliced', 'unspliced'"
      ]
     },
     "execution_count": 11,
     "metadata": {},
     "output_type": "execute_result"
    }
   ],
   "source": [
    "sc_adata"
   ]
  },
  {
   "cell_type": "code",
   "execution_count": 12,
   "metadata": {},
   "outputs": [
    {
     "name": "stdout",
     "output_type": "stream",
     "text": [
      "dyn X_pca shape: (4181, 50)\n",
      "sc X_pca shape: (4181, 50)\n",
      "#nonzeros in m1:209050, #nonzeros in m2:209050\n",
      "dyn preprocessor adata.X stats:\n",
      "count    1.131108e+07\n",
      "mean     4.164497e-01\n",
      "std      1.969009e+00\n",
      "min     -7.406888e+00\n",
      "25%     -2.788494e-01\n",
      "50%     -7.355421e-02\n",
      "75%      1.000000e+00\n",
      "max      5.840000e+02\n",
      "dtype: float64\n",
      "original adata spliced stats:\n",
      "count    4.166246e+06\n",
      "mean     2.933080e+00\n",
      "std      7.640573e+00\n",
      "min      1.000000e+00\n",
      "25%      1.000000e+00\n",
      "50%      1.000000e+00\n",
      "75%      2.000000e+00\n",
      "max      9.980000e+02\n",
      "dtype: float64\n",
      "original adata.X stats:\n",
      "count    4.166246e+06\n",
      "mean     2.933080e+00\n",
      "std      7.640573e+00\n",
      "min      1.000000e+00\n",
      "25%      1.000000e+00\n",
      "50%      1.000000e+00\n",
      "75%      2.000000e+00\n",
      "max      9.980000e+02\n",
      "dtype: float64\n",
      "sc adata.X stats:\n",
      "count    4.166246e+06\n",
      "mean     2.933080e+00\n",
      "std      7.640573e+00\n",
      "min      1.000000e+00\n",
      "25%      1.000000e+00\n",
      "50%      1.000000e+00\n",
      "75%      2.000000e+00\n",
      "max      9.980000e+02\n",
      "dtype: float64\n",
      "sc genes length: 2000\n",
      "dyn preprocess genes: 2000\n",
      "#different genes regarding highly variable genes: 0\n"
     ]
    },
    {
     "data": {
      "image/png": "[encoded data removed]",
      "text/plain": [
       "<Figure size 432x288 with 1 Axes>"
      ]
     },
     "metadata": {
      "needs_background": "light"
     },
     "output_type": "display_data"
    }
   ],
   "source": [
    "import pandas as pd\n",
    "print(\"dyn X_pca shape:\", adata.obsm[\"X_pca\"].shape)\n",
    "print(\"sc X_pca shape:\", sc_adata.obsm[\"X_pca\"].shape)\n",
    "\n",
    "preprocess_genes = adata.var_names[adata.var[DKM.VAR_USE_FOR_PCA]]\n",
    "sc_genes = sc_adata.var_names[sc_adata.var[\"highly_variable\"]]\n",
    "\n",
    "def benchmark_Xpca(adata, other_adata, key=\"X_pca\"):\n",
    "    plot_scatter_sparse(adata.obsm[key], other_adata.obsm[key])\n",
    "benchmark_Xpca(adata, sc_adata)\n",
    "print(\"dyn preprocessor adata.X stats:\")\n",
    "print(describe_mat(adata.X))\n",
    "print(\"original adata spliced stats:\")\n",
    "print(describe_mat(adata_origin.layers[\"spliced\"]))\n",
    "print(\"original adata.X stats:\")\n",
    "print(describe_mat(adata_origin.X))\n",
    "print(\"sc adata.X stats:\")\n",
    "print(describe_mat(sc_adata.X))\n",
    "\n",
    "\n",
    "\n",
    "print(\"sc genes length:\", len(sc_genes))\n",
    "print(\"dyn preprocess genes:\", len(preprocess_genes))\n",
    "print(\"#different genes regarding highly variable genes:\", len(set(sc_genes).difference(set(preprocess_genes))))\n",
    "# assert not set(sc_genes).difference(set(preprocess_genes))\n",
    "# assert not set(preprocess_genes).difference(set(sc_genes))"
   ]
  },
  {
   "cell_type": "code",
   "execution_count": 13,
   "metadata": {},
   "outputs": [
    {
     "data": {
      "text/plain": [
       "count    2.090500e+05\n",
       "mean     2.744465e-08\n",
       "std      7.850165e+00\n",
       "min     -9.724918e+01\n",
       "25%     -2.025148e+00\n",
       "50%     -1.669224e-01\n",
       "75%      1.591828e+00\n",
       "max      1.802114e+02\n",
       "dtype: float64"
      ]
     },
     "execution_count": 13,
     "metadata": {},
     "output_type": "execute_result"
    }
   ],
   "source": [
    "describe_mat(adata.obsm[\"X_pca\"])"
   ]
  },
  {
   "cell_type": "code",
   "execution_count": 14,
   "metadata": {},
   "outputs": [
    {
     "data": {
      "text/plain": [
       "AnnData object with n_obs × n_vars = 4181 × 16940\n",
       "    obs: 'split_id', 'sample', 'Size_Factor', 'condition', 'Cluster', 'Cell_type', 'umap_1', 'umap_2', 'batch'\n",
       "    var: 'means', 'variances', 'residual_variances', 'highly_variable_rank', 'gene_highly_variable', 'use_for_pca'\n",
       "    uns: 'pp', 'PCs', 'explained_variance_ratio_', 'pca_mean'\n",
       "    obsm: 'X_pca'\n",
       "    layers: 'spliced', 'unspliced'"
      ]
     },
     "execution_count": 14,
     "metadata": {},
     "output_type": "execute_result"
    }
   ],
   "source": [
    "adata"
   ]
  },
  {
   "cell_type": "code",
   "execution_count": 15,
   "metadata": {},
   "outputs": [
    {
     "name": "stderr",
     "output_type": "stream",
     "text": [
      "|-----> retrive data for non-linear dimension reduction...\n",
      "|-----> perform umap...\n"
     ]
    }
   ],
   "source": [
    "dyn.tl.reduceDimension(adata, basis=\"pca\", reduction_method=\"umap\")\n",
    "dyn.pl.umap(adata, color=[celltype_key], figsize=(12, 12))\n"
   ]
  },
  {
   "cell_type": "code",
   "execution_count": null,
   "metadata": {},
   "outputs": [],
   "source": [
    "dyn.tl.leiden(adata, basis=\"pca\")\n",
    "dyn.pl.leiden(adata, basis=\"pca\", color=\"Cell_type\")\n",
    "dyn.tl.louvain(adata, basis=\"pca\")\n",
    "dyn.pl.louvain(adata, basis=\"pca\", color=\"Cell_type\")"
   ]
  },
  {
   "cell_type": "code",
   "execution_count": null,
   "metadata": {},
   "outputs": [],
   "source": [
    "adata.layers[\"X_spliced\"] = adata.layers[\"spliced\"]\n",
    "adata.layers[\"X_unspliced\"] = adata.layers[\"unspliced\"] \n",
    "adata.uns[\"pp\"][\"norm_method\"] = \"\" \n",
    "dyn.tl.dynamics(adata, model='stochastic', cores=3)\n",
    "dyn.pl.streamline_plot(adata, color=[celltype_key], basis='umap', show_legend='on data', show_arrowed_spines=True)\n"
   ]
  },
  {
   "cell_type": "code",
   "execution_count": null,
   "metadata": {},
   "outputs": [],
   "source": [
    "dyn.tl.reduceDimension(adata,basis=\"pca\")\n",
    "# dyn.pp.cell_cycle_scores(adata)\n",
    "dyn.pl.umap(adata, color=[\"louvain\", celltype_key], figsize=(12, 12))"
   ]
  },
  {
   "cell_type": "code",
   "execution_count": null,
   "metadata": {},
   "outputs": [],
   "source": [
    "sc.pp.neighbors(sc_adata)\n",
    "sc.tl.umap(sc_adata)\n",
    "sc.pl.umap(sc_adata, color=celltype_key)"
   ]
  }
 ],
 "metadata": {
  "interpreter": {
   "hash": "c0f224693fc3f3b337b469fdaf7389d3b291b17a90dca45f35bda4453932d9dd"
  },
  "kernelspec": {
   "display_name": "Python 3.8.11 64-bit ('dynamo-dev': conda)",
   "name": "python3"
  },
  "language_info": {
   "codemirror_mode": {
    "name": "ipython",
    "version": 3
   },
   "file_extension": ".py",
   "mimetype": "text/x-python",
   "name": "python",
   "nbconvert_exporter": "python",
   "pygments_lexer": "ipython3",
   "version": "3.8.11"
  },
  "widgets": {
   "application/vnd.jupyter.widget-state+json": {
    "state": {},
    "version_major": 2,
    "version_minor": 0
   }
  }
 },
 "nbformat": 4,
 "nbformat_minor": 4
}
