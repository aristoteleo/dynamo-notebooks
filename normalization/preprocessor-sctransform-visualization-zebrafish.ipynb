{
 "cells": [
  {
   "cell_type": "markdown",
   "metadata": {},
   "source": [
    "# Zebrafish pigmentation"
   ]
  },
  {
   "cell_type": "code",
   "execution_count": 1,
   "metadata": {},
   "outputs": [],
   "source": [
    "import warnings\n",
    "warnings.filterwarnings('ignore')\n",
    "\n",
    "import dynamo as dyn \n",
    "from dynamo.configuration import DKM\n",
    "import numpy as np\n",
    "import pandas as pd"
   ]
  },
  {
   "cell_type": "markdown",
   "metadata": {},
   "source": [
    "this is like R's sessionInfo() which helps you to debug version related bugs if any. "
   ]
  },
  {
   "cell_type": "markdown",
   "metadata": {},
   "source": [
    "## Load data"
   ]
  },
  {
   "cell_type": "code",
   "execution_count": null,
   "metadata": {},
   "outputs": [],
   "source": [
    "adata_origin = dyn.sample_data.zebrafish()"
   ]
  },
  {
   "cell_type": "markdown",
   "metadata": {},
   "source": [
    "```\n",
    "print(adata.X.min(), adata.X.max(), adata.X.mean())\n",
    "adata.layers[\"spliced\"] = adata.layers[\"spliced\"].toarray()\n",
    "temp = adata.layers[\"spliced\"][~np.isnan(adata.layers[\"spliced\"])]\n",
    "print(\"unspliced data \")\n",
    "print(temp.min(), temp.max(), temp.mean(),  temp.std())\n",
    "adata.layers[\"unspliced\"] = adata.layers[\"unspliced\"].toarray()\n",
    "temp = adata.layers[\"unspliced\"][~np.isnan(adata.layers[\"unspliced\"])]\n",
    "print(temp.min(), temp.max(), temp.mean(), temp.std())\n",
    "```"
   ]
  },
  {
   "cell_type": "code",
   "execution_count": null,
   "metadata": {},
   "outputs": [],
   "source": [
    "from SCTransform import SCTransform"
   ]
  },
  {
   "cell_type": "markdown",
   "metadata": {},
   "source": [
    "## Apply pearson residual normalization on different layers according `select_genes_key`. We may use other select_genes function combined with pearson residual normalization."
   ]
  },
  {
   "cell_type": "code",
   "execution_count": null,
   "metadata": {},
   "outputs": [],
   "source": [
    "# # adata = dyn.sample_data.zebrafish()\n",
    "# from dynamo.preprocessing import Preprocessor\n",
    "# adata = dyn.sample_data.zebrafish()\n",
    "# preprocessor = Preprocessor()\n",
    "# preprocessor.config_monocle_recipe(adata)\n",
    "# preprocessor.normalize_by_cells = None\n",
    "# preprocessor.select_genes_function = dyn.preprocessing.select_genes_by_dispersion_svr\n",
    "# # preprocessor.select_genes_function = pearson_residual_normalization_recipe.select_genes_by_pearson_residual\n",
    "# # preprocessor.normalize_selected_genes_function = pearson_residual_normalization_recipe.normalize_layers_pearson_residuals\n",
    "# dyn.preprocessing.unique_var_obs_adata(adata)\n",
    "# preprocessor.filter_cells_by_outliers(adata, keep_filtered=False)\n",
    "# preprocessor.filter_genes_by_outliers(adata, inplace=True)\n",
    "# preprocessor.select_genes(adata, n_top_genes=2000)\n",
    "# adata = adata[:, adata.var[\"use_for_pca\"]]\n",
    "\n",
    "# print(\"data before sctransform:\")\n",
    "# print(pd.DataFrame(adata.X.data).describe())\n",
    "# SCTransform(adata, inplace=True)\n",
    "# print(\"data after sctransform:\")\n",
    "# print(pd.DataFrame(adata.X.data).describe())\n",
    "# preprocessor.use_log1p = False\n",
    "# # preprocessor.preprocess_adata(adata)\n",
    "# preprocessor.pca(adata, n_pca_components=50, pca_key=\"X_pca\")\n",
    "# dyn.data_io.cleanup(adata)\n",
    "# adata.write_h5ad(\"./data/zebrafish_sctransform_preprocessor.h5ad\")\n"
   ]
  },
  {
   "cell_type": "code",
   "execution_count": null,
   "metadata": {},
   "outputs": [],
   "source": [
    "from dynamo.preprocessing import Preprocessor\n",
    "adata = dyn.sample_data.zebrafish()\n",
    "preprocessor = Preprocessor()\n",
    "preprocessor.preprocess_adata(adata, recipe=\"sctransform\")"
   ]
  },
  {
   "cell_type": "code",
   "execution_count": null,
   "metadata": {},
   "outputs": [],
   "source": [
    "# temp = adata.layers[\"spliced\"][~np.isnan(adata.layers[\"spliced\"])]\n",
    "# print(pd.Series(temp).describe())\n",
    "# temp = adata.layers[\"unspliced\"][~np.isnan(adata.layers[\"unspliced\"])]\n",
    "# print(pd.Series(temp).describe())"
   ]
  },
  {
   "cell_type": "code",
   "execution_count": null,
   "metadata": {},
   "outputs": [],
   "source": [
    "\n",
    "celltype_key = \"Cell_type\"\n",
    "dyn.tl.reduceDimension(adata, basis=\"pca\")\n",
    "dyn.pl.umap(adata, color=[celltype_key], figsize=(12, 12))\n"
   ]
  },
  {
   "cell_type": "code",
   "execution_count": null,
   "metadata": {},
   "outputs": [],
   "source": [
    "dyn.tl.leiden(adata, basis=\"pca\")\n",
    "dyn.pl.leiden(adata, basis=\"pca\", color=\"Cell_type\")\n",
    "dyn.tl.louvain(adata, basis=\"pca\")\n",
    "dyn.pl.louvain(adata, basis=\"pca\", color=\"Cell_type\")"
   ]
  },
  {
   "cell_type": "code",
   "execution_count": null,
   "metadata": {},
   "outputs": [],
   "source": [
    "dyn.tl.dynamics(adata, model='stochastic', cores=3)\n",
    "dyn.pl.streamline_plot(adata, color=[celltype_key], basis='umap', show_legend='on data', show_arrowed_spines=True)"
   ]
  },
  {
   "cell_type": "code",
   "execution_count": null,
   "metadata": {},
   "outputs": [],
   "source": [
    "adata.layers[\"X_spliced\"] = adata.layers[\"spliced\"]\n",
    "adata.layers[\"X_unspliced\"] = adata.layers[\"unspliced\"] \n",
    "adata.uns[\"pp\"][\"norm_method\"] = \"\" \n",
    "dyn.tl.dynamics(adata, model='stochastic', cores=3)\n",
    "dyn.pl.streamline_plot(adata, color=[celltype_key], basis='umap', show_legend='on data', show_arrowed_spines=True)\n"
   ]
  },
  {
   "cell_type": "code",
   "execution_count": null,
   "metadata": {},
   "outputs": [],
   "source": [
    "adata"
   ]
  },
  {
   "cell_type": "code",
   "execution_count": null,
   "metadata": {},
   "outputs": [],
   "source": [
    "dyn.pl.streamline_plot(adata, color=[celltype_key], basis='umap', show_legend='on data', show_arrowed_spines=True);\n"
   ]
  },
  {
   "cell_type": "code",
   "execution_count": null,
   "metadata": {},
   "outputs": [],
   "source": [
    "dyn.pl.umap(adata, color=['tfec', 'pnp4a'])"
   ]
  },
  {
   "cell_type": "code",
   "execution_count": null,
   "metadata": {},
   "outputs": [],
   "source": [
    "dyn.pl.phase_portraits(adata, genes=['Abcb7', 'Hectd3'],  figsize=(6, 4), color=celltype_key)"
   ]
  },
  {
   "cell_type": "code",
   "execution_count": null,
   "metadata": {},
   "outputs": [],
   "source": [
    "adata.uns[\"pp\"]"
   ]
  }
 ],
 "metadata": {
  "interpreter": {
   "hash": "c0f224693fc3f3b337b469fdaf7389d3b291b17a90dca45f35bda4453932d9dd"
  },
  "kernelspec": {
   "display_name": "Python 3.8.11 64-bit ('dynamo-dev': conda)",
   "name": "python3"
  },
  "language_info": {
   "codemirror_mode": {
    "name": "ipython",
    "version": 3
   },
   "file_extension": ".py",
   "mimetype": "text/x-python",
   "name": "python",
   "nbconvert_exporter": "python",
   "pygments_lexer": "ipython3",
   "version": "3.9.7"
  },
  "widgets": {
   "application/vnd.jupyter.widget-state+json": {
    "state": {},
    "version_major": 2,
    "version_minor": 0
   }
  }
 },
 "nbformat": 4,
 "nbformat_minor": 4
}
