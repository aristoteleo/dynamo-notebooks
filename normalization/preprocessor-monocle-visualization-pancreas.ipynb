{
 "cells": [
  {
   "cell_type": "markdown",
   "metadata": {},
   "source": [
    "# Zebrafish pigmentation"
   ]
  },
  {
   "cell_type": "markdown",
   "metadata": {},
   "source": [
    "This tutorial uses data from [Saunders, et al (2019)](https://elifesciences.org/articles/45181). Special thanks also go to [Lauren](https://twitter.com/LSaund11) for the tutorial improvement. \n",
    "\n",
    "In this [study](https://elifesciences.org/articles/45181), the authors profiled thousands of neural crest-derived cells from trunks of post-embryonic zebrafish. These cell classes include pigment cells, multipotent pigment cell progenitors, peripheral neurons, Schwann cells, chromaffin cells and others. These cells were collected during an active period of post-embryonic development, which has many similarities to fetal and neonatal development in mammals, when many of these cell types are migrating and differentiating as the animal transitions into its adult form. This study also explores the role of thyroid hormone (TH), a common endocrine factor, on the development of these different cell types. \n",
    "\n",
    "Such developmental and other dynamical processes are especially suitable for dynamo analysis as dynamo is designed to accurately estimate direction and magnitude of expression dynamics (`RNA velocity`), predict the entire lineage trajectory of any intial cell state (`vector field`), characterize the structure (`vector field topology`) of full gene expression space, as well as fate commitment potential (`single cell potential`). "
   ]
  },
  {
   "cell_type": "markdown",
   "metadata": {},
   "source": [
    "Import the package and silence some warning information (mostly `is_categorical_dtype` warning from anndata)"
   ]
  },
  {
   "cell_type": "code",
   "execution_count": 1,
   "metadata": {},
   "outputs": [],
   "source": [
    "import warnings\n",
    "warnings.filterwarnings('ignore')\n",
    "\n",
    "import dynamo as dyn \n",
    "from dynamo.configuration import DKM\n",
    "import numpy as np\n",
    "import matplotlib.pyplot as plt"
   ]
  },
  {
   "cell_type": "markdown",
   "metadata": {},
   "source": [
    "this is like R's sessionInfo() which helps you to debug version related bugs if any. "
   ]
  },
  {
   "cell_type": "markdown",
   "metadata": {},
   "source": [
    "## Load data"
   ]
  },
  {
   "cell_type": "code",
   "execution_count": 2,
   "metadata": {},
   "outputs": [
    {
     "name": "stderr",
     "output_type": "stream",
     "text": [
      "|-----> Downloading data to ./data/endocrinogenesis_day15.h5ad\n",
      "|-----> Downloading data to ./data/endocrinogenesis_day15.h5ad\n",
      "|-----> Downloading data to ./data/endocrinogenesis_day15.h5ad\n"
     ]
    }
   ],
   "source": [
    "adata = dyn.sample_data.pancreatic_endocrinogenesis()\n",
    "adata_origin = dyn.sample_data.pancreatic_endocrinogenesis()\n",
    "monocle_adata = dyn.sample_data.pancreatic_endocrinogenesis()"
   ]
  },
  {
   "cell_type": "code",
   "execution_count": 3,
   "metadata": {},
   "outputs": [
    {
     "name": "stdout",
     "output_type": "stream",
     "text": [
      "0.0 2286.0 0.23841056\n",
      "unspliced data \n",
      "0.0 2286.0 0.23841062 2.2769988\n",
      "0.0 1418.0 0.04639706 0.9100693\n"
     ]
    }
   ],
   "source": [
    "print(adata.X.min(), adata.X.max(), adata.X.mean())\n",
    "adata.layers[\"spliced\"] = adata.layers[\"spliced\"].toarray()\n",
    "temp = adata.layers[\"spliced\"][~np.isnan(adata.layers[\"spliced\"])]\n",
    "print(\"unspliced data \")\n",
    "print(temp.min(), temp.max(), temp.mean(),  temp.std())\n",
    "adata.layers[\"unspliced\"] = adata.layers[\"unspliced\"].toarray()\n",
    "temp = adata.layers[\"unspliced\"][~np.isnan(adata.layers[\"unspliced\"])]\n",
    "print(temp.min(), temp.max(), temp.mean(), temp.std())"
   ]
  },
  {
   "cell_type": "markdown",
   "metadata": {},
   "source": [
    "## Apply normalization on different layers according `select_genes_key`. We may use other select_genes function combined with pearson residual normalization."
   ]
  },
  {
   "cell_type": "code",
   "execution_count": 4,
   "metadata": {},
   "outputs": [
    {
     "name": "stderr",
     "output_type": "stream",
     "text": [
      "|-----> recipe_monocle_keep_filtered_cells_key is None. Using default value from DynamoAdataConfig: recipe_monocle_keep_filtered_cells_key=True\n",
      "|-----> recipe_monocle_keep_filtered_genes_key is None. Using default value from DynamoAdataConfig: recipe_monocle_keep_filtered_genes_key=True\n",
      "|-----> recipe_monocle_keep_raw_layers_key is None. Using default value from DynamoAdataConfig: recipe_monocle_keep_raw_layers_key=True\n",
      "|-----> apply Monocole recipe to adata...\n",
      "|-----> <insert> pp to uns in AnnData Object.\n",
      "|-----------> <insert> has_splicing to uns['pp'] in AnnData Object.\n",
      "|-----------> <insert> has_labling to uns['pp'] in AnnData Object.\n",
      "|-----------> <insert> splicing_labeling to uns['pp'] in AnnData Object.\n",
      "|-----------> <insert> has_protein to uns['pp'] in AnnData Object.\n",
      "|-----> ensure all cell and variable names unique.\n",
      "|-----> ensure all data in different layers in csr sparse matrix format.\n",
      "|-----> ensure all labeling data properly collapased\n",
      "|-----------> <insert> tkey to uns['pp'] in AnnData Object.\n",
      "|-----------> <insert> experiment_type to uns['pp'] in AnnData Object.\n",
      "|-----> filtering cells...\n",
      "|-----> <insert> pass_basic_filter to obs in AnnData Object.\n",
      "|-----> 3696 cells passed basic filters.\n",
      "|-----> filtering gene...\n",
      "|-----> <insert> pass_basic_filter to var in AnnData Object.\n",
      "|-----> 6262 genes passed basic filters.\n",
      "|-----> calculating size factor...\n",
      "|-----> selecting genes in layer: X, sort method: SVR...\n"
     ]
    },
    {
     "name": "stdout",
     "output_type": "stream",
     "text": [
      "monocle select genes args\n",
      "layer: X\n",
      "total_szfactor: total_Size_Factor\n",
      "sort_by: SVR\n",
      "n top genes: 2000\n",
      "SVR kwargs: {'min_expr_cells': 0, 'min_expr_avg': 0, 'max_expr_avg': inf, 'svr_gamma': None, 'winsorize': False, 'winsor_perc': (1, 99.5), 'sort_inverse': False}\n",
      "onlybools: False\n",
      "exprs_frac: 1\n",
      "genes to exclude: None\n"
     ]
    },
    {
     "name": "stderr",
     "output_type": "stream",
     "text": [
      "|-----> <insert> frac to var in AnnData Object.\n"
     ]
    },
    {
     "name": "stdout",
     "output_type": "stream",
     "text": [
      "monocle select genes args\n",
      "layer: X\n",
      "total_szfactor: total_Size_Factor\n",
      "sort_by: SVR\n",
      "n top genes: 2000\n",
      "SVR kwargs: {'min_expr_cells': 0, 'min_expr_avg': 0, 'max_expr_avg': inf, 'svr_gamma': None, 'winsorize': False, 'winsor_perc': (1, 99.5), 'sort_inverse': False}\n",
      "onlybools: True\n",
      "exprs_frac: 1\n",
      "genes to exclude: None\n"
     ]
    },
    {
     "name": "stderr",
     "output_type": "stream",
     "text": [
      "|-----> size factor normalizing the data, followed by log1p transformation.\n",
      "|-----> Set <adata.X> to normalized data\n",
      "|-----> applying PCA ...\n"
     ]
    },
    {
     "name": "stdout",
     "output_type": "stream",
     "text": [
      "monocle use_for_pca inputs:\n",
      "count    2.172270e+06\n",
      "mean     1.147593e+00\n",
      "std      6.835113e-01\n",
      "min      2.884645e-01\n",
      "25%      6.874647e-01\n",
      "50%      8.930588e-01\n",
      "75%      1.398279e+00\n",
      "max      7.306362e+00\n",
      "dtype: float64\n",
      "monocle pca inputs:\n",
      "count    2.172270e+06\n",
      "mean     1.147593e+00\n",
      "std      6.835113e-01\n",
      "min      2.884645e-01\n",
      "25%      6.874647e-01\n",
      "50%      8.930588e-01\n",
      "75%      1.398279e+00\n",
      "max      7.306362e+00\n",
      "dtype: float64\n"
     ]
    },
    {
     "name": "stderr",
     "output_type": "stream",
     "text": [
      "|-----> <insert> pca_fit to uns in AnnData Object.\n",
      "|-----> <insert> ntr to obs in AnnData Object.\n",
      "|-----> <insert> ntr to var in AnnData Object.\n",
      "|-----> cell cycle scoring...\n",
      "|-----> computing cell phase...\n",
      "|-----> [cell phase estimation] in progress: 100.0000%\n",
      "|-----> [cell phase estimation] finished [9.6916s]\n",
      "|-----> <insert> cell_cycle_phase to obs in AnnData Object.\n",
      "|-----> <insert> cell_cycle_scores to obsm in AnnData Object.\n",
      "|-----> [Cell Cycle Scores Estimation] in progress: 100.0000%\n",
      "|-----> [Cell Cycle Scores Estimation] finished [0.4239s]\n",
      "|-----> [recipe_monocle preprocess] in progress: 100.0000%\n",
      "|-----> [recipe_monocle preprocess] finished [4.4471s]\n"
     ]
    }
   ],
   "source": [
    "dyn.preprocessing.recipe_monocle(monocle_adata)"
   ]
  },
  {
   "cell_type": "code",
   "execution_count": 5,
   "metadata": {},
   "outputs": [
    {
     "name": "stderr",
     "output_type": "stream",
     "text": [
      "|-----------> <insert> {} to uns['pp'] in AnnData Object.\n",
      "|-----> Running preprocessing pipeline...\n",
      "|-----------> <insert> {} to uns['pp'] in AnnData Object.\n",
      "|-----------> <insert> tkey=None to uns['pp'] in AnnData Object.\n",
      "|-----------> <insert> experiment_type=None to uns['pp'] in AnnData Object.\n",
      "|-----> making adata observation index unique...\n",
      "|-----> applying collapse species adata...\n",
      "|-----> applying convert_gene_name function...\n",
      "|-----> filtering outlier cells...\n",
      "|-----------> filtering cells by layer:X\n",
      "|-----------> filtering cells by layer:spliced\n",
      "|-----------> filtering cells by layer:unspliced\n",
      "|-----> skip filtering by layer:protein as it is not in adata.\n",
      "|-----> <insert> pass_basic_filter to obs in AnnData Object.\n",
      "|-----------> inplace subsetting adata by filtered genes\n",
      "|-----> filtering outlier genes...\n",
      "|-----> extra kwargs:{'filter_bool': None, 'layer': 'all', 'min_cell_s': 36.96, 'min_cell_u': 18.48, 'min_cell_p': 18.48, 'min_avg_exp_s': 0, 'min_avg_exp_u': 0, 'min_avg_exp_p': 0, 'max_avg_exp': inf, 'min_count_s': 0, 'min_count_u': 0, 'min_count_p': 0, 'shared_count': 30}\n",
      "|-----> selecting genes...\n",
      "|-----> filtering genes by dispersion...\n",
      "|-----> select genes by recipe: dynamo_monocle\n"
     ]
    },
    {
     "name": "stdout",
     "output_type": "stream",
     "text": [
      "monocle select genes args\n",
      "layer: X\n",
      "total_szfactor: total_Size_Factor\n",
      "sort_by: SVR\n",
      "n top genes: 2000\n",
      "SVR kwargs: {'min_expr_cells': 0, 'min_expr_avg': 0, 'max_expr_avg': inf, 'svr_gamma': None, 'winsorize': False, 'winsor_perc': (1, 99.5), 'sort_inverse': False}\n",
      "onlybools: True\n",
      "exprs_frac: 1\n",
      "genes to exclude: None\n"
     ]
    },
    {
     "name": "stderr",
     "output_type": "stream",
     "text": [
      "|-----> appended 0 extra genes as required...\n",
      "|-----> excluded 0 genes as required...\n",
      "|-----> applying normalize by cells function...\n",
      "|-----> reducing dimension by PCA...\n"
     ]
    },
    {
     "name": "stdout",
     "output_type": "stream",
     "text": [
      "preprocessor pca inputs:\n",
      "count    2.172270e+06\n",
      "mean     1.147593e+00\n",
      "std      6.835113e-01\n",
      "min      2.884645e-01\n",
      "25%      6.874647e-01\n",
      "50%      8.930588e-01\n",
      "75%      1.398279e+00\n",
      "max      7.306362e+00\n",
      "dtype: float64\n"
     ]
    },
    {
     "name": "stderr",
     "output_type": "stream",
     "text": [
      "|-----> [preprocess] in progress: 100.0000%\n",
      "|-----> [preprocess] finished [7.6146s]\n"
     ]
    }
   ],
   "source": [
    "# adata = dyn.sample_data.zebrafish()\n",
    "from dynamo.preprocessing import Preprocessor\n",
    "import pearson_residual_normalization_recipe\n",
    "preprocessor = Preprocessor()\n",
    "preprocessor.config_monocle_recipe(adata)\n",
    "preprocessor.preprocess_adata(adata)\n"
   ]
  },
  {
   "cell_type": "markdown",
   "metadata": {},
   "source": [
    "## Gene set difference between Monocle and Preprocessor adata results \n",
    "If no assertion complains, it means the checked gene sets are the same"
   ]
  },
  {
   "cell_type": "code",
   "execution_count": 6,
   "metadata": {},
   "outputs": [],
   "source": [
    "preprocess_genes = adata.var_names[adata.var[\"pass_basic_filter\"]]\n",
    "monocle_genes = monocle_adata.var_names[monocle_adata.var[\"pass_basic_filter\"]]\n",
    "assert not set(monocle_genes).difference(set(preprocess_genes))\n",
    "assert not set(preprocess_genes).difference(set(monocle_genes))\n"
   ]
  },
  {
   "cell_type": "code",
   "execution_count": 7,
   "metadata": {},
   "outputs": [],
   "source": [
    "preprocess_genes = adata.var_names[adata.var[\"use_for_pca\"]]\n",
    "monocle_genes = monocle_adata.var_names[monocle_adata.var[\"use_for_pca\"]]\n",
    "assert not set(monocle_genes).difference(set(preprocess_genes))\n",
    "assert not set(preprocess_genes).difference(set(monocle_genes))\n"
   ]
  },
  {
   "cell_type": "markdown",
   "metadata": {},
   "source": [
    "## Quantitative difference between Monocle and Preprocessor adata results "
   ]
  },
  {
   "cell_type": "code",
   "execution_count": 8,
   "metadata": {},
   "outputs": [
    {
     "name": "stdout",
     "output_type": "stream",
     "text": [
      "4.6892617547200643e-05\n",
      "9.151098674919922e-05\n"
     ]
    }
   ],
   "source": [
    "print(np.max(np.abs(adata.layers[\"X_unspliced\"] - monocle_adata.layers[\"X_unspliced\"])))\n",
    "print(np.max(np.abs(adata.layers[\"X_spliced\"] - monocle_adata.layers[\"X_spliced\"])))"
   ]
  },
  {
   "cell_type": "code",
   "execution_count": 9,
   "metadata": {},
   "outputs": [
    {
     "name": "stdout",
     "output_type": "stream",
     "text": [
      "0.0\n",
      "0.7505629145520515\n",
      "0.14259112826936304\n",
      "0.0\n"
     ]
    }
   ],
   "source": [
    "print(np.sum(np.abs(adata.X - monocle_adata.X)))\n",
    "print(np.sum(np.abs(adata.layers[\"X_spliced\"] - monocle_adata.layers[\"X_spliced\"])))\n",
    "print(np.sum(np.abs(adata.layers[\"X_unspliced\"] - monocle_adata.layers[\"X_unspliced\"])))\n",
    "print(np.sum(np.abs(adata.obsm[\"X_pca\"] - monocle_adata.obsm[\"X_pca\"])))\n"
   ]
  },
  {
   "cell_type": "code",
   "execution_count": 10,
   "metadata": {},
   "outputs": [
    {
     "name": "stdout",
     "output_type": "stream",
     "text": [
      "0.0\n",
      "0.0\n",
      "0.0\n"
     ]
    }
   ],
   "source": [
    "print(np.sum(np.abs(adata.X - monocle_adata.X)))\n",
    "# underlying data order not ensured\n",
    "print(np.sum(np.abs(adata.X.data - monocle_adata.X.data)))\n",
    "print(np.sum(np.abs(adata.X.toarray() - monocle_adata.X.toarray())))\n"
   ]
  },
  {
   "cell_type": "code",
   "execution_count": 11,
   "metadata": {},
   "outputs": [
    {
     "data": {
      "text/plain": [
       "array([0.8110648, 0.8110648, 1.5583358, ..., 1.6455233, 2.438802 ,\n",
       "       0.7158527], dtype=float32)"
      ]
     },
     "execution_count": 11,
     "metadata": {},
     "output_type": "execute_result"
    }
   ],
   "source": [
    "indices = adata.X.nonzero()\n",
    "np.array(adata.X[indices]).flatten()\n"
   ]
  },
  {
   "cell_type": "code",
   "execution_count": 12,
   "metadata": {},
   "outputs": [
    {
     "data": {
      "text/plain": [
       "array([0.8110648, 0.8110648, 1.5583358, ..., 1.6455233, 2.438802 ,\n",
       "       0.7158527], dtype=float32)"
      ]
     },
     "execution_count": 12,
     "metadata": {},
     "output_type": "execute_result"
    }
   ],
   "source": [
    "np.array(monocle_adata.X[indices]).flatten()\n"
   ]
  },
  {
   "cell_type": "markdown",
   "metadata": {},
   "source": [
    "## X, X_pca, X_spliced, X_unspliced plot comparison"
   ]
  },
  {
   "cell_type": "code",
   "execution_count": 13,
   "metadata": {},
   "outputs": [],
   "source": [
    "import seaborn as sns\n",
    "import scipy.sparse\n",
    "\n",
    "\n",
    "def get_nonzero_np_arr(X: scipy.sparse.csr_matrix):\n",
    "    return np.array(X[X.nonzero()]).flatten()\n",
    "\n",
    "def plot_scatter_sparse(m1: scipy.sparse.csr_matrix, m2: scipy.sparse.csr_matrix, title=\"\", **kwargs):\n",
    "    sns.scatterplot(np.array(m1[m1.nonzero()]).flatten(), np.array(m2[m1.nonzero()]).flatten(), **kwargs).set_title(title)\n",
    "\n",
    "fig, axes = plt.subplots(2, 2, figsize=(15, 15))\n",
    "plot_scatter_sparse(adata.X, monocle_adata.X, ax=axes[0][0], title=\"X comparison\")\n",
    "plot_scatter_sparse(adata.obsm[\"X_pca\"], monocle_adata.obsm[\"X_pca\"], ax=axes[0][1], title=\"X_pca comparison\")\n",
    "plot_scatter_sparse(adata.layers[\"X_unspliced\"], monocle_adata.layers[\"X_unspliced\"], ax=axes[1][0], title=\"X_unspliced comparison\")\n",
    "plot_scatter_sparse(adata.layers[\"X_spliced\"], monocle_adata.layers[\"X_spliced\"], ax=axes[1][1], title=\"X_spliced comparison\")\n",
    "\n",
    "plt.show()\n"
   ]
  },
  {
   "cell_type": "markdown",
   "metadata": {},
   "source": [
    "## Size factor comparison"
   ]
  },
  {
   "cell_type": "code",
   "execution_count": null,
   "metadata": {},
   "outputs": [],
   "source": [
    "fig, axes = plt.subplots(2, 2, figsize=(15, 15))\n",
    "sns.scatterplot(adata.obs[\"Size_Factor\"], monocle_adata.obs[\"Size_Factor\"], ax=axes[0][0]).set_title(\"Size factor comparison\")\n",
    "sns.scatterplot(adata.obs[\"unspliced_Size_Factor\"], monocle_adata.obs[\"unspliced_Size_Factor\"], ax=axes[1][0]).set_title(\"unspliced_Size_Factor comparison\")\n",
    "sns.scatterplot(adata.obs[\"spliced_Size_Factor\"], monocle_adata.obs[\"spliced_Size_Factor\"], ax=axes[1][1]).set_title(\"spliced_Size_Factor comparison\")\n",
    "plt.show()"
   ]
  },
  {
   "cell_type": "markdown",
   "metadata": {},
   "source": [
    "## Histogram showing distributions of X_pca and X"
   ]
  },
  {
   "cell_type": "code",
   "execution_count": null,
   "metadata": {},
   "outputs": [],
   "source": [
    "fig, axes = plt.subplots(2, 2, figsize=(15, 15))\n",
    "sns.histplot(adata.X.data, bins=40, legend=False, ax=axes[0][0]).set_title(\"preprocessor adata.X\")\n",
    "sns.histplot(adata.obsm[\"X_pca\"], bins=40, legend=False, ax=axes[0][1]).set_title(\"preprocessor X_pca\")\n",
    "sns.histplot(monocle_adata.X.data, bins=40, legend=False, ax=axes[1][0]).set_title(\"monocle adata.X\")\n",
    "sns.histplot(monocle_adata.obsm[\"X_pca\"], bins=40, legend=False, ax=axes[1][1]).set_title(\"monocle X_pca\")\n",
    "\n",
    "# _, axes = plt.subplots(2, 2, figsize=(15, 15))\n",
    "# sns.histplot(adata.layers[\"X_unspliced\"], bins=40, legend=False, ax=axes[0][0]).set_title(\"preprocessor X_unspliced\")\n",
    "# sns.histplot(monocle_adata.layers[\"X_unspliced\"], bins=40, legend=False, ax=axes[0][1]).set_title(\"preprocessor X_spliced\")\n",
    "\n",
    "# sns.histplot(adata.layers[\"X_spliced\"], bins=40, legend=False, ax=axes[1][0]).set_title(\"preprocessor X_unspliced\")\n",
    "# sns.histplot(monocle_adata.layers[\"X_spliced\"], bins=40, legend=False, ax=axes[1][1]).set_title(\"preprocessor X_spliced\")\n"
   ]
  },
  {
   "cell_type": "code",
   "execution_count": null,
   "metadata": {},
   "outputs": [],
   "source": [
    "\n",
    "dyn.tl.reduceDimension(adata,basis=\"pca\")\n",
    "dyn.pl.umap(adata, color=[\"S_score\", \"G2M_score\", \"clusters\"], figsize=(12, 12))\n",
    "dyn.tl.dynamics(adata, model='stochastic', cores=3) \n",
    "dyn.pl.streamline_plot(adata, color=['clusters'], basis='umap', show_legend='on data', show_arrowed_spines=True);\n"
   ]
  },
  {
   "cell_type": "code",
   "execution_count": null,
   "metadata": {},
   "outputs": [],
   "source": [
    "dyn.tl.reduceDimension(adata,basis=\"pca\")\n",
    "dyn.pl.umap(adata, color=[\"S_score\", \"G2M_score\", \"clusters\"], figsize=(12, 12))"
   ]
  },
  {
   "cell_type": "code",
   "execution_count": null,
   "metadata": {},
   "outputs": [],
   "source": [
    "dyn.tl.dynamics(adata, model='stochastic', cores=3) "
   ]
  },
  {
   "cell_type": "code",
   "execution_count": null,
   "metadata": {},
   "outputs": [],
   "source": [
    "dyn.pl.streamline_plot(adata, color=['clusters'], basis='umap', show_legend='on data', show_arrowed_spines=True);\n"
   ]
  },
  {
   "cell_type": "code",
   "execution_count": null,
   "metadata": {},
   "outputs": [],
   "source": [
    "dyn.pl.phase_portraits(adata, genes=['Abcb7', 'Hectd3'],  figsize=(6, 4), color='clusters')"
   ]
  },
  {
   "cell_type": "code",
   "execution_count": null,
   "metadata": {},
   "outputs": [],
   "source": [
    "print(adata.X.min(), adata.X.max(), adata.X.mean(),  temp.std())\n",
    "temp = adata.layers[\"spliced\"][~np.isnan(adata.layers[\"spliced\"])]\n",
    "print(temp.min(), temp.max(), temp.mean(),  temp.std())\n",
    "temp = adata.layers[\"unspliced\"][~np.isnan(adata.layers[\"unspliced\"])]\n",
    "print(temp.min(), temp.max(), temp.mean(), temp.std())"
   ]
  },
  {
   "cell_type": "code",
   "execution_count": null,
   "metadata": {},
   "outputs": [],
   "source": [
    "adata.uns[\"pp\"]"
   ]
  }
 ],
 "metadata": {
  "interpreter": {
   "hash": "c0f224693fc3f3b337b469fdaf7389d3b291b17a90dca45f35bda4453932d9dd"
  },
  "kernelspec": {
   "display_name": "Python 3.8.11 64-bit ('dynamo-dev': conda)",
   "name": "python3"
  },
  "language_info": {
   "codemirror_mode": {
    "name": "ipython",
    "version": 3
   },
   "file_extension": ".py",
   "mimetype": "text/x-python",
   "name": "python",
   "nbconvert_exporter": "python",
   "pygments_lexer": "ipython3",
   "version": "3.8.11"
  },
  "widgets": {
   "application/vnd.jupyter.widget-state+json": {
    "state": {},
    "version_major": 2,
    "version_minor": 0
   }
  }
 },
 "nbformat": 4,
 "nbformat_minor": 4
}
