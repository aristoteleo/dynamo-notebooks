{
 "cells": [
  {
   "cell_type": "code",
   "execution_count": 1,
   "metadata": {},
   "outputs": [
    {
     "name": "stdout",
     "output_type": "stream",
     "text": [
      "|-----> setting visualization default mode in dynamo. Your customized matplotlib settings might be overritten.\n",
      "|-----> Downloading data to ./data/zebrafish.h5ad\n",
      "|-----> Downloading data to ./data/zebrafish.h5ad\n"
     ]
    }
   ],
   "source": [
    "import dynamo as dyn\n",
    "import anndata\n",
    "import matplotlib.pyplot as plt\n",
    "zebrafish_adata = dyn.sample_data.zebrafish()\n",
    "adata = dyn.sample_data.zebrafish()\n"
   ]
  },
  {
   "cell_type": "code",
   "execution_count": 2,
   "metadata": {},
   "outputs": [],
   "source": [
    "path = \"./data/zebrafish_3d_umap.h5ad\"\n",
    "# dyn.pp.recipe_monocle(adata) \n",
    "# dyn.tl.reduceDimension(adata, n_components=3)\n",
    "\n",
    "# dyn.tl.dynamics(adata)\n",
    "# dyn.data_io.cleanup(adata)\n",
    "# adata.write_h5ad(path)\n",
    "adata = anndata.read_h5ad(path)"
   ]
  },
  {
   "cell_type": "code",
   "execution_count": 3,
   "metadata": {},
   "outputs": [
    {
     "data": {
      "text/plain": [
       "AnnData object with n_obs × n_vars = 4181 × 16940\n",
       "    obs: 'split_id', 'sample', 'Size_Factor', 'condition', 'Cluster', 'Cell_type', 'umap_1', 'umap_2', 'batch', 'nGenes', 'nCounts', 'pMito', 'pass_basic_filter', 'unspliced_Size_Factor', 'initial_unspliced_cell_size', 'spliced_Size_Factor', 'initial_spliced_cell_size', 'initial_cell_size', 'ntr', 'cell_cycle_phase'\n",
       "    var: 'nCells', 'nCounts', 'pass_basic_filter', 'score', 'log_cv', 'log_m', 'frac', 'ntr', 'use_for_pca', 'beta', 'gamma', 'half_life', 'alpha_b', 'alpha_r2', 'gamma_b', 'gamma_r2', 'gamma_logLL', 'delta_b', 'delta_r2', 'bs', 'bf', 'uu0', 'ul0', 'su0', 'sl0', 'U0', 'S0', 'total0', 'use_for_dynamics'\n",
       "    uns: 'PCs', 'cell_phase_genes', 'dynamics', 'explained_variance_ratio_', 'feature_selection', 'neighbors', 'pca_mean', 'pp', 'umap_fit'\n",
       "    obsm: 'X', 'X_pca', 'X_umap'\n",
       "    layers: 'M_s', 'M_ss', 'M_u', 'M_us', 'M_uu', 'X_spliced', 'X_unspliced', 'spliced', 'unspliced', 'velocity_S'\n",
       "    obsp: 'moments_con'"
      ]
     },
     "execution_count": 3,
     "metadata": {},
     "output_type": "execute_result"
    }
   ],
   "source": [
    "adata"
   ]
  },
  {
   "cell_type": "code",
   "execution_count": 4,
   "metadata": {},
   "outputs": [
    {
     "name": "stderr",
     "output_type": "stream",
     "text": [
      "C:\\Users\\dummy\\Anaconda3\\envs\\dynamo-dev\\lib\\site-packages\\pandas\\core\\arrays\\categorical.py:2630: FutureWarning: The `inplace` parameter in pandas.Categorical.remove_unused_categories is deprecated and will be removed in a future version.\n",
      "  res = method(*args, **kwargs)\n"
     ]
    },
    {
     "data": {
      "text/plain": [
       "12955.587"
      ]
     },
     "execution_count": 4,
     "metadata": {},
     "output_type": "execute_result"
    }
   ],
   "source": [
    "adata.var_names[:10]\n",
    "adata[:, 'tmsb4x'].X.sum()"
   ]
  },
  {
   "cell_type": "code",
   "execution_count": 5,
   "metadata": {},
   "outputs": [
    {
     "name": "stdout",
     "output_type": "stream",
     "text": [
      "|-----> X shape: (4181, 3) V shape: (4181, 3)\n"
     ]
    },
    {
     "name": "stderr",
     "output_type": "stream",
     "text": [
      "D:\\dynamo-release\\dynamo\\plot\\scVectorField.py:212: MatplotlibDeprecationWarning: \n",
      "The warn_deprecated function was deprecated in Matplotlib 3.4 and will be removed two minor releases later.\n",
      "  ax.quiver(\n",
      "D:\\dynamo-release\\dynamo\\plot\\scVectorField.py:212: MatplotlibDeprecationWarning: Since 3.4, passing LineCollection arguments other than the first, 'segments', as positional arguments is deprecated, and they will become keyword-only arguments two minor releases later.\n",
      "  ax.quiver(\n"
     ]
    },
    {
     "name": "stdout",
     "output_type": "stream",
     "text": [
      "color vec len:  4181\n",
      "x0 shape: (4181,)\n",
      "color vec len:  4181\n",
      "x0 shape: (4181,)\n"
     ]
    }
   ],
   "source": [
    "dyn.dynamo_logger.main_set_level(dyn.dynamo_logger.LoggerManager.DEBUG)\n",
    "quiver_3d_kwargs = {\n",
    "    \"zorder\": 3,\n",
    "    \"length\" : 2,\n",
    "    \"linewidth\": 5, \n",
    "    \"arrow_length_ratio\": 5\n",
    "    }\n",
    "dyn.pl.cell_wise_vectors_3d(adata, X=adata.obsm[\"X_umap\"], V=adata.obsm[\"X_pca\"], color=adata.var_names[:2], save_show_or_return=\"show\", figsize=(10, 30), quiver_3d_kwargs=quiver_3d_kwargs)"
   ]
  },
  {
   "cell_type": "code",
   "execution_count": null,
   "metadata": {},
   "outputs": [],
   "source": [
    "import matplotlib\n",
    "matplotlib.pyplot.switch_backend('WXAgg')\n",
    "print(matplotlib.get_backend())"
   ]
  },
  {
   "cell_type": "code",
   "execution_count": null,
   "metadata": {},
   "outputs": [],
   "source": [
    "# dyn.pl.cell_wise_vectors(adata, basis=\"umap\", projection=\"3d\", vector=\"X\", save_show_or_return=\"show\")\n",
    "# %matplotlib inline\n",
    "# plt.ion()\n",
    "plt.clf()\n",
    "dyn.pl.cell_wise_vectors(adata, basis=\"umap\", \n",
    "projection=\"3d\", vector=\"X\", \n",
    "save_show_or_return=\"show\", \n",
    "show_colorbar=False, despline=False, show_legend=False, use_smoothed=False)"
   ]
  }
 ],
 "metadata": {
  "interpreter": {
   "hash": "c0f224693fc3f3b337b469fdaf7389d3b291b17a90dca45f35bda4453932d9dd"
  },
  "kernelspec": {
   "display_name": "Python 3.8.11 64-bit ('dynamo-dev': conda)",
   "language": "python",
   "name": "python3"
  },
  "language_info": {
   "codemirror_mode": {
    "name": "ipython",
    "version": 3
   },
   "file_extension": ".py",
   "mimetype": "text/x-python",
   "name": "python",
   "nbconvert_exporter": "python",
   "pygments_lexer": "ipython3",
   "version": "3.9.7"
  },
  "orig_nbformat": 4
 },
 "nbformat": 4,
 "nbformat_minor": 2
}
