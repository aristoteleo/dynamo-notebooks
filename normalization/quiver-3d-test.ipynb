{
 "cells": [
  {
   "cell_type": "code",
   "execution_count": 1,
   "metadata": {},
   "outputs": [],
   "source": [
    "import dynamo as dyn\n",
    "import anndata\n",
    "import matplotlib.pyplot as plt\n",
    "import numpy as np\n",
    "import pandas as pd\n",
    "import sklearn\n",
    "zebrafish_adata = dyn.sample_data.zebrafish()\n",
    "\n",
    "adata = dyn.sample_data.zebrafish()\n"
   ]
  },
  {
   "cell_type": "code",
   "execution_count": null,
   "metadata": {},
   "outputs": [],
   "source": [
    "path = \"./data/zebrafish_3d_umap.h5ad\"\n",
    "# dyn.pp.recipe_monocle(adata)\n",
    "# dyn.tl.reduceDimension(adata, n_components=3)\n",
    "\n",
    "# dyn.tl.dynamics(adata)\n",
    "# dyn.data_io.cleanup(adata)\n",
    "# adata.write_h5ad(path)\n",
    "adata = anndata.read_h5ad(path)\n",
    "# adata = dyn.sample_data.pancreatic_endocrinogenesis()\n"
   ]
  },
  {
   "cell_type": "code",
   "execution_count": null,
   "metadata": {},
   "outputs": [],
   "source": [
    "adata\n"
   ]
  },
  {
   "cell_type": "code",
   "execution_count": null,
   "metadata": {},
   "outputs": [],
   "source": [
    "# for pancreas data... highly variable genes are categorical data, convert to boolean\n",
    "\n",
    "# adata.var[\"highly_variable_genes\"] = adata.var[\"highly_variable_genes\"] == 'True'"
   ]
  },
  {
   "cell_type": "code",
   "execution_count": null,
   "metadata": {},
   "outputs": [],
   "source": [
    "adata.layers[\"velocity_S\"]"
   ]
  },
  {
   "cell_type": "code",
   "execution_count": null,
   "metadata": {},
   "outputs": [],
   "source": [
    "print(np.sum(np.isnan(adata.layers[\"velocity_S\"].data)))\n",
    "np.isnan(adata.layers[\"velocity_S\"].toarray())"
   ]
  },
  {
   "cell_type": "code",
   "execution_count": null,
   "metadata": {},
   "outputs": [],
   "source": [
    "dyn.dynamo_logger.main_set_level(dyn.dynamo_logger.LoggerManager.DEBUG)\n",
    "from matplotlib import cm\n",
    "\n",
    "quiver_3d_kwargs = {\n",
    "    \"zorder\": 3,\n",
    "    \"length\": 10,\n",
    "    \"linewidth\": 1,\n",
    "    \"arrow_length_ratio\": 0.4,\n",
    "    \"norm\": cm.colors.Normalize(),  # for color\n",
    "    # \"cmap\": cm.copper,\n",
    "    \"cmap\": cm.Spectral,\n",
    "    # \"cmap\": cm.Reds,\n",
    "    # \"cmap\": cm.Pastel1,\n",
    "    # \"cmap\": cm.tab20c,\n",
    "    \"alpha\": 0.5,\n",
    "}\n",
    "# genes = adata[:, adata.var[\"highly_variable_genes\"]].var_names[20:23]\n",
    "genes = adata[:, adata.var[\"use_for_pca\"]].var_names[:3]\n",
    "print(\"genes:\", genes)\n",
    "dyn.pl.cell_wise_vectors_3d(\n",
    "    adata,\n",
    "    x=1, y=0, z=2,\n",
    "    X=adata.obsm[\"X_umap\"],\n",
    "    # X=adata.obsm[\"X_pca\"],\n",
    "    # X=adata.layers[\"M_s\"].toarray(),\n",
    "    # V=adata[:, genes].layers[\"velocity_S\"].toarray(),\n",
    "    V=adata[:, genes].obsm[\"X_pca\"].toarray(),\n",
    "    # color=genes,\n",
    "    color=\"Cell_type\",\n",
    "    save_show_or_return=\"show\",\n",
    "    figsize=(10, 10),\n",
    "    quiver_3d_kwargs=quiver_3d_kwargs,\n",
    "    grid_color=\"pink\",\n",
    "    axis_label_prefix=\"umap\",\n",
    "    azim=60,\n",
    "    elev=20,\n",
    ")\n"
   ]
  },
  {
   "cell_type": "code",
   "execution_count": null,
   "metadata": {},
   "outputs": [],
   "source": [
    "adata"
   ]
  },
  {
   "cell_type": "code",
   "execution_count": null,
   "metadata": {},
   "outputs": [],
   "source": [
    "dyn.dynamo_logger.main_set_level(dyn.dynamo_logger.LoggerManager.DEBUG)\n",
    "from matplotlib import cm\n",
    "\n",
    "quiver_3d_kwargs = {\n",
    "    \"zorder\": 3,\n",
    "    \"length\": 20,\n",
    "    \"linewidth\": 2,\n",
    "    \"arrow_length_ratio\": 0.5,\n",
    "    \"alpha\": 0.6,\n",
    "    \"norm\": cm.colors.Normalize(),  # for color\n",
    "    # \"cmap\": cm.copper,\n",
    "    # \"cmap\": cm.Spectral,\n",
    "    # \"cmap\": cm.Reds,\n",
    "    # \"cmap\": cm.Pastel1,\n",
    "    \"cmap\": cm.tab20c,\n",
    "    # \"cmap\": cm.terrain,\n",
    "    # \"cmap\": cm.inferno,\n",
    "}\n",
    "# genes = adata[:, adata.var[\"highly_variable_genes\"]].var_names[20:23]\n",
    "genes = adata[:, adata.var[\"use_for_pca\"]].var_names[:3]\n",
    "gene = genes[0]\n",
    "subset_adata = adata[:, gene]\n",
    "X = np.array([subset_adata.layers[\"M_s\"].toarray().flatten(), subset_adata.layers[\"M_u\"].toarray().flatten(), subset_adata.X.toarray().flatten()]).T\n",
    "V = np.array([subset_adata.layers[\"M_ss\"].toarray().flatten(), subset_adata.layers[\"M_uu\"].toarray().flatten(), subset_adata.layers[\"velocity_S\"].toarray().flatten()]).T\n",
    "\n",
    "print(\"Xshape:\", X.shape)\n",
    "print(\"Vshape:\", V.shape)\n",
    "\n",
    "dyn.pl.cell_wise_vectors_3d(\n",
    "    adata,\n",
    "    # X=adata.obsm[\"X_umap\"],\n",
    "    # X=adata.obsm[\"X_pca\"],\n",
    "    X=X,\n",
    "    V=V,\n",
    "    # color=genes,\n",
    "    color=\"Cell_type\",\n",
    "    save_show_or_return=\"show\",\n",
    "    figsize=(10, 10),\n",
    "    quiver_3d_kwargs=quiver_3d_kwargs,\n",
    "    grid_color=\"pink\",\n",
    "    # axis_label_prefix=\"umap\"\n",
    "    axis_labels=[\"Ms\", \"Mu\", \"X\"],\n",
    "    azim=40,\n",
    "    elev=40,\n",
    "    show_magnitude=False,\n",
    "    titles=[gene]\n",
    ")\n"
   ]
  },
  {
   "cell_type": "code",
   "execution_count": null,
   "metadata": {},
   "outputs": [],
   "source": [
    "import matplotlib\n",
    "\n",
    "# matplotlib.pyplot.switch_backend(\"WXAgg\")\n",
    "matplotlib.pyplot.switch_backend(\"macosx\")\n",
    "print(matplotlib.get_backend())\n"
   ]
  },
  {
   "cell_type": "code",
   "execution_count": null,
   "metadata": {},
   "outputs": [],
   "source": [
    "# dyn.pl.cell_wise_vectors(adata, basis=\"umap\", projection=\"3d\", vector=\"X\", save_show_or_return=\"show\")\n",
    "# %matplotlib inline\n",
    "# plt.ion()\n",
    "plt.clf()\n",
    "dyn.pl.cell_wise_vectors(\n",
    "    adata,\n",
    "    basis=\"umap\",\n",
    "    projection=\"3d\",\n",
    "    vector=\"X\",\n",
    "    save_show_or_return=\"show\",\n",
    "    show_colorbar=False,\n",
    "    despline=False,\n",
    "    show_legend=False,\n",
    "    use_smoothed=False,\n",
    ")\n"
   ]
  }
 ],
 "metadata": {
  "interpreter": {
   "hash": "c0f224693fc3f3b337b469fdaf7389d3b291b17a90dca45f35bda4453932d9dd"
  },
  "kernelspec": {
   "display_name": "Python 3.8.11 64-bit ('dynamo-dev': conda)",
   "language": "python",
   "name": "python3"
  },
  "language_info": {
   "codemirror_mode": {
    "name": "ipython",
    "version": 3
   },
   "file_extension": ".py",
   "mimetype": "text/x-python",
   "name": "python",
   "nbconvert_exporter": "python",
   "pygments_lexer": "ipython3",
   "version": "3.9.7"
  },
  "orig_nbformat": 4
 },
 "nbformat": 4,
 "nbformat_minor": 2
}
