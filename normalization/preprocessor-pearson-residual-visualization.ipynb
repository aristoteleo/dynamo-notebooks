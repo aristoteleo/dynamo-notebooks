{
 "cells": [
  {
   "cell_type": "markdown",
   "metadata": {},
   "source": [
    "# Zebrafish pigmentation"
   ]
  },
  {
   "cell_type": "markdown",
   "metadata": {},
   "source": [
    "This tutorial uses data from [Saunders, et al (2019)](https://elifesciences.org/articles/45181). Special thanks also go to [Lauren](https://twitter.com/LSaund11) for the tutorial improvement. \n",
    "\n",
    "In this [study](https://elifesciences.org/articles/45181), the authors profiled thousands of neural crest-derived cells from trunks of post-embryonic zebrafish. These cell classes include pigment cells, multipotent pigment cell progenitors, peripheral neurons, Schwann cells, chromaffin cells and others. These cells were collected during an active period of post-embryonic development, which has many similarities to fetal and neonatal development in mammals, when many of these cell types are migrating and differentiating as the animal transitions into its adult form. This study also explores the role of thyroid hormone (TH), a common endocrine factor, on the development of these different cell types. \n",
    "\n",
    "Such developmental and other dynamical processes are especially suitable for dynamo analysis as dynamo is designed to accurately estimate direction and magnitude of expression dynamics (`RNA velocity`), predict the entire lineage trajectory of any intial cell state (`vector field`), characterize the structure (`vector field topology`) of full gene expression space, as well as fate commitment potential (`single cell potential`). "
   ]
  },
  {
   "cell_type": "markdown",
   "metadata": {},
   "source": [
    "Import the package and silence some warning information (mostly `is_categorical_dtype` warning from anndata)"
   ]
  },
  {
   "cell_type": "code",
   "execution_count": 4,
   "metadata": {},
   "outputs": [],
   "source": [
    "import warnings\n",
    "warnings.filterwarnings('ignore')\n",
    "\n",
    "import dynamo as dyn \n",
    "from dynamo.configuration import DKM\n",
    "import numpy as np"
   ]
  },
  {
   "cell_type": "markdown",
   "metadata": {},
   "source": [
    "this is like R's sessionInfo() which helps you to debug version related bugs if any. "
   ]
  },
  {
   "cell_type": "markdown",
   "metadata": {},
   "source": [
    "## Load data"
   ]
  },
  {
   "cell_type": "code",
   "execution_count": 5,
   "metadata": {},
   "outputs": [
    {
     "name": "stderr",
     "output_type": "stream",
     "text": [
      "|-----> Downloading data to ./data/zebrafish.h5ad\n"
     ]
    }
   ],
   "source": [
    "adata = dyn.sample_data.zebrafish()\n"
   ]
  },
  {
   "cell_type": "markdown",
   "metadata": {},
   "source": [
    "## Apply pearson residual normalization on different layers according `select_genes_key`. We may use other select_genes function combined with pearson residual normalization."
   ]
  },
  {
   "cell_type": "code",
   "execution_count": 6,
   "metadata": {},
   "outputs": [
    {
     "name": "stderr",
     "output_type": "stream",
     "text": [
      "|-----> Running preprocessing pipeline...\n",
      "|-----------> <insert> {} to uns['pp'] in AnnData Object.\n",
      "|-----------> <insert> tkey=None to uns['pp'] in AnnData Object.\n",
      "|-----------> <insert> experiment_type=conventional to uns['pp'] in AnnData Object.\n",
      "|-----> making adata observation index unique...\n",
      "|-----> applying collapse species adata...\n",
      "|-----> applying convert_gene_name function...\n",
      "|-----> filtering outlier cells...\n",
      "|-----------> filtering cells by layer:X\n",
      "|-----------> filtering cells by layer:spliced\n",
      "|-----------> filtering cells by layer:unspliced\n",
      "|-----> skip filtering by layer:protein as it is not in adata.\n",
      "|-----> <insert> pass_basic_filter to obs in AnnData Object.\n",
      "|-----------> inplace subsetting adata by filtered genes\n",
      "|-----> filtering outlier genes...\n",
      "|-----> applying normalizing by cells function...\n",
      "|-----> selecting genes...\n",
      "|-----> Gene selection and normalization on layer: X\n",
      "|-----> extracting highly variable genes\n",
      "|-----> applying Pearson residuals to X\n",
      "|-----> replacing layer X with pearson residual normalized data.\n",
      "|-----> [pearson residual normalization] in progress: 100.0000%\n",
      "|-----> [pearson residual normalization] finished [0.1380s]\n",
      "|-----> normalizing selected genes...\n",
      "|-----> applying Pearson residuals to X\n",
      "|-----> replacing layer X with pearson residual normalized data.\n",
      "|-----> [pearson residual normalization] in progress: 100.0000%\n",
      "|-----> [pearson residual normalization] finished [1.8481s]\n",
      "|-----? Your adata.X maybe log1p transformed before. If you are sure that your adata is not log1p transformed, please ignore this warning. Dynamo will do log1p transformation still.\n",
      "|-----> applying log1p transformation on expression matrix data (adata.X)...\n",
      "|-----> applying filter genes function...\n",
      "|-----> Gene selection and normalization on layer: X\n",
      "|-----> extracting highly variable genes\n",
      "|-----> applying Pearson residuals to X\n",
      "|-----> replacing layer X with pearson residual normalized data.\n",
      "|-----> [pearson residual normalization] in progress: 100.0000%\n",
      "|-----> [pearson residual normalization] finished [0.2015s]\n",
      "|-----> appended 0 extra genes as required...\n",
      "|-----> excluded 0 genes as required...\n"
     ]
    }
   ],
   "source": [
    "# adata = dyn.sample_data.zebrafish()\n",
    "from dynamo.preprocessing import Preprocessor\n",
    "import pearson_residual_normalization_recipe\n",
    "preprocessor = Preprocessor(select_genes_function=pearson_residual_normalization_recipe.select_genes_by_pearson_residual,\n",
    "                            normalize_selected_genes_function=pearson_residual_normalization_recipe.normalize_pearson_residuals)\n",
    "preprocessor.preprocess_adata(adata)"
   ]
  }
 ],
 "metadata": {
  "interpreter": {
   "hash": "c0f224693fc3f3b337b469fdaf7389d3b291b17a90dca45f35bda4453932d9dd"
  },
  "kernelspec": {
   "display_name": "Python 3.8.11 64-bit ('dynamo-dev': conda)",
   "name": "python3"
  },
  "language_info": {
   "codemirror_mode": {
    "name": "ipython",
    "version": 3
   },
   "file_extension": ".py",
   "mimetype": "text/x-python",
   "name": "python",
   "nbconvert_exporter": "python",
   "pygments_lexer": "ipython3",
   "version": "3.8.11"
  },
  "widgets": {
   "application/vnd.jupyter.widget-state+json": {
    "state": {},
    "version_major": 2,
    "version_minor": 0
   }
  }
 },
 "nbformat": 4,
 "nbformat_minor": 4
}
