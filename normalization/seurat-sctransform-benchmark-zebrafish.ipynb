{
 "cells": [
  {
   "cell_type": "code",
   "execution_count": 1,
   "metadata": {},
   "outputs": [
    {
     "name": "stderr",
     "output_type": "stream",
     "text": [
      "|-----> Downloading data to ./data/zebrafish.h5ad\n"
     ]
    },
    {
     "name": "stdout",
     "output_type": "stream",
     "text": [
      "original data shape: (4181, 16940)\n"
     ]
    }
   ],
   "source": [
    "import numpy as np\n",
    "import pandas as pd\n",
    "import seaborn as sns\n",
    "import dynamo\n",
    "import dynamo as dyn\n",
    "from dynamo.preprocessing import Preprocessor\n",
    "import pearson_residual_normalization_recipe\n",
    "from benchmark_utils import *\n",
    "dyn_adata = dyn.sample_data.zebrafish()\n",
    "print(\"original data shape:\", dyn_adata.shape)\n"
   ]
  },
  {
   "cell_type": "markdown",
   "metadata": {},
   "source": [
    "## Convert Data for R Seurat inputs"
   ]
  },
  {
   "cell_type": "code",
   "execution_count": 2,
   "metadata": {},
   "outputs": [],
   "source": [
    "import scipy\n",
    "import scipy.io\n",
    "dyn.preprocessing.convert_layers2csr(dyn_adata)\n",
    "dyn.preprocessing.unique_var_obs_adata(dyn_adata)\n",
    "scipy.io.mmwrite(\"counts.mtx\", dyn_adata.X)\n",
    "scipy.io.mmwrite(\"spliced.mtx\", dyn_adata.layers[\"spliced\"])\n",
    "scipy.io.mmwrite(\"unspliced.mtx\", dyn_adata.layers[\"unspliced\"])\n"
   ]
  },
  {
   "cell_type": "code",
   "execution_count": 3,
   "metadata": {},
   "outputs": [],
   "source": [
    "pd.Series(dyn_adata.obs_names).to_csv(\"./data/cell_names.csv\")\n",
    "pd.Series(dyn_adata.var_names).to_csv(\"./data/var_names.csv\")\n"
   ]
  },
  {
   "cell_type": "code",
   "execution_count": 4,
   "metadata": {},
   "outputs": [],
   "source": [
    "seurat_X_pca = pd.read_csv(\"./R-seurat-test/X_pca.csv\")\n"
   ]
  },
  {
   "cell_type": "code",
   "execution_count": 5,
   "metadata": {},
   "outputs": [
    {
     "data": {
      "text/html": [
       "<div>\n",
       "<style scoped>\n",
       "    .dataframe tbody tr th:only-of-type {\n",
       "        vertical-align: middle;\n",
       "    }\n",
       "\n",
       "    .dataframe tbody tr th {\n",
       "        vertical-align: top;\n",
       "    }\n",
       "\n",
       "    .dataframe thead th {\n",
       "        text-align: right;\n",
       "    }\n",
       "</style>\n",
       "<table border=\"1\" class=\"dataframe\">\n",
       "  <thead>\n",
       "    <tr style=\"text-align: right;\">\n",
       "      <th></th>\n",
       "      <th>PC_1</th>\n",
       "      <th>PC_2</th>\n",
       "      <th>PC_3</th>\n",
       "      <th>PC_4</th>\n",
       "      <th>PC_5</th>\n",
       "      <th>PC_6</th>\n",
       "      <th>PC_7</th>\n",
       "      <th>PC_8</th>\n",
       "      <th>PC_9</th>\n",
       "      <th>PC_10</th>\n",
       "      <th>...</th>\n",
       "      <th>PC_41</th>\n",
       "      <th>PC_42</th>\n",
       "      <th>PC_43</th>\n",
       "      <th>PC_44</th>\n",
       "      <th>PC_45</th>\n",
       "      <th>PC_46</th>\n",
       "      <th>PC_47</th>\n",
       "      <th>PC_48</th>\n",
       "      <th>PC_49</th>\n",
       "      <th>PC_50</th>\n",
       "    </tr>\n",
       "  </thead>\n",
       "  <tbody>\n",
       "    <tr>\n",
       "      <th>TGCCAAATCACCACCT-1-0</th>\n",
       "      <td>-5.857340</td>\n",
       "      <td>2.867679</td>\n",
       "      <td>0.169394</td>\n",
       "      <td>0.86043</td>\n",
       "      <td>0.185787</td>\n",
       "      <td>0.855904</td>\n",
       "      <td>-0.13344</td>\n",
       "      <td>3.436429</td>\n",
       "      <td>-0.656718</td>\n",
       "      <td>-1.001899</td>\n",
       "      <td>...</td>\n",
       "      <td>0.439428</td>\n",
       "      <td>-0.271046</td>\n",
       "      <td>0.233556</td>\n",
       "      <td>0.842144</td>\n",
       "      <td>0.126444</td>\n",
       "      <td>-0.300330</td>\n",
       "      <td>-0.259993</td>\n",
       "      <td>0.201506</td>\n",
       "      <td>0.691337</td>\n",
       "      <td>-0.898238</td>\n",
       "    </tr>\n",
       "    <tr>\n",
       "      <th>AAATGCCAGGAGCGTT-1-0</th>\n",
       "      <td>-5.925883</td>\n",
       "      <td>5.597495</td>\n",
       "      <td>-0.900045</td>\n",
       "      <td>-10.14316</td>\n",
       "      <td>0.501072</td>\n",
       "      <td>-4.512660</td>\n",
       "      <td>0.89789</td>\n",
       "      <td>2.204267</td>\n",
       "      <td>-1.688371</td>\n",
       "      <td>-1.772579</td>\n",
       "      <td>...</td>\n",
       "      <td>-0.089032</td>\n",
       "      <td>-1.277523</td>\n",
       "      <td>-0.383998</td>\n",
       "      <td>0.783514</td>\n",
       "      <td>-0.988206</td>\n",
       "      <td>3.932976</td>\n",
       "      <td>0.766193</td>\n",
       "      <td>-3.019138</td>\n",
       "      <td>-1.428712</td>\n",
       "      <td>0.049915</td>\n",
       "    </tr>\n",
       "  </tbody>\n",
       "</table>\n",
       "<p>2 rows × 50 columns</p>\n",
       "</div>"
      ],
      "text/plain": [
       "                          PC_1      PC_2      PC_3      PC_4      PC_5  \\\n",
       "TGCCAAATCACCACCT-1-0 -5.857340  2.867679  0.169394   0.86043  0.185787   \n",
       "AAATGCCAGGAGCGTT-1-0 -5.925883  5.597495 -0.900045 -10.14316  0.501072   \n",
       "\n",
       "                          PC_6     PC_7      PC_8      PC_9     PC_10  ...  \\\n",
       "TGCCAAATCACCACCT-1-0  0.855904 -0.13344  3.436429 -0.656718 -1.001899  ...   \n",
       "AAATGCCAGGAGCGTT-1-0 -4.512660  0.89789  2.204267 -1.688371 -1.772579  ...   \n",
       "\n",
       "                         PC_41     PC_42     PC_43     PC_44     PC_45  \\\n",
       "TGCCAAATCACCACCT-1-0  0.439428 -0.271046  0.233556  0.842144  0.126444   \n",
       "AAATGCCAGGAGCGTT-1-0 -0.089032 -1.277523 -0.383998  0.783514 -0.988206   \n",
       "\n",
       "                         PC_46     PC_47     PC_48     PC_49     PC_50  \n",
       "TGCCAAATCACCACCT-1-0 -0.300330 -0.259993  0.201506  0.691337 -0.898238  \n",
       "AAATGCCAGGAGCGTT-1-0  3.932976  0.766193 -3.019138 -1.428712  0.049915  \n",
       "\n",
       "[2 rows x 50 columns]"
      ]
     },
     "execution_count": 5,
     "metadata": {},
     "output_type": "execute_result"
    }
   ],
   "source": [
    "seurat_X_pca[:2]\n"
   ]
  },
  {
   "cell_type": "code",
   "execution_count": 6,
   "metadata": {},
   "outputs": [
    {
     "data": {
      "text/plain": [
       "<AxesSubplot:ylabel='Count'>"
      ]
     },
     "execution_count": 6,
     "metadata": {},
     "output_type": "execute_result"
    },
    {
     "data": {
      "image/png": "[encoded data removed]",
      "text/plain": [
       "<Figure size 432x288 with 1 Axes>"
      ]
     },
     "metadata": {
      "needs_background": "light"
     },
     "output_type": "display_data"
    }
   ],
   "source": [
    "X_pca_arr = seurat_X_pca.to_numpy().flatten()\n",
    "sns.histplot(X_pca_arr)\n"
   ]
  },
  {
   "cell_type": "code",
   "execution_count": 7,
   "metadata": {},
   "outputs": [
    {
     "name": "stdout",
     "output_type": "stream",
     "text": [
      "(4181, 50)\n",
      "(4181, 16940)\n"
     ]
    }
   ],
   "source": [
    "print(seurat_X_pca.shape)\n",
    "print(dyn_adata.shape)\n"
   ]
  },
  {
   "cell_type": "code",
   "execution_count": 8,
   "metadata": {},
   "outputs": [
    {
     "data": {
      "text/plain": [
       "Index(['TGCCAAATCACCACCT-1-0', 'AAATGCCAGGAGCGTT-1-0', 'CAGCGACAGAGAACAG-1-0',\n",
       "       'GGGACCTGTGACCAAG-1-0', 'TCCCGATAGTGTGGCA-1-0', 'CAGAGAGAGGCGATAC-1-0',\n",
       "       'AACTGGTAGTGGAGAA-1-0', 'ATTGGACGTCTAGCGC-1-0', 'TGGGCGTCACCAGGTC-1-0',\n",
       "       'TTGGCAAAGGGCTTCC-1-0'],\n",
       "      dtype='object', name='index')"
      ]
     },
     "execution_count": 8,
     "metadata": {},
     "output_type": "execute_result"
    }
   ],
   "source": [
    "dyn_adata.obs_names[:10]\n"
   ]
  },
  {
   "cell_type": "code",
   "execution_count": 9,
   "metadata": {},
   "outputs": [
    {
     "name": "stderr",
     "output_type": "stream",
     "text": [
      "|-----> Downloading data to ./data/zebrafish.h5ad\n"
     ]
    },
    {
     "name": "stdout",
     "output_type": "stream",
     "text": [
      "(4181, 50)\n",
      "(4181, 16940)\n",
      "set()\n",
      "set()\n"
     ]
    }
   ],
   "source": [
    "seurat_adata = dyn.sample_data.zebrafish()\n",
    "dyn.preprocessing.unique_var_obs_adata(seurat_adata)\n",
    "print(seurat_X_pca.shape)\n",
    "print(seurat_adata.shape)\n",
    "print(set(seurat_X_pca.index) - set(seurat_adata.obs_names))\n",
    "print(set(seurat_adata.obs_names) - set(seurat_X_pca.index))\n"
   ]
  },
  {
   "cell_type": "markdown",
   "metadata": {},
   "source": [
    "### reorder seurat_X_pca index in adata obs_name order and set to X_pca"
   ]
  },
  {
   "cell_type": "code",
   "execution_count": 10,
   "metadata": {},
   "outputs": [],
   "source": [
    "\n",
    "seurat_adata.obsm[\"X_pca\"] = seurat_X_pca.loc[seurat_adata.obs_names, :].to_numpy()\n"
   ]
  },
  {
   "cell_type": "code",
   "execution_count": 16,
   "metadata": {},
   "outputs": [],
   "source": [
    "dyn_adata_preprocessor = dyn.read_h5ad(\n",
    "    \"./data/zebrafish_sctransform_preprocessor.h5ad\")\n"
   ]
  },
  {
   "cell_type": "code",
   "execution_count": 18,
   "metadata": {},
   "outputs": [
    {
     "data": {
      "text/plain": [
       "AnnData object with n_obs × n_vars = 4167 × 16940\n",
       "    obs: 'split_id', 'sample', 'Size_Factor', 'condition', 'Cluster', 'Cell_type', 'umap_1', 'umap_2', 'batch', 'pass_basic_filter', 'umi_sct', 'log_umi_sct', 'gene_sct', 'log_gene_sct', 'umi_per_gene_sct', 'log_umi_per_gene_sct'\n",
       "    var: 'pass_basic_filter', 'Intercept_sct', 'log_umi_sct', 'theta_sct', 'Intercept_step1_sct', 'log_umi_step1_sct', 'dispersion_step1_sct', 'genes_step1_sct', 'log10_gmean_sct', 'use_for_pca'\n",
       "    uns: 'PCs', 'explained_variance_ratio_', 'pca_mean', 'pp'\n",
       "    obsm: 'X_pca'\n",
       "    layers: 'spliced', 'unspliced'"
      ]
     },
     "execution_count": 18,
     "metadata": {},
     "output_type": "execute_result"
    }
   ],
   "source": [
    "dyn_adata_preprocessor\n"
   ]
  },
  {
   "cell_type": "markdown",
   "metadata": {},
   "source": [
    "## sample preprocessor code\n",
    "```\n",
    "from SCTransform import SCTransform\n",
    "dyn_adata_preprocessor = dyn.sample_data.zebrafish()\n",
    "preprocessor = Preprocessor()\n",
    "preprocessor.config_monocle_recipe(dyn_adata_preprocessor)\n",
    "preprocessor.normalize_by_cells = None\n",
    "# preprocessor.select_genes_function = pearson_residual_normalization_recipe.select_genes_by_pearson_residual\n",
    "# preprocessor.normalize_selected_genes_function = pearson_residual_normalization_recipe.normalize_layers_pearson_residuals\n",
    "preprocessor.filter_cells_by_outliers(dyn_adata_preprocessor, keep_filtered=False)\n",
    "preprocessor.filter_genes_by_outliers(dyn_adata_preprocessor, inplace=True)\n",
    "SCTransform(dyn_adata_preprocessor, inplace=True)\n",
    "preprocessor.use_log1p = False\n",
    "preprocessor.pca(dyn_adata, n_pca_components=50)\n",
    "```"
   ]
  },
  {
   "cell_type": "code",
   "execution_count": 22,
   "metadata": {},
   "outputs": [
    {
     "data": {
      "text/plain": [
       "(4181, 50)"
      ]
     },
     "execution_count": 22,
     "metadata": {},
     "output_type": "execute_result"
    }
   ],
   "source": [
    "dyn_adata_preprocessor.obsm[key].shape\n",
    "seurat_adata.obsm[key].shape\n"
   ]
  },
  {
   "cell_type": "code",
   "execution_count": 29,
   "metadata": {},
   "outputs": [
    {
     "data": {
      "text/plain": [
       "Text(0.5, 1.0, 'X_pca')"
      ]
     },
     "execution_count": 29,
     "metadata": {},
     "output_type": "execute_result"
    },
    {
     "data": {
      "image/png": "[encoded data removed]",
      "text/plain": [
       "<Figure size 720x1440 with 2 Axes>"
      ]
     },
     "metadata": {
      "needs_background": "light"
     },
     "output_type": "display_data"
    }
   ],
   "source": [
    "fig, axes = plt.subplots(2, figsize=(10, 20))\n",
    "key = \"X_pca\"\n",
    "use_for_pca = list(\n",
    "    set(dyn_adata_preprocessor.var_names[dyn_adata_preprocessor.var[\"use_for_pca\"]]))\n",
    "axes[0].scatter(np.sort(dyn_adata_preprocessor.obsm[key].flatten()),\n",
    "                np.sort(seurat_adata[dyn_adata_preprocessor.obs_names, :].obsm[key].flatten()))  # , title=\"X_pca comparison\")\n",
    "axes[0].set_title(key)\n"
   ]
  },
  {
   "cell_type": "code",
   "execution_count": null,
   "metadata": {},
   "outputs": [],
   "source": [
    "\n",
    "dyn.tl.reduceDimension(seurat_adata, basis=\"pca\")\n",
    "dyn.pl.umap(seurat_adata, color=\"Cell_type\", figsize=(10, 10))\n"
   ]
  }
 ],
 "metadata": {
  "interpreter": {
   "hash": "c0f224693fc3f3b337b469fdaf7389d3b291b17a90dca45f35bda4453932d9dd"
  },
  "kernelspec": {
   "display_name": "Python 3.8.11 64-bit ('dynamo-dev': conda)",
   "name": "python3"
  },
  "language_info": {
   "codemirror_mode": {
    "name": "ipython",
    "version": 3
   },
   "file_extension": ".py",
   "mimetype": "text/x-python",
   "name": "python",
   "nbconvert_exporter": "python",
   "pygments_lexer": "ipython3",
   "version": "3.8.11"
  },
  "orig_nbformat": 4
 },
 "nbformat": 4,
 "nbformat_minor": 2
}
