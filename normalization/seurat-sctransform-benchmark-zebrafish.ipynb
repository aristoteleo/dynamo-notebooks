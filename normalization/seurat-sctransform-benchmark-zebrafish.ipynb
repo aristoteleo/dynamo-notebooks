{
 "cells": [
  {
   "cell_type": "code",
   "execution_count": 2,
   "metadata": {},
   "outputs": [
    {
     "name": "stderr",
     "output_type": "stream",
     "text": [
      "|-----> Downloading data to ./data/zebrafish.h5ad\n"
     ]
    },
    {
     "name": "stdout",
     "output_type": "stream",
     "text": [
      "original data shape: (4181, 16940)\n"
     ]
    }
   ],
   "source": [
    "import pandas as pd\n",
    "import seaborn as sns\n",
    "import dynamo\n",
    "import dynamo as dyn\n",
    "from dynamo.preprocessing import Preprocessor\n",
    "import pearson_residual_normalization_recipe\n",
    "from benchmark_utils import *\n",
    "dyn_adata = dyn.sample_data.zebrafish()\n",
    "print(\"original data shape:\", dyn_adata.shape)\n",
    "\n",
    "import numpy as np\n",
    "\n"
   ]
  },
  {
   "cell_type": "markdown",
   "metadata": {},
   "source": [
    "## Convert Data for R Seurat inputs"
   ]
  },
  {
   "cell_type": "code",
   "execution_count": 3,
   "metadata": {},
   "outputs": [],
   "source": [
    "import scipy\n",
    "import scipy.io\n",
    "dyn.preprocessing.convert_layers2csr(dyn_adata)\n",
    "dyn.preprocessing.unique_var_obs_adata(dyn_adata)\n",
    "scipy.io.mmwrite(\"counts.mtx\", dyn_adata.X)\n",
    "scipy.io.mmwrite(\"spliced.mtx\", dyn_adata.layers[\"spliced\"])\n",
    "scipy.io.mmwrite(\"unspliced.mtx\", dyn_adata.layers[\"unspliced\"])"
   ]
  },
  {
   "cell_type": "code",
   "execution_count": 4,
   "metadata": {},
   "outputs": [],
   "source": [
    "pd.Series(dyn_adata.obs_names).to_csv(\"./data/cell_names.csv\")\n",
    "pd.Series(dyn_adata.var_names).to_csv(\"./data/var_names.csv\")"
   ]
  },
  {
   "cell_type": "code",
   "execution_count": 11,
   "metadata": {},
   "outputs": [],
   "source": [
    "seurat_X_pca = pd.read_csv(\"./R-seurat-test/X_pca.csv\")"
   ]
  },
  {
   "cell_type": "code",
   "execution_count": 12,
   "metadata": {},
   "outputs": [
    {
     "data": {
      "text/html": [
       "<div>\n",
       "<style scoped>\n",
       "    .dataframe tbody tr th:only-of-type {\n",
       "        vertical-align: middle;\n",
       "    }\n",
       "\n",
       "    .dataframe tbody tr th {\n",
       "        vertical-align: top;\n",
       "    }\n",
       "\n",
       "    .dataframe thead th {\n",
       "        text-align: right;\n",
       "    }\n",
       "</style>\n",
       "<table border=\"1\" class=\"dataframe\">\n",
       "  <thead>\n",
       "    <tr style=\"text-align: right;\">\n",
       "      <th></th>\n",
       "      <th>PC_1</th>\n",
       "      <th>PC_2</th>\n",
       "      <th>PC_3</th>\n",
       "      <th>PC_4</th>\n",
       "      <th>PC_5</th>\n",
       "      <th>PC_6</th>\n",
       "      <th>PC_7</th>\n",
       "      <th>PC_8</th>\n",
       "      <th>PC_9</th>\n",
       "      <th>PC_10</th>\n",
       "      <th>...</th>\n",
       "      <th>PC_41</th>\n",
       "      <th>PC_42</th>\n",
       "      <th>PC_43</th>\n",
       "      <th>PC_44</th>\n",
       "      <th>PC_45</th>\n",
       "      <th>PC_46</th>\n",
       "      <th>PC_47</th>\n",
       "      <th>PC_48</th>\n",
       "      <th>PC_49</th>\n",
       "      <th>PC_50</th>\n",
       "    </tr>\n",
       "  </thead>\n",
       "  <tbody>\n",
       "    <tr>\n",
       "      <th>TGCCAAATCACCACCT-1-0</th>\n",
       "      <td>-5.857340</td>\n",
       "      <td>2.867679</td>\n",
       "      <td>0.169394</td>\n",
       "      <td>0.860430</td>\n",
       "      <td>0.185787</td>\n",
       "      <td>0.855904</td>\n",
       "      <td>-0.133440</td>\n",
       "      <td>3.436429</td>\n",
       "      <td>-0.656718</td>\n",
       "      <td>-1.001899</td>\n",
       "      <td>...</td>\n",
       "      <td>0.439428</td>\n",
       "      <td>-0.271046</td>\n",
       "      <td>0.233556</td>\n",
       "      <td>0.842144</td>\n",
       "      <td>0.126444</td>\n",
       "      <td>-0.300330</td>\n",
       "      <td>-0.259993</td>\n",
       "      <td>0.201506</td>\n",
       "      <td>0.691337</td>\n",
       "      <td>-0.898238</td>\n",
       "    </tr>\n",
       "    <tr>\n",
       "      <th>AAATGCCAGGAGCGTT-1-0</th>\n",
       "      <td>-5.925883</td>\n",
       "      <td>5.597495</td>\n",
       "      <td>-0.900045</td>\n",
       "      <td>-10.143160</td>\n",
       "      <td>0.501072</td>\n",
       "      <td>-4.512660</td>\n",
       "      <td>0.897890</td>\n",
       "      <td>2.204267</td>\n",
       "      <td>-1.688371</td>\n",
       "      <td>-1.772579</td>\n",
       "      <td>...</td>\n",
       "      <td>-0.089032</td>\n",
       "      <td>-1.277523</td>\n",
       "      <td>-0.383998</td>\n",
       "      <td>0.783514</td>\n",
       "      <td>-0.988206</td>\n",
       "      <td>3.932976</td>\n",
       "      <td>0.766193</td>\n",
       "      <td>-3.019138</td>\n",
       "      <td>-1.428712</td>\n",
       "      <td>0.049915</td>\n",
       "    </tr>\n",
       "    <tr>\n",
       "      <th>CAGCGACAGAGAACAG-1-0</th>\n",
       "      <td>-3.579667</td>\n",
       "      <td>2.989932</td>\n",
       "      <td>-0.834230</td>\n",
       "      <td>-0.383201</td>\n",
       "      <td>-0.424362</td>\n",
       "      <td>-0.167832</td>\n",
       "      <td>-1.243602</td>\n",
       "      <td>3.362437</td>\n",
       "      <td>-1.655332</td>\n",
       "      <td>-2.129215</td>\n",
       "      <td>...</td>\n",
       "      <td>-0.088640</td>\n",
       "      <td>-3.174913</td>\n",
       "      <td>0.750548</td>\n",
       "      <td>-1.297783</td>\n",
       "      <td>-0.547427</td>\n",
       "      <td>-0.764031</td>\n",
       "      <td>2.651637</td>\n",
       "      <td>-0.967530</td>\n",
       "      <td>0.000698</td>\n",
       "      <td>1.118219</td>\n",
       "    </tr>\n",
       "    <tr>\n",
       "      <th>GGGACCTGTGACCAAG-1-0</th>\n",
       "      <td>5.290537</td>\n",
       "      <td>-1.039920</td>\n",
       "      <td>-0.853655</td>\n",
       "      <td>-1.084340</td>\n",
       "      <td>-0.118731</td>\n",
       "      <td>0.783454</td>\n",
       "      <td>0.078117</td>\n",
       "      <td>0.961921</td>\n",
       "      <td>-3.336205</td>\n",
       "      <td>1.302914</td>\n",
       "      <td>...</td>\n",
       "      <td>-0.011801</td>\n",
       "      <td>-1.567974</td>\n",
       "      <td>-2.097751</td>\n",
       "      <td>-0.073514</td>\n",
       "      <td>0.056674</td>\n",
       "      <td>-0.655252</td>\n",
       "      <td>-1.321971</td>\n",
       "      <td>-0.787410</td>\n",
       "      <td>0.765263</td>\n",
       "      <td>-1.392629</td>\n",
       "    </tr>\n",
       "    <tr>\n",
       "      <th>TCCCGATAGTGTGGCA-1-0</th>\n",
       "      <td>-1.567316</td>\n",
       "      <td>3.057268</td>\n",
       "      <td>-0.740447</td>\n",
       "      <td>1.247021</td>\n",
       "      <td>0.657517</td>\n",
       "      <td>-1.049703</td>\n",
       "      <td>2.523350</td>\n",
       "      <td>6.216682</td>\n",
       "      <td>0.798386</td>\n",
       "      <td>-1.664965</td>\n",
       "      <td>...</td>\n",
       "      <td>-1.561239</td>\n",
       "      <td>-1.398491</td>\n",
       "      <td>-0.570233</td>\n",
       "      <td>-1.425783</td>\n",
       "      <td>-0.767291</td>\n",
       "      <td>-1.033563</td>\n",
       "      <td>1.096380</td>\n",
       "      <td>-0.823903</td>\n",
       "      <td>-0.395976</td>\n",
       "      <td>-1.071556</td>\n",
       "    </tr>\n",
       "    <tr>\n",
       "      <th>...</th>\n",
       "      <td>...</td>\n",
       "      <td>...</td>\n",
       "      <td>...</td>\n",
       "      <td>...</td>\n",
       "      <td>...</td>\n",
       "      <td>...</td>\n",
       "      <td>...</td>\n",
       "      <td>...</td>\n",
       "      <td>...</td>\n",
       "      <td>...</td>\n",
       "      <td>...</td>\n",
       "      <td>...</td>\n",
       "      <td>...</td>\n",
       "      <td>...</td>\n",
       "      <td>...</td>\n",
       "      <td>...</td>\n",
       "      <td>...</td>\n",
       "      <td>...</td>\n",
       "      <td>...</td>\n",
       "      <td>...</td>\n",
       "      <td>...</td>\n",
       "    </tr>\n",
       "    <tr>\n",
       "      <th>TAGACCAAGTCCATAC-1-1</th>\n",
       "      <td>-0.961629</td>\n",
       "      <td>20.183684</td>\n",
       "      <td>-5.654873</td>\n",
       "      <td>-80.966613</td>\n",
       "      <td>4.519564</td>\n",
       "      <td>-48.988919</td>\n",
       "      <td>-1.410357</td>\n",
       "      <td>1.601109</td>\n",
       "      <td>6.500014</td>\n",
       "      <td>5.686255</td>\n",
       "      <td>...</td>\n",
       "      <td>0.938298</td>\n",
       "      <td>0.673494</td>\n",
       "      <td>-3.478579</td>\n",
       "      <td>0.216731</td>\n",
       "      <td>1.192958</td>\n",
       "      <td>5.564480</td>\n",
       "      <td>0.982383</td>\n",
       "      <td>-6.300963</td>\n",
       "      <td>-0.988456</td>\n",
       "      <td>-2.047390</td>\n",
       "    </tr>\n",
       "    <tr>\n",
       "      <th>GGTGTTAAGGAATCGC-1-1</th>\n",
       "      <td>-11.527757</td>\n",
       "      <td>-24.679706</td>\n",
       "      <td>21.234401</td>\n",
       "      <td>-2.748895</td>\n",
       "      <td>-29.771123</td>\n",
       "      <td>-2.729607</td>\n",
       "      <td>1.099674</td>\n",
       "      <td>-7.493686</td>\n",
       "      <td>1.626887</td>\n",
       "      <td>6.849523</td>\n",
       "      <td>...</td>\n",
       "      <td>-2.208541</td>\n",
       "      <td>1.969513</td>\n",
       "      <td>-3.309012</td>\n",
       "      <td>4.712587</td>\n",
       "      <td>-0.886932</td>\n",
       "      <td>2.207871</td>\n",
       "      <td>-4.277236</td>\n",
       "      <td>1.705508</td>\n",
       "      <td>0.483338</td>\n",
       "      <td>-1.297374</td>\n",
       "    </tr>\n",
       "    <tr>\n",
       "      <th>CTACCCAAGTGACATA-1-1</th>\n",
       "      <td>2.004287</td>\n",
       "      <td>11.668007</td>\n",
       "      <td>-1.086584</td>\n",
       "      <td>-0.805548</td>\n",
       "      <td>-0.058425</td>\n",
       "      <td>-4.246241</td>\n",
       "      <td>-3.470770</td>\n",
       "      <td>-2.679947</td>\n",
       "      <td>4.559864</td>\n",
       "      <td>9.242815</td>\n",
       "      <td>...</td>\n",
       "      <td>0.171213</td>\n",
       "      <td>5.255680</td>\n",
       "      <td>-4.041569</td>\n",
       "      <td>3.546160</td>\n",
       "      <td>0.375497</td>\n",
       "      <td>0.253654</td>\n",
       "      <td>-1.585404</td>\n",
       "      <td>1.058027</td>\n",
       "      <td>-0.168078</td>\n",
       "      <td>-1.157562</td>\n",
       "    </tr>\n",
       "    <tr>\n",
       "      <th>TACTCATGTTACGCGC-1-1</th>\n",
       "      <td>2.852642</td>\n",
       "      <td>12.135085</td>\n",
       "      <td>0.552061</td>\n",
       "      <td>4.112850</td>\n",
       "      <td>-1.905906</td>\n",
       "      <td>4.833414</td>\n",
       "      <td>0.422114</td>\n",
       "      <td>-7.674426</td>\n",
       "      <td>0.451828</td>\n",
       "      <td>10.451271</td>\n",
       "      <td>...</td>\n",
       "      <td>-0.718468</td>\n",
       "      <td>1.400250</td>\n",
       "      <td>-2.338385</td>\n",
       "      <td>3.994131</td>\n",
       "      <td>-1.791402</td>\n",
       "      <td>-1.113877</td>\n",
       "      <td>2.798801</td>\n",
       "      <td>2.410403</td>\n",
       "      <td>1.930540</td>\n",
       "      <td>-0.436125</td>\n",
       "    </tr>\n",
       "    <tr>\n",
       "      <th>TCAACGACACTCTGTC-1-1</th>\n",
       "      <td>-9.408457</td>\n",
       "      <td>20.403461</td>\n",
       "      <td>-2.482900</td>\n",
       "      <td>-40.824189</td>\n",
       "      <td>1.533019</td>\n",
       "      <td>-21.634147</td>\n",
       "      <td>5.202486</td>\n",
       "      <td>-0.116272</td>\n",
       "      <td>-3.067718</td>\n",
       "      <td>5.311756</td>\n",
       "      <td>...</td>\n",
       "      <td>-0.687254</td>\n",
       "      <td>5.545122</td>\n",
       "      <td>1.933731</td>\n",
       "      <td>5.340780</td>\n",
       "      <td>-0.466476</td>\n",
       "      <td>-3.933557</td>\n",
       "      <td>0.707271</td>\n",
       "      <td>4.634171</td>\n",
       "      <td>4.539074</td>\n",
       "      <td>1.659447</td>\n",
       "    </tr>\n",
       "  </tbody>\n",
       "</table>\n",
       "<p>4181 rows × 50 columns</p>\n",
       "</div>"
      ],
      "text/plain": [
       "                           PC_1       PC_2       PC_3       PC_4       PC_5  \\\n",
       "TGCCAAATCACCACCT-1-0  -5.857340   2.867679   0.169394   0.860430   0.185787   \n",
       "AAATGCCAGGAGCGTT-1-0  -5.925883   5.597495  -0.900045 -10.143160   0.501072   \n",
       "CAGCGACAGAGAACAG-1-0  -3.579667   2.989932  -0.834230  -0.383201  -0.424362   \n",
       "GGGACCTGTGACCAAG-1-0   5.290537  -1.039920  -0.853655  -1.084340  -0.118731   \n",
       "TCCCGATAGTGTGGCA-1-0  -1.567316   3.057268  -0.740447   1.247021   0.657517   \n",
       "...                         ...        ...        ...        ...        ...   \n",
       "TAGACCAAGTCCATAC-1-1  -0.961629  20.183684  -5.654873 -80.966613   4.519564   \n",
       "GGTGTTAAGGAATCGC-1-1 -11.527757 -24.679706  21.234401  -2.748895 -29.771123   \n",
       "CTACCCAAGTGACATA-1-1   2.004287  11.668007  -1.086584  -0.805548  -0.058425   \n",
       "TACTCATGTTACGCGC-1-1   2.852642  12.135085   0.552061   4.112850  -1.905906   \n",
       "TCAACGACACTCTGTC-1-1  -9.408457  20.403461  -2.482900 -40.824189   1.533019   \n",
       "\n",
       "                           PC_6      PC_7      PC_8      PC_9      PC_10  ...  \\\n",
       "TGCCAAATCACCACCT-1-0   0.855904 -0.133440  3.436429 -0.656718  -1.001899  ...   \n",
       "AAATGCCAGGAGCGTT-1-0  -4.512660  0.897890  2.204267 -1.688371  -1.772579  ...   \n",
       "CAGCGACAGAGAACAG-1-0  -0.167832 -1.243602  3.362437 -1.655332  -2.129215  ...   \n",
       "GGGACCTGTGACCAAG-1-0   0.783454  0.078117  0.961921 -3.336205   1.302914  ...   \n",
       "TCCCGATAGTGTGGCA-1-0  -1.049703  2.523350  6.216682  0.798386  -1.664965  ...   \n",
       "...                         ...       ...       ...       ...        ...  ...   \n",
       "TAGACCAAGTCCATAC-1-1 -48.988919 -1.410357  1.601109  6.500014   5.686255  ...   \n",
       "GGTGTTAAGGAATCGC-1-1  -2.729607  1.099674 -7.493686  1.626887   6.849523  ...   \n",
       "CTACCCAAGTGACATA-1-1  -4.246241 -3.470770 -2.679947  4.559864   9.242815  ...   \n",
       "TACTCATGTTACGCGC-1-1   4.833414  0.422114 -7.674426  0.451828  10.451271  ...   \n",
       "TCAACGACACTCTGTC-1-1 -21.634147  5.202486 -0.116272 -3.067718   5.311756  ...   \n",
       "\n",
       "                         PC_41     PC_42     PC_43     PC_44     PC_45  \\\n",
       "TGCCAAATCACCACCT-1-0  0.439428 -0.271046  0.233556  0.842144  0.126444   \n",
       "AAATGCCAGGAGCGTT-1-0 -0.089032 -1.277523 -0.383998  0.783514 -0.988206   \n",
       "CAGCGACAGAGAACAG-1-0 -0.088640 -3.174913  0.750548 -1.297783 -0.547427   \n",
       "GGGACCTGTGACCAAG-1-0 -0.011801 -1.567974 -2.097751 -0.073514  0.056674   \n",
       "TCCCGATAGTGTGGCA-1-0 -1.561239 -1.398491 -0.570233 -1.425783 -0.767291   \n",
       "...                        ...       ...       ...       ...       ...   \n",
       "TAGACCAAGTCCATAC-1-1  0.938298  0.673494 -3.478579  0.216731  1.192958   \n",
       "GGTGTTAAGGAATCGC-1-1 -2.208541  1.969513 -3.309012  4.712587 -0.886932   \n",
       "CTACCCAAGTGACATA-1-1  0.171213  5.255680 -4.041569  3.546160  0.375497   \n",
       "TACTCATGTTACGCGC-1-1 -0.718468  1.400250 -2.338385  3.994131 -1.791402   \n",
       "TCAACGACACTCTGTC-1-1 -0.687254  5.545122  1.933731  5.340780 -0.466476   \n",
       "\n",
       "                         PC_46     PC_47     PC_48     PC_49     PC_50  \n",
       "TGCCAAATCACCACCT-1-0 -0.300330 -0.259993  0.201506  0.691337 -0.898238  \n",
       "AAATGCCAGGAGCGTT-1-0  3.932976  0.766193 -3.019138 -1.428712  0.049915  \n",
       "CAGCGACAGAGAACAG-1-0 -0.764031  2.651637 -0.967530  0.000698  1.118219  \n",
       "GGGACCTGTGACCAAG-1-0 -0.655252 -1.321971 -0.787410  0.765263 -1.392629  \n",
       "TCCCGATAGTGTGGCA-1-0 -1.033563  1.096380 -0.823903 -0.395976 -1.071556  \n",
       "...                        ...       ...       ...       ...       ...  \n",
       "TAGACCAAGTCCATAC-1-1  5.564480  0.982383 -6.300963 -0.988456 -2.047390  \n",
       "GGTGTTAAGGAATCGC-1-1  2.207871 -4.277236  1.705508  0.483338 -1.297374  \n",
       "CTACCCAAGTGACATA-1-1  0.253654 -1.585404  1.058027 -0.168078 -1.157562  \n",
       "TACTCATGTTACGCGC-1-1 -1.113877  2.798801  2.410403  1.930540 -0.436125  \n",
       "TCAACGACACTCTGTC-1-1 -3.933557  0.707271  4.634171  4.539074  1.659447  \n",
       "\n",
       "[4181 rows x 50 columns]"
      ]
     },
     "execution_count": 12,
     "metadata": {},
     "output_type": "execute_result"
    }
   ],
   "source": [
    "seurat_X_pca"
   ]
  },
  {
   "cell_type": "code",
   "execution_count": 13,
   "metadata": {},
   "outputs": [
    {
     "data": {
      "text/plain": [
       "<AxesSubplot:ylabel='Count'>"
      ]
     },
     "execution_count": 13,
     "metadata": {},
     "output_type": "execute_result"
    },
    {
     "data": {
      "image/png": "[encoded data removed]",
      "text/plain": [
       "<Figure size 432x288 with 1 Axes>"
      ]
     },
     "metadata": {
      "needs_background": "light"
     },
     "output_type": "display_data"
    }
   ],
   "source": [
    "X_pca_arr = seurat_X_pca.to_numpy().flatten()\n",
    "sns.histplot(X_pca_arr)"
   ]
  },
  {
   "cell_type": "code",
   "execution_count": 26,
   "metadata": {},
   "outputs": [
    {
     "name": "stdout",
     "output_type": "stream",
     "text": [
      "(4181, 50)\n",
      "(4181, 16940)\n"
     ]
    }
   ],
   "source": [
    "print(seurat_X_pca.shape)\n",
    "print(dyn_adata.shape)"
   ]
  },
  {
   "cell_type": "code",
   "execution_count": 27,
   "metadata": {},
   "outputs": [
    {
     "data": {
      "text/plain": [
       "Index(['TGCCAAATCACCACCT-1-0', 'AAATGCCAGGAGCGTT-1-0', 'CAGCGACAGAGAACAG-1-0',\n",
       "       'GGGACCTGTGACCAAG-1-0', 'TCCCGATAGTGTGGCA-1-0', 'CAGAGAGAGGCGATAC-1-0',\n",
       "       'AACTGGTAGTGGAGAA-1-0', 'ATTGGACGTCTAGCGC-1-0', 'TGGGCGTCACCAGGTC-1-0',\n",
       "       'TTGGCAAAGGGCTTCC-1-0'],\n",
       "      dtype='object', name='index')"
      ]
     },
     "execution_count": 27,
     "metadata": {},
     "output_type": "execute_result"
    }
   ],
   "source": [
    "dyn_adata.obs_names[:10]"
   ]
  },
  {
   "cell_type": "code",
   "execution_count": 28,
   "metadata": {},
   "outputs": [
    {
     "name": "stderr",
     "output_type": "stream",
     "text": [
      "|-----> Downloading data to ./data/zebrafish.h5ad\n"
     ]
    },
    {
     "name": "stdout",
     "output_type": "stream",
     "text": [
      "(4181, 50)\n",
      "(4181, 16940)\n",
      "set()\n",
      "set()\n"
     ]
    }
   ],
   "source": [
    "seurat_adata = dyn.sample_data.zebrafish()\n",
    "dyn.preprocessing.unique_var_obs_adata(seurat_adata)\n",
    "print(seurat_X_pca.shape)\n",
    "print(seurat_adata.shape)\n",
    "print(set(seurat_X_pca.index) - set(seurat_adata.obs_names))\n",
    "print(set(seurat_adata.obs_names) - set(seurat_X_pca.index))"
   ]
  },
  {
   "cell_type": "code",
   "execution_count": 42,
   "metadata": {},
   "outputs": [],
   "source": [
    "\n",
    "# reorder seurat_X_pca index order and set to X_pca\n",
    "seurat_adata.obsm[\"X_pca\"] = seurat_X_pca.loc[seurat_adata.obs_names, :].to_numpy()\n",
    "# print(seurat_adata.obsm)\n"
   ]
  },
  {
   "cell_type": "code",
   "execution_count": 43,
   "metadata": {},
   "outputs": [
    {
     "name": "stderr",
     "output_type": "stream",
     "text": [
      "|-----> retrive data for non-linear dimension reduction...\n",
      "|-----> perform umap...\n"
     ]
    }
   ],
   "source": [
    "\n",
    "dyn.tl.reduceDimension(seurat_adata, basis=\"pca\")\n",
    "dyn.pl.umap(seurat_adata)"
   ]
  }
 ],
 "metadata": {
  "interpreter": {
   "hash": "c0f224693fc3f3b337b469fdaf7389d3b291b17a90dca45f35bda4453932d9dd"
  },
  "kernelspec": {
   "display_name": "Python 3.8.11 64-bit ('dynamo-dev': conda)",
   "name": "python3"
  },
  "language_info": {
   "codemirror_mode": {
    "name": "ipython",
    "version": 3
   },
   "file_extension": ".py",
   "mimetype": "text/x-python",
   "name": "python",
   "nbconvert_exporter": "python",
   "pygments_lexer": "ipython3",
   "version": "3.8.11"
  },
  "orig_nbformat": 4
 },
 "nbformat": 4,
 "nbformat_minor": 2
}
