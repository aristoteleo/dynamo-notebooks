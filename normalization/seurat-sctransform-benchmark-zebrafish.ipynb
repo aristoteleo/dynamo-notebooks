{
 "cells": [
  {
   "cell_type": "code",
   "execution_count": 1,
   "metadata": {},
   "outputs": [
    {
     "name": "stderr",
     "output_type": "stream",
     "text": [
      "|-----> Downloading data to ./data/zebrafish.h5ad\n"
     ]
    },
    {
     "name": "stdout",
     "output_type": "stream",
     "text": [
      "original data shape: (4181, 16940)\n"
     ]
    }
   ],
   "source": [
    "import numpy as np\n",
    "import pandas as pd\n",
    "import seaborn as sns\n",
    "import dynamo\n",
    "import dynamo as dyn\n",
    "from dynamo.preprocessing import Preprocessor\n",
    "import pearson_residual_normalization_recipe\n",
    "from benchmark_utils import *\n",
    "dyn_adata = dyn.sample_data.zebrafish()\n",
    "print(\"original data shape:\", dyn_adata.shape)\n"
   ]
  },
  {
   "cell_type": "markdown",
   "metadata": {},
   "source": [
    "## Convert and Output Data for R Seurat inputs"
   ]
  },
  {
   "cell_type": "code",
   "execution_count": 2,
   "metadata": {},
   "outputs": [
    {
     "name": "stderr",
     "output_type": "stream",
     "text": [
      "|-----------> filtering cells by layer:X\n",
      "|-----------> filtering cells by layer:spliced\n",
      "|-----------> filtering cells by layer:unspliced\n",
      "|-----> skip filtering by layer:protein as it is not in adata.\n",
      "|-----> <insert> pass_basic_filter to obs in AnnData Object.\n",
      "|-----------> inplace subsetting adata by filtered cells\n"
     ]
    },
    {
     "data": {
      "text/plain": [
       "AnnData object with n_obs × n_vars = 4167 × 16940\n",
       "    obs: 'split_id', 'sample', 'Size_Factor', 'condition', 'Cluster', 'Cell_type', 'umap_1', 'umap_2', 'batch', 'pass_basic_filter'\n",
       "    layers: 'spliced', 'unspliced'"
      ]
     },
     "execution_count": 2,
     "metadata": {},
     "output_type": "execute_result"
    }
   ],
   "source": [
    "import scipy\n",
    "import scipy.io\n",
    "dyn.preprocessing.convert_layers2csr(dyn_adata)\n",
    "dyn.preprocessing.unique_var_obs_adata(dyn_adata)\n",
    "dyn.preprocessing.filter_cells_by_outliers(dyn_adata)\n",
    "# scipy.io.mmwrite(\"counts.mtx\", dyn_adata.X)\n",
    "# scipy.io.mmwrite(\"spliced.mtx\", dyn_adata.layers[\"spliced\"])\n",
    "# scipy.io.mmwrite(\"unspliced.mtx\", dyn_adata.layers[\"unspliced\"])\n"
   ]
  },
  {
   "cell_type": "code",
   "execution_count": 3,
   "metadata": {},
   "outputs": [
    {
     "name": "stdout",
     "output_type": "stream",
     "text": [
      "AnnData object with n_obs × n_vars = 4167 × 16940\n",
      "    obs: 'split_id', 'sample', 'Size_Factor', 'condition', 'Cluster', 'Cell_type', 'umap_1', 'umap_2', 'batch', 'pass_basic_filter'\n",
      "    layers: 'spliced', 'unspliced'\n"
     ]
    }
   ],
   "source": [
    "print(dyn_adata)"
   ]
  },
  {
   "cell_type": "code",
   "execution_count": 4,
   "metadata": {},
   "outputs": [],
   "source": [
    "pd.Series(dyn_adata.obs_names).to_csv(\"./data/cell_names.csv\")\n",
    "pd.Series(dyn_adata.var_names).to_csv(\"./data/var_names.csv\")\n"
   ]
  },
  {
   "cell_type": "code",
   "execution_count": 5,
   "metadata": {},
   "outputs": [],
   "source": [
    "seurat_X_pca = pd.read_csv(\"./R-seurat-test/X_pca.csv\")\n",
    "seurat_features = pd.read_csv(\"./R-seurat-test/features_attributes.csv\")\n",
    "seurat_residual_variance = seurat_features[\"residual_variance\"]\n",
    "seurat_residual_mean = seurat_features[\"residual_mean\"]\n",
    "\n",
    "\n"
   ]
  },
  {
   "cell_type": "code",
   "execution_count": 6,
   "metadata": {},
   "outputs": [
    {
     "name": "stdout",
     "output_type": "stream",
     "text": [
      "(14561, 13)\n"
     ]
    },
    {
     "data": {
      "text/html": [
       "<div>\n",
       "<style scoped>\n",
       "    .dataframe tbody tr th:only-of-type {\n",
       "        vertical-align: middle;\n",
       "    }\n",
       "\n",
       "    .dataframe tbody tr th {\n",
       "        vertical-align: top;\n",
       "    }\n",
       "\n",
       "    .dataframe thead th {\n",
       "        text-align: right;\n",
       "    }\n",
       "</style>\n",
       "<table border=\"1\" class=\"dataframe\">\n",
       "  <thead>\n",
       "    <tr style=\"text-align: right;\">\n",
       "      <th></th>\n",
       "      <th>Unnamed: 0</th>\n",
       "      <th>detection_rate</th>\n",
       "      <th>gmean</th>\n",
       "      <th>variance</th>\n",
       "      <th>residual_mean</th>\n",
       "      <th>residual_variance</th>\n",
       "      <th>theta</th>\n",
       "      <th>(Intercept)</th>\n",
       "      <th>log_umi</th>\n",
       "      <th>genes_log_gmean_step1</th>\n",
       "      <th>step1_theta</th>\n",
       "      <th>step1_(Intercept)</th>\n",
       "      <th>step1_log_umi</th>\n",
       "    </tr>\n",
       "  </thead>\n",
       "  <tbody>\n",
       "    <tr>\n",
       "      <th>0</th>\n",
       "      <td>tmsb4x</td>\n",
       "      <td>0.996880</td>\n",
       "      <td>24.044729</td>\n",
       "      <td>646.209685</td>\n",
       "      <td>1.319695</td>\n",
       "      <td>6.650225</td>\n",
       "      <td>7.996670</td>\n",
       "      <td>-5.383010</td>\n",
       "      <td>2.487423</td>\n",
       "      <td>True</td>\n",
       "      <td>3.043973</td>\n",
       "      <td>-0.987639</td>\n",
       "      <td>1.299996</td>\n",
       "    </tr>\n",
       "    <tr>\n",
       "      <th>1</th>\n",
       "      <td>rpl8</td>\n",
       "      <td>0.970722</td>\n",
       "      <td>9.071542</td>\n",
       "      <td>268.856675</td>\n",
       "      <td>0.324635</td>\n",
       "      <td>1.309959</td>\n",
       "      <td>8.595067</td>\n",
       "      <td>-7.094549</td>\n",
       "      <td>2.763408</td>\n",
       "      <td>True</td>\n",
       "      <td>9.728702</td>\n",
       "      <td>-7.069017</td>\n",
       "      <td>2.803896</td>\n",
       "    </tr>\n",
       "  </tbody>\n",
       "</table>\n",
       "</div>"
      ],
      "text/plain": [
       "  Unnamed: 0  detection_rate      gmean    variance  residual_mean  \\\n",
       "0     tmsb4x        0.996880  24.044729  646.209685       1.319695   \n",
       "1       rpl8        0.970722   9.071542  268.856675       0.324635   \n",
       "\n",
       "   residual_variance     theta  (Intercept)   log_umi  genes_log_gmean_step1  \\\n",
       "0           6.650225  7.996670    -5.383010  2.487423                   True   \n",
       "1           1.309959  8.595067    -7.094549  2.763408                   True   \n",
       "\n",
       "   step1_theta  step1_(Intercept)  step1_log_umi  \n",
       "0     3.043973          -0.987639       1.299996  \n",
       "1     9.728702          -7.069017       2.803896  "
      ]
     },
     "execution_count": 6,
     "metadata": {},
     "output_type": "execute_result"
    }
   ],
   "source": [
    "print(seurat_features.shape)\n",
    "seurat_features[:2]"
   ]
  },
  {
   "cell_type": "code",
   "execution_count": 7,
   "metadata": {},
   "outputs": [
    {
     "data": {
      "image/png": "[encoded data removed]",
      "text/plain": [
       "<Figure size 432x288 with 1 Axes>"
      ]
     },
     "metadata": {
      "needs_background": "light"
     },
     "output_type": "display_data"
    }
   ],
   "source": [
    "X_pca_arr = seurat_X_pca.to_numpy().flatten()\n",
    "sns.histplot(X_pca_arr).set_title(\"seurat X_pca distribution\")\n",
    "plt.show()\n",
    "# sns.histplot(seurat_residual_mean.to_numpy().flatten()).set_title(\"seurat residual mean\")\n",
    "# plt.show()\n",
    "# sns.histplot(seurat_residual_variance.to_numpy().flatten()).set_title(\"seurat residual variance\")\n",
    "# plt.show()"
   ]
  },
  {
   "cell_type": "code",
   "execution_count": 8,
   "metadata": {},
   "outputs": [
    {
     "name": "stdout",
     "output_type": "stream",
     "text": [
      "(4167, 50)\n",
      "(4167, 16940)\n"
     ]
    }
   ],
   "source": [
    "print(seurat_X_pca.shape)\n",
    "print(dyn_adata.shape)\n"
   ]
  },
  {
   "cell_type": "code",
   "execution_count": 9,
   "metadata": {},
   "outputs": [
    {
     "data": {
      "text/plain": [
       "Index(['CAGAGAGAGGCGATAC-1-0', 'AACTGGTAGTGGAGAA-1-0', 'TTGGCAAAGGGCTTCC-1-0',\n",
       "       'CATATGGAGGACATTA-1-0', 'TTCTTAGGTACGACCC-1-0', 'AGACGTTAGGGTTTCT-1-0',\n",
       "       'CACAGTAAGGGTTTCT-1-0', 'AGCTCCTTCTACGAGT-1-0', 'GACGTGCCACTCAGGC-1-0',\n",
       "       'GTCTTCGCACGAAGCA-1-0'],\n",
       "      dtype='object', name='index')"
      ]
     },
     "execution_count": 9,
     "metadata": {},
     "output_type": "execute_result"
    }
   ],
   "source": [
    "dyn_adata.obs_names[:10]\n"
   ]
  },
  {
   "cell_type": "markdown",
   "metadata": {},
   "source": [
    "## Obtain seurat adata and set correspondin fields for next comparison steps"
   ]
  },
  {
   "cell_type": "code",
   "execution_count": 10,
   "metadata": {},
   "outputs": [
    {
     "name": "stderr",
     "output_type": "stream",
     "text": [
      "|-----> Downloading data to ./data/zebrafish.h5ad\n",
      "|-----------> filtering cells by layer:X\n",
      "|-----------> filtering cells by layer:spliced\n",
      "|-----------> filtering cells by layer:unspliced\n",
      "|-----> skip filtering by layer:protein as it is not in adata.\n",
      "|-----> <insert> pass_basic_filter to obs in AnnData Object.\n",
      "|-----------> inplace subsetting adata by filtered cells\n"
     ]
    },
    {
     "name": "stdout",
     "output_type": "stream",
     "text": [
      "(4167, 50)\n",
      "(4167, 16940)\n",
      "set()\n",
      "set()\n"
     ]
    }
   ],
   "source": [
    "seurat_adata = dyn.sample_data.zebrafish()\n",
    "dyn.preprocessing.unique_var_obs_adata(seurat_adata)\n",
    "dyn.preprocessing.filter_cells_by_outliers(seurat_adata)\n",
    "print(seurat_X_pca.shape)\n",
    "print(seurat_adata.shape)\n",
    "print(set(seurat_X_pca.index) - set(seurat_adata.obs_names))\n",
    "print(set(seurat_adata.obs_names) - set(seurat_X_pca.index))\n"
   ]
  },
  {
   "cell_type": "markdown",
   "metadata": {},
   "source": [
    "### Reorder seurat_X_pca index in adata obs_name order and set to X_pca"
   ]
  },
  {
   "cell_type": "code",
   "execution_count": 11,
   "metadata": {},
   "outputs": [],
   "source": [
    "\n",
    "seurat_adata.obsm[\"X_pca\"] = seurat_X_pca.loc[seurat_adata.obs_names, :].to_numpy()\n"
   ]
  },
  {
   "cell_type": "markdown",
   "metadata": {},
   "source": [
    "## sample preprocessor code  \n",
    "Here we load the preprocessed data\n",
    "```\n",
    "from SCTransform import SCTransform\n",
    "dyn_adata_preprocessor = dyn.sample_data.zebrafish()\n",
    "preprocessor = Preprocessor()\n",
    "preprocessor.config_monocle_recipe(dyn_adata_preprocessor)\n",
    "preprocessor.normalize_by_cells = None\n",
    "# preprocessor.select_genes_function = pearson_residual_normalization_recipe.select_genes_by_pearson_residual\n",
    "# preprocessor.normalize_selected_genes_function = pearson_residual_normalization_recipe.normalize_layers_pearson_residuals\n",
    "preprocessor.filter_cells_by_outliers(dyn_adata_preprocessor, keep_filtered=False)\n",
    "preprocessor.filter_genes_by_outliers(dyn_adata_preprocessor, inplace=True)\n",
    "SCTransform(dyn_adata_preprocessor, inplace=True)\n",
    "preprocessor.use_log1p = False\n",
    "preprocessor.pca(dyn_adata, n_pca_components=50)\n",
    "```"
   ]
  },
  {
   "cell_type": "code",
   "execution_count": 12,
   "metadata": {},
   "outputs": [],
   "source": [
    "dyn_adata_preprocessor = dyn.read_h5ad(\n",
    "    \"./data/zebrafish_sctransform_preprocessor.h5ad\")\n"
   ]
  },
  {
   "cell_type": "code",
   "execution_count": 13,
   "metadata": {},
   "outputs": [
    {
     "data": {
      "text/plain": [
       "1912.0"
      ]
     },
     "execution_count": 13,
     "metadata": {},
     "output_type": "execute_result"
    }
   ],
   "source": [
    "dyn_adata_preprocessor.var[\"genes_step1_sct\"].sum()\n"
   ]
  },
  {
   "cell_type": "markdown",
   "metadata": {},
   "source": [
    "### compare the shape of X_pca"
   ]
  },
  {
   "cell_type": "code",
   "execution_count": 14,
   "metadata": {},
   "outputs": [
    {
     "name": "stdout",
     "output_type": "stream",
     "text": [
      "(4167, 50)\n"
     ]
    },
    {
     "data": {
      "text/plain": [
       "(4167, 50)"
      ]
     },
     "execution_count": 14,
     "metadata": {},
     "output_type": "execute_result"
    }
   ],
   "source": [
    "print(dyn_adata_preprocessor.obsm[\"X_pca\"].shape)\n",
    "seurat_adata.obsm[\"X_pca\"].shape\n"
   ]
  },
  {
   "cell_type": "code",
   "execution_count": 15,
   "metadata": {},
   "outputs": [
    {
     "data": {
      "text/plain": [
       "AnnData object with n_obs × n_vars = 4167 × 16940\n",
       "    obs: 'split_id', 'sample', 'Size_Factor', 'condition', 'Cluster', 'Cell_type', 'umap_1', 'umap_2', 'batch', 'pass_basic_filter', 'umi_sct', 'log_umi_sct', 'gene_sct', 'log_gene_sct', 'umi_per_gene_sct', 'log_umi_per_gene_sct'\n",
       "    var: 'pass_basic_filter', 'Intercept_sct', 'log_umi_sct', 'theta_sct', 'Intercept_step1_sct', 'log_umi_step1_sct', 'dispersion_step1_sct', 'genes_step1_sct', 'log10_gmean_sct', 'use_for_pca'\n",
       "    uns: 'PCs', 'explained_variance_ratio_', 'pca_mean', 'pp'\n",
       "    obsm: 'X_pca'\n",
       "    layers: 'spliced', 'unspliced'"
      ]
     },
     "execution_count": 15,
     "metadata": {},
     "output_type": "execute_result"
    }
   ],
   "source": [
    "dyn_adata_preprocessor"
   ]
  },
  {
   "cell_type": "markdown",
   "metadata": {},
   "source": [
    "### distribution comparisons"
   ]
  },
  {
   "cell_type": "code",
   "execution_count": 16,
   "metadata": {},
   "outputs": [
    {
     "data": {
      "image/png": "[encoded data removed]",
      "text/plain": [
       "<Figure size 432x288 with 1 Axes>"
      ]
     },
     "metadata": {
      "needs_background": "light"
     },
     "output_type": "display_data"
    },
    {
     "data": {
      "image/png": "[encoded data removed]",
      "text/plain": [
       "<Figure size 432x288 with 1 Axes>"
      ]
     },
     "metadata": {
      "needs_background": "light"
     },
     "output_type": "display_data"
    },
    {
     "data": {
      "image/png": "[encoded data removed]",
      "text/plain": [
       "<Figure size 432x288 with 1 Axes>"
      ]
     },
     "metadata": {
      "needs_background": "light"
     },
     "output_type": "display_data"
    },
    {
     "data": {
      "image/png": "[encoded data removed]",
      "text/plain": [
       "<Figure size 432x288 with 1 Axes>"
      ]
     },
     "metadata": {
      "needs_background": "light"
     },
     "output_type": "display_data"
    },
    {
     "data": {
      "image/png": "[encoded data removed]",
      "text/plain": [
       "<Figure size 432x288 with 1 Axes>"
      ]
     },
     "metadata": {
      "needs_background": "light"
     },
     "output_type": "display_data"
    },
    {
     "data": {
      "text/plain": [
       "<Figure size 432x288 with 0 Axes>"
      ]
     },
     "metadata": {},
     "output_type": "display_data"
    }
   ],
   "source": [
    "dyn_adata_preprocessor.var[\"log_umi_step1_sct\"].hist(label=\"dynamo\")\n",
    "seurat_features[\"step1_log_umi\"].hist(label=\"seurat\")\n",
    "plt.title(\"step1 umi log comparison\")\n",
    "plt.legend()\n",
    "plt.show()\n",
    "plt.clf()\n",
    "\n",
    "dyn_adata_preprocessor.var[\"Intercept_step1_sct\"].hist(label=\"dynamo\")\n",
    "seurat_features[\"step1_(Intercept)\"].hist(label=\"seurat\")\n",
    "plt.title(\"Intercept_step1_sct comparison\")\n",
    "plt.legend()\n",
    "plt.show()\n",
    "plt.clf()\n",
    "\n",
    "dyn_adata_preprocessor.var[\"log_umi_sct\"].hist(label=\"dynamo\")\n",
    "seurat_features[\"log_umi\"].hist(label=\"seurat\")\n",
    "plt.title(\"umi log comparison\")\n",
    "plt.legend()\n",
    "plt.show()\n",
    "plt.clf()\n",
    "\n",
    "dyn_adata_preprocessor.var[\"log_umi_sct\"].hist(label=\"dynamo\")\n",
    "seurat_features[\"log_umi\"].hist(label=\"seurat\")\n",
    "plt.title(\"umi log comparison\")\n",
    "plt.legend()\n",
    "plt.show()\n",
    "plt.clf()\n",
    "\n",
    "dyn_adata_preprocessor.var[\"theta_sct\"].hist(label=\"dynamo\")\n",
    "seurat_features[\"theta\"].hist(label=\"seurat\")\n",
    "plt.title(\"theta comparison\")\n",
    "plt.legend()\n",
    "plt.show()\n",
    "plt.clf()\n"
   ]
  },
  {
   "cell_type": "code",
   "execution_count": 17,
   "metadata": {},
   "outputs": [
    {
     "data": {
      "text/plain": [
       "Text(0.5, 1.0, 'X_pca')"
      ]
     },
     "execution_count": 17,
     "metadata": {},
     "output_type": "execute_result"
    },
    {
     "data": {
      "image/png": "[encoded data removed]",
      "text/plain": [
       "<Figure size 720x1440 with 2 Axes>"
      ]
     },
     "metadata": {
      "needs_background": "light"
     },
     "output_type": "display_data"
    }
   ],
   "source": [
    "fig, axes = plt.subplots(2, figsize=(10, 20))\n",
    "key = \"X_pca\"\n",
    "use_for_pca = list(\n",
    "    set(dyn_adata_preprocessor.var_names[dyn_adata_preprocessor.var[\"use_for_pca\"]]))\n",
    "axes[0].scatter(np.sort(dyn_adata_preprocessor.obsm[key].flatten()),\n",
    "                np.sort(seurat_adata[dyn_adata_preprocessor.obs_names, :].obsm[key].flatten()))  # , title=\"X_pca comparison\")\n",
    "axes[0].set_title(key)\n"
   ]
  },
  {
   "cell_type": "code",
   "execution_count": 18,
   "metadata": {},
   "outputs": [
    {
     "name": "stderr",
     "output_type": "stream",
     "text": [
      "|-----> retrive data for non-linear dimension reduction...\n",
      "|-----> perform umap...\n"
     ]
    }
   ],
   "source": [
    "\n",
    "dyn.tl.reduceDimension(seurat_adata, basis=\"pca\")\n",
    "dyn.pl.umap(seurat_adata, color=\"Cell_type\", figsize=(10, 10))\n"
   ]
  },
  {
   "cell_type": "code",
   "execution_count": null,
   "metadata": {},
   "outputs": [],
   "source": [
    "dyn.tl.reduceDimension(dyn_adata_preprocessor, basis=\"pca\")\n",
    "dyn.pl.umap(dyn_adata_preprocessor, color=\"Cell_type\", figsize=(10, 10))\n"
   ]
  }
 ],
 "metadata": {
  "interpreter": {
   "hash": "c0f224693fc3f3b337b469fdaf7389d3b291b17a90dca45f35bda4453932d9dd"
  },
  "kernelspec": {
   "display_name": "Python 3.8.11 64-bit ('dynamo-dev': conda)",
   "name": "python3"
  },
  "language_info": {
   "codemirror_mode": {
    "name": "ipython",
    "version": 3
   },
   "file_extension": ".py",
   "mimetype": "text/x-python",
   "name": "python",
   "nbconvert_exporter": "python",
   "pygments_lexer": "ipython3",
   "version": "3.8.11"
  },
  "orig_nbformat": 4
 },
 "nbformat": 4,
 "nbformat_minor": 2
}
