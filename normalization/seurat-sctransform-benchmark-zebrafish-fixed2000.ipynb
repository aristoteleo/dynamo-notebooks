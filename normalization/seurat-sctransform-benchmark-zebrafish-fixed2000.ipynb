{
 "cells": [
  {
   "cell_type": "code",
   "execution_count": null,
   "metadata": {},
   "outputs": [],
   "source": [
    "import numpy as np\n",
    "import pandas as pd\n",
    "import seaborn as sns\n",
    "import dynamo\n",
    "import dynamo as dyn\n",
    "from dynamo.preprocessing import Preprocessor\n",
    "import pearson_residual_normalization_recipe\n",
    "from benchmark_utils import *\n",
    "from SCTransform import SCTransform\n",
    "\n",
    "adata_origin = dyn.sample_data.zebrafish()"
   ]
  },
  {
   "cell_type": "markdown",
   "metadata": {},
   "source": [
    "## Convert and Output Data for R Seurat inputs"
   ]
  },
  {
   "cell_type": "markdown",
   "metadata": {},
   "source": [
    "## sample preprocessor code  \n"
   ]
  },
  {
   "cell_type": "code",
   "execution_count": null,
   "metadata": {},
   "outputs": [],
   "source": [
    "def preprocess_dyn_sctransform_result_adata():\n",
    "    from dynamo.preprocessing import Preprocessor\n",
    "    adata = dyn.sample_data.zebrafish()\n",
    "    preprocessor = Preprocessor()\n",
    "    preprocessor.config_monocle_recipe(adata)\n",
    "    preprocessor.normalize_by_cells = None\n",
    "    preprocessor.select_genes_function = dyn.preprocessing.select_genes_by_dispersion_svr\n",
    "    # preprocessor.select_genes_function = pearson_residual_normalization_recipe.select_genes_by_pearson_residual\n",
    "    # preprocessor.normalize_selected_genes_function = pearson_residual_normalization_recipe.normalize_layers_pearson_residuals\n",
    "    dyn.preprocessing.unique_var_obs_adata(adata)\n",
    "    preprocessor.filter_cells_by_outliers(adata, keep_filtered=False)\n",
    "    preprocessor.filter_genes_by_outliers(adata, inplace=True, min_cell_s=5)\n",
    "    preprocessor.select_genes(adata, n_top_genes=2000)\n",
    "    adata = adata[:, adata.var[\"use_for_pca\"]]\n",
    "\n",
    "    print(\"data before sctransform:\")\n",
    "    print(pd.DataFrame(adata.X.data).describe())\n",
    "    SCTransform(adata, inplace=True)\n",
    "    print(\"data after sctransform:\")\n",
    "    print(pd.DataFrame(adata.X.data).describe())\n",
    "    preprocessor.use_log1p = False\n",
    "    # preprocessor.preprocess_adata(adata)\n",
    "    preprocessor.pca(adata, n_pca_components=50, pca_key=\"X_pca\")\n",
    "    dyn.data_io.cleanup(adata)\n",
    "    adata.write_h5ad(\"./data/zebrafish_sctransform_preprocessor.h5ad\")\n",
    "\n",
    "preprocess_dyn_sctransform_result_adata()"
   ]
  },
  {
   "cell_type": "code",
   "execution_count": null,
   "metadata": {},
   "outputs": [],
   "source": [
    "dyn_adata_preprocessor = dyn.read_h5ad(\n",
    "    \"./data/zebrafish_sctransform_preprocessor.h5ad\")\n"
   ]
  },
  {
   "cell_type": "markdown",
   "metadata": {},
   "source": [
    "Load dyn adata results"
   ]
  },
  {
   "cell_type": "code",
   "execution_count": null,
   "metadata": {},
   "outputs": [],
   "source": [
    "import scipy\n",
    "import scipy.io\n",
    "def write_R_input_data():\n",
    "    dyn_adata = dyn.sample_data.zebrafish()\n",
    "    print(\"original data shape:\", dyn_adata.shape)\n",
    "    dyn.preprocessing.convert_layers2csr(dyn_adata)\n",
    "    dyn.preprocessing.unique_var_obs_adata(dyn_adata)\n",
    "    dyn.preprocessing.filter_cells_by_outliers(dyn_adata)\n",
    "    # use the same gene set as dyn_adata_preprocessor\n",
    "    dyn_adata = dyn_adata[:, dyn_adata_preprocessor.var_names]\n",
    "    scipy.io.mmwrite(\"./data/counts.mtx\", dyn_adata.X)\n",
    "    scipy.io.mmwrite(\"./data/spliced.mtx\", dyn_adata.layers[\"spliced\"])\n",
    "    scipy.io.mmwrite(\"./data/unspliced.mtx\", dyn_adata.layers[\"unspliced\"])\n",
    "    print(dyn_adata)\n",
    "    pd.Series(dyn_adata.obs_names).to_csv(\"./data/cell_names.csv\")\n",
    "    pd.Series(dyn_adata.var_names).to_csv(\"./data/var_names.csv\")\n",
    "# write_R_input_data()\n"
   ]
  },
  {
   "cell_type": "markdown",
   "metadata": {},
   "source": [
    "Read R results"
   ]
  },
  {
   "cell_type": "code",
   "execution_count": null,
   "metadata": {},
   "outputs": [],
   "source": [
    "seurat_X_pca = pd.read_csv(\"./R-seurat-test/X_pca.csv\")\n",
    "# seurat_features = pd.read_csv(\"./R-seurat-test/features_attributes.csv\")\n",
    "seurat_features = pd.read_csv(\"./R-seurat-test/features_attributes.csv\")\n",
    "seurat_residual_variance = seurat_features[\"residual_variance\"]\n",
    "seurat_residual_mean = seurat_features[\"residual_mean\"]\n",
    "\n",
    "\n"
   ]
  },
  {
   "cell_type": "code",
   "execution_count": null,
   "metadata": {},
   "outputs": [],
   "source": [
    "print(seurat_features.shape)\n",
    "seurat_features[:2]"
   ]
  },
  {
   "cell_type": "code",
   "execution_count": null,
   "metadata": {},
   "outputs": [],
   "source": [
    "X_pca_arr = seurat_X_pca.to_numpy().flatten()\n",
    "sns.histplot(X_pca_arr).set_title(\"seurat X_pca distribution\")\n",
    "plt.show()\n",
    "# sns.histplot(seurat_residual_mean.to_numpy().flatten()).set_title(\"seurat residual mean\")\n",
    "# plt.show()\n",
    "# sns.histplot(seurat_residual_variance.to_numpy().flatten()).set_title(\"seurat residual variance\")\n",
    "# plt.show()"
   ]
  },
  {
   "cell_type": "markdown",
   "metadata": {},
   "source": [
    "## Obtain seurat adata and set correspondin fields for next comparison steps"
   ]
  },
  {
   "cell_type": "code",
   "execution_count": null,
   "metadata": {},
   "outputs": [],
   "source": [
    "seurat_adata = dyn.sample_data.zebrafish()\n",
    "dyn.preprocessing.unique_var_obs_adata(seurat_adata)\n",
    "dyn.preprocessing.filter_cells_by_outliers(seurat_adata)\n",
    "print(seurat_X_pca.shape)\n",
    "print(seurat_adata.shape)\n",
    "print(set(seurat_X_pca.index) - set(seurat_adata.obs_names))\n",
    "print(set(seurat_adata.obs_names) - set(seurat_X_pca.index))\n"
   ]
  },
  {
   "cell_type": "markdown",
   "metadata": {},
   "source": [
    "### Reorder seurat_X_pca index in adata obs_name order and set to X_pca"
   ]
  },
  {
   "cell_type": "code",
   "execution_count": null,
   "metadata": {},
   "outputs": [],
   "source": [
    "\n",
    "seurat_adata.obsm[\"X_pca\"] = seurat_X_pca.loc[seurat_adata.obs_names, :].to_numpy()\n"
   ]
  },
  {
   "cell_type": "code",
   "execution_count": null,
   "metadata": {},
   "outputs": [],
   "source": [
    "print(seurat_X_pca.shape)\n",
    "print(dyn_adata_preprocessor.shape)"
   ]
  },
  {
   "cell_type": "markdown",
   "metadata": {},
   "source": [
    "### compare the shape of X_pca"
   ]
  },
  {
   "cell_type": "code",
   "execution_count": null,
   "metadata": {},
   "outputs": [],
   "source": [
    "print(dyn_adata_preprocessor.obsm[\"X_pca\"].shape)\n",
    "seurat_adata.obsm[\"X_pca\"].shape\n"
   ]
  },
  {
   "cell_type": "code",
   "execution_count": null,
   "metadata": {},
   "outputs": [],
   "source": [
    "dyn_adata_preprocessor.var.columns"
   ]
  },
  {
   "cell_type": "code",
   "execution_count": null,
   "metadata": {},
   "outputs": [],
   "source": [
    "dyn_adata_preprocessor.var[\"genes_step1_sct\"].sum()"
   ]
  },
  {
   "cell_type": "markdown",
   "metadata": {},
   "source": [
    "### distribution comparisons"
   ]
  },
  {
   "cell_type": "code",
   "execution_count": null,
   "metadata": {},
   "outputs": [],
   "source": [
    "dyn_adata_preprocessor.obs[\"gene_sct\"].hist()"
   ]
  },
  {
   "cell_type": "code",
   "execution_count": null,
   "metadata": {},
   "outputs": [],
   "source": [
    "def benchmark_plots(dyn_adata_preprocessor, seurat_features):\n",
    "    genes = seurat_features[\"Unnamed: 0\"]\n",
    "    plt.scatter(dyn_adata_preprocessor[:, genes].var[\"log_umi_step1_sct\"], seurat_features[\"step1_log_umi\"])\n",
    "    plt.title(\"log umi step1\")\n",
    "    plt.legend()\n",
    "    plt.show()\n",
    "    plt.clf()\n",
    "\n",
    "    plt.scatter(dyn_adata_preprocessor[:, genes].var[\"Intercept_step1_sct\"], seurat_features[\"step1_(Intercept)\"])\n",
    "    plt.title(\"intercept step1\")\n",
    "    plt.legend()\n",
    "    plt.show()\n",
    "    plt.clf()\n",
    "\n",
    "    plt.scatter(dyn_adata_preprocessor[:, genes].var[\"log_umi_sct\"], seurat_features[\"log_umi\"])\n",
    "    plt.title(\"log umi sct\")\n",
    "    plt.legend()\n",
    "    plt.show()\n",
    "    plt.clf()\n",
    "\n",
    "    plt.scatter(dyn_adata_preprocessor[:, genes].var[\"theta_sct\"], seurat_features[\"theta\"])\n",
    "    plt.title(\"theta comparison\")\n",
    "    plt.legend()\n",
    "    plt.show()\n",
    "    plt.clf()\n",
    "\n",
    "    # plt.scatter(np.array(dyn_adata_preprocessor[:, genes].X.mean(0)).flatten(), seurat_features[\"residual_mean\"])\n",
    "    # plt.title(\"residual_mean\")\n",
    "    # plt.legend()\n",
    "    # plt.show()\n",
    "    # plt.clf()\n",
    "    \n",
    "    alpha = 0.7\n",
    "    dyn_adata_preprocessor.var[\"log_umi_step1_sct\"].hist(label=\"dynamo\", alpha=alpha)\n",
    "    seurat_features[\"step1_log_umi\"].hist(label=\"seurat\", alpha=alpha)\n",
    "    plt.title(\"step1 umi log comparison\")\n",
    "    plt.legend()\n",
    "    plt.show()\n",
    "    plt.clf()\n",
    "\n",
    "    dyn_adata_preprocessor.var[\"Intercept_step1_sct\"].hist(label=\"dynamo\", alpha=alpha)\n",
    "    seurat_features[\"step1_(Intercept)\"].hist(label=\"seurat\", alpha=alpha)\n",
    "    plt.title(\"Intercept_step1_sct comparison\")\n",
    "    plt.legend()\n",
    "    plt.show()\n",
    "    plt.clf()\n",
    "\n",
    "\n",
    "    dyn_adata_preprocessor.var[\"log_umi_sct\"].hist(label=\"dynamo\", alpha=alpha)\n",
    "    seurat_features[\"log_umi\"].hist(label=\"seurat\", alpha=alpha)\n",
    "    plt.title(\"umi log comparison\")\n",
    "    plt.legend()\n",
    "    plt.show()\n",
    "    plt.clf()\n",
    "\n",
    "    dyn_adata_preprocessor.var[\"theta_sct\"].hist(label=\"dynamo\", alpha=alpha)\n",
    "    seurat_features[\"theta\"].hist(label=\"seurat\", alpha=alpha)\n",
    "    plt.title(\"theta comparison\")\n",
    "    plt.legend()\n",
    "    plt.show()\n",
    "    plt.clf()\n",
    "\n",
    "\n",
    "\n",
    "    pd.Series(np.array(dyn_adata_preprocessor.X.mean(0)).flatten()).hist(label=\"dynamo-sctransform\", alpha=alpha) # , figsize=(20,20))\n",
    "    # pd.Series(np.array(adata_origin.X.mean(0)).flatten()).hist(label=\"dynamo-origin\", alpha=alpha)\n",
    "    seurat_features[\"residual_mean\"].hist(label=\"seurat\", alpha=alpha, bins=10)\n",
    "    plt.title(\"residual mean comparison\")\n",
    "    plt.legend()\n",
    "    plt.show()\n",
    "    plt.clf()"
   ]
  },
  {
   "cell_type": "code",
   "execution_count": null,
   "metadata": {},
   "outputs": [],
   "source": [
    "benchmark_plots(dyn_adata_preprocessor, seurat_features)"
   ]
  },
  {
   "cell_type": "code",
   "execution_count": null,
   "metadata": {},
   "outputs": [],
   "source": [
    "seurat_features[\"step1_log_umi\"]"
   ]
  },
  {
   "cell_type": "code",
   "execution_count": null,
   "metadata": {},
   "outputs": [],
   "source": [
    "fig, axes = plt.subplots(1,2, figsize=(10, 20))\n",
    "key = \"X_pca\"\n",
    "use_for_pca = list(\n",
    "    set(dyn_adata_preprocessor.var_names[dyn_adata_preprocessor.var[\"use_for_pca\"]]))\n",
    "\n",
    "lower_quantile = 0\n",
    "upper_quantile = 1\n",
    "def cmp_X_pca(lower_quantile, upper_quantile, ax):\n",
    "    x_data = np.sort( dyn_adata_preprocessor.obsm[key].flatten())\n",
    "    x_data = x_data[np.logical_and(np.quantile(x_data, lower_quantile) <= x_data, x_data <= np.quantile(x_data, upper_quantile))]\n",
    "    y_data = np.sort(seurat_adata[dyn_adata_preprocessor.obs_names, :].obsm[key].flatten())\n",
    "    y_data = y_data[np.logical_and(np.quantile(y_data, lower_quantile) <= y_data, y_data <= np.quantile(y_data, upper_quantile))]\n",
    "\n",
    "    # maybe there is <=3 shape difference\n",
    "    min_len = min(len(x_data), len(y_data))\n",
    "\n",
    "    ax.scatter(x_data[:min_len],\n",
    "                    y_data[:min_len])  # , title=\"X_pca comparison\")\n",
    "\n",
    "    ax.set_title(key + \", lower_quantile:%.2f, upper_quantile:%.2f\" %(lower_quantile, upper_quantile))\n",
    "    lims = [\n",
    "        np.min([ax.get_xlim(), ax.get_ylim()]),  # min of both axes\n",
    "        np.max([ax.get_xlim(), ax.get_ylim()]),  # max of both axes\n",
    "    ]\n",
    "    ax.plot(lims, lims, 'k-', alpha=0.75, zorder=0)\n",
    "    ax.set_aspect('equal')\n",
    "\n",
    "cmp_X_pca(0, 1, axes[0])\n",
    "\n",
    "cmp_X_pca(0.2, 0.8, axes[1])\n",
    "\n",
    "\n",
    "\n"
   ]
  },
  {
   "cell_type": "code",
   "execution_count": null,
   "metadata": {},
   "outputs": [],
   "source": [
    "\n",
    "dyn.pl.scatters(dyn_adata_preprocessor, basis=\"pca\", color=\"Cell_type\")\n",
    "dyn.pl.scatters(seurat_adata, basis=\"pca\", color=\"Cell_type\")\n"
   ]
  },
  {
   "cell_type": "code",
   "execution_count": null,
   "metadata": {},
   "outputs": [],
   "source": [
    "\n",
    "dyn.tl.reduceDimension(seurat_adata, basis=\"pca\")\n",
    "dyn.pl.umap(seurat_adata, color=\"Cell_type\", figsize=(10, 10))\n"
   ]
  },
  {
   "cell_type": "code",
   "execution_count": null,
   "metadata": {},
   "outputs": [],
   "source": [
    "dyn.tl.reduceDimension(dyn_adata_preprocessor, basis=\"pca\")\n",
    "dyn.pl.umap(dyn_adata_preprocessor, color=\"Cell_type\", figsize=(10, 10), affine_transform_degree=270)\n"
   ]
  }
 ],
 "metadata": {
  "interpreter": {
   "hash": "c0f224693fc3f3b337b469fdaf7389d3b291b17a90dca45f35bda4453932d9dd"
  },
  "kernelspec": {
   "display_name": "Python 3.8.11 64-bit ('dynamo-dev': conda)",
   "name": "python3"
  },
  "language_info": {
   "codemirror_mode": {
    "name": "ipython",
    "version": 3
   },
   "file_extension": ".py",
   "mimetype": "text/x-python",
   "name": "python",
   "nbconvert_exporter": "python",
   "pygments_lexer": "ipython3",
   "version": "3.8.11"
  },
  "orig_nbformat": 4
 },
 "nbformat": 4,
 "nbformat_minor": 2
}
