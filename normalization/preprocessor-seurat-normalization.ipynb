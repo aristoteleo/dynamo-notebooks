{
 "cells": [
  {
   "cell_type": "markdown",
   "metadata": {},
   "source": [
    "# Zebrafish pigmentation"
   ]
  },
  {
   "cell_type": "markdown",
   "metadata": {},
   "source": [
    "This tutorial uses data from [Saunders, et al (2019)](https://elifesciences.org/articles/45181). Special thanks also go to [Lauren](https://twitter.com/LSaund11) for the tutorial improvement. \n",
    "\n",
    "In this [study](https://elifesciences.org/articles/45181), the authors profiled thousands of neural crest-derived cells from trunks of post-embryonic zebrafish. These cell classes include pigment cells, multipotent pigment cell progenitors, peripheral neurons, Schwann cells, chromaffin cells and others. These cells were collected during an active period of post-embryonic development, which has many similarities to fetal and neonatal development in mammals, when many of these cell types are migrating and differentiating as the animal transitions into its adult form. This study also explores the role of thyroid hormone (TH), a common endocrine factor, on the development of these different cell types. \n",
    "\n",
    "Such developmental and other dynamical processes are especially suitable for dynamo analysis as dynamo is designed to accurately estimate direction and magnitude of expression dynamics (`RNA velocity`), predict the entire lineage trajectory of any intial cell state (`vector field`), characterize the structure (`vector field topology`) of full gene expression space, as well as fate commitment potential (`single cell potential`). "
   ]
  },
  {
   "cell_type": "markdown",
   "metadata": {},
   "source": [
    "Import the package and silence some warning information (mostly `is_categorical_dtype` warning from anndata)"
   ]
  },
  {
   "cell_type": "code",
   "execution_count": 1,
   "metadata": {},
   "outputs": [],
   "source": [
    "import warnings\n",
    "warnings.filterwarnings('ignore')\n",
    "\n",
    "import dynamo as dyn \n",
    "from dynamo.configuration import DKM\n",
    "import numpy as np"
   ]
  },
  {
   "cell_type": "markdown",
   "metadata": {},
   "source": [
    "this is like R's sessionInfo() which helps you to debug version related bugs if any. "
   ]
  },
  {
   "cell_type": "code",
   "execution_count": 2,
   "metadata": {},
   "outputs": [
    {
     "data": {
      "text/html": [
       "<div>\n",
       "<style scoped>\n",
       "    .dataframe tbody tr th:only-of-type {\n",
       "        vertical-align: middle;\n",
       "    }\n",
       "\n",
       "    .dataframe tbody tr th {\n",
       "        vertical-align: top;\n",
       "    }\n",
       "\n",
       "    .dataframe thead th {\n",
       "        text-align: right;\n",
       "    }\n",
       "</style>\n",
       "<table border=\"1\" class=\"dataframe\">\n",
       "  <thead>\n",
       "    <tr style=\"text-align: right;\">\n",
       "      <th>package</th>\n",
       "      <th>dynamo-release</th>\n",
       "      <th>pre-commit</th>\n",
       "      <th>colorcet</th>\n",
       "      <th>cvxopt</th>\n",
       "      <th>hdbscan</th>\n",
       "      <th>loompy</th>\n",
       "      <th>matplotlib</th>\n",
       "      <th>networkx</th>\n",
       "      <th>numba</th>\n",
       "      <th>numdifftools</th>\n",
       "      <th>numpy</th>\n",
       "      <th>pandas</th>\n",
       "      <th>pynndescent</th>\n",
       "      <th>python-igraph</th>\n",
       "      <th>scikit-learn</th>\n",
       "      <th>scipy</th>\n",
       "      <th>seaborn</th>\n",
       "      <th>setuptools</th>\n",
       "      <th>statsmodels</th>\n",
       "      <th>tqdm</th>\n",
       "      <th>trimap</th>\n",
       "      <th>umap-learn</th>\n",
       "    </tr>\n",
       "  </thead>\n",
       "  <tbody>\n",
       "    <tr>\n",
       "      <th>version</th>\n",
       "      <td>1.0.0</td>\n",
       "      <td>2.15.0</td>\n",
       "      <td>2.0.6</td>\n",
       "      <td>1.2.7</td>\n",
       "      <td>0.8.27</td>\n",
       "      <td>3.0.6</td>\n",
       "      <td>3.4.3</td>\n",
       "      <td>2.6.3</td>\n",
       "      <td>0.54.0</td>\n",
       "      <td>0.9.40</td>\n",
       "      <td>1.20.3</td>\n",
       "      <td>1.3.3</td>\n",
       "      <td>0.5.4</td>\n",
       "      <td>0.9.6</td>\n",
       "      <td>0.24.2</td>\n",
       "      <td>1.7.1</td>\n",
       "      <td>0.11.2</td>\n",
       "      <td>58.0.4</td>\n",
       "      <td>0.12.2</td>\n",
       "      <td>4.62.3</td>\n",
       "      <td>1.0.15</td>\n",
       "      <td>0.5.1</td>\n",
       "    </tr>\n",
       "  </tbody>\n",
       "</table>\n",
       "</div>"
      ],
      "text/plain": [
       "package dynamo-release pre-commit colorcet cvxopt hdbscan loompy matplotlib  \\\n",
       "version          1.0.0     2.15.0    2.0.6  1.2.7  0.8.27  3.0.6      3.4.3   \n",
       "\n",
       "package networkx   numba numdifftools   numpy pandas pynndescent  \\\n",
       "version    2.6.3  0.54.0       0.9.40  1.20.3  1.3.3       0.5.4   \n",
       "\n",
       "package python-igraph scikit-learn  scipy seaborn setuptools statsmodels  \\\n",
       "version         0.9.6       0.24.2  1.7.1  0.11.2     58.0.4      0.12.2   \n",
       "\n",
       "package    tqdm  trimap umap-learn  \n",
       "version  4.62.3  1.0.15      0.5.1  "
      ]
     },
     "metadata": {},
     "output_type": "display_data"
    }
   ],
   "source": [
    "dyn.get_all_dependencies_version()"
   ]
  },
  {
   "cell_type": "markdown",
   "metadata": {},
   "source": [
    "## Load data \n",
    "\n",
    "Dynamo comes with a few builtin sample datasets so you can familiarize with dynamo before analyzing your own dataset.\n",
    "You can read your own data via `read`, `read_loom`, `read_h5ad`, `read_h5` (powered by the [anndata](https://anndata.readthedocs.io/en/latest/anndata.AnnData.html) package) or load_NASC_seq, etc. Here I just load the zebrafish sample data that comes with dynamo. This dataset has 4181 cells and 16940 genes. Its `.obs` attribute also included `condition`, `batch` information from the original study (you should also store those information to your `.obs` attribute which is essentially a Pandas Dataframe, see more at [anndata](https://anndata.readthedocs.io/en/latest/)). `Cluster`, `Cell_type`, umap coordinates that was originally analyzed with [Monocle 3](https://cole-trapnell-lab.github.io/monocle3/) are also provided. "
   ]
  },
  {
   "cell_type": "code",
   "execution_count": 3,
   "metadata": {},
   "outputs": [
    {
     "name": "stderr",
     "output_type": "stream",
     "text": [
      "|-----> Downloading data to ./data/zebrafish.h5ad\n"
     ]
    }
   ],
   "source": [
    "adata = dyn.sample_data.zebrafish()\n"
   ]
  },
  {
   "cell_type": "code",
   "execution_count": 4,
   "metadata": {},
   "outputs": [
    {
     "name": "stderr",
     "output_type": "stream",
     "text": [
      "|-----> filtering genes by dispersion...\n",
      "|-----> n_top_genes is None, reserve all genes and add filter gene information\n",
      "|-----> select genes by recipe: seurat\n",
      "|-----> <insert> pp_gene_means to var in AnnData Object.\n",
      "|-----> <insert> gene_vars to var in AnnData Object.\n",
      "|-----> <insert> gene_highly_variable to var in AnnData Object.\n",
      "|-----> number of selected highly variable genes: 2384\n",
      "|-----> [filter genes by dispersion] in progress: 100.0000%\n",
      "|-----> [filter genes by dispersion] finished [1.6228s]\n"
     ]
    }
   ],
   "source": [
    "def select_genes_func(adata):\n",
    "    dyn.preprocessing.select_genes_by_dispersion_general(adata, recipe=\"seurat\")\n",
    "# preprocessor = dyn.preprocessing.Preprocessor(select_genes_function=select_genes_func, use_log1p=False)\n",
    "# preprocessor.preprocess_adata(adata)\n",
    "select_genes_func(adata)"
   ]
  },
  {
   "cell_type": "code",
   "execution_count": 5,
   "metadata": {},
   "outputs": [
    {
     "name": "stdout",
     "output_type": "stream",
     "text": [
      "tmsb4x        False\n",
      "rpl8          False\n",
      "ppiaa         False\n",
      "rpl10a        False\n",
      "rps4x         False\n",
      "              ...  \n",
      "cdc42ep1a     False\n",
      "camk1da       False\n",
      "zdhhc22       False\n",
      "zgc:153681    False\n",
      "mmp16b        False\n",
      "Name: use_for_pca, Length: 16940, dtype: bool\n",
      "#genes selected: 2384\n"
     ]
    }
   ],
   "source": [
    "\n",
    "print(adata.var[DKM.VAR_USE_FOR_PCA])\n",
    "print(\"#genes selected:\", adata.var[DKM.VAR_USE_FOR_PCA].sum())\n",
    "pp_gene_list = list(adata.var_names[np.where(adata.var[DKM.VAR_USE_FOR_PCA])])"
   ]
  },
  {
   "cell_type": "code",
   "execution_count": 6,
   "metadata": {},
   "outputs": [
    {
     "name": "stderr",
     "output_type": "stream",
     "text": [
      "|-----> Downloading data to ./data/zebrafish.h5ad\n"
     ]
    },
    {
     "name": "stdout",
     "output_type": "stream",
     "text": [
      "#genes: 16940\n",
      "Extracted 1653 highly variable genes.\n",
      "#genes: 1653\n"
     ]
    }
   ],
   "source": [
    "import scvelo\n",
    "scvelo_adata = dyn.sample_data.zebrafish()\n",
    "# dyn.preprocessing.utils.convert2symbol(scvelo_adata)\n",
    "print(\"#genes:\", len(scvelo_adata.var_names))\n",
    "scvelo.pp.filter_genes_dispersion(scvelo_adata, flavor=\"seurat\", log=True)# n_top_genes=500)\n",
    "print(\"#genes:\", len(scvelo_adata.var_names))"
   ]
  },
  {
   "cell_type": "code",
   "execution_count": 7,
   "metadata": {},
   "outputs": [],
   "source": [
    "scvelo_genes = scvelo_adata.var_names"
   ]
  },
  {
   "cell_type": "code",
   "execution_count": 8,
   "metadata": {},
   "outputs": [
    {
     "name": "stdout",
     "output_type": "stream",
     "text": [
      "#genes intersection: 1652\n",
      "#genes intersection: 1652\n"
     ]
    }
   ],
   "source": [
    "intersection = set(pp_gene_list).intersection(scvelo_genes)\n",
    "print(\"#genes intersection:\", len(intersection))\n",
    "intersection = set(scvelo_genes).intersection(pp_gene_list)\n",
    "print(\"#genes intersection:\", len(intersection))"
   ]
  }
 ],
 "metadata": {
  "interpreter": {
   "hash": "c0f224693fc3f3b337b469fdaf7389d3b291b17a90dca45f35bda4453932d9dd"
  },
  "kernelspec": {
   "display_name": "Python 3.8.11 64-bit ('dynamo-dev': conda)",
   "name": "python3"
  },
  "language_info": {
   "codemirror_mode": {
    "name": "ipython",
    "version": 3
   },
   "file_extension": ".py",
   "mimetype": "text/x-python",
   "name": "python",
   "nbconvert_exporter": "python",
   "pygments_lexer": "ipython3",
   "version": "3.8.11"
  },
  "widgets": {
   "application/vnd.jupyter.widget-state+json": {
    "state": {},
    "version_major": 2,
    "version_minor": 0
   }
  }
 },
 "nbformat": 4,
 "nbformat_minor": 4
}
